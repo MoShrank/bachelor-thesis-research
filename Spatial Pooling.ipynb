{
       "cells": [
              {
                     "cell_type": "code",
                     "execution_count": 7,
                     "id": "087a69f4",
                     "metadata": {},
                     "outputs": [
                            {
                                   "name": "stdout",
                                   "output_type": "stream",
                                   "text": [
                                          "The nb_black extension is already loaded. To reload it, use:\n",
                                          "  %reload_ext nb_black\n",
                                          "The autoreload extension is already loaded. To reload it, use:\n",
                                          "  %reload_ext autoreload\n"
                                   ]
                            },
                            {
                                   "data": {
                                          "application/javascript": [
                                                 "\n",
                                                 "            setTimeout(function() {\n",
                                                 "                var nbb_cell_id = 7;\n",
                                                 "                var nbb_unformatted_code = \"%load_ext nb_black\\n%load_ext autoreload\\n%autoreload 2\";\n",
                                                 "                var nbb_formatted_code = \"%load_ext nb_black\\n%load_ext autoreload\\n%autoreload 2\";\n",
                                                 "                var nbb_cells = Jupyter.notebook.get_cells();\n",
                                                 "                for (var i = 0; i < nbb_cells.length; ++i) {\n",
                                                 "                    if (nbb_cells[i].input_prompt_number == nbb_cell_id) {\n",
                                                 "                        if (nbb_cells[i].get_text() == nbb_unformatted_code) {\n",
                                                 "                             nbb_cells[i].set_text(nbb_formatted_code);\n",
                                                 "                        }\n",
                                                 "                        break;\n",
                                                 "                    }\n",
                                                 "                }\n",
                                                 "            }, 500);\n",
                                                 "            "
                                          ],
                                          "text/plain": [
                                                 "<IPython.core.display.Javascript object>"
                                          ]
                                   },
                                   "metadata": {},
                                   "output_type": "display_data"
                            }
                     ],
                     "source": [
                            "%load_ext nb_black\n",
                            "%load_ext autoreload\n",
                            "%autoreload 2"
                     ]
              },
              {
                     "cell_type": "code",
                     "execution_count": 8,
                     "id": "bd0bd890",
                     "metadata": {},
                     "outputs": [
                            {
                                   "data": {
                                          "application/javascript": [
                                                 "\n",
                                                 "            setTimeout(function() {\n",
                                                 "                var nbb_cell_id = 8;\n",
                                                 "                var nbb_unformatted_code = \"import tensorflow as tf\\nfrom typing import Iterable, List\\nimport numpy as np\\nimport math\\nfrom SpatialPooler import SpatialPooler\\nimport seaborn as sns\\nfrom tqdm.notebook import tqdm\\nimport matplotlib.pyplot as plt\\n\\nfrom util.metrics import get_mean_similiraty, similiraty_to_percent, get_similiraty\\nfrom util.plots import plot_images, plot_image\\nfrom util.data import sample_class, encode_img, get_sp_sdr_test_set\";\n",
                                                 "                var nbb_formatted_code = \"import tensorflow as tf\\nfrom typing import Iterable, List\\nimport numpy as np\\nimport math\\nfrom SpatialPooler import SpatialPooler\\nimport seaborn as sns\\nfrom tqdm.notebook import tqdm\\nimport matplotlib.pyplot as plt\\n\\nfrom util.metrics import get_mean_similiraty, similiraty_to_percent, get_similiraty\\nfrom util.plots import plot_images, plot_image\\nfrom util.data import sample_class, encode_img, get_sp_sdr_test_set\";\n",
                                                 "                var nbb_cells = Jupyter.notebook.get_cells();\n",
                                                 "                for (var i = 0; i < nbb_cells.length; ++i) {\n",
                                                 "                    if (nbb_cells[i].input_prompt_number == nbb_cell_id) {\n",
                                                 "                        if (nbb_cells[i].get_text() == nbb_unformatted_code) {\n",
                                                 "                             nbb_cells[i].set_text(nbb_formatted_code);\n",
                                                 "                        }\n",
                                                 "                        break;\n",
                                                 "                    }\n",
                                                 "                }\n",
                                                 "            }, 500);\n",
                                                 "            "
                                          ],
                                          "text/plain": [
                                                 "<IPython.core.display.Javascript object>"
                                          ]
                                   },
                                   "metadata": {},
                                   "output_type": "display_data"
                            }
                     ],
                     "source": [
                            "import tensorflow as tf\n",
                            "from typing import Iterable, List\n",
                            "import numpy as np\n",
                            "import math\n",
                            "from SpatialPooler import SpatialPooler\n",
                            "import seaborn as sns\n",
                            "from tqdm.notebook import tqdm\n",
                            "import matplotlib.pyplot as plt\n",
                            "\n",
                            "from util.metrics import (\n",
                            "    get_mean_similiraty,\n",
                            "    similiraty_to_percent,\n",
                            "    get_similiraty,\n",
                            "    sp_stability,\n",
                            ")\n",
                            "from util.plots import plot_images, plot_image\n",
                            "from util.data import sample_class, encode_img, get_sp_sdr_test_set"
                     ]
              },
              {
                     "cell_type": "code",
                     "execution_count": 9,
                     "id": "8f511562",
                     "metadata": {},
                     "outputs": [
                            {
                                   "data": {
                                          "text/plain": [
                                                 "(60000, 28, 28)"
                                          ]
                                   },
                                   "execution_count": 9,
                                   "metadata": {},
                                   "output_type": "execute_result"
                            },
                            {
                                   "data": {
                                          "application/javascript": [
                                                 "\n",
                                                 "            setTimeout(function() {\n",
                                                 "                var nbb_cell_id = 9;\n",
                                                 "                var nbb_unformatted_code = \"(x_train, y_train), (x_test, y_test) = tf.keras.datasets.mnist.load_data()\\nx_train.shape\";\n",
                                                 "                var nbb_formatted_code = \"(x_train, y_train), (x_test, y_test) = tf.keras.datasets.mnist.load_data()\\nx_train.shape\";\n",
                                                 "                var nbb_cells = Jupyter.notebook.get_cells();\n",
                                                 "                for (var i = 0; i < nbb_cells.length; ++i) {\n",
                                                 "                    if (nbb_cells[i].input_prompt_number == nbb_cell_id) {\n",
                                                 "                        if (nbb_cells[i].get_text() == nbb_unformatted_code) {\n",
                                                 "                             nbb_cells[i].set_text(nbb_formatted_code);\n",
                                                 "                        }\n",
                                                 "                        break;\n",
                                                 "                    }\n",
                                                 "                }\n",
                                                 "            }, 500);\n",
                                                 "            "
                                          ],
                                          "text/plain": [
                                                 "<IPython.core.display.Javascript object>"
                                          ]
                                   },
                                   "metadata": {},
                                   "output_type": "display_data"
                            }
                     ],
                     "source": [
                            "(x_train, y_train), (x_test, y_test) = tf.keras.datasets.mnist.load_data()\n",
                            "x_train.shape"
                     ]
              },
              {
                     "cell_type": "code",
                     "execution_count": 10,
                     "id": "2eb4e201",
                     "metadata": {},
                     "outputs": [
                            {
                                   "data": {
                                          "text/plain": [
                                                 "<seaborn.axisgrid.FacetGrid at 0x7fc18e83a950>"
                                          ]
                                   },
                                   "execution_count": 10,
                                   "metadata": {},
                                   "output_type": "execute_result"
                            },
                            {
                                   "data": {
                                          "image/png": "[encoded data removed]",
                                          "text/plain": [
                                                 "<Figure size 500x500 with 1 Axes>"
                                          ]
                                   },
                                   "metadata": {},
                                   "output_type": "display_data"
                            },
                            {
                                   "data": {
                                          "application/javascript": [
                                                 "\n",
                                                 "            setTimeout(function() {\n",
                                                 "                var nbb_cell_id = 10;\n",
                                                 "                var nbb_unformatted_code = \"sns.displot(y_train, bins=(range(0, 9)))\";\n",
                                                 "                var nbb_formatted_code = \"sns.displot(y_train, bins=(range(0, 9)))\";\n",
                                                 "                var nbb_cells = Jupyter.notebook.get_cells();\n",
                                                 "                for (var i = 0; i < nbb_cells.length; ++i) {\n",
                                                 "                    if (nbb_cells[i].input_prompt_number == nbb_cell_id) {\n",
                                                 "                        if (nbb_cells[i].get_text() == nbb_unformatted_code) {\n",
                                                 "                             nbb_cells[i].set_text(nbb_formatted_code);\n",
                                                 "                        }\n",
                                                 "                        break;\n",
                                                 "                    }\n",
                                                 "                }\n",
                                                 "            }, 500);\n",
                                                 "            "
                                          ],
                                          "text/plain": [
                                                 "<IPython.core.display.Javascript object>"
                                          ]
                                   },
                                   "metadata": {},
                                   "output_type": "display_data"
                            }
                     ],
                     "source": [
                            "sns.displot(y_train, bins=(range(0, 9)))"
                     ]
              },
              {
                     "cell_type": "code",
                     "execution_count": 11,
                     "id": "3bd00e30",
                     "metadata": {},
                     "outputs": [
                            {
                                   "data": {
                                          "text/plain": [
                                                 "(28, 28)"
                                          ]
                                   },
                                   "execution_count": 11,
                                   "metadata": {},
                                   "output_type": "execute_result"
                            },
                            {
                                   "data": {
                                          "application/javascript": [
                                                 "\n",
                                                 "            setTimeout(function() {\n",
                                                 "                var nbb_cell_id = 11;\n",
                                                 "                var nbb_unformatted_code = \"inp_shape = x_train[0].shape\\ninp_shape\";\n",
                                                 "                var nbb_formatted_code = \"inp_shape = x_train[0].shape\\ninp_shape\";\n",
                                                 "                var nbb_cells = Jupyter.notebook.get_cells();\n",
                                                 "                for (var i = 0; i < nbb_cells.length; ++i) {\n",
                                                 "                    if (nbb_cells[i].input_prompt_number == nbb_cell_id) {\n",
                                                 "                        if (nbb_cells[i].get_text() == nbb_unformatted_code) {\n",
                                                 "                             nbb_cells[i].set_text(nbb_formatted_code);\n",
                                                 "                        }\n",
                                                 "                        break;\n",
                                                 "                    }\n",
                                                 "                }\n",
                                                 "            }, 500);\n",
                                                 "            "
                                          ],
                                          "text/plain": [
                                                 "<IPython.core.display.Javascript object>"
                                          ]
                                   },
                                   "metadata": {},
                                   "output_type": "display_data"
                            }
                     ],
                     "source": [
                            "inp_shape = x_train[0].shape\n",
                            "inp_shape"
                     ]
              },
              {
                     "cell_type": "code",
                     "execution_count": 12,
                     "id": "10ff81af",
                     "metadata": {},
                     "outputs": [
                            {
                                   "data": {
                                          "image/png": "[encoded data removed]",
                                          "text/plain": [
                                                 "<Figure size 1250x200 with 5 Axes>"
                                          ]
                                   },
                                   "metadata": {},
                                   "output_type": "display_data"
                            },
                            {
                                   "data": {
                                          "application/javascript": [
                                                 "\n",
                                                 "            setTimeout(function() {\n",
                                                 "                var nbb_cell_id = 12;\n",
                                                 "                var nbb_unformatted_code = \"plot_images(x_train[:5])\";\n",
                                                 "                var nbb_formatted_code = \"plot_images(x_train[:5])\";\n",
                                                 "                var nbb_cells = Jupyter.notebook.get_cells();\n",
                                                 "                for (var i = 0; i < nbb_cells.length; ++i) {\n",
                                                 "                    if (nbb_cells[i].input_prompt_number == nbb_cell_id) {\n",
                                                 "                        if (nbb_cells[i].get_text() == nbb_unformatted_code) {\n",
                                                 "                             nbb_cells[i].set_text(nbb_formatted_code);\n",
                                                 "                        }\n",
                                                 "                        break;\n",
                                                 "                    }\n",
                                                 "                }\n",
                                                 "            }, 500);\n",
                                                 "            "
                                          ],
                                          "text/plain": [
                                                 "<IPython.core.display.Javascript object>"
                                          ]
                                   },
                                   "metadata": {},
                                   "output_type": "display_data"
                            }
                     ],
                     "source": [
                            "plot_images(x_train[:5])"
                     ]
              },
              {
                     "cell_type": "code",
                     "execution_count": 13,
                     "id": "dd986f63",
                     "metadata": {},
                     "outputs": [
                            {
                                   "data": {
                                          "application/javascript": [
                                                 "\n",
                                                 "            setTimeout(function() {\n",
                                                 "                var nbb_cell_id = 13;\n",
                                                 "                var nbb_unformatted_code = \"COLUMN_SPARSITY = 0.2\\nCOLUMN_DIM = (46, 46)\";\n",
                                                 "                var nbb_formatted_code = \"COLUMN_SPARSITY = 0.2\\nCOLUMN_DIM = (46, 46)\";\n",
                                                 "                var nbb_cells = Jupyter.notebook.get_cells();\n",
                                                 "                for (var i = 0; i < nbb_cells.length; ++i) {\n",
                                                 "                    if (nbb_cells[i].input_prompt_number == nbb_cell_id) {\n",
                                                 "                        if (nbb_cells[i].get_text() == nbb_unformatted_code) {\n",
                                                 "                             nbb_cells[i].set_text(nbb_formatted_code);\n",
                                                 "                        }\n",
                                                 "                        break;\n",
                                                 "                    }\n",
                                                 "                }\n",
                                                 "            }, 500);\n",
                                                 "            "
                                          ],
                                          "text/plain": [
                                                 "<IPython.core.display.Javascript object>"
                                          ]
                                   },
                                   "metadata": {},
                                   "output_type": "display_data"
                            }
                     ],
                     "source": [
                            "COLUMN_SPARSITY = 0.2\n",
                            "COLUMN_DIM = (46, 46)"
                     ]
              },
              {
                     "cell_type": "code",
                     "execution_count": 26,
                     "id": "86b81df7",
                     "metadata": {},
                     "outputs": [
                            {
                                   "data": {
                                          "application/javascript": [
                                                 "\n",
                                                 "            setTimeout(function() {\n",
                                                 "                var nbb_cell_id = 26;\n",
                                                 "                var nbb_unformatted_code = \"sp = SpatialPooler(\\n    input_dimension=inp_shape,\\n    column_dimension=COLUMN_DIM,\\n    connection_sparsity=0.4,\\n    permanence_threshold=0.5,\\n    stimulus_threshold=25.0,\\n    permanence_increment=0.1,\\n    permanence_decrement=0.02,\\n    column_sparsity=COLUMN_SPARSITY,\\n    potential_pool_radius=16,\\n)\";\n",
                                                 "                var nbb_formatted_code = \"sp = SpatialPooler(\\n    input_dimension=inp_shape,\\n    column_dimension=COLUMN_DIM,\\n    connection_sparsity=0.4,\\n    permanence_threshold=0.5,\\n    stimulus_threshold=25.0,\\n    permanence_increment=0.1,\\n    permanence_decrement=0.02,\\n    column_sparsity=COLUMN_SPARSITY,\\n    potential_pool_radius=16,\\n)\";\n",
                                                 "                var nbb_cells = Jupyter.notebook.get_cells();\n",
                                                 "                for (var i = 0; i < nbb_cells.length; ++i) {\n",
                                                 "                    if (nbb_cells[i].input_prompt_number == nbb_cell_id) {\n",
                                                 "                        if (nbb_cells[i].get_text() == nbb_unformatted_code) {\n",
                                                 "                             nbb_cells[i].set_text(nbb_formatted_code);\n",
                                                 "                        }\n",
                                                 "                        break;\n",
                                                 "                    }\n",
                                                 "                }\n",
                                                 "            }, 500);\n",
                                                 "            "
                                          ],
                                          "text/plain": [
                                                 "<IPython.core.display.Javascript object>"
                                          ]
                                   },
                                   "metadata": {},
                                   "output_type": "display_data"
                            }
                     ],
                     "source": [
                            "sp = SpatialPooler(\n",
                            "    input_dimension=inp_shape,\n",
                            "    column_dimension=COLUMN_DIM,\n",
                            "    connection_sparsity=0.4,\n",
                            "    permanence_threshold=0.5,\n",
                            "    stimulus_threshold=25.0,\n",
                            "    permanence_increment=0.1,\n",
                            "    permanence_decrement=0.02,\n",
                            "    column_sparsity=COLUMN_SPARSITY,\n",
                            "    potential_pool_radius=16,\n",
                            ")"
                     ]
              },
              {
                     "cell_type": "code",
                     "execution_count": 27,
                     "id": "0499b610",
                     "metadata": {},
                     "outputs": [
                            {
                                   "data": {
                                          "application/javascript": [
                                                 "\n",
                                                 "            setTimeout(function() {\n",
                                                 "                var nbb_cell_id = 27;\n",
                                                 "                var nbb_unformatted_code = \"samples = sample_class(x_train, y_train, 5, 1000, False)\\nsamples = encode_img(samples)\";\n",
                                                 "                var nbb_formatted_code = \"samples = sample_class(x_train, y_train, 5, 1000, False)\\nsamples = encode_img(samples)\";\n",
                                                 "                var nbb_cells = Jupyter.notebook.get_cells();\n",
                                                 "                for (var i = 0; i < nbb_cells.length; ++i) {\n",
                                                 "                    if (nbb_cells[i].input_prompt_number == nbb_cell_id) {\n",
                                                 "                        if (nbb_cells[i].get_text() == nbb_unformatted_code) {\n",
                                                 "                             nbb_cells[i].set_text(nbb_formatted_code);\n",
                                                 "                        }\n",
                                                 "                        break;\n",
                                                 "                    }\n",
                                                 "                }\n",
                                                 "            }, 500);\n",
                                                 "            "
                                          ],
                                          "text/plain": [
                                                 "<IPython.core.display.Javascript object>"
                                          ]
                                   },
                                   "metadata": {},
                                   "output_type": "display_data"
                            }
                     ],
                     "source": [
                            "samples = sample_class(x_train, y_train, 5, 5000, False)\n",
                            "samples = encode_img(samples)"
                     ]
              },
              {
                     "cell_type": "code",
                     "execution_count": 35,
                     "id": "1f84423e",
                     "metadata": {},
                     "outputs": [
                            {
                                   "data": {
                                          "application/vnd.jupyter.widget-view+json": {
                                                 "model_id": "a5bb2889b03b421fb34ae248041d9a30",
                                                 "version_major": 2,
                                                 "version_minor": 0
                                          },
                                          "text/plain": [
                                                 "  0%|          | 0/1000 [00:00<?, ?it/s]"
                                          ]
                                   },
                                   "metadata": {},
                                   "output_type": "display_data"
                            },
                            {
                                   "data": {
                                          "application/javascript": [
                                                 "\n",
                                                 "            setTimeout(function() {\n",
                                                 "                var nbb_cell_id = 35;\n",
                                                 "                var nbb_unformatted_code = \"for sample in tqdm(samples):\\n    sp.compute(sample, learn=True)\\nsp.save_state(\\\"sp_state\\\")\";\n",
                                                 "                var nbb_formatted_code = \"for sample in tqdm(samples):\\n    sp.compute(sample, learn=True)\\nsp.save_state(\\\"sp_state\\\")\";\n",
                                                 "                var nbb_cells = Jupyter.notebook.get_cells();\n",
                                                 "                for (var i = 0; i < nbb_cells.length; ++i) {\n",
                                                 "                    if (nbb_cells[i].input_prompt_number == nbb_cell_id) {\n",
                                                 "                        if (nbb_cells[i].get_text() == nbb_unformatted_code) {\n",
                                                 "                             nbb_cells[i].set_text(nbb_formatted_code);\n",
                                                 "                        }\n",
                                                 "                        break;\n",
                                                 "                    }\n",
                                                 "                }\n",
                                                 "            }, 500);\n",
                                                 "            "
                                          ],
                                          "text/plain": [
                                                 "<IPython.core.display.Javascript object>"
                                          ]
                                   },
                                   "metadata": {},
                                   "output_type": "display_data"
                            }
                     ],
                     "source": [
                            "for sample in tqdm(samples):\n",
                            "    sp.compute(sample, learn=True)\n",
                            "sp.save_state(\"sp_state\")"
                     ]
              },
              {
                     "cell_type": "code",
                     "execution_count": 36,
                     "id": "2f34a618",
                     "metadata": {},
                     "outputs": [
                            {
                                   "data": {
                                          "application/javascript": [
                                                 "\n",
                                                 "            setTimeout(function() {\n",
                                                 "                var nbb_cell_id = 36;\n",
                                                 "                var nbb_unformatted_code = \"ref_five, test_five = get_sp_sdr_test_set(sp, x_train, y_train, 5, False)\";\n",
                                                 "                var nbb_formatted_code = \"ref_five, test_five = get_sp_sdr_test_set(sp, x_train, y_train, 5, False)\";\n",
                                                 "                var nbb_cells = Jupyter.notebook.get_cells();\n",
                                                 "                for (var i = 0; i < nbb_cells.length; ++i) {\n",
                                                 "                    if (nbb_cells[i].input_prompt_number == nbb_cell_id) {\n",
                                                 "                        if (nbb_cells[i].get_text() == nbb_unformatted_code) {\n",
                                                 "                             nbb_cells[i].set_text(nbb_formatted_code);\n",
                                                 "                        }\n",
                                                 "                        break;\n",
                                                 "                    }\n",
                                                 "                }\n",
                                                 "            }, 500);\n",
                                                 "            "
                                          ],
                                          "text/plain": [
                                                 "<IPython.core.display.Javascript object>"
                                          ]
                                   },
                                   "metadata": {},
                                   "output_type": "display_data"
                            }
                     ],
                     "source": [
                            "ref_five, test_five = get_sp_sdr_test_set(sp, x_train, y_train, 5, False)"
                     ]
              },
              {
                     "cell_type": "code",
                     "execution_count": 37,
                     "id": "e4a14601",
                     "metadata": {},
                     "outputs": [
                            {
                                   "data": {
                                          "image/png": "[encoded data removed]",
                                          "text/plain": [
                                                 "<Figure size 1250x200 with 5 Axes>"
                                          ]
                                   },
                                   "metadata": {},
                                   "output_type": "display_data"
                            },
                            {
                                   "data": {
                                          "application/javascript": [
                                                 "\n",
                                                 "            setTimeout(function() {\n",
                                                 "                var nbb_cell_id = 37;\n",
                                                 "                var nbb_unformatted_code = \"plot_images(ref_five.reshape((5, 46, 46)))\";\n",
                                                 "                var nbb_formatted_code = \"plot_images(ref_five.reshape((5, 46, 46)))\";\n",
                                                 "                var nbb_cells = Jupyter.notebook.get_cells();\n",
                                                 "                for (var i = 0; i < nbb_cells.length; ++i) {\n",
                                                 "                    if (nbb_cells[i].input_prompt_number == nbb_cell_id) {\n",
                                                 "                        if (nbb_cells[i].get_text() == nbb_unformatted_code) {\n",
                                                 "                             nbb_cells[i].set_text(nbb_formatted_code);\n",
                                                 "                        }\n",
                                                 "                        break;\n",
                                                 "                    }\n",
                                                 "                }\n",
                                                 "            }, 500);\n",
                                                 "            "
                                          ],
                                          "text/plain": [
                                                 "<IPython.core.display.Javascript object>"
                                          ]
                                   },
                                   "metadata": {},
                                   "output_type": "display_data"
                            }
                     ],
                     "source": [
                            "plot_images(ref_five.reshape((5, 46, 46)))"
                     ]
              },
              {
                     "cell_type": "code",
                     "execution_count": 38,
                     "id": "197ef1c0",
                     "metadata": {},
                     "outputs": [
                            {
                                   "name": "stderr",
                                   "output_type": "stream",
                                   "text": [
                                          "similiraty scores: [341. 296. 323. 330. 297.]\n",
                                          "mean similiraty: 317.4\n",
                                          "similiraty in %: 75.00%\n"
                                   ]
                            },
                            {
                                   "data": {
                                          "text/plain": [
                                                 "(10, 10)"
                                          ]
                                   },
                                   "execution_count": 45,
                                   "metadata": {},
                                   "output_type": "execute_result"
                            },
                            {
                                   "data": {
                                          "application/javascript": [
                                                 "\n",
                                                 "            setTimeout(function() {\n",
                                                 "                var nbb_cell_id = 38;\n",
                                                 "                var nbb_unformatted_code = \"sim = get_similiraty(ref_five, test_five)\\nmean_sim = get_mean_similiraty(ref_five, test_five)\\nsim_percent = similiraty_to_percent(mean_sim, COLUMN_SPARSITY, np.prod(COLUMN_DIM))\\n\\nprint(f\\\"similiraty scores: {sim}\\\")\\nprint(f\\\"mean similiraty: {mean_sim}\\\")\\nprint(f\\\"similiraty in %: {sim_percent:.2%}\\\")\";\n",
                                                 "                var nbb_formatted_code = \"sim = get_similiraty(ref_five, test_five)\\nmean_sim = get_mean_similiraty(ref_five, test_five)\\nsim_percent = similiraty_to_percent(mean_sim, COLUMN_SPARSITY, np.prod(COLUMN_DIM))\\n\\nprint(f\\\"similiraty scores: {sim}\\\")\\nprint(f\\\"mean similiraty: {mean_sim}\\\")\\nprint(f\\\"similiraty in %: {sim_percent:.2%}\\\")\";\n",
                                                 "                var nbb_cells = Jupyter.notebook.get_cells();\n",
                                                 "                for (var i = 0; i < nbb_cells.length; ++i) {\n",
                                                 "                    if (nbb_cells[i].input_prompt_number == nbb_cell_id) {\n",
                                                 "                        if (nbb_cells[i].get_text() == nbb_unformatted_code) {\n",
                                                 "                             nbb_cells[i].set_text(nbb_formatted_code);\n",
                                                 "                        }\n",
                                                 "                        break;\n",
                                                 "                    }\n",
                                                 "                }\n",
                                                 "            }, 500);\n",
                                                 "            "
                                          ],
                                          "text/plain": [
                                                 "<IPython.core.display.Javascript object>"
                                          ]
                                   },
                                   "metadata": {},
                                   "output_type": "display_data"
                            }
                     ],
                     "source": [
                            "stability = sp_stability(sp, x_test, y_test, random=False)\n",
                            "stability.shape"
                     ]
              },
              {
                     "cell_type": "code",
                     "execution_count": 39,
                     "id": "ee3e911e",
                     "metadata": {},
                     "outputs": [
                            {
                                   "data": {
                                          "text/plain": [
                                                 "<AxesSubplot:>"
                                          ]
                                   },
                                   "execution_count": 46,
                                   "metadata": {},
                                   "output_type": "execute_result"
                            },
                            {
                                   "data": {
                                          "image/png": "[encoded data removed]",
                                          "text/plain": [
                                                 "<Figure size 640x480 with 2 Axes>"
                                          ]
                                   },
                                   "metadata": {},
                                   "output_type": "display_data"
                            },
                            {
                                   "data": {
                                          "application/javascript": [
                                                 "\n",
                                                 "            setTimeout(function() {\n",
                                                 "                var nbb_cell_id = 39;\n",
                                                 "                var nbb_unformatted_code = \"ref_six, test_six = get_sp_sdr_test_set(sp, x_train, y_train, 1, False)\";\n",
                                                 "                var nbb_formatted_code = \"ref_six, test_six = get_sp_sdr_test_set(sp, x_train, y_train, 1, False)\";\n",
                                                 "                var nbb_cells = Jupyter.notebook.get_cells();\n",
                                                 "                for (var i = 0; i < nbb_cells.length; ++i) {\n",
                                                 "                    if (nbb_cells[i].input_prompt_number == nbb_cell_id) {\n",
                                                 "                        if (nbb_cells[i].get_text() == nbb_unformatted_code) {\n",
                                                 "                             nbb_cells[i].set_text(nbb_formatted_code);\n",
                                                 "                        }\n",
                                                 "                        break;\n",
                                                 "                    }\n",
                                                 "                }\n",
                                                 "            }, 500);\n",
                                                 "            "
                                          ],
                                          "text/plain": [
                                                 "<IPython.core.display.Javascript object>"
                                          ]
                                   },
                                   "metadata": {},
                                   "output_type": "display_data"
                            }
                     ],
                     "source": [
                            "sns.heatmap(stability)"
                     ]
              },
              {
                     "cell_type": "code",
                     "execution_count": 40,
                     "id": "a8df863c",
                     "metadata": {},
                     "outputs": [
                            {
                                   "name": "stdout",
                                   "output_type": "stream",
                                   "text": [
                                          "similiraty scores: [325. 344. 313. 329. 331.]\n",
                                          "mean similiraty: 328.4\n",
                                          "similiraty in %: 77.60%\n"
                                   ]
                            },
                            {
                                   "data": {
                                          "application/javascript": [
                                                 "\n",
                                                 "            setTimeout(function() {\n",
                                                 "                var nbb_cell_id = 40;\n",
                                                 "                var nbb_unformatted_code = \"sim = get_similiraty(ref_six, test_six)\\nmean_sim = get_mean_similiraty(ref_six, test_six)\\nsim_percent = similiraty_to_percent(mean_sim, COLUMN_SPARSITY, np.prod(COLUMN_DIM))\\n\\nprint(f\\\"similiraty scores: {sim}\\\")\\nprint(f\\\"mean similiraty: {mean_sim}\\\")\\nprint(f\\\"similiraty in %: {sim_percent:.2%}\\\")\";\n",
                                                 "                var nbb_formatted_code = \"sim = get_similiraty(ref_six, test_six)\\nmean_sim = get_mean_similiraty(ref_six, test_six)\\nsim_percent = similiraty_to_percent(mean_sim, COLUMN_SPARSITY, np.prod(COLUMN_DIM))\\n\\nprint(f\\\"similiraty scores: {sim}\\\")\\nprint(f\\\"mean similiraty: {mean_sim}\\\")\\nprint(f\\\"similiraty in %: {sim_percent:.2%}\\\")\";\n",
                                                 "                var nbb_cells = Jupyter.notebook.get_cells();\n",
                                                 "                for (var i = 0; i < nbb_cells.length; ++i) {\n",
                                                 "                    if (nbb_cells[i].input_prompt_number == nbb_cell_id) {\n",
                                                 "                        if (nbb_cells[i].get_text() == nbb_unformatted_code) {\n",
                                                 "                             nbb_cells[i].set_text(nbb_formatted_code);\n",
                                                 "                        }\n",
                                                 "                        break;\n",
                                                 "                    }\n",
                                                 "                }\n",
                                                 "            }, 500);\n",
                                                 "            "
                                          ],
                                          "text/plain": [
                                                 "<IPython.core.display.Javascript object>"
                                          ]
                                   },
                                   "metadata": {},
                                   "output_type": "display_data"
                            }
                     ],
                     "source": [
                            "mean_stability = np.mean(np.diag(stability))\n",
                            "mean_stability"
                     ]
              },
              {
                     "cell_type": "code",
                     "execution_count": 59,
                     "id": "c6f72e4a",
                     "metadata": {},
                     "outputs": [
                            {
                                   "data": {
                                          "text/plain": [
                                                 "(662308,)"
                                          ]
                                   },
                                   "execution_count": 59,
                                   "metadata": {},
                                   "output_type": "execute_result"
                            },
                            {
                                   "data": {
                                          "application/javascript": [
                                                 "\n",
                                                 "            setTimeout(function() {\n",
                                                 "                var nbb_cell_id = 59;\n",
                                                 "                var nbb_unformatted_code = \"sp.potential_pools[sp.potential_pools == True].shape\";\n",
                                                 "                var nbb_formatted_code = \"sp.potential_pools[sp.potential_pools == True].shape\";\n",
                                                 "                var nbb_cells = Jupyter.notebook.get_cells();\n",
                                                 "                for (var i = 0; i < nbb_cells.length; ++i) {\n",
                                                 "                    if (nbb_cells[i].input_prompt_number == nbb_cell_id) {\n",
                                                 "                        if (nbb_cells[i].get_text() == nbb_unformatted_code) {\n",
                                                 "                             nbb_cells[i].set_text(nbb_formatted_code);\n",
                                                 "                        }\n",
                                                 "                        break;\n",
                                                 "                    }\n",
                                                 "                }\n",
                                                 "            }, 500);\n",
                                                 "            "
                                          ],
                                          "text/plain": [
                                                 "<IPython.core.display.Javascript object>"
                                          ]
                                   },
                                   "metadata": {},
                                   "output_type": "display_data"
                            }
                     ],
                     "source": [
                            "sp.potential_pools[sp.potential_pools == True].shape"
                     ]
              },
              {
                     "cell_type": "code",
                     "execution_count": 57,
                     "id": "711785f4",
                     "metadata": {},
                     "outputs": [
                            {
                                   "data": {
                                          "text/plain": [
                                                 "(484982,)"
                                          ]
                                   },
                                   "execution_count": 57,
                                   "metadata": {},
                                   "output_type": "execute_result"
                            },
                            {
                                   "data": {
                                          "application/javascript": [
                                                 "\n",
                                                 "            setTimeout(function() {\n",
                                                 "                var nbb_cell_id = 57;\n",
                                                 "                var nbb_unformatted_code = \"sp.permanences[sp.permanences > 0].shape\";\n",
                                                 "                var nbb_formatted_code = \"sp.permanences[sp.permanences > 0].shape\";\n",
                                                 "                var nbb_cells = Jupyter.notebook.get_cells();\n",
                                                 "                for (var i = 0; i < nbb_cells.length; ++i) {\n",
                                                 "                    if (nbb_cells[i].input_prompt_number == nbb_cell_id) {\n",
                                                 "                        if (nbb_cells[i].get_text() == nbb_unformatted_code) {\n",
                                                 "                             nbb_cells[i].set_text(nbb_formatted_code);\n",
                                                 "                        }\n",
                                                 "                        break;\n",
                                                 "                    }\n",
                                                 "                }\n",
                                                 "            }, 500);\n",
                                                 "            "
                                          ],
                                          "text/plain": [
                                                 "<IPython.core.display.Javascript object>"
                                          ]
                                   },
                                   "metadata": {},
                                   "output_type": "display_data"
                            }
                     ],
                     "source": [
                            "sp.permanences[sp.permanences > 0].shape"
                     ]
              },
              {
                     "cell_type": "code",
                     "execution_count": 62,
                     "id": "c8714b6c",
                     "metadata": {},
                     "outputs": [
                            {
                                   "data": {
                                          "text/plain": [
                                                 "(283693,)"
                                          ]
                                   },
                                   "execution_count": 62,
                                   "metadata": {},
                                   "output_type": "execute_result"
                            },
                            {
                                   "data": {
                                          "application/javascript": [
                                                 "\n",
                                                 "            setTimeout(function() {\n",
                                                 "                var nbb_cell_id = 62;\n",
                                                 "                var nbb_unformatted_code = \"sp.connected_synapses[sp.connected_synapses == True].shape\";\n",
                                                 "                var nbb_formatted_code = \"sp.connected_synapses[sp.connected_synapses == True].shape\";\n",
                                                 "                var nbb_cells = Jupyter.notebook.get_cells();\n",
                                                 "                for (var i = 0; i < nbb_cells.length; ++i) {\n",
                                                 "                    if (nbb_cells[i].input_prompt_number == nbb_cell_id) {\n",
                                                 "                        if (nbb_cells[i].get_text() == nbb_unformatted_code) {\n",
                                                 "                             nbb_cells[i].set_text(nbb_formatted_code);\n",
                                                 "                        }\n",
                                                 "                        break;\n",
                                                 "                    }\n",
                                                 "                }\n",
                                                 "            }, 500);\n",
                                                 "            "
                                          ],
                                          "text/plain": [
                                                 "<IPython.core.display.Javascript object>"
                                          ]
                                   },
                                   "metadata": {},
                                   "output_type": "display_data"
                            }
                     ],
                     "source": [
                            "sp.connected_synapses[sp.connected_synapses == True].shape"
                     ]
              },
              {
                     "cell_type": "code",
                     "execution_count": 13,
                     "id": "197ef1c0",
                     "metadata": {},
                     "outputs": [
                            {
                                   "name": "stdout",
                                   "output_type": "stream",
                                   "text": [
                                          "similiraty scores: [293. 207. 256. 280. 194.]\n",
                                          "mean similiraty: 246.0\n",
                                          "similiraty in %: 58.13%\n"
                                   ]
                            },
                            {
                                   "data": {
                                          "application/javascript": [
                                                 "\n",
                                                 "            setTimeout(function() {\n",
                                                 "                var nbb_cell_id = 13;\n",
                                                 "                var nbb_unformatted_code = \"sim = get_similiraty(ref_five, test_five)\\nmean_sim = get_mean_similiraty(ref_five, test_five)\\nsim_percent = similiraty_to_percent(mean_sim, COLUMN_SPARSITY, np.prod(COLUMN_DIM))\\n\\nprint(f\\\"similiraty scores: {sim}\\\")\\nprint(f\\\"mean similiraty: {mean_sim}\\\")\\nprint(f\\\"similiraty in %: {sim_percent:.2%}\\\")\";\n",
                                                 "                var nbb_formatted_code = \"sim = get_similiraty(ref_five, test_five)\\nmean_sim = get_mean_similiraty(ref_five, test_five)\\nsim_percent = similiraty_to_percent(mean_sim, COLUMN_SPARSITY, np.prod(COLUMN_DIM))\\n\\nprint(f\\\"similiraty scores: {sim}\\\")\\nprint(f\\\"mean similiraty: {mean_sim}\\\")\\nprint(f\\\"similiraty in %: {sim_percent:.2%}\\\")\";\n",
                                                 "                var nbb_cells = Jupyter.notebook.get_cells();\n",
                                                 "                for (var i = 0; i < nbb_cells.length; ++i) {\n",
                                                 "                    if (nbb_cells[i].input_prompt_number == nbb_cell_id) {\n",
                                                 "                        if (nbb_cells[i].get_text() == nbb_unformatted_code) {\n",
                                                 "                             nbb_cells[i].set_text(nbb_formatted_code);\n",
                                                 "                        }\n",
                                                 "                        break;\n",
                                                 "                    }\n",
                                                 "                }\n",
                                                 "            }, 500);\n",
                                                 "            "
                                          ],
                                          "text/plain": [
                                                 "<IPython.core.display.Javascript object>"
                                          ]
                                   },
                                   "metadata": {},
                                   "output_type": "display_data"
                            }
                     ],
                     "source": [
                            "sim = get_similiraty(ref_five, test_five)\n",
                            "mean_sim = get_mean_similiraty(ref_five, test_five)\n",
                            "sim_percent = similiraty_to_percent(mean_sim, COLUMN_SPARSITY, np.prod(COLUMN_DIM))\n",
                            "\n",
                            "print(f\"similiraty scores: {sim}\")\n",
                            "print(f\"mean similiraty: {mean_sim}\")\n",
                            "print(f\"similiraty in %: {sim_percent:.2%}\")"
                     ]
              },
              {
                     "cell_type": "code",
                     "execution_count": 14,
                     "id": "ee3e911e",
                     "metadata": {},
                     "outputs": [
                            {
                                   "data": {
                                          "application/javascript": [
                                                 "\n",
                                                 "            setTimeout(function() {\n",
                                                 "                var nbb_cell_id = 14;\n",
                                                 "                var nbb_unformatted_code = \"ref_six, test_six = get_sp_sdr_test_set(sp, x_train, y_train, 1, False)\";\n",
                                                 "                var nbb_formatted_code = \"ref_six, test_six = get_sp_sdr_test_set(sp, x_train, y_train, 1, False)\";\n",
                                                 "                var nbb_cells = Jupyter.notebook.get_cells();\n",
                                                 "                for (var i = 0; i < nbb_cells.length; ++i) {\n",
                                                 "                    if (nbb_cells[i].input_prompt_number == nbb_cell_id) {\n",
                                                 "                        if (nbb_cells[i].get_text() == nbb_unformatted_code) {\n",
                                                 "                             nbb_cells[i].set_text(nbb_formatted_code);\n",
                                                 "                        }\n",
                                                 "                        break;\n",
                                                 "                    }\n",
                                                 "                }\n",
                                                 "            }, 500);\n",
                                                 "            "
                                          ],
                                          "text/plain": [
                                                 "<IPython.core.display.Javascript object>"
                                          ]
                                   },
                                   "metadata": {},
                                   "output_type": "display_data"
                            }
                     ],
                     "source": [
                            "ref_six, test_six = get_sp_sdr_test_set(sp, x_train, y_train, 1, False)"
                     ]
              },
              {
                     "cell_type": "code",
                     "execution_count": 15,
                     "id": "a8df863c",
                     "metadata": {},
                     "outputs": [
                            {
                                   "name": "stdout",
                                   "output_type": "stream",
                                   "text": [
                                          "similiraty scores: [245. 303. 289. 281. 246.]\n",
                                          "mean similiraty: 272.8\n",
                                          "similiraty in %: 64.46%\n"
                                   ]
                            },
                            {
                                   "data": {
                                          "application/javascript": [
                                                 "\n",
                                                 "            setTimeout(function() {\n",
                                                 "                var nbb_cell_id = 15;\n",
                                                 "                var nbb_unformatted_code = \"sim = get_similiraty(ref_six, test_six)\\nmean_sim = get_mean_similiraty(ref_six, test_six)\\nsim_percent = similiraty_to_percent(mean_sim, COLUMN_SPARSITY, np.prod(COLUMN_DIM))\\n\\nprint(f\\\"similiraty scores: {sim}\\\")\\nprint(f\\\"mean similiraty: {mean_sim}\\\")\\nprint(f\\\"similiraty in %: {sim_percent:.2%}\\\")\";\n",
                                                 "                var nbb_formatted_code = \"sim = get_similiraty(ref_six, test_six)\\nmean_sim = get_mean_similiraty(ref_six, test_six)\\nsim_percent = similiraty_to_percent(mean_sim, COLUMN_SPARSITY, np.prod(COLUMN_DIM))\\n\\nprint(f\\\"similiraty scores: {sim}\\\")\\nprint(f\\\"mean similiraty: {mean_sim}\\\")\\nprint(f\\\"similiraty in %: {sim_percent:.2%}\\\")\";\n",
                                                 "                var nbb_cells = Jupyter.notebook.get_cells();\n",
                                                 "                for (var i = 0; i < nbb_cells.length; ++i) {\n",
                                                 "                    if (nbb_cells[i].input_prompt_number == nbb_cell_id) {\n",
                                                 "                        if (nbb_cells[i].get_text() == nbb_unformatted_code) {\n",
                                                 "                             nbb_cells[i].set_text(nbb_formatted_code);\n",
                                                 "                        }\n",
                                                 "                        break;\n",
                                                 "                    }\n",
                                                 "                }\n",
                                                 "            }, 500);\n",
                                                 "            "
                                          ],
                                          "text/plain": [
                                                 "<IPython.core.display.Javascript object>"
                                          ]
                                   },
                                   "metadata": {},
                                   "output_type": "display_data"
                            }
                     ],
                     "source": [
                            "sim = get_similiraty(ref_six, test_six)\n",
                            "mean_sim = get_mean_similiraty(ref_six, test_six)\n",
                            "sim_percent = similiraty_to_percent(mean_sim, COLUMN_SPARSITY, np.prod(COLUMN_DIM))\n",
                            "\n",
                            "print(f\"similiraty scores: {sim}\")\n",
                            "print(f\"mean similiraty: {mean_sim}\")\n",
                            "print(f\"similiraty in %: {sim_percent:.2%}\")"
                     ]
              },
              {
                     "cell_type": "code",
                     "execution_count": 71,
                     "id": "44f6fae2",
                     "metadata": {},
                     "outputs": [
                            {
                                   "data": {
                                          "text/plain": [
                                                 "array([0.03125, 0.40625])"
                                          ]
                                   },
                                   "execution_count": 71,
                                   "metadata": {},
                                   "output_type": "execute_result"
                            },
                            {
                                   "data": {
                                          "application/javascript": [
                                                 "\n",
                                                 "            setTimeout(function() {\n",
                                                 "                var nbb_cell_id = 71;\n",
                                                 "                var nbb_unformatted_code = \"np.array(np.unravel_index(45, (32, 32))) / np.array([32, 32])\";\n",
                                                 "                var nbb_formatted_code = \"np.array(np.unravel_index(45, (32, 32))) / np.array([32, 32])\";\n",
                                                 "                var nbb_cells = Jupyter.notebook.get_cells();\n",
                                                 "                for (var i = 0; i < nbb_cells.length; ++i) {\n",
                                                 "                    if (nbb_cells[i].input_prompt_number == nbb_cell_id) {\n",
                                                 "                        if (nbb_cells[i].get_text() == nbb_unformatted_code) {\n",
                                                 "                             nbb_cells[i].set_text(nbb_formatted_code);\n",
                                                 "                        }\n",
                                                 "                        break;\n",
                                                 "                    }\n",
                                                 "                }\n",
                                                 "            }, 500);\n",
                                                 "            "
                                          ],
                                          "text/plain": [
                                                 "<IPython.core.display.Javascript object>"
                                          ]
                                   },
                                   "metadata": {},
                                   "output_type": "display_data"
                            }
                     ],
                     "source": [
                            "np.array(np.unravel_index(45, (32, 32))) / np.array([32, 32])"
                     ]
              },
              {
                     "cell_type": "code",
                     "execution_count": 73,
                     "id": "890970f9",
                     "metadata": {},
                     "outputs": [
                            {
                                   "data": {
                                          "text/plain": [
                                                 "(1,)"
                                          ]
                                   },
                                   "execution_count": 73,
                                   "metadata": {},
                                   "output_type": "execute_result"
                            },
                            {
                                   "data": {
                                          "application/javascript": [
                                                 "\n",
                                                 "            setTimeout(function() {\n",
                                                 "                var nbb_cell_id = 73;\n",
                                                 "                var nbb_unformatted_code = \"np.unravel_index(1, np.array([7]))\";\n",
                                                 "                var nbb_formatted_code = \"np.unravel_index(1, np.array([7]))\";\n",
                                                 "                var nbb_cells = Jupyter.notebook.get_cells();\n",
                                                 "                for (var i = 0; i < nbb_cells.length; ++i) {\n",
                                                 "                    if (nbb_cells[i].input_prompt_number == nbb_cell_id) {\n",
                                                 "                        if (nbb_cells[i].get_text() == nbb_unformatted_code) {\n",
                                                 "                             nbb_cells[i].set_text(nbb_formatted_code);\n",
                                                 "                        }\n",
                                                 "                        break;\n",
                                                 "                    }\n",
                                                 "                }\n",
                                                 "            }, 500);\n",
                                                 "            "
                                          ],
                                          "text/plain": [
                                                 "<IPython.core.display.Javascript object>"
                                          ]
                                   },
                                   "metadata": {},
                                   "output_type": "display_data"
                            }
                     ],
                     "source": [
                            "np.unravel_index(1, np.array([7]))"
                     ]
              },
              {
                     "cell_type": "code",
                     "execution_count": 83,
                     "id": "981795e1",
                     "metadata": {},
                     "outputs": [
                            {
                                   "data": {
                                          "text/plain": [
                                                 "3"
                                          ]
                                   },
                                   "execution_count": 83,
                                   "metadata": {},
                                   "output_type": "execute_result"
                            },
                            {
                                   "data": {
                                          "application/javascript": [
                                                 "\n",
                                                 "            setTimeout(function() {\n",
                                                 "                var nbb_cell_id = 83;\n",
                                                 "                var nbb_unformatted_code = \"int(3.999)\";\n",
                                                 "                var nbb_formatted_code = \"int(3.999)\";\n",
                                                 "                var nbb_cells = Jupyter.notebook.get_cells();\n",
                                                 "                for (var i = 0; i < nbb_cells.length; ++i) {\n",
                                                 "                    if (nbb_cells[i].input_prompt_number == nbb_cell_id) {\n",
                                                 "                        if (nbb_cells[i].get_text() == nbb_unformatted_code) {\n",
                                                 "                             nbb_cells[i].set_text(nbb_formatted_code);\n",
                                                 "                        }\n",
                                                 "                        break;\n",
                                                 "                    }\n",
                                                 "                }\n",
                                                 "            }, 500);\n",
                                                 "            "
                                          ],
                                          "text/plain": [
                                                 "<IPython.core.display.Javascript object>"
                                          ]
                                   },
                                   "metadata": {},
                                   "output_type": "display_data"
                            }
                     ],
                     "source": [
                            "int(3.999)"
                     ]
              },
              {
                     "cell_type": "code",
                     "execution_count": 79,
                     "id": "06004702",
                     "metadata": {},
                     "outputs": [
                            {
                                   "data": {
                                          "text/plain": [
                                                 "2"
                                          ]
                                   },
                                   "execution_count": 79,
                                   "metadata": {},
                                   "output_type": "execute_result"
                            },
                            {
                                   "data": {
                                          "application/javascript": [
                                                 "\n",
                                                 "            setTimeout(function() {\n",
                                                 "                var nbb_cell_id = 79;\n",
                                                 "                var nbb_unformatted_code = \"np.ravel_multi_index(np.array([2]), np.array([7]))\";\n",
                                                 "                var nbb_formatted_code = \"np.ravel_multi_index(np.array([2]), np.array([7]))\";\n",
                                                 "                var nbb_cells = Jupyter.notebook.get_cells();\n",
                                                 "                for (var i = 0; i < nbb_cells.length; ++i) {\n",
                                                 "                    if (nbb_cells[i].input_prompt_number == nbb_cell_id) {\n",
                                                 "                        if (nbb_cells[i].get_text() == nbb_unformatted_code) {\n",
                                                 "                             nbb_cells[i].set_text(nbb_formatted_code);\n",
                                                 "                        }\n",
                                                 "                        break;\n",
                                                 "                    }\n",
                                                 "                }\n",
                                                 "            }, 500);\n",
                                                 "            "
                                          ],
                                          "text/plain": [
                                                 "<IPython.core.display.Javascript object>"
                                          ]
                                   },
                                   "metadata": {},
                                   "output_type": "display_data"
                            }
                     ],
                     "source": [
                            "np.ravel_multi_index(np.array([2]), np.array([7]))"
                     ]
              },
              {
                     "cell_type": "code",
                     "execution_count": 81,
                     "id": "c3403fe9",
                     "metadata": {},
                     "outputs": [
                            {
                                   "data": {
                                          "text/plain": [
                                                 "(1,)"
                                          ]
                                   },
                                   "execution_count": 81,
                                   "metadata": {},
                                   "output_type": "execute_result"
                            },
                            {
                                   "data": {
                                          "application/javascript": [
                                                 "\n",
                                                 "            setTimeout(function() {\n",
                                                 "                var nbb_cell_id = 81;\n",
                                                 "                var nbb_unformatted_code = \"np.unravel_index(1, np.array([3]))\";\n",
                                                 "                var nbb_formatted_code = \"np.unravel_index(1, np.array([3]))\";\n",
                                                 "                var nbb_cells = Jupyter.notebook.get_cells();\n",
                                                 "                for (var i = 0; i < nbb_cells.length; ++i) {\n",
                                                 "                    if (nbb_cells[i].input_prompt_number == nbb_cell_id) {\n",
                                                 "                        if (nbb_cells[i].get_text() == nbb_unformatted_code) {\n",
                                                 "                             nbb_cells[i].set_text(nbb_formatted_code);\n",
                                                 "                        }\n",
                                                 "                        break;\n",
                                                 "                    }\n",
                                                 "                }\n",
                                                 "            }, 500);\n",
                                                 "            "
                                          ],
                                          "text/plain": [
                                                 "<IPython.core.display.Javascript object>"
                                          ]
                                   },
                                   "metadata": {},
                                   "output_type": "display_data"
                            }
                     ],
                     "source": [
                            "np.unravel_index(1, np.array([3]))"
                     ]
              },
              {
                     "cell_type": "code",
                     "execution_count": null,
                     "id": "1f4c5261",
                     "metadata": {},
                     "outputs": [],
                     "source": []
              }
       ],
       "metadata": {
              "kernelspec": {
                     "display_name": "Python 3 (ipykernel)",
                     "language": "python",
                     "name": "python3"
              },
              "language_info": {
                     "codemirror_mode": {
                            "name": "ipython",
                            "version": 3
                     },
                     "file_extension": ".py",
                     "mimetype": "text/x-python",
                     "name": "python",
                     "nbconvert_exporter": "python",
                     "pygments_lexer": "ipython3",
                     "version": "3.10.6"
              }
       },
       "nbformat": 4,
       "nbformat_minor": 5
}