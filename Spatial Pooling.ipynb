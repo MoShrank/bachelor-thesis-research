{
 "cells": [
  {
   "cell_type": "code",
   "execution_count": null,
   "id": "5f996bbc",
   "metadata": {},
   "outputs": [],
   "source": [
    "%load_ext nb_black"
   ]
  },
  {
   "cell_type": "code",
   "execution_count": 2,
   "id": "087a69f4",
   "metadata": {},
   "outputs": [
    {
     "data": {
      "application/javascript": [
       "\n",
       "            setTimeout(function() {\n",
       "                var nbb_cell_id = 2;\n",
       "                var nbb_unformatted_code = \"%load_ext autoreload\\n%autoreload 2\";\n",
       "                var nbb_formatted_code = \"%load_ext autoreload\\n%autoreload 2\";\n",
       "                var nbb_cells = Jupyter.notebook.get_cells();\n",
       "                for (var i = 0; i < nbb_cells.length; ++i) {\n",
       "                    if (nbb_cells[i].input_prompt_number == nbb_cell_id) {\n",
       "                        if (nbb_cells[i].get_text() == nbb_unformatted_code) {\n",
       "                             nbb_cells[i].set_text(nbb_formatted_code);\n",
       "                        }\n",
       "                        break;\n",
       "                    }\n",
       "                }\n",
       "            }, 500);\n",
       "            "
      ],
      "text/plain": [
       "<IPython.core.display.Javascript object>"
      ]
     },
     "metadata": {},
     "output_type": "display_data"
    }
   ],
   "source": [
    "%load_ext autoreload\n",
    "%autoreload 2"
   ]
  },
  {
   "cell_type": "code",
   "execution_count": 3,
   "id": "bd0bd890",
   "metadata": {},
   "outputs": [
    {
     "data": {
      "application/javascript": [
       "\n",
       "            setTimeout(function() {\n",
       "                var nbb_cell_id = 3;\n",
       "                var nbb_unformatted_code = \"import tensorflow as tf\\nfrom typing import Iterable, List\\nimport numpy as np\\nimport math\\nfrom SpatialPooler import SpatialPooler\\nimport seaborn as sns\\nfrom tqdm.notebook import tqdm\";\n",
       "                var nbb_formatted_code = \"import tensorflow as tf\\nfrom typing import Iterable, List\\nimport numpy as np\\nimport math\\nfrom SpatialPooler import SpatialPooler\\nimport seaborn as sns\\nfrom tqdm.notebook import tqdm\";\n",
       "                var nbb_cells = Jupyter.notebook.get_cells();\n",
       "                for (var i = 0; i < nbb_cells.length; ++i) {\n",
       "                    if (nbb_cells[i].input_prompt_number == nbb_cell_id) {\n",
       "                        if (nbb_cells[i].get_text() == nbb_unformatted_code) {\n",
       "                             nbb_cells[i].set_text(nbb_formatted_code);\n",
       "                        }\n",
       "                        break;\n",
       "                    }\n",
       "                }\n",
       "            }, 500);\n",
       "            "
      ],
      "text/plain": [
       "<IPython.core.display.Javascript object>"
      ]
     },
     "metadata": {},
     "output_type": "display_data"
    }
   ],
   "source": [
    "import tensorflow as tf\n",
    "from typing import Iterable, List\n",
    "import numpy as np\n",
    "import math\n",
    "from SpatialPooler import SpatialPooler\n",
    "import seaborn as sns\n",
    "from tqdm.notebook import tqdm"
   ]
  },
  {
   "cell_type": "code",
   "execution_count": 22,
   "id": "8f511562",
   "metadata": {},
   "outputs": [
    {
     "data": {
      "application/javascript": [
       "\n",
       "            setTimeout(function() {\n",
       "                var nbb_cell_id = 22;\n",
       "                var nbb_unformatted_code = \"(x_train, y_train), (x_test, y_test) = tf.keras.datasets.mnist.load_data()\";\n",
       "                var nbb_formatted_code = \"(x_train, y_train), (x_test, y_test) = tf.keras.datasets.mnist.load_data()\";\n",
       "                var nbb_cells = Jupyter.notebook.get_cells();\n",
       "                for (var i = 0; i < nbb_cells.length; ++i) {\n",
       "                    if (nbb_cells[i].input_prompt_number == nbb_cell_id) {\n",
       "                        if (nbb_cells[i].get_text() == nbb_unformatted_code) {\n",
       "                             nbb_cells[i].set_text(nbb_formatted_code);\n",
       "                        }\n",
       "                        break;\n",
       "                    }\n",
       "                }\n",
       "            }, 500);\n",
       "            "
      ],
      "text/plain": [
       "<IPython.core.display.Javascript object>"
      ]
     },
     "metadata": {},
     "output_type": "display_data"
    }
   ],
   "source": [
    "(x_train, y_train), (x_test, y_test) = tf.keras.datasets.mnist.load_data()"
   ]
  },
  {
   "cell_type": "code",
   "execution_count": 5,
   "id": "34fa133c",
   "metadata": {},
   "outputs": [
    {
     "data": {
      "text/plain": [
       "(60000, 28, 28)"
      ]
     },
     "execution_count": 5,
     "metadata": {},
     "output_type": "execute_result"
    },
    {
     "data": {
      "application/javascript": [
       "\n",
       "            setTimeout(function() {\n",
       "                var nbb_cell_id = 5;\n",
       "                var nbb_unformatted_code = \"x_train.shape\";\n",
       "                var nbb_formatted_code = \"x_train.shape\";\n",
       "                var nbb_cells = Jupyter.notebook.get_cells();\n",
       "                for (var i = 0; i < nbb_cells.length; ++i) {\n",
       "                    if (nbb_cells[i].input_prompt_number == nbb_cell_id) {\n",
       "                        if (nbb_cells[i].get_text() == nbb_unformatted_code) {\n",
       "                             nbb_cells[i].set_text(nbb_formatted_code);\n",
       "                        }\n",
       "                        break;\n",
       "                    }\n",
       "                }\n",
       "            }, 500);\n",
       "            "
      ],
      "text/plain": [
       "<IPython.core.display.Javascript object>"
      ]
     },
     "metadata": {},
     "output_type": "display_data"
    }
   ],
   "source": [
    "x_train.shape"
   ]
  },
  {
   "cell_type": "code",
   "execution_count": 23,
   "id": "7ebf0d69",
   "metadata": {},
   "outputs": [
    {
     "data": {
      "application/javascript": [
       "\n",
       "            setTimeout(function() {\n",
       "                var nbb_cell_id = 23;\n",
       "                var nbb_unformatted_code = \"sample_size = 1000\\nx_train, y_train = x_train[:sample_size], y_train[:sample_size]\";\n",
       "                var nbb_formatted_code = \"sample_size = 1000\\nx_train, y_train = x_train[:sample_size], y_train[:sample_size]\";\n",
       "                var nbb_cells = Jupyter.notebook.get_cells();\n",
       "                for (var i = 0; i < nbb_cells.length; ++i) {\n",
       "                    if (nbb_cells[i].input_prompt_number == nbb_cell_id) {\n",
       "                        if (nbb_cells[i].get_text() == nbb_unformatted_code) {\n",
       "                             nbb_cells[i].set_text(nbb_formatted_code);\n",
       "                        }\n",
       "                        break;\n",
       "                    }\n",
       "                }\n",
       "            }, 500);\n",
       "            "
      ],
      "text/plain": [
       "<IPython.core.display.Javascript object>"
      ]
     },
     "metadata": {},
     "output_type": "display_data"
    }
   ],
   "source": [
    "sample_size = 1000\n",
    "x_train, y_train = x_train[:sample_size], y_train[:sample_size]"
   ]
  },
  {
   "cell_type": "code",
   "execution_count": 24,
   "id": "2eb4e201",
   "metadata": {},
   "outputs": [
    {
     "data": {
      "text/plain": [
       "<seaborn.axisgrid.FacetGrid at 0x15dc62e90>"
      ]
     },
     "execution_count": 24,
     "metadata": {},
     "output_type": "execute_result"
    },
    {
     "data": {
      "image/png": "[encoded data removed]",
      "text/plain": [
       "<Figure size 500x500 with 1 Axes>"
      ]
     },
     "metadata": {},
     "output_type": "display_data"
    },
    {
     "data": {
      "application/javascript": [
       "\n",
       "            setTimeout(function() {\n",
       "                var nbb_cell_id = 24;\n",
       "                var nbb_unformatted_code = \"sns.displot(y_train, bins=(range(0, 9)))\";\n",
       "                var nbb_formatted_code = \"sns.displot(y_train, bins=(range(0, 9)))\";\n",
       "                var nbb_cells = Jupyter.notebook.get_cells();\n",
       "                for (var i = 0; i < nbb_cells.length; ++i) {\n",
       "                    if (nbb_cells[i].input_prompt_number == nbb_cell_id) {\n",
       "                        if (nbb_cells[i].get_text() == nbb_unformatted_code) {\n",
       "                             nbb_cells[i].set_text(nbb_formatted_code);\n",
       "                        }\n",
       "                        break;\n",
       "                    }\n",
       "                }\n",
       "            }, 500);\n",
       "            "
      ],
      "text/plain": [
       "<IPython.core.display.Javascript object>"
      ]
     },
     "metadata": {},
     "output_type": "display_data"
    }
   ],
   "source": [
    "sns.displot(y_train, bins=(range(0, 9)))"
   ]
  },
  {
   "cell_type": "code",
   "execution_count": 25,
   "id": "3bd00e30",
   "metadata": {},
   "outputs": [
    {
     "data": {
      "text/plain": [
       "(28, 28)"
      ]
     },
     "execution_count": 25,
     "metadata": {},
     "output_type": "execute_result"
    },
    {
     "data": {
      "application/javascript": [
       "\n",
       "            setTimeout(function() {\n",
       "                var nbb_cell_id = 25;\n",
       "                var nbb_unformatted_code = \"inp_shape = x_train[0].shape\\ninp_shape\";\n",
       "                var nbb_formatted_code = \"inp_shape = x_train[0].shape\\ninp_shape\";\n",
       "                var nbb_cells = Jupyter.notebook.get_cells();\n",
       "                for (var i = 0; i < nbb_cells.length; ++i) {\n",
       "                    if (nbb_cells[i].input_prompt_number == nbb_cell_id) {\n",
       "                        if (nbb_cells[i].get_text() == nbb_unformatted_code) {\n",
       "                             nbb_cells[i].set_text(nbb_formatted_code);\n",
       "                        }\n",
       "                        break;\n",
       "                    }\n",
       "                }\n",
       "            }, 500);\n",
       "            "
      ],
      "text/plain": [
       "<IPython.core.display.Javascript object>"
      ]
     },
     "metadata": {},
     "output_type": "display_data"
    }
   ],
   "source": [
    "inp_shape = x_train[0].shape\n",
    "inp_shape"
   ]
  },
  {
   "cell_type": "code",
   "execution_count": 26,
   "id": "10ff81af",
   "metadata": {},
   "outputs": [
    {
     "data": {
      "text/plain": [
       "<AxesSubplot:>"
      ]
     },
     "execution_count": 26,
     "metadata": {},
     "output_type": "execute_result"
    },
    {
     "data": {
      "image/png": "[encoded data removed]",
      "text/plain": [
       "<Figure size 640x480 with 2 Axes>"
      ]
     },
     "metadata": {},
     "output_type": "display_data"
    },
    {
     "data": {
      "application/javascript": [
       "\n",
       "            setTimeout(function() {\n",
       "                var nbb_cell_id = 26;\n",
       "                var nbb_unformatted_code = \"sample = x_train[0].astype(\\\"int32\\\")\\nsample[sample > 0] = 1\\nsns.heatmap(sample)\";\n",
       "                var nbb_formatted_code = \"sample = x_train[0].astype(\\\"int32\\\")\\nsample[sample > 0] = 1\\nsns.heatmap(sample)\";\n",
       "                var nbb_cells = Jupyter.notebook.get_cells();\n",
       "                for (var i = 0; i < nbb_cells.length; ++i) {\n",
       "                    if (nbb_cells[i].input_prompt_number == nbb_cell_id) {\n",
       "                        if (nbb_cells[i].get_text() == nbb_unformatted_code) {\n",
       "                             nbb_cells[i].set_text(nbb_formatted_code);\n",
       "                        }\n",
       "                        break;\n",
       "                    }\n",
       "                }\n",
       "            }, 500);\n",
       "            "
      ],
      "text/plain": [
       "<IPython.core.display.Javascript object>"
      ]
     },
     "metadata": {},
     "output_type": "display_data"
    }
   ],
   "source": [
    "sample = x_train[0].astype(\"int32\")\n",
    "sample[sample > 0] = 1\n",
    "sns.heatmap(sample)"
   ]
  },
  {
   "cell_type": "code",
   "execution_count": 27,
   "id": "86b81df7",
   "metadata": {},
   "outputs": [
    {
     "data": {
      "application/javascript": [
       "\n",
       "            setTimeout(function() {\n",
       "                var nbb_cell_id = 27;\n",
       "                var nbb_unformatted_code = \"sp = SpatialPooler(\\n    input_dimension=inp_shape,\\n    column_dimension=(32, 32),\\n    connection_sparsity=0.2,\\n    permanence_threshold=0.5,\\n    stimulus_threshold=30.0,\\n    permanence_increment=0.2,\\n    permanence_decrement=0.1,\\n    column_sparsity=0.2,\\n)\";\n",
       "                var nbb_formatted_code = \"sp = SpatialPooler(\\n    input_dimension=inp_shape,\\n    column_dimension=(32, 32),\\n    connection_sparsity=0.2,\\n    permanence_threshold=0.5,\\n    stimulus_threshold=30.0,\\n    permanence_increment=0.2,\\n    permanence_decrement=0.1,\\n    column_sparsity=0.2,\\n)\";\n",
       "                var nbb_cells = Jupyter.notebook.get_cells();\n",
       "                for (var i = 0; i < nbb_cells.length; ++i) {\n",
       "                    if (nbb_cells[i].input_prompt_number == nbb_cell_id) {\n",
       "                        if (nbb_cells[i].get_text() == nbb_unformatted_code) {\n",
       "                             nbb_cells[i].set_text(nbb_formatted_code);\n",
       "                        }\n",
       "                        break;\n",
       "                    }\n",
       "                }\n",
       "            }, 500);\n",
       "            "
      ],
      "text/plain": [
       "<IPython.core.display.Javascript object>"
      ]
     },
     "metadata": {},
     "output_type": "display_data"
    }
   ],
   "source": [
    "sp = SpatialPooler(\n",
    "    input_dimension=inp_shape,\n",
    "    column_dimension=(32, 32),\n",
    "    connection_sparsity=0.2,\n",
    "    permanence_threshold=0.5,\n",
    "    stimulus_threshold=30.0,\n",
    "    permanence_increment=0.2,\n",
    "    permanence_decrement=0.1,\n",
    "    column_sparsity=0.2,\n",
    ")"
   ]
  },
  {
   "cell_type": "code",
   "execution_count": 28,
   "id": "1f84423e",
   "metadata": {},
   "outputs": [
    {
     "data": {
      "application/vnd.jupyter.widget-view+json": {
       "model_id": "b7862e72bd6a4b0fb225a8e655c08f3a",
       "version_major": 2,
       "version_minor": 0
      },
      "text/plain": [
       "  0%|          | 0/1000 [00:00<?, ?it/s]"
      ]
     },
     "metadata": {},
     "output_type": "display_data"
    },
    {
     "data": {
      "application/javascript": [
       "\n",
       "            setTimeout(function() {\n",
       "                var nbb_cell_id = 28;\n",
       "                var nbb_unformatted_code = \"for sample in tqdm(x_train):\\n    sample = sample.astype(\\\"int32\\\")\\n    sample[sample > 0] = 1\\n\\n    sp.compute(sample, learn=True)\";\n",
       "                var nbb_formatted_code = \"for sample in tqdm(x_train):\\n    sample = sample.astype(\\\"int32\\\")\\n    sample[sample > 0] = 1\\n\\n    sp.compute(sample, learn=True)\";\n",
       "                var nbb_cells = Jupyter.notebook.get_cells();\n",
       "                for (var i = 0; i < nbb_cells.length; ++i) {\n",
       "                    if (nbb_cells[i].input_prompt_number == nbb_cell_id) {\n",
       "                        if (nbb_cells[i].get_text() == nbb_unformatted_code) {\n",
       "                             nbb_cells[i].set_text(nbb_formatted_code);\n",
       "                        }\n",
       "                        break;\n",
       "                    }\n",
       "                }\n",
       "            }, 500);\n",
       "            "
      ],
      "text/plain": [
       "<IPython.core.display.Javascript object>"
      ]
     },
     "metadata": {},
     "output_type": "display_data"
    }
   ],
   "source": [
    "for sample in tqdm(x_train):\n",
    "    sample = sample.astype(\"int32\")\n",
    "    sample[sample > 0] = 1\n",
    "\n",
    "    sp.compute(sample, learn=True)"
   ]
  },
  {
   "cell_type": "code",
   "execution_count": null,
   "id": "f156ffa8",
   "metadata": {},
   "outputs": [],
   "source": [
    "sp.save_state(\"sp_state\")"
   ]
  },
  {
   "cell_type": "code",
   "execution_count": 46,
   "id": "b8f4a8d6",
   "metadata": {},
   "outputs": [
    {
     "data": {
      "application/javascript": [
       "\n",
       "            setTimeout(function() {\n",
       "                var nbb_cell_id = 46;\n",
       "                var nbb_unformatted_code = \"def get_sdrs(samples):\\n    sdrs = []\\n    for sample in samples:\\n        sample = sample.astype(\\\"int32\\\")\\n        sample[sample > 0] = 1\\n        active_columns = sp.compute(sample, learn=False)\\n        sdr = sp.top_columns_to_sdr(active_columns)\\n        sdrs.append(sdr)\\n\\n    return sdrs\";\n",
       "                var nbb_formatted_code = \"def get_sdrs(samples):\\n    sdrs = []\\n    for sample in samples:\\n        sample = sample.astype(\\\"int32\\\")\\n        sample[sample > 0] = 1\\n        active_columns = sp.compute(sample, learn=False)\\n        sdr = sp.top_columns_to_sdr(active_columns)\\n        sdrs.append(sdr)\\n\\n    return sdrs\";\n",
       "                var nbb_cells = Jupyter.notebook.get_cells();\n",
       "                for (var i = 0; i < nbb_cells.length; ++i) {\n",
       "                    if (nbb_cells[i].input_prompt_number == nbb_cell_id) {\n",
       "                        if (nbb_cells[i].get_text() == nbb_unformatted_code) {\n",
       "                             nbb_cells[i].set_text(nbb_formatted_code);\n",
       "                        }\n",
       "                        break;\n",
       "                    }\n",
       "                }\n",
       "            }, 500);\n",
       "            "
      ],
      "text/plain": [
       "<IPython.core.display.Javascript object>"
      ]
     },
     "metadata": {},
     "output_type": "display_data"
    }
   ],
   "source": [
    "def get_sdrs(samples):\n",
    "    sdrs = []\n",
    "    for sample in samples:\n",
    "        sample = sample.astype(\"int32\")\n",
    "        sample[sample > 0] = 1\n",
    "        active_columns = sp.compute(sample, learn=False)\n",
    "        sdr = sp.top_columns_to_sdr(active_columns)\n",
    "        sdrs.append(sdr)\n",
    "\n",
    "    return sdrs"
   ]
  },
  {
   "cell_type": "code",
   "execution_count": 47,
   "id": "4a46d531",
   "metadata": {},
   "outputs": [
    {
     "data": {
      "application/javascript": [
       "\n",
       "            setTimeout(function() {\n",
       "                var nbb_cell_id = 47;\n",
       "                var nbb_unformatted_code = \"def calc_overlap(sdr_one, sdr_two):\\n    return np.sum(np.logical_and(sdr_one, sdr_two).astype(int))\";\n",
       "                var nbb_formatted_code = \"def calc_overlap(sdr_one, sdr_two):\\n    return np.sum(np.logical_and(sdr_one, sdr_two).astype(int))\";\n",
       "                var nbb_cells = Jupyter.notebook.get_cells();\n",
       "                for (var i = 0; i < nbb_cells.length; ++i) {\n",
       "                    if (nbb_cells[i].input_prompt_number == nbb_cell_id) {\n",
       "                        if (nbb_cells[i].get_text() == nbb_unformatted_code) {\n",
       "                             nbb_cells[i].set_text(nbb_formatted_code);\n",
       "                        }\n",
       "                        break;\n",
       "                    }\n",
       "                }\n",
       "            }, 500);\n",
       "            "
      ],
      "text/plain": [
       "<IPython.core.display.Javascript object>"
      ]
     },
     "metadata": {},
     "output_type": "display_data"
    }
   ],
   "source": [
    "def calc_overlap(sdr_one, sdr_two):\n",
    "    return np.sum(np.logical_and(sdr_one, sdr_two).astype(int))"
   ]
  },
  {
   "cell_type": "code",
   "execution_count": 48,
   "id": "c96ad1c5",
   "metadata": {},
   "outputs": [
    {
     "data": {
      "application/javascript": [
       "\n",
       "            setTimeout(function() {\n",
       "                var nbb_cell_id = 48;\n",
       "                var nbb_unformatted_code = \"def get_overlaps(ref_sdr, sdrs):\\n    overlaps = []\\n    for sdr in sdrs:\\n        overlap = calc_overlap(ref_sdr, sdr)\\n        overlaps.append(overlap)\\n    return overlaps\";\n",
       "                var nbb_formatted_code = \"def get_overlaps(ref_sdr, sdrs):\\n    overlaps = []\\n    for sdr in sdrs:\\n        overlap = calc_overlap(ref_sdr, sdr)\\n        overlaps.append(overlap)\\n    return overlaps\";\n",
       "                var nbb_cells = Jupyter.notebook.get_cells();\n",
       "                for (var i = 0; i < nbb_cells.length; ++i) {\n",
       "                    if (nbb_cells[i].input_prompt_number == nbb_cell_id) {\n",
       "                        if (nbb_cells[i].get_text() == nbb_unformatted_code) {\n",
       "                             nbb_cells[i].set_text(nbb_formatted_code);\n",
       "                        }\n",
       "                        break;\n",
       "                    }\n",
       "                }\n",
       "            }, 500);\n",
       "            "
      ],
      "text/plain": [
       "<IPython.core.display.Javascript object>"
      ]
     },
     "metadata": {},
     "output_type": "display_data"
    }
   ],
   "source": [
    "def get_overlaps(ref_sdr, sdrs):\n",
    "    overlaps = []\n",
    "    for sdr in sdrs:\n",
    "        overlap = calc_overlap(ref_sdr, sdr)\n",
    "        overlaps.append(overlap)\n",
    "    return overlaps"
   ]
  },
  {
   "cell_type": "code",
   "execution_count": 49,
   "id": "8a441ebe",
   "metadata": {},
   "outputs": [
    {
     "data": {
      "application/javascript": [
       "\n",
       "            setTimeout(function() {\n",
       "                var nbb_cell_id = 49;\n",
       "                var nbb_unformatted_code = \"fives = np.argwhere(y_train == 5)[:10]\\nsixes = np.argwhere(y_train == 6)[:10]\\nfives = x_train[fives[:, 0]]\\nsixes = x_train[sixes[:, 0]]\";\n",
       "                var nbb_formatted_code = \"fives = np.argwhere(y_train == 5)[:10]\\nsixes = np.argwhere(y_train == 6)[:10]\\nfives = x_train[fives[:, 0]]\\nsixes = x_train[sixes[:, 0]]\";\n",
       "                var nbb_cells = Jupyter.notebook.get_cells();\n",
       "                for (var i = 0; i < nbb_cells.length; ++i) {\n",
       "                    if (nbb_cells[i].input_prompt_number == nbb_cell_id) {\n",
       "                        if (nbb_cells[i].get_text() == nbb_unformatted_code) {\n",
       "                             nbb_cells[i].set_text(nbb_formatted_code);\n",
       "                        }\n",
       "                        break;\n",
       "                    }\n",
       "                }\n",
       "            }, 500);\n",
       "            "
      ],
      "text/plain": [
       "<IPython.core.display.Javascript object>"
      ]
     },
     "metadata": {},
     "output_type": "display_data"
    }
   ],
   "source": [
    "fives = np.argwhere(y_train == 5)[:10]\n",
    "sixes = np.argwhere(y_train == 6)[:10]\n",
    "fives = x_train[fives[:, 0]]\n",
    "sixes = x_train[sixes[:, 0]]"
   ]
  },
  {
   "cell_type": "code",
   "execution_count": 50,
   "id": "6e279ace",
   "metadata": {},
   "outputs": [
    {
     "data": {
      "application/javascript": [
       "\n",
       "            setTimeout(function() {\n",
       "                var nbb_cell_id = 50;\n",
       "                var nbb_unformatted_code = \"f_sdrs = get_sdrs(fives)\\ns_sdrs = get_sdrs(sixes)\";\n",
       "                var nbb_formatted_code = \"f_sdrs = get_sdrs(fives)\\ns_sdrs = get_sdrs(sixes)\";\n",
       "                var nbb_cells = Jupyter.notebook.get_cells();\n",
       "                for (var i = 0; i < nbb_cells.length; ++i) {\n",
       "                    if (nbb_cells[i].input_prompt_number == nbb_cell_id) {\n",
       "                        if (nbb_cells[i].get_text() == nbb_unformatted_code) {\n",
       "                             nbb_cells[i].set_text(nbb_formatted_code);\n",
       "                        }\n",
       "                        break;\n",
       "                    }\n",
       "                }\n",
       "            }, 500);\n",
       "            "
      ],
      "text/plain": [
       "<IPython.core.display.Javascript object>"
      ]
     },
     "metadata": {},
     "output_type": "display_data"
    }
   ],
   "source": [
    "f_sdrs = get_sdrs(fives)\n",
    "s_sdrs = get_sdrs(sixes)"
   ]
  },
  {
   "cell_type": "code",
   "execution_count": 51,
   "id": "2d1d93b4",
   "metadata": {},
   "outputs": [
    {
     "data": {
      "application/javascript": [
       "\n",
       "            setTimeout(function() {\n",
       "                var nbb_cell_id = 51;\n",
       "                var nbb_unformatted_code = \"ref = f_sdrs[0]\";\n",
       "                var nbb_formatted_code = \"ref = f_sdrs[0]\";\n",
       "                var nbb_cells = Jupyter.notebook.get_cells();\n",
       "                for (var i = 0; i < nbb_cells.length; ++i) {\n",
       "                    if (nbb_cells[i].input_prompt_number == nbb_cell_id) {\n",
       "                        if (nbb_cells[i].get_text() == nbb_unformatted_code) {\n",
       "                             nbb_cells[i].set_text(nbb_formatted_code);\n",
       "                        }\n",
       "                        break;\n",
       "                    }\n",
       "                }\n",
       "            }, 500);\n",
       "            "
      ],
      "text/plain": [
       "<IPython.core.display.Javascript object>"
      ]
     },
     "metadata": {},
     "output_type": "display_data"
    }
   ],
   "source": [
    "ref = f_sdrs[0]"
   ]
  },
  {
   "cell_type": "code",
   "execution_count": 52,
   "id": "3aa55b1b",
   "metadata": {},
   "outputs": [
    {
     "data": {
      "application/javascript": [
       "\n",
       "            setTimeout(function() {\n",
       "                var nbb_cell_id = 52;\n",
       "                var nbb_unformatted_code = \"fives_overlap = get_overlaps(ref, f_sdrs)\";\n",
       "                var nbb_formatted_code = \"fives_overlap = get_overlaps(ref, f_sdrs)\";\n",
       "                var nbb_cells = Jupyter.notebook.get_cells();\n",
       "                for (var i = 0; i < nbb_cells.length; ++i) {\n",
       "                    if (nbb_cells[i].input_prompt_number == nbb_cell_id) {\n",
       "                        if (nbb_cells[i].get_text() == nbb_unformatted_code) {\n",
       "                             nbb_cells[i].set_text(nbb_formatted_code);\n",
       "                        }\n",
       "                        break;\n",
       "                    }\n",
       "                }\n",
       "            }, 500);\n",
       "            "
      ],
      "text/plain": [
       "<IPython.core.display.Javascript object>"
      ]
     },
     "metadata": {},
     "output_type": "display_data"
    }
   ],
   "source": [
    "fives_overlap = get_overlaps(ref, f_sdrs)"
   ]
  },
  {
   "cell_type": "code",
   "execution_count": 53,
   "id": "0732478f",
   "metadata": {},
   "outputs": [
    {
     "data": {
      "application/javascript": [
       "\n",
       "            setTimeout(function() {\n",
       "                var nbb_cell_id = 53;\n",
       "                var nbb_unformatted_code = \"sixes_overlap = get_overlaps(ref, s_sdrs)\";\n",
       "                var nbb_formatted_code = \"sixes_overlap = get_overlaps(ref, s_sdrs)\";\n",
       "                var nbb_cells = Jupyter.notebook.get_cells();\n",
       "                for (var i = 0; i < nbb_cells.length; ++i) {\n",
       "                    if (nbb_cells[i].input_prompt_number == nbb_cell_id) {\n",
       "                        if (nbb_cells[i].get_text() == nbb_unformatted_code) {\n",
       "                             nbb_cells[i].set_text(nbb_formatted_code);\n",
       "                        }\n",
       "                        break;\n",
       "                    }\n",
       "                }\n",
       "            }, 500);\n",
       "            "
      ],
      "text/plain": [
       "<IPython.core.display.Javascript object>"
      ]
     },
     "metadata": {},
     "output_type": "display_data"
    }
   ],
   "source": [
    "sixes_overlap = get_overlaps(ref, s_sdrs)"
   ]
  },
  {
   "cell_type": "code",
   "execution_count": 54,
   "id": "5bc605d1",
   "metadata": {},
   "outputs": [
    {
     "data": {
      "text/plain": [
       "76.7"
      ]
     },
     "execution_count": 54,
     "metadata": {},
     "output_type": "execute_result"
    },
    {
     "data": {
      "application/javascript": [
       "\n",
       "            setTimeout(function() {\n",
       "                var nbb_cell_id = 54;\n",
       "                var nbb_unformatted_code = \"np.mean(fives_overlap)\";\n",
       "                var nbb_formatted_code = \"np.mean(fives_overlap)\";\n",
       "                var nbb_cells = Jupyter.notebook.get_cells();\n",
       "                for (var i = 0; i < nbb_cells.length; ++i) {\n",
       "                    if (nbb_cells[i].input_prompt_number == nbb_cell_id) {\n",
       "                        if (nbb_cells[i].get_text() == nbb_unformatted_code) {\n",
       "                             nbb_cells[i].set_text(nbb_formatted_code);\n",
       "                        }\n",
       "                        break;\n",
       "                    }\n",
       "                }\n",
       "            }, 500);\n",
       "            "
      ],
      "text/plain": [
       "<IPython.core.display.Javascript object>"
      ]
     },
     "metadata": {},
     "output_type": "display_data"
    }
   ],
   "source": [
    "np.mean(fives_overlap)"
   ]
  },
  {
   "cell_type": "code",
   "execution_count": 55,
   "id": "588da90d",
   "metadata": {},
   "outputs": [
    {
     "data": {
      "text/plain": [
       "92.2"
      ]
     },
     "execution_count": 55,
     "metadata": {},
     "output_type": "execute_result"
    },
    {
     "data": {
      "application/javascript": [
       "\n",
       "            setTimeout(function() {\n",
       "                var nbb_cell_id = 55;\n",
       "                var nbb_unformatted_code = \"np.mean(sixes_overlap)\";\n",
       "                var nbb_formatted_code = \"np.mean(sixes_overlap)\";\n",
       "                var nbb_cells = Jupyter.notebook.get_cells();\n",
       "                for (var i = 0; i < nbb_cells.length; ++i) {\n",
       "                    if (nbb_cells[i].input_prompt_number == nbb_cell_id) {\n",
       "                        if (nbb_cells[i].get_text() == nbb_unformatted_code) {\n",
       "                             nbb_cells[i].set_text(nbb_formatted_code);\n",
       "                        }\n",
       "                        break;\n",
       "                    }\n",
       "                }\n",
       "            }, 500);\n",
       "            "
      ],
      "text/plain": [
       "<IPython.core.display.Javascript object>"
      ]
     },
     "metadata": {},
     "output_type": "display_data"
    }
   ],
   "source": [
    "np.mean(sixes_overlap)"
   ]
  },
  {
   "cell_type": "code",
   "execution_count": 56,
   "id": "992e2379",
   "metadata": {},
   "outputs": [
    {
     "data": {
      "text/plain": [
       "<AxesSubplot:>"
      ]
     },
     "execution_count": 56,
     "metadata": {},
     "output_type": "execute_result"
    },
    {
     "data": {
      "image/png": "[encoded data removed]",
      "text/plain": [
       "<Figure size 640x480 with 2 Axes>"
      ]
     },
     "metadata": {},
     "output_type": "display_data"
    },
    {
     "data": {
      "application/javascript": [
       "\n",
       "            setTimeout(function() {\n",
       "                var nbb_cell_id = 56;\n",
       "                var nbb_unformatted_code = \"sns.heatmap(sixes[0])\";\n",
       "                var nbb_formatted_code = \"sns.heatmap(sixes[0])\";\n",
       "                var nbb_cells = Jupyter.notebook.get_cells();\n",
       "                for (var i = 0; i < nbb_cells.length; ++i) {\n",
       "                    if (nbb_cells[i].input_prompt_number == nbb_cell_id) {\n",
       "                        if (nbb_cells[i].get_text() == nbb_unformatted_code) {\n",
       "                             nbb_cells[i].set_text(nbb_formatted_code);\n",
       "                        }\n",
       "                        break;\n",
       "                    }\n",
       "                }\n",
       "            }, 500);\n",
       "            "
      ],
      "text/plain": [
       "<IPython.core.display.Javascript object>"
      ]
     },
     "metadata": {},
     "output_type": "display_data"
    }
   ],
   "source": [
    "sns.heatmap(sixes[0])"
   ]
  },
  {
   "cell_type": "code",
   "execution_count": null,
   "id": "c0599c63",
   "metadata": {},
   "outputs": [],
   "source": [
    "# init potential connections to input space for every column / or mini column?\n",
    "# init permannce value for each potential connection -> uniformly drawn from [0, 1] -> 50% of synapses are connected\n",
    "\n",
    "# algorithm:\n",
    "# feedforward input:\n",
    "# 1. determine overlap of input and columns connected to input space * boosting factor\n",
    "# 2. column is active if activation is above stimulus threshold\n",
    "# 3. use kWTA activation globally\n",
    "# 4. update permance value of active/inactive columns following hebbian style learning\n",
    "# 5. update boost value by comparing columns to neighbouring columns"
   ]
  }
 ],
 "metadata": {
  "kernelspec": {
   "display_name": "Python 3 (ipykernel)",
   "language": "python",
   "name": "python3"
  },
  "language_info": {
   "codemirror_mode": {
    "name": "ipython",
    "version": 3
   },
   "file_extension": ".py",
   "mimetype": "text/x-python",
   "name": "python",
   "nbconvert_exporter": "python",
   "pygments_lexer": "ipython3",
   "version": "3.10.6"
  }
 },
 "nbformat": 4,
 "nbformat_minor": 5
}
