{
 "cells": [
  {
   "cell_type": "code",
   "execution_count": 1,
   "id": "087a69f4",
   "metadata": {},
   "outputs": [
    {
     "data": {
      "application/javascript": [
       "\n",
       "            setTimeout(function() {\n",
       "                var nbb_cell_id = 1;\n",
       "                var nbb_unformatted_code = \"%load_ext nb_black\\n%load_ext autoreload\\n%autoreload 2\";\n",
       "                var nbb_formatted_code = \"%load_ext nb_black\\n%load_ext autoreload\\n%autoreload 2\";\n",
       "                var nbb_cells = Jupyter.notebook.get_cells();\n",
       "                for (var i = 0; i < nbb_cells.length; ++i) {\n",
       "                    if (nbb_cells[i].input_prompt_number == nbb_cell_id) {\n",
       "                        if (nbb_cells[i].get_text() == nbb_unformatted_code) {\n",
       "                             nbb_cells[i].set_text(nbb_formatted_code);\n",
       "                        }\n",
       "                        break;\n",
       "                    }\n",
       "                }\n",
       "            }, 500);\n",
       "            "
      ],
      "text/plain": [
       "<IPython.core.display.Javascript object>"
      ]
     },
     "metadata": {},
     "output_type": "display_data"
    }
   ],
   "source": [
    "%load_ext nb_black\n",
    "%load_ext autoreload\n",
    "%autoreload 2"
   ]
  },
  {
   "cell_type": "code",
   "execution_count": 2,
   "id": "bd0bd890",
   "metadata": {},
   "outputs": [
    {
     "data": {
      "application/javascript": [
       "\n",
       "            setTimeout(function() {\n",
       "                var nbb_cell_id = 2;\n",
       "                var nbb_unformatted_code = \"import tensorflow as tf\\nfrom typing import Iterable, List\\nimport numpy as np\\nimport math\\nfrom SpatialPooler import SpatialPooler\\nimport seaborn as sns\\nfrom tqdm.notebook import tqdm\\nimport matplotlib.pyplot as plt\";\n",
       "                var nbb_formatted_code = \"import tensorflow as tf\\nfrom typing import Iterable, List\\nimport numpy as np\\nimport math\\nfrom SpatialPooler import SpatialPooler\\nimport seaborn as sns\\nfrom tqdm.notebook import tqdm\\nimport matplotlib.pyplot as plt\";\n",
       "                var nbb_cells = Jupyter.notebook.get_cells();\n",
       "                for (var i = 0; i < nbb_cells.length; ++i) {\n",
       "                    if (nbb_cells[i].input_prompt_number == nbb_cell_id) {\n",
       "                        if (nbb_cells[i].get_text() == nbb_unformatted_code) {\n",
       "                             nbb_cells[i].set_text(nbb_formatted_code);\n",
       "                        }\n",
       "                        break;\n",
       "                    }\n",
       "                }\n",
       "            }, 500);\n",
       "            "
      ],
      "text/plain": [
       "<IPython.core.display.Javascript object>"
      ]
     },
     "metadata": {},
     "output_type": "display_data"
    }
   ],
   "source": [
    "import tensorflow as tf\n",
    "from typing import Iterable, List\n",
    "import numpy as np\n",
    "import math\n",
    "from SpatialPooler import SpatialPooler\n",
    "import seaborn as sns\n",
    "from tqdm.notebook import tqdm\n",
    "import matplotlib.pyplot as plt"
   ]
  },
  {
   "cell_type": "code",
   "execution_count": 4,
   "id": "8f511562",
   "metadata": {},
   "outputs": [
    {
     "data": {
      "text/plain": [
       "(60000, 28, 28)"
      ]
     },
     "execution_count": 4,
     "metadata": {},
     "output_type": "execute_result"
    },
    {
     "data": {
      "application/javascript": [
       "\n",
       "            setTimeout(function() {\n",
       "                var nbb_cell_id = 4;\n",
       "                var nbb_unformatted_code = \"(x_train, y_train), (x_test, y_test) = tf.keras.datasets.mnist.load_data()\\nx_train.shape\";\n",
       "                var nbb_formatted_code = \"(x_train, y_train), (x_test, y_test) = tf.keras.datasets.mnist.load_data()\\nx_train.shape\";\n",
       "                var nbb_cells = Jupyter.notebook.get_cells();\n",
       "                for (var i = 0; i < nbb_cells.length; ++i) {\n",
       "                    if (nbb_cells[i].input_prompt_number == nbb_cell_id) {\n",
       "                        if (nbb_cells[i].get_text() == nbb_unformatted_code) {\n",
       "                             nbb_cells[i].set_text(nbb_formatted_code);\n",
       "                        }\n",
       "                        break;\n",
       "                    }\n",
       "                }\n",
       "            }, 500);\n",
       "            "
      ],
      "text/plain": [
       "<IPython.core.display.Javascript object>"
      ]
     },
     "metadata": {},
     "output_type": "display_data"
    }
   ],
   "source": [
    "(x_train, y_train), (x_test, y_test) = tf.keras.datasets.mnist.load_data()\n",
    "x_train.shape"
   ]
  },
  {
   "cell_type": "code",
   "execution_count": 5,
   "id": "7ebf0d69",
   "metadata": {},
   "outputs": [
    {
     "data": {
      "application/javascript": [
       "\n",
       "            setTimeout(function() {\n",
       "                var nbb_cell_id = 5;\n",
       "                var nbb_unformatted_code = \"sample_size = 2000\\nx_train, y_train = x_train[:sample_size], y_train[:sample_size]\";\n",
       "                var nbb_formatted_code = \"sample_size = 2000\\nx_train, y_train = x_train[:sample_size], y_train[:sample_size]\";\n",
       "                var nbb_cells = Jupyter.notebook.get_cells();\n",
       "                for (var i = 0; i < nbb_cells.length; ++i) {\n",
       "                    if (nbb_cells[i].input_prompt_number == nbb_cell_id) {\n",
       "                        if (nbb_cells[i].get_text() == nbb_unformatted_code) {\n",
       "                             nbb_cells[i].set_text(nbb_formatted_code);\n",
       "                        }\n",
       "                        break;\n",
       "                    }\n",
       "                }\n",
       "            }, 500);\n",
       "            "
      ],
      "text/plain": [
       "<IPython.core.display.Javascript object>"
      ]
     },
     "metadata": {},
     "output_type": "display_data"
    }
   ],
   "source": [
    "sample_size = 2000\n",
    "x_train, y_train = x_train[:sample_size], y_train[:sample_size]"
   ]
  },
  {
   "cell_type": "code",
   "execution_count": 6,
   "id": "2eb4e201",
   "metadata": {},
   "outputs": [
    {
     "data": {
      "text/plain": [
       "<seaborn.axisgrid.FacetGrid at 0x28b37ae00>"
      ]
     },
     "execution_count": 6,
     "metadata": {},
     "output_type": "execute_result"
    },
    {
     "data": {
      "image/png": "[encoded data removed]",
      "text/plain": [
       "<Figure size 500x500 with 1 Axes>"
      ]
     },
     "metadata": {},
     "output_type": "display_data"
    },
    {
     "data": {
      "application/javascript": [
       "\n",
       "            setTimeout(function() {\n",
       "                var nbb_cell_id = 6;\n",
       "                var nbb_unformatted_code = \"sns.displot(y_train, bins=(range(0, 9)))\";\n",
       "                var nbb_formatted_code = \"sns.displot(y_train, bins=(range(0, 9)))\";\n",
       "                var nbb_cells = Jupyter.notebook.get_cells();\n",
       "                for (var i = 0; i < nbb_cells.length; ++i) {\n",
       "                    if (nbb_cells[i].input_prompt_number == nbb_cell_id) {\n",
       "                        if (nbb_cells[i].get_text() == nbb_unformatted_code) {\n",
       "                             nbb_cells[i].set_text(nbb_formatted_code);\n",
       "                        }\n",
       "                        break;\n",
       "                    }\n",
       "                }\n",
       "            }, 500);\n",
       "            "
      ],
      "text/plain": [
       "<IPython.core.display.Javascript object>"
      ]
     },
     "metadata": {},
     "output_type": "display_data"
    }
   ],
   "source": [
    "sns.displot(y_train, bins=(range(0, 9)))"
   ]
  },
  {
   "cell_type": "code",
   "execution_count": 7,
   "id": "3bd00e30",
   "metadata": {},
   "outputs": [
    {
     "data": {
      "text/plain": [
       "(28, 28)"
      ]
     },
     "execution_count": 7,
     "metadata": {},
     "output_type": "execute_result"
    },
    {
     "data": {
      "application/javascript": [
       "\n",
       "            setTimeout(function() {\n",
       "                var nbb_cell_id = 7;\n",
       "                var nbb_unformatted_code = \"inp_shape = x_train[0].shape\\ninp_shape\";\n",
       "                var nbb_formatted_code = \"inp_shape = x_train[0].shape\\ninp_shape\";\n",
       "                var nbb_cells = Jupyter.notebook.get_cells();\n",
       "                for (var i = 0; i < nbb_cells.length; ++i) {\n",
       "                    if (nbb_cells[i].input_prompt_number == nbb_cell_id) {\n",
       "                        if (nbb_cells[i].get_text() == nbb_unformatted_code) {\n",
       "                             nbb_cells[i].set_text(nbb_formatted_code);\n",
       "                        }\n",
       "                        break;\n",
       "                    }\n",
       "                }\n",
       "            }, 500);\n",
       "            "
      ],
      "text/plain": [
       "<IPython.core.display.Javascript object>"
      ]
     },
     "metadata": {},
     "output_type": "display_data"
    }
   ],
   "source": [
    "inp_shape = x_train[0].shape\n",
    "inp_shape"
   ]
  },
  {
   "cell_type": "code",
   "execution_count": 8,
   "id": "10ff81af",
   "metadata": {},
   "outputs": [
    {
     "data": {
      "text/plain": [
       "<AxesSubplot:>"
      ]
     },
     "execution_count": 8,
     "metadata": {},
     "output_type": "execute_result"
    },
    {
     "data": {
      "image/png": "[encoded data removed]",
      "text/plain": [
       "<Figure size 640x480 with 2 Axes>"
      ]
     },
     "metadata": {},
     "output_type": "display_data"
    },
    {
     "data": {
      "application/javascript": [
       "\n",
       "            setTimeout(function() {\n",
       "                var nbb_cell_id = 8;\n",
       "                var nbb_unformatted_code = \"sample = x_train[0].astype(\\\"int32\\\")\\nsample[sample > 0] = 1\\nsns.heatmap(sample)\";\n",
       "                var nbb_formatted_code = \"sample = x_train[0].astype(\\\"int32\\\")\\nsample[sample > 0] = 1\\nsns.heatmap(sample)\";\n",
       "                var nbb_cells = Jupyter.notebook.get_cells();\n",
       "                for (var i = 0; i < nbb_cells.length; ++i) {\n",
       "                    if (nbb_cells[i].input_prompt_number == nbb_cell_id) {\n",
       "                        if (nbb_cells[i].get_text() == nbb_unformatted_code) {\n",
       "                             nbb_cells[i].set_text(nbb_formatted_code);\n",
       "                        }\n",
       "                        break;\n",
       "                    }\n",
       "                }\n",
       "            }, 500);\n",
       "            "
      ],
      "text/plain": [
       "<IPython.core.display.Javascript object>"
      ]
     },
     "metadata": {},
     "output_type": "display_data"
    }
   ],
   "source": [
    "sample = x_train[0].astype(\"int32\")\n",
    "sample[sample > 0] = 1\n",
    "sns.heatmap(sample)"
   ]
  },
  {
   "cell_type": "code",
   "execution_count": 78,
   "id": "dd986f63",
   "metadata": {},
   "outputs": [
    {
     "data": {
      "application/javascript": [
       "\n",
       "            setTimeout(function() {\n",
       "                var nbb_cell_id = 78;\n",
       "                var nbb_unformatted_code = \"COLUMN_SPARSITY = 0.2\\nCOLUMN_DIM = (32, 32)\";\n",
       "                var nbb_formatted_code = \"COLUMN_SPARSITY = 0.2\\nCOLUMN_DIM = (32, 32)\";\n",
       "                var nbb_cells = Jupyter.notebook.get_cells();\n",
       "                for (var i = 0; i < nbb_cells.length; ++i) {\n",
       "                    if (nbb_cells[i].input_prompt_number == nbb_cell_id) {\n",
       "                        if (nbb_cells[i].get_text() == nbb_unformatted_code) {\n",
       "                             nbb_cells[i].set_text(nbb_formatted_code);\n",
       "                        }\n",
       "                        break;\n",
       "                    }\n",
       "                }\n",
       "            }, 500);\n",
       "            "
      ],
      "text/plain": [
       "<IPython.core.display.Javascript object>"
      ]
     },
     "metadata": {},
     "output_type": "display_data"
    }
   ],
   "source": [
    "COLUMN_SPARSITY = 0.2\n",
    "COLUMN_DIM = (32, 32)"
   ]
  },
  {
   "cell_type": "code",
   "execution_count": 42,
   "id": "86b81df7",
   "metadata": {},
   "outputs": [
    {
     "data": {
      "application/javascript": [
       "\n",
       "            setTimeout(function() {\n",
       "                var nbb_cell_id = 42;\n",
       "                var nbb_unformatted_code = \"sp = SpatialPooler(\\n    input_dimension=inp_shape,\\n    column_dimension=(32, 32),\\n    connection_sparsity=0.2,\\n    permanence_threshold=0.5,\\n    stimulus_threshold=30.0,\\n    permanence_increment=0.2,\\n    permanence_decrement=0.1,\\n    column_sparsity=0.2,\\n)\";\n",
       "                var nbb_formatted_code = \"sp = SpatialPooler(\\n    input_dimension=inp_shape,\\n    column_dimension=(32, 32),\\n    connection_sparsity=0.2,\\n    permanence_threshold=0.5,\\n    stimulus_threshold=30.0,\\n    permanence_increment=0.2,\\n    permanence_decrement=0.1,\\n    column_sparsity=0.2,\\n)\";\n",
       "                var nbb_cells = Jupyter.notebook.get_cells();\n",
       "                for (var i = 0; i < nbb_cells.length; ++i) {\n",
       "                    if (nbb_cells[i].input_prompt_number == nbb_cell_id) {\n",
       "                        if (nbb_cells[i].get_text() == nbb_unformatted_code) {\n",
       "                             nbb_cells[i].set_text(nbb_formatted_code);\n",
       "                        }\n",
       "                        break;\n",
       "                    }\n",
       "                }\n",
       "            }, 500);\n",
       "            "
      ],
      "text/plain": [
       "<IPython.core.display.Javascript object>"
      ]
     },
     "metadata": {},
     "output_type": "display_data"
    }
   ],
   "source": [
    "sp = SpatialPooler(\n",
    "    input_dimension=inp_shape,\n",
    "    column_dimension=COLUMN_DIM,\n",
    "    connection_sparsity=0.2,\n",
    "    permanence_threshold=0.5,\n",
    "    stimulus_threshold=30.0,\n",
    "    permanence_increment=0.2,\n",
    "    permanence_decrement=0.1,\n",
    "    column_sparsity=COLUMN_SPARSITY,\n",
    ")"
   ]
  },
  {
   "cell_type": "code",
   "execution_count": 43,
   "id": "1f84423e",
   "metadata": {},
   "outputs": [
    {
     "data": {
      "application/vnd.jupyter.widget-view+json": {
       "model_id": "99f56421676c40c18ae2ac55c940d260",
       "version_major": 2,
       "version_minor": 0
      },
      "text/plain": [
       "  0%|          | 0/2000 [00:00<?, ?it/s]"
      ]
     },
     "metadata": {},
     "output_type": "display_data"
    },
    {
     "data": {
      "application/javascript": [
       "\n",
       "            setTimeout(function() {\n",
       "                var nbb_cell_id = 43;\n",
       "                var nbb_unformatted_code = \"for sample in tqdm(x_train):\\n    sample = sample.astype(\\\"int32\\\")\\n    sample[sample > 0] = 1\\n\\n    sp.compute(sample, learn=True)\\nsp.save_state(\\\"sp_state\\\")\";\n",
       "                var nbb_formatted_code = \"for sample in tqdm(x_train):\\n    sample = sample.astype(\\\"int32\\\")\\n    sample[sample > 0] = 1\\n\\n    sp.compute(sample, learn=True)\\nsp.save_state(\\\"sp_state\\\")\";\n",
       "                var nbb_cells = Jupyter.notebook.get_cells();\n",
       "                for (var i = 0; i < nbb_cells.length; ++i) {\n",
       "                    if (nbb_cells[i].input_prompt_number == nbb_cell_id) {\n",
       "                        if (nbb_cells[i].get_text() == nbb_unformatted_code) {\n",
       "                             nbb_cells[i].set_text(nbb_formatted_code);\n",
       "                        }\n",
       "                        break;\n",
       "                    }\n",
       "                }\n",
       "            }, 500);\n",
       "            "
      ],
      "text/plain": [
       "<IPython.core.display.Javascript object>"
      ]
     },
     "metadata": {},
     "output_type": "display_data"
    }
   ],
   "source": [
    "for sample in tqdm(x_train):\n",
    "    sample = sample.astype(\"int32\")\n",
    "    sample[sample > 0] = 1\n",
    "\n",
    "    sp.compute(sample, learn=True)\n",
    "sp.save_state(\"sp_state\")"
   ]
  },
  {
   "cell_type": "code",
   "execution_count": 67,
   "id": "331070b3",
   "metadata": {},
   "outputs": [
    {
     "data": {
      "application/javascript": [
       "\n",
       "            setTimeout(function() {\n",
       "                var nbb_cell_id = 67;\n",
       "                var nbb_unformatted_code = \"def get_sdrs(samples: np.ndarray) -> np.ndarray:\\n    sdrs = np.zeros((samples.shape[0], 1024))\\n    for idx, sample in enumerate(samples):\\n        sample = sample.astype(\\\"int32\\\")\\n        sample[sample > 0] = 1\\n        active_columns = sp.compute(sample, learn=False)\\n        sdr = sp.top_columns_to_sdr(active_columns)\\n        sdrs[idx] = sdr\\n\\n    return sdrs\";\n",
       "                var nbb_formatted_code = \"def get_sdrs(samples: np.ndarray) -> np.ndarray:\\n    sdrs = np.zeros((samples.shape[0], 1024))\\n    for idx, sample in enumerate(samples):\\n        sample = sample.astype(\\\"int32\\\")\\n        sample[sample > 0] = 1\\n        active_columns = sp.compute(sample, learn=False)\\n        sdr = sp.top_columns_to_sdr(active_columns)\\n        sdrs[idx] = sdr\\n\\n    return sdrs\";\n",
       "                var nbb_cells = Jupyter.notebook.get_cells();\n",
       "                for (var i = 0; i < nbb_cells.length; ++i) {\n",
       "                    if (nbb_cells[i].input_prompt_number == nbb_cell_id) {\n",
       "                        if (nbb_cells[i].get_text() == nbb_unformatted_code) {\n",
       "                             nbb_cells[i].set_text(nbb_formatted_code);\n",
       "                        }\n",
       "                        break;\n",
       "                    }\n",
       "                }\n",
       "            }, 500);\n",
       "            "
      ],
      "text/plain": [
       "<IPython.core.display.Javascript object>"
      ]
     },
     "metadata": {},
     "output_type": "display_data"
    }
   ],
   "source": [
    "def get_sdrs(samples: np.ndarray) -> np.ndarray:\n",
    "    sdrs = np.zeros((samples.shape[0], 1024))\n",
    "    for idx, sample in enumerate(samples):\n",
    "        sample = sample.astype(\"int32\")\n",
    "        sample[sample > 0] = 1\n",
    "        active_columns = sp.compute(sample, learn=False)\n",
    "        sdr = sp.top_columns_to_sdr(active_columns)\n",
    "        sdrs[idx] = sdr\n",
    "\n",
    "    return sdrs"
   ]
  },
  {
   "cell_type": "code",
   "execution_count": 80,
   "id": "8e305836",
   "metadata": {},
   "outputs": [
    {
     "data": {
      "application/javascript": [
       "\n",
       "            setTimeout(function() {\n",
       "                var nbb_cell_id = 80;\n",
       "                var nbb_unformatted_code = \"from util import get_mean_similiraty, similiraty_to_percent, get_similiraty\";\n",
       "                var nbb_formatted_code = \"from util import get_mean_similiraty, similiraty_to_percent, get_similiraty\";\n",
       "                var nbb_cells = Jupyter.notebook.get_cells();\n",
       "                for (var i = 0; i < nbb_cells.length; ++i) {\n",
       "                    if (nbb_cells[i].input_prompt_number == nbb_cell_id) {\n",
       "                        if (nbb_cells[i].get_text() == nbb_unformatted_code) {\n",
       "                             nbb_cells[i].set_text(nbb_formatted_code);\n",
       "                        }\n",
       "                        break;\n",
       "                    }\n",
       "                }\n",
       "            }, 500);\n",
       "            "
      ],
      "text/plain": [
       "<IPython.core.display.Javascript object>"
      ]
     },
     "metadata": {},
     "output_type": "display_data"
    }
   ],
   "source": [
    "from util import get_mean_similiraty, similiraty_to_percent, get_similiraty"
   ]
  },
  {
   "cell_type": "code",
   "execution_count": 160,
   "id": "d178c7f0",
   "metadata": {},
   "outputs": [
    {
     "data": {
      "application/javascript": [
       "\n",
       "            setTimeout(function() {\n",
       "                var nbb_cell_id = 160;\n",
       "                var nbb_unformatted_code = \"fives = np.argwhere(y_train == 5)[:25]\\nfives = x_train[fives]\\nfives = get_sdrs(fives)\\nref_fives = fives[:5]\\ntest_fives = fives[5:]\\n\\nsixes = np.argwhere(y_train == 6)[:25]\\nsixes = x_train[sixes]\\nsixes = get_sdrs(sixes)\\nref_sixes = sixes[:5]\\ntest_sixes = sixes[5:]\";\n",
       "                var nbb_formatted_code = \"fives = np.argwhere(y_train == 5)[:25]\\nfives = x_train[fives]\\nfives = get_sdrs(fives)\\nref_fives = fives[:5]\\ntest_fives = fives[5:]\\n\\nsixes = np.argwhere(y_train == 6)[:25]\\nsixes = x_train[sixes]\\nsixes = get_sdrs(sixes)\\nref_sixes = sixes[:5]\\ntest_sixes = sixes[5:]\";\n",
       "                var nbb_cells = Jupyter.notebook.get_cells();\n",
       "                for (var i = 0; i < nbb_cells.length; ++i) {\n",
       "                    if (nbb_cells[i].input_prompt_number == nbb_cell_id) {\n",
       "                        if (nbb_cells[i].get_text() == nbb_unformatted_code) {\n",
       "                             nbb_cells[i].set_text(nbb_formatted_code);\n",
       "                        }\n",
       "                        break;\n",
       "                    }\n",
       "                }\n",
       "            }, 500);\n",
       "            "
      ],
      "text/plain": [
       "<IPython.core.display.Javascript object>"
      ]
     },
     "metadata": {},
     "output_type": "display_data"
    }
   ],
   "source": [
    "fives = np.argwhere(y_train == 5)[:25]\n",
    "fives = x_train[fives]\n",
    "fives = get_sdrs(fives)\n",
    "ref_fives = fives[:5]\n",
    "test_fives = fives[5:]\n",
    "\n",
    "sixes = np.argwhere(y_train == 6)[:25]\n",
    "sixes = x_train[sixes]\n",
    "sixes = get_sdrs(sixes)\n",
    "ref_sixes = sixes[:5]\n",
    "test_sixes = sixes[5:]"
   ]
  },
  {
   "cell_type": "code",
   "execution_count": 161,
   "id": "197ef1c0",
   "metadata": {},
   "outputs": [
    {
     "name": "stdout",
     "output_type": "stream",
     "text": [
      "similiraty scores: [ 18. 190. 191. 178. 191.]\n",
      "mean similiraty: 153.6\n",
      "similiraty in %: 75.00%\n"
     ]
    },
    {
     "data": {
      "application/javascript": [
       "\n",
       "            setTimeout(function() {\n",
       "                var nbb_cell_id = 161;\n",
       "                var nbb_unformatted_code = \"sim = get_similiraty(ref_fives, test_fives[0])\\nmean_sim = get_mean_similiraty(ref_fives, test_fives[0])\\nsim_percent = similiraty_to_percent(mean_sim, COLUMN_SPARSITY, np.prod(COLUMN_DIM))\\n\\nprint(f\\\"similiraty scores: {sim}\\\")\\nprint(f\\\"mean similiraty: {mean_sim}\\\")\\nprint(f\\\"similiraty in %: {sim_percent:.2%}\\\")\";\n",
       "                var nbb_formatted_code = \"sim = get_similiraty(ref_fives, test_fives[0])\\nmean_sim = get_mean_similiraty(ref_fives, test_fives[0])\\nsim_percent = similiraty_to_percent(mean_sim, COLUMN_SPARSITY, np.prod(COLUMN_DIM))\\n\\nprint(f\\\"similiraty scores: {sim}\\\")\\nprint(f\\\"mean similiraty: {mean_sim}\\\")\\nprint(f\\\"similiraty in %: {sim_percent:.2%}\\\")\";\n",
       "                var nbb_cells = Jupyter.notebook.get_cells();\n",
       "                for (var i = 0; i < nbb_cells.length; ++i) {\n",
       "                    if (nbb_cells[i].input_prompt_number == nbb_cell_id) {\n",
       "                        if (nbb_cells[i].get_text() == nbb_unformatted_code) {\n",
       "                             nbb_cells[i].set_text(nbb_formatted_code);\n",
       "                        }\n",
       "                        break;\n",
       "                    }\n",
       "                }\n",
       "            }, 500);\n",
       "            "
      ],
      "text/plain": [
       "<IPython.core.display.Javascript object>"
      ]
     },
     "metadata": {},
     "output_type": "display_data"
    }
   ],
   "source": [
    "sim = get_similiraty(ref_fives, test_fives[0])\n",
    "mean_sim = get_mean_similiraty(ref_fives, test_fives[0])\n",
    "sim_percent = similiraty_to_percent(mean_sim, COLUMN_SPARSITY, np.prod(COLUMN_DIM))\n",
    "\n",
    "print(f\"similiraty scores: {sim}\")\n",
    "print(f\"mean similiraty: {mean_sim}\")\n",
    "print(f\"similiraty in %: {sim_percent:.2%}\")"
   ]
  },
  {
   "cell_type": "code",
   "execution_count": 162,
   "id": "a8df863c",
   "metadata": {},
   "outputs": [
    {
     "name": "stdout",
     "output_type": "stream",
     "text": [
      "similiraty scores: [ 12. 189. 118.  15.  15.]\n",
      "mean similiraty: 69.8\n",
      "similiraty in %: 34.08%\n"
     ]
    },
    {
     "data": {
      "application/javascript": [
       "\n",
       "            setTimeout(function() {\n",
       "                var nbb_cell_id = 162;\n",
       "                var nbb_unformatted_code = \"sim = get_similiraty(ref_sixes, test_fives[0])\\nmean_sim = get_mean_similiraty(ref_sixes, test_fives[0])\\nsim_percent = similiraty_to_percent(mean_sim, COLUMN_SPARSITY, np.prod(COLUMN_DIM))\\n\\nprint(f\\\"similiraty scores: {sim}\\\")\\nprint(f\\\"mean similiraty: {mean_sim}\\\")\\nprint(f\\\"similiraty in %: {sim_percent:.2%}\\\")\";\n",
       "                var nbb_formatted_code = \"sim = get_similiraty(ref_sixes, test_fives[0])\\nmean_sim = get_mean_similiraty(ref_sixes, test_fives[0])\\nsim_percent = similiraty_to_percent(mean_sim, COLUMN_SPARSITY, np.prod(COLUMN_DIM))\\n\\nprint(f\\\"similiraty scores: {sim}\\\")\\nprint(f\\\"mean similiraty: {mean_sim}\\\")\\nprint(f\\\"similiraty in %: {sim_percent:.2%}\\\")\";\n",
       "                var nbb_cells = Jupyter.notebook.get_cells();\n",
       "                for (var i = 0; i < nbb_cells.length; ++i) {\n",
       "                    if (nbb_cells[i].input_prompt_number == nbb_cell_id) {\n",
       "                        if (nbb_cells[i].get_text() == nbb_unformatted_code) {\n",
       "                             nbb_cells[i].set_text(nbb_formatted_code);\n",
       "                        }\n",
       "                        break;\n",
       "                    }\n",
       "                }\n",
       "            }, 500);\n",
       "            "
      ],
      "text/plain": [
       "<IPython.core.display.Javascript object>"
      ]
     },
     "metadata": {},
     "output_type": "display_data"
    }
   ],
   "source": [
    "sim = get_similiraty(ref_sixes, test_fives[0])\n",
    "mean_sim = get_mean_similiraty(ref_sixes, test_fives[0])\n",
    "sim_percent = similiraty_to_percent(mean_sim, COLUMN_SPARSITY, np.prod(COLUMN_DIM))\n",
    "\n",
    "print(f\"similiraty scores: {sim}\")\n",
    "print(f\"mean similiraty: {mean_sim}\")\n",
    "print(f\"similiraty in %: {sim_percent:.2%}\")"
   ]
  },
  {
   "cell_type": "code",
   "execution_count": 163,
   "id": "18748ad0",
   "metadata": {},
   "outputs": [
    {
     "name": "stdout",
     "output_type": "stream",
     "text": [
      "similiraty scores: [ 77.  18.  46. 106.  94.]\n",
      "mean similiraty: 68.2\n",
      "similiraty in %: 33.30%\n"
     ]
    },
    {
     "data": {
      "application/javascript": [
       "\n",
       "            setTimeout(function() {\n",
       "                var nbb_cell_id = 163;\n",
       "                var nbb_unformatted_code = \"sim = get_similiraty(ref_sixes, test_sixes[0])\\nmean_sim = get_mean_similiraty(ref_sixes, test_sixes[0])\\nsim_percent = similiraty_to_percent(mean_sim, COLUMN_SPARSITY, np.prod(COLUMN_DIM))\\n\\nprint(f\\\"similiraty scores: {sim}\\\")\\nprint(f\\\"mean similiraty: {mean_sim}\\\")\\nprint(f\\\"similiraty in %: {sim_percent:.2%}\\\")\";\n",
       "                var nbb_formatted_code = \"sim = get_similiraty(ref_sixes, test_sixes[0])\\nmean_sim = get_mean_similiraty(ref_sixes, test_sixes[0])\\nsim_percent = similiraty_to_percent(mean_sim, COLUMN_SPARSITY, np.prod(COLUMN_DIM))\\n\\nprint(f\\\"similiraty scores: {sim}\\\")\\nprint(f\\\"mean similiraty: {mean_sim}\\\")\\nprint(f\\\"similiraty in %: {sim_percent:.2%}\\\")\";\n",
       "                var nbb_cells = Jupyter.notebook.get_cells();\n",
       "                for (var i = 0; i < nbb_cells.length; ++i) {\n",
       "                    if (nbb_cells[i].input_prompt_number == nbb_cell_id) {\n",
       "                        if (nbb_cells[i].get_text() == nbb_unformatted_code) {\n",
       "                             nbb_cells[i].set_text(nbb_formatted_code);\n",
       "                        }\n",
       "                        break;\n",
       "                    }\n",
       "                }\n",
       "            }, 500);\n",
       "            "
      ],
      "text/plain": [
       "<IPython.core.display.Javascript object>"
      ]
     },
     "metadata": {},
     "output_type": "display_data"
    }
   ],
   "source": [
    "sim = get_similiraty(ref_sixes, test_sixes[0])\n",
    "mean_sim = get_mean_similiraty(ref_sixes, test_sixes[0])\n",
    "sim_percent = similiraty_to_percent(mean_sim, COLUMN_SPARSITY, np.prod(COLUMN_DIM))\n",
    "\n",
    "print(f\"similiraty scores: {sim}\")\n",
    "print(f\"mean similiraty: {mean_sim}\")\n",
    "print(f\"similiraty in %: {sim_percent:.2%}\")"
   ]
  },
  {
   "cell_type": "code",
   "execution_count": null,
   "id": "03aba64a",
   "metadata": {},
   "outputs": [],
   "source": []
  },
  {
   "cell_type": "code",
   "execution_count": 164,
   "id": "470ef065",
   "metadata": {},
   "outputs": [
    {
     "ename": "ValueError",
     "evalue": "cannot reshape array of size 1 into shape (32,32)",
     "output_type": "error",
     "traceback": [
      "\u001b[0;31m---------------------------------------------------------------------------\u001b[0m",
      "\u001b[0;31mValueError\u001b[0m                                Traceback (most recent call last)",
      "Cell \u001b[0;32mIn [164], line 6\u001b[0m\n\u001b[1;32m      2\u001b[0m fives_img \u001b[38;5;241m=\u001b[39m np\u001b[38;5;241m.\u001b[39margwhere(y_train \u001b[38;5;241m==\u001b[39m \u001b[38;5;241m5\u001b[39m)[:\u001b[38;5;241m6\u001b[39m]\n\u001b[1;32m      4\u001b[0m \u001b[38;5;28;01mfor\u001b[39;00m idx, sdr \u001b[38;5;129;01min\u001b[39;00m \u001b[38;5;28menumerate\u001b[39m(fives_img):\n\u001b[1;32m      5\u001b[0m     sns\u001b[38;5;241m.\u001b[39mheatmap(\n\u001b[0;32m----> 6\u001b[0m         \u001b[43msdr\u001b[49m\u001b[38;5;241;43m.\u001b[39;49m\u001b[43mastype\u001b[49m\u001b[43m(\u001b[49m\u001b[38;5;124;43m\"\u001b[39;49m\u001b[38;5;124;43mint32\u001b[39;49m\u001b[38;5;124;43m\"\u001b[39;49m\u001b[43m)\u001b[49m\u001b[38;5;241;43m.\u001b[39;49m\u001b[43mreshape\u001b[49m\u001b[43m(\u001b[49m\u001b[43m(\u001b[49m\u001b[38;5;241;43m32\u001b[39;49m\u001b[43m,\u001b[49m\u001b[43m \u001b[49m\u001b[38;5;241;43m32\u001b[39;49m\u001b[43m)\u001b[49m\u001b[43m)\u001b[49m,\n\u001b[1;32m      7\u001b[0m         ax\u001b[38;5;241m=\u001b[39maxes\u001b[38;5;241m.\u001b[39mflatten()[idx],\n\u001b[1;32m      8\u001b[0m         square\u001b[38;5;241m=\u001b[39m\u001b[38;5;28;01mTrue\u001b[39;00m,\n\u001b[1;32m      9\u001b[0m         cbar\u001b[38;5;241m=\u001b[39m\u001b[38;5;28;01mFalse\u001b[39;00m,\n\u001b[1;32m     10\u001b[0m     )\n",
      "\u001b[0;31mValueError\u001b[0m: cannot reshape array of size 1 into shape (32,32)"
     ]
    },
    {
     "data": {
      "image/png": "[encoded data removed]",
      "text/plain": [
       "<Figure size 1400x800 with 6 Axes>"
      ]
     },
     "metadata": {},
     "output_type": "display_data"
    },
    {
     "data": {
      "application/javascript": [
       "\n",
       "            setTimeout(function() {\n",
       "                var nbb_cell_id = 164;\n",
       "                var nbb_unformatted_code = \"fig, axes = plt.subplots(ncols=3, nrows=2, figsize=(14, 8))\\nfives_img = np.argwhere(y_train == 5)[:6]\\n\\nfor idx, sdr in enumerate(fives_img):\\n    sns.heatmap(\\n        sdr.astype(\\\"int32\\\").reshape((32, 32)),\\n        ax=axes.flatten()[idx],\\n        square=True,\\n        cbar=False,\\n    )\";\n",
       "                var nbb_formatted_code = \"fig, axes = plt.subplots(ncols=3, nrows=2, figsize=(14, 8))\\nfives_img = np.argwhere(y_train == 5)[:6]\\n\\nfor idx, sdr in enumerate(fives_img):\\n    sns.heatmap(\\n        sdr.astype(\\\"int32\\\").reshape((32, 32)),\\n        ax=axes.flatten()[idx],\\n        square=True,\\n        cbar=False,\\n    )\";\n",
       "                var nbb_cells = Jupyter.notebook.get_cells();\n",
       "                for (var i = 0; i < nbb_cells.length; ++i) {\n",
       "                    if (nbb_cells[i].input_prompt_number == nbb_cell_id) {\n",
       "                        if (nbb_cells[i].get_text() == nbb_unformatted_code) {\n",
       "                             nbb_cells[i].set_text(nbb_formatted_code);\n",
       "                        }\n",
       "                        break;\n",
       "                    }\n",
       "                }\n",
       "            }, 500);\n",
       "            "
      ],
      "text/plain": [
       "<IPython.core.display.Javascript object>"
      ]
     },
     "metadata": {},
     "output_type": "display_data"
    }
   ],
   "source": [
    "fig, axes = plt.subplots(ncols=3, nrows=2, figsize=(14, 8))\n",
    "fives_img = np.argwhere(y_train == 5)[:6]\n",
    "\n",
    "for idx, sdr in enumerate(fives_img):\n",
    "    sns.heatmap(\n",
    "        sdr.astype(\"int32\").reshape((32, 32)),\n",
    "        ax=axes.flatten()[idx],\n",
    "        square=True,\n",
    "        cbar=False,\n",
    "    )"
   ]
  },
  {
   "cell_type": "code",
   "execution_count": 165,
   "id": "9787c8e8",
   "metadata": {},
   "outputs": [
    {
     "data": {
      "image/png": "[encoded data removed]",
      "text/plain": [
       "<Figure size 1400x800 with 6 Axes>"
      ]
     },
     "metadata": {},
     "output_type": "display_data"
    },
    {
     "data": {
      "application/javascript": [
       "\n",
       "            setTimeout(function() {\n",
       "                var nbb_cell_id = 165;\n",
       "                var nbb_unformatted_code = \"fig, axes = plt.subplots(ncols=3, nrows=2, figsize=(14, 8))\\n\\nfor idx, sdr in enumerate(test_fives[:6]):\\n    sns.heatmap(\\n        sdr.astype(\\\"int32\\\").reshape((32, 32)),\\n        ax=axes.flatten()[idx],\\n        square=True,\\n        cbar=False,\\n    )\";\n",
       "                var nbb_formatted_code = \"fig, axes = plt.subplots(ncols=3, nrows=2, figsize=(14, 8))\\n\\nfor idx, sdr in enumerate(test_fives[:6]):\\n    sns.heatmap(\\n        sdr.astype(\\\"int32\\\").reshape((32, 32)),\\n        ax=axes.flatten()[idx],\\n        square=True,\\n        cbar=False,\\n    )\";\n",
       "                var nbb_cells = Jupyter.notebook.get_cells();\n",
       "                for (var i = 0; i < nbb_cells.length; ++i) {\n",
       "                    if (nbb_cells[i].input_prompt_number == nbb_cell_id) {\n",
       "                        if (nbb_cells[i].get_text() == nbb_unformatted_code) {\n",
       "                             nbb_cells[i].set_text(nbb_formatted_code);\n",
       "                        }\n",
       "                        break;\n",
       "                    }\n",
       "                }\n",
       "            }, 500);\n",
       "            "
      ],
      "text/plain": [
       "<IPython.core.display.Javascript object>"
      ]
     },
     "metadata": {},
     "output_type": "display_data"
    }
   ],
   "source": [
    "fig, axes = plt.subplots(ncols=3, nrows=2, figsize=(14, 8))\n",
    "\n",
    "for idx, sdr in enumerate(test_fives[:6]):\n",
    "    sns.heatmap(\n",
    "        sdr.astype(\"int32\").reshape((32, 32)),\n",
    "        ax=axes.flatten()[idx],\n",
    "        square=True,\n",
    "        cbar=False,\n",
    "    )"
   ]
  },
  {
   "cell_type": "code",
   "execution_count": 166,
   "id": "3abab5c2",
   "metadata": {},
   "outputs": [
    {
     "data": {
      "image/png": "[encoded data removed]",
      "text/plain": [
       "<Figure size 1400x800 with 6 Axes>"
      ]
     },
     "metadata": {},
     "output_type": "display_data"
    },
    {
     "data": {
      "application/javascript": [
       "\n",
       "            setTimeout(function() {\n",
       "                var nbb_cell_id = 166;\n",
       "                var nbb_unformatted_code = \"fig, axes = plt.subplots(ncols=3, nrows=2, figsize=(14, 8))\\n\\nfor idx, sdr in enumerate(test_sixes[:6]):\\n    sns.heatmap(\\n        sdr.astype(\\\"int32\\\").reshape((32, 32)),\\n        ax=axes.flatten()[idx],\\n        square=True,\\n        cbar=False,\\n    )\";\n",
       "                var nbb_formatted_code = \"fig, axes = plt.subplots(ncols=3, nrows=2, figsize=(14, 8))\\n\\nfor idx, sdr in enumerate(test_sixes[:6]):\\n    sns.heatmap(\\n        sdr.astype(\\\"int32\\\").reshape((32, 32)),\\n        ax=axes.flatten()[idx],\\n        square=True,\\n        cbar=False,\\n    )\";\n",
       "                var nbb_cells = Jupyter.notebook.get_cells();\n",
       "                for (var i = 0; i < nbb_cells.length; ++i) {\n",
       "                    if (nbb_cells[i].input_prompt_number == nbb_cell_id) {\n",
       "                        if (nbb_cells[i].get_text() == nbb_unformatted_code) {\n",
       "                             nbb_cells[i].set_text(nbb_formatted_code);\n",
       "                        }\n",
       "                        break;\n",
       "                    }\n",
       "                }\n",
       "            }, 500);\n",
       "            "
      ],
      "text/plain": [
       "<IPython.core.display.Javascript object>"
      ]
     },
     "metadata": {},
     "output_type": "display_data"
    }
   ],
   "source": [
    "fig, axes = plt.subplots(ncols=3, nrows=2, figsize=(14, 8))\n",
    "\n",
    "for idx, sdr in enumerate(test_sixes[:6]):\n",
    "    sns.heatmap(\n",
    "        sdr.astype(\"int32\").reshape((32, 32)),\n",
    "        ax=axes.flatten()[idx],\n",
    "        square=True,\n",
    "        cbar=False,\n",
    "    )"
   ]
  },
  {
   "cell_type": "code",
   "execution_count": null,
   "id": "e063e6aa",
   "metadata": {},
   "outputs": [],
   "source": [
    "ref = f_sdrs[1]"
   ]
  },
  {
   "cell_type": "code",
   "execution_count": null,
   "id": "a2c143d8",
   "metadata": {},
   "outputs": [],
   "source": [
    "fives_overlap = get_overlaps(ref, f_sdrs)"
   ]
  },
  {
   "cell_type": "code",
   "execution_count": null,
   "id": "ac9b1538",
   "metadata": {},
   "outputs": [],
   "source": [
    "sixes_overlap = get_overlaps(ref, s_sdrs)"
   ]
  },
  {
   "cell_type": "code",
   "execution_count": null,
   "id": "0815df25",
   "metadata": {},
   "outputs": [],
   "source": [
    "fives_overlap"
   ]
  },
  {
   "cell_type": "code",
   "execution_count": null,
   "id": "44f22a9a",
   "metadata": {},
   "outputs": [],
   "source": [
    "np.mean(fives_overlap)"
   ]
  },
  {
   "cell_type": "code",
   "execution_count": null,
   "id": "c4ac313e",
   "metadata": {},
   "outputs": [],
   "source": [
    "sixes_overlap"
   ]
  },
  {
   "cell_type": "code",
   "execution_count": null,
   "id": "ad2b9471",
   "metadata": {},
   "outputs": [],
   "source": [
    "np.mean(sixes_overlap)"
   ]
  },
  {
   "cell_type": "code",
   "execution_count": null,
   "id": "3f83c53b",
   "metadata": {},
   "outputs": [],
   "source": [
    "sns.heatmap(sixes[0])"
   ]
  },
  {
   "cell_type": "code",
   "execution_count": null,
   "id": "e932fd4c",
   "metadata": {},
   "outputs": [],
   "source": [
    "pca_samples = x_train[:100]\n",
    "pca_labels = y_train[:100]\n",
    "pca_samples.shape"
   ]
  },
  {
   "cell_type": "code",
   "execution_count": null,
   "id": "56f53943",
   "metadata": {},
   "outputs": [],
   "source": [
    "from sklearn.neighbors import KNeighborsClassifier"
   ]
  },
  {
   "cell_type": "code",
   "execution_count": null,
   "id": "28e72930",
   "metadata": {},
   "outputs": [],
   "source": [
    "neigh = KNeighborsClassifier(n_neighbors=3)\n",
    "neigh.fit(pca_sdrs, pca_labels)\n",
    "\n",
    "neigh.score(pca_sdrs, pca_labels)"
   ]
  },
  {
   "cell_type": "code",
   "execution_count": null,
   "id": "74f8f64d",
   "metadata": {},
   "outputs": [],
   "source": [
    "knn_samples = [x.flatten() for x in list(pca_samples)]\n",
    "\n",
    "neigh = KNeighborsClassifier(n_neighbors=3)\n",
    "neigh.fit(knn_samples, pca_labels)\n",
    "neigh.score(knn_samples, pca_labels)"
   ]
  },
  {
   "cell_type": "code",
   "execution_count": null,
   "id": "2dfde87e",
   "metadata": {},
   "outputs": [],
   "source": [
    "-> how to evaluate spatial pooler??"
   ]
  }
 ],
 "metadata": {
  "kernelspec": {
   "display_name": "Python 3 (ipykernel)",
   "language": "python",
   "name": "python3"
  },
  "language_info": {
   "codemirror_mode": {
    "name": "ipython",
    "version": 3
   },
   "file_extension": ".py",
   "mimetype": "text/x-python",
   "name": "python",
   "nbconvert_exporter": "python",
   "pygments_lexer": "ipython3",
   "version": "3.10.6"
  }
 },
 "nbformat": 4,
 "nbformat_minor": 5
}
