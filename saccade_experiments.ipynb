{
 "cells": [
  {
   "cell_type": "code",
   "execution_count": 1,
   "id": "cdbbfb7b",
   "metadata": {},
   "outputs": [
    {
     "data": {
      "application/javascript": [
       "\n",
       "            setTimeout(function() {\n",
       "                var nbb_cell_id = 1;\n",
       "                var nbb_unformatted_code = \"%load_ext nb_black\\n%load_ext autoreload\\n%autoreload 2\";\n",
       "                var nbb_formatted_code = \"%load_ext nb_black\\n%load_ext autoreload\\n%autoreload 2\";\n",
       "                var nbb_cells = Jupyter.notebook.get_cells();\n",
       "                for (var i = 0; i < nbb_cells.length; ++i) {\n",
       "                    if (nbb_cells[i].input_prompt_number == nbb_cell_id) {\n",
       "                        if (nbb_cells[i].get_text() == nbb_unformatted_code) {\n",
       "                             nbb_cells[i].set_text(nbb_formatted_code);\n",
       "                        }\n",
       "                        break;\n",
       "                    }\n",
       "                }\n",
       "            }, 500);\n",
       "            "
      ],
      "text/plain": [
       "<IPython.core.display.Javascript object>"
      ]
     },
     "metadata": {},
     "output_type": "display_data"
    }
   ],
   "source": [
    "%load_ext nb_black\n",
    "%load_ext autoreload\n",
    "%autoreload 2"
   ]
  },
  {
   "cell_type": "code",
   "execution_count": 2,
   "id": "a512ad06",
   "metadata": {},
   "outputs": [
    {
     "data": {
      "application/javascript": [
       "\n",
       "            setTimeout(function() {\n",
       "                var nbb_cell_id = 2;\n",
       "                var nbb_unformatted_code = \"from util.data import load_mnist, encode_data\\nimport numpy as np\\nimport matplotlib.pyplot as plt\\nfrom algorithms.SaccadeGenerator import SaccadeGenerator\\nimport tensorflow as tf\";\n",
       "                var nbb_formatted_code = \"from util.data import load_mnist, encode_data\\nimport numpy as np\\nimport matplotlib.pyplot as plt\\nfrom algorithms.SaccadeGenerator import SaccadeGenerator\\nimport tensorflow as tf\";\n",
       "                var nbb_cells = Jupyter.notebook.get_cells();\n",
       "                for (var i = 0; i < nbb_cells.length; ++i) {\n",
       "                    if (nbb_cells[i].input_prompt_number == nbb_cell_id) {\n",
       "                        if (nbb_cells[i].get_text() == nbb_unformatted_code) {\n",
       "                             nbb_cells[i].set_text(nbb_formatted_code);\n",
       "                        }\n",
       "                        break;\n",
       "                    }\n",
       "                }\n",
       "            }, 500);\n",
       "            "
      ],
      "text/plain": [
       "<IPython.core.display.Javascript object>"
      ]
     },
     "metadata": {},
     "output_type": "display_data"
    }
   ],
   "source": [
    "from util.data import load_mnist, encode_data\n",
    "import numpy as np\n",
    "import matplotlib.pyplot as plt\n",
    "from algorithms.SaccadeGenerator import SaccadeGenerator\n",
    "import tensorflow as tf"
   ]
  },
  {
   "cell_type": "code",
   "execution_count": 3,
   "id": "b204d980",
   "metadata": {},
   "outputs": [
    {
     "data": {
      "application/javascript": [
       "\n",
       "            setTimeout(function() {\n",
       "                var nbb_cell_id = 3;\n",
       "                var nbb_unformatted_code = \"(x_train, y_train), (x_test, y_test) = load_mnist()\\nx_train, x_test = encode_data(x_train, x_test)\";\n",
       "                var nbb_formatted_code = \"(x_train, y_train), (x_test, y_test) = load_mnist()\\nx_train, x_test = encode_data(x_train, x_test)\";\n",
       "                var nbb_cells = Jupyter.notebook.get_cells();\n",
       "                for (var i = 0; i < nbb_cells.length; ++i) {\n",
       "                    if (nbb_cells[i].input_prompt_number == nbb_cell_id) {\n",
       "                        if (nbb_cells[i].get_text() == nbb_unformatted_code) {\n",
       "                             nbb_cells[i].set_text(nbb_formatted_code);\n",
       "                        }\n",
       "                        break;\n",
       "                    }\n",
       "                }\n",
       "            }, 500);\n",
       "            "
      ],
      "text/plain": [
       "<IPython.core.display.Javascript object>"
      ]
     },
     "metadata": {},
     "output_type": "display_data"
    }
   ],
   "source": [
    "(x_train, y_train), (x_test, y_test) = load_mnist()\n",
    "x_train, x_test = encode_data(x_train, x_test)"
   ]
  },
  {
   "cell_type": "code",
   "execution_count": 4,
   "id": "0cf5428c",
   "metadata": {},
   "outputs": [
    {
     "data": {
      "text/plain": [
       "(60000, 28, 28)"
      ]
     },
     "execution_count": 4,
     "metadata": {},
     "output_type": "execute_result"
    },
    {
     "data": {
      "application/javascript": [
       "\n",
       "            setTimeout(function() {\n",
       "                var nbb_cell_id = 4;\n",
       "                var nbb_unformatted_code = \"x_train.shape\";\n",
       "                var nbb_formatted_code = \"x_train.shape\";\n",
       "                var nbb_cells = Jupyter.notebook.get_cells();\n",
       "                for (var i = 0; i < nbb_cells.length; ++i) {\n",
       "                    if (nbb_cells[i].input_prompt_number == nbb_cell_id) {\n",
       "                        if (nbb_cells[i].get_text() == nbb_unformatted_code) {\n",
       "                             nbb_cells[i].set_text(nbb_formatted_code);\n",
       "                        }\n",
       "                        break;\n",
       "                    }\n",
       "                }\n",
       "            }, 500);\n",
       "            "
      ],
      "text/plain": [
       "<IPython.core.display.Javascript object>"
      ]
     },
     "metadata": {},
     "output_type": "display_data"
    }
   ],
   "source": [
    "x_train.shape"
   ]
  },
  {
   "cell_type": "code",
   "execution_count": 5,
   "id": "4672bc40",
   "metadata": {},
   "outputs": [
    {
     "data": {
      "text/plain": [
       "<matplotlib.image.AxesImage at 0x282cbc790>"
      ]
     },
     "execution_count": 5,
     "metadata": {},
     "output_type": "execute_result"
    },
    {
     "data": {
      "image/png": "[encoded data removed]",
      "text/plain": [
       "<Figure size 640x480 with 1 Axes>"
      ]
     },
     "metadata": {},
     "output_type": "display_data"
    },
    {
     "data": {
      "application/javascript": [
       "\n",
       "            setTimeout(function() {\n",
       "                var nbb_cell_id = 5;\n",
       "                var nbb_unformatted_code = \"plt.imshow(x_train[0])\";\n",
       "                var nbb_formatted_code = \"plt.imshow(x_train[0])\";\n",
       "                var nbb_cells = Jupyter.notebook.get_cells();\n",
       "                for (var i = 0; i < nbb_cells.length; ++i) {\n",
       "                    if (nbb_cells[i].input_prompt_number == nbb_cell_id) {\n",
       "                        if (nbb_cells[i].get_text() == nbb_unformatted_code) {\n",
       "                             nbb_cells[i].set_text(nbb_formatted_code);\n",
       "                        }\n",
       "                        break;\n",
       "                    }\n",
       "                }\n",
       "            }, 500);\n",
       "            "
      ],
      "text/plain": [
       "<IPython.core.display.Javascript object>"
      ]
     },
     "metadata": {},
     "output_type": "display_data"
    }
   ],
   "source": [
    "plt.imshow(x_train[0])"
   ]
  },
  {
   "cell_type": "code",
   "execution_count": 6,
   "id": "d1f622c4",
   "metadata": {},
   "outputs": [
    {
     "data": {
      "application/javascript": [
       "\n",
       "            setTimeout(function() {\n",
       "                var nbb_cell_id = 6;\n",
       "                var nbb_unformatted_code = \"from util.math import get_random_pool_indices\\nfrom util.plots import plot_image_with_saccade\";\n",
       "                var nbb_formatted_code = \"from util.math import get_random_pool_indices\\nfrom util.plots import plot_image_with_saccade\";\n",
       "                var nbb_cells = Jupyter.notebook.get_cells();\n",
       "                for (var i = 0; i < nbb_cells.length; ++i) {\n",
       "                    if (nbb_cells[i].input_prompt_number == nbb_cell_id) {\n",
       "                        if (nbb_cells[i].get_text() == nbb_unformatted_code) {\n",
       "                             nbb_cells[i].set_text(nbb_formatted_code);\n",
       "                        }\n",
       "                        break;\n",
       "                    }\n",
       "                }\n",
       "            }, 500);\n",
       "            "
      ],
      "text/plain": [
       "<IPython.core.display.Javascript object>"
      ]
     },
     "metadata": {},
     "output_type": "display_data"
    }
   ],
   "source": [
    "from util.math import get_random_pool_indices\n",
    "from util.plots import plot_image_with_saccade"
   ]
  },
  {
   "cell_type": "code",
   "execution_count": 7,
   "id": "84734b5c",
   "metadata": {},
   "outputs": [
    {
     "data": {
      "application/javascript": [
       "\n",
       "            setTimeout(function() {\n",
       "                var nbb_cell_id = 7;\n",
       "                var nbb_unformatted_code = \"#plot_image_with_saccade(x_train[saccades[3][\\\"data_index\\\"]], saccades[3][\\\"indices\\\"])\";\n",
       "                var nbb_formatted_code = \"# plot_image_with_saccade(x_train[saccades[3][\\\"data_index\\\"]], saccades[3][\\\"indices\\\"])\";\n",
       "                var nbb_cells = Jupyter.notebook.get_cells();\n",
       "                for (var i = 0; i < nbb_cells.length; ++i) {\n",
       "                    if (nbb_cells[i].input_prompt_number == nbb_cell_id) {\n",
       "                        if (nbb_cells[i].get_text() == nbb_unformatted_code) {\n",
       "                             nbb_cells[i].set_text(nbb_formatted_code);\n",
       "                        }\n",
       "                        break;\n",
       "                    }\n",
       "                }\n",
       "            }, 500);\n",
       "            "
      ],
      "text/plain": [
       "<IPython.core.display.Javascript object>"
      ]
     },
     "metadata": {},
     "output_type": "display_data"
    }
   ],
   "source": [
    "# plot_image_with_saccade(x_train[saccades[3][\"data_index\"]], saccades[3][\"indices\"])"
   ]
  },
  {
   "cell_type": "code",
   "execution_count": 24,
   "id": "82600d36",
   "metadata": {},
   "outputs": [
    {
     "data": {
      "application/javascript": [
       "\n",
       "            setTimeout(function() {\n",
       "                var nbb_cell_id = 24;\n",
       "                var nbb_unformatted_code = \"def get_model() -> tf.keras.Model:\\n    model = tf.keras.models.Sequential(\\n        [\\n            tf.keras.layers.Input(\\n                shape=[\\n                    10,\\n                    27,\\n                ],\\n                batch_size=128,\\n            ),\\n            tf.keras.layers.LSTM(128),\\n            tf.keras.layers.Dense(10),\\n        ]\\n    )\\n\\n    model.compile(\\n        optimizer=tf.keras.optimizers.Adam(0.001),\\n        loss=tf.keras.losses.SparseCategoricalCrossentropy(from_logits=True),\\n        metrics=[tf.keras.metrics.SparseCategoricalAccuracy()],\\n    )\\n\\n    return model\\n\\n\\ndef fit_model(epochs=5):\\n    train_gen = SaccadeGenerator(x_train, y_train, (5, 5), 10)\\n    val_gen = SaccadeGenerator(x_test, y_test, (5, 5), 10)\\n\\n    model = get_model()\\n\\n    history = model.fit(\\n        train_gen, batch_size=128, validation_data=val_gen, epochs=epochs\\n    )\\n\\n    return model, history\";\n",
       "                var nbb_formatted_code = \"def get_model() -> tf.keras.Model:\\n    model = tf.keras.models.Sequential(\\n        [\\n            tf.keras.layers.Input(\\n                shape=[\\n                    10,\\n                    27,\\n                ],\\n                batch_size=128,\\n            ),\\n            tf.keras.layers.LSTM(128),\\n            tf.keras.layers.Dense(10),\\n        ]\\n    )\\n\\n    model.compile(\\n        optimizer=tf.keras.optimizers.Adam(0.001),\\n        loss=tf.keras.losses.SparseCategoricalCrossentropy(from_logits=True),\\n        metrics=[tf.keras.metrics.SparseCategoricalAccuracy()],\\n    )\\n\\n    return model\\n\\n\\ndef fit_model(epochs=5):\\n    train_gen = SaccadeGenerator(x_train, y_train, (5, 5), 10)\\n    val_gen = SaccadeGenerator(x_test, y_test, (5, 5), 10)\\n\\n    model = get_model()\\n\\n    history = model.fit(\\n        train_gen, batch_size=128, validation_data=val_gen, epochs=epochs\\n    )\\n\\n    return model, history\";\n",
       "                var nbb_cells = Jupyter.notebook.get_cells();\n",
       "                for (var i = 0; i < nbb_cells.length; ++i) {\n",
       "                    if (nbb_cells[i].input_prompt_number == nbb_cell_id) {\n",
       "                        if (nbb_cells[i].get_text() == nbb_unformatted_code) {\n",
       "                             nbb_cells[i].set_text(nbb_formatted_code);\n",
       "                        }\n",
       "                        break;\n",
       "                    }\n",
       "                }\n",
       "            }, 500);\n",
       "            "
      ],
      "text/plain": [
       "<IPython.core.display.Javascript object>"
      ]
     },
     "metadata": {},
     "output_type": "display_data"
    }
   ],
   "source": [
    "def get_model() -> tf.keras.Model:\n",
    "    model = tf.keras.models.Sequential(\n",
    "        [\n",
    "            tf.keras.layers.Input(\n",
    "                shape=[\n",
    "                    10,\n",
    "                    27,\n",
    "                ],\n",
    "                batch_size=128,\n",
    "            ),\n",
    "            tf.keras.layers.LSTM(128),\n",
    "            tf.keras.layers.Dense(10),\n",
    "        ]\n",
    "    )\n",
    "\n",
    "    model.compile(\n",
    "        optimizer=tf.keras.optimizers.Adam(0.001),\n",
    "        loss=tf.keras.losses.SparseCategoricalCrossentropy(from_logits=True),\n",
    "        metrics=[tf.keras.metrics.SparseCategoricalAccuracy()],\n",
    "    )\n",
    "\n",
    "    return model\n",
    "\n",
    "\n",
    "def fit_model(epochs=5):\n",
    "    train_gen = SaccadeGenerator(x_train, y_train, (5, 5), 10)\n",
    "    val_gen = SaccadeGenerator(x_test, y_test, (5, 5), 10)\n",
    "\n",
    "    model = get_model()\n",
    "\n",
    "    history = model.fit(\n",
    "        train_gen, batch_size=128, validation_data=val_gen, epochs=epochs\n",
    "    )\n",
    "\n",
    "    return model, history"
   ]
  },
  {
   "cell_type": "code",
   "execution_count": 25,
   "id": "358ff6fb",
   "metadata": {},
   "outputs": [
    {
     "name": "stdout",
     "output_type": "stream",
     "text": [
      "Epoch 1/20\n"
     ]
    },
    {
     "name": "stderr",
     "output_type": "stream",
     "text": [
      "2023-01-27 15:12:35.316056: I tensorflow/core/grappler/optimizers/custom_graph_optimizer_registry.cc:114] Plugin optimizer for device_type GPU is enabled.\n",
      "2023-01-27 15:12:35.409946: I tensorflow/core/grappler/optimizers/custom_graph_optimizer_registry.cc:114] Plugin optimizer for device_type GPU is enabled.\n",
      "2023-01-27 15:12:35.475061: I tensorflow/core/grappler/optimizers/custom_graph_optimizer_registry.cc:114] Plugin optimizer for device_type GPU is enabled.\n"
     ]
    },
    {
     "name": "stdout",
     "output_type": "stream",
     "text": [
      "467/468 [============================>.] - ETA: 0s - loss: 2.0953 - sparse_categorical_accuracy: 0.2246"
     ]
    },
    {
     "name": "stderr",
     "output_type": "stream",
     "text": [
      "2023-01-27 15:12:49.798465: I tensorflow/core/grappler/optimizers/custom_graph_optimizer_registry.cc:114] Plugin optimizer for device_type GPU is enabled.\n",
      "2023-01-27 15:12:49.858979: I tensorflow/core/grappler/optimizers/custom_graph_optimizer_registry.cc:114] Plugin optimizer for device_type GPU is enabled.\n"
     ]
    },
    {
     "name": "stdout",
     "output_type": "stream",
     "text": [
      "468/468 [==============================] - 17s 35ms/step - loss: 2.0949 - sparse_categorical_accuracy: 0.2248 - val_loss: 1.8664 - val_sparse_categorical_accuracy: 0.3186\n",
      "Epoch 2/20\n",
      "468/468 [==============================] - 16s 35ms/step - loss: 1.7307 - sparse_categorical_accuracy: 0.3753 - val_loss: 1.5376 - val_sparse_categorical_accuracy: 0.4451\n",
      "Epoch 3/20\n",
      "468/468 [==============================] - 16s 35ms/step - loss: 1.4286 - sparse_categorical_accuracy: 0.4939 - val_loss: 1.3430 - val_sparse_categorical_accuracy: 0.5287\n",
      "Epoch 4/20\n",
      "468/468 [==============================] - 16s 34ms/step - loss: 1.2502 - sparse_categorical_accuracy: 0.5626 - val_loss: 1.1588 - val_sparse_categorical_accuracy: 0.5998\n",
      "Epoch 5/20\n",
      "468/468 [==============================] - 16s 34ms/step - loss: 1.1464 - sparse_categorical_accuracy: 0.6030 - val_loss: 1.1786 - val_sparse_categorical_accuracy: 0.5894\n",
      "Epoch 6/20\n",
      "468/468 [==============================] - 16s 35ms/step - loss: 1.0808 - sparse_categorical_accuracy: 0.6251 - val_loss: 1.0317 - val_sparse_categorical_accuracy: 0.6410\n",
      "Epoch 7/20\n",
      "468/468 [==============================] - 16s 35ms/step - loss: 1.0289 - sparse_categorical_accuracy: 0.6431 - val_loss: 0.9744 - val_sparse_categorical_accuracy: 0.6592\n",
      "Epoch 8/20\n",
      "468/468 [==============================] - 16s 34ms/step - loss: 0.9871 - sparse_categorical_accuracy: 0.6602 - val_loss: 1.0044 - val_sparse_categorical_accuracy: 0.6524\n",
      "Epoch 9/20\n",
      "468/468 [==============================] - 16s 34ms/step - loss: 0.9554 - sparse_categorical_accuracy: 0.6675 - val_loss: 0.9184 - val_sparse_categorical_accuracy: 0.6838\n",
      "Epoch 10/20\n",
      "468/468 [==============================] - 16s 34ms/step - loss: 0.9239 - sparse_categorical_accuracy: 0.6790 - val_loss: 0.8824 - val_sparse_categorical_accuracy: 0.6918\n",
      "Epoch 11/20\n",
      "468/468 [==============================] - 16s 35ms/step - loss: 0.9040 - sparse_categorical_accuracy: 0.6888 - val_loss: 0.8636 - val_sparse_categorical_accuracy: 0.7052\n",
      "Epoch 12/20\n",
      "468/468 [==============================] - 16s 35ms/step - loss: 0.8731 - sparse_categorical_accuracy: 0.6990 - val_loss: 0.8464 - val_sparse_categorical_accuracy: 0.7088\n",
      "Epoch 13/20\n",
      "468/468 [==============================] - 16s 35ms/step - loss: 0.8500 - sparse_categorical_accuracy: 0.7055 - val_loss: 0.8326 - val_sparse_categorical_accuracy: 0.7184\n",
      "Epoch 14/20\n",
      "468/468 [==============================] - 16s 35ms/step - loss: 0.8323 - sparse_categorical_accuracy: 0.7136 - val_loss: 0.8210 - val_sparse_categorical_accuracy: 0.7184\n",
      "Epoch 15/20\n",
      "468/468 [==============================] - 16s 35ms/step - loss: 0.8125 - sparse_categorical_accuracy: 0.7204 - val_loss: 0.8039 - val_sparse_categorical_accuracy: 0.7234\n",
      "Epoch 16/20\n",
      "468/468 [==============================] - 16s 35ms/step - loss: 0.7958 - sparse_categorical_accuracy: 0.7270 - val_loss: 0.7793 - val_sparse_categorical_accuracy: 0.7338\n",
      "Epoch 17/20\n",
      "468/468 [==============================] - 16s 35ms/step - loss: 0.7846 - sparse_categorical_accuracy: 0.7301 - val_loss: 0.7470 - val_sparse_categorical_accuracy: 0.7432\n",
      "Epoch 18/20\n",
      "468/468 [==============================] - 16s 35ms/step - loss: 0.7671 - sparse_categorical_accuracy: 0.7365 - val_loss: 0.7312 - val_sparse_categorical_accuracy: 0.7459\n",
      "Epoch 19/20\n",
      "468/468 [==============================] - 16s 35ms/step - loss: 0.7540 - sparse_categorical_accuracy: 0.7424 - val_loss: 0.7086 - val_sparse_categorical_accuracy: 0.7575\n",
      "Epoch 20/20\n",
      "468/468 [==============================] - 16s 35ms/step - loss: 0.7432 - sparse_categorical_accuracy: 0.7462 - val_loss: 0.7186 - val_sparse_categorical_accuracy: 0.7535\n"
     ]
    },
    {
     "data": {
      "application/javascript": [
       "\n",
       "            setTimeout(function() {\n",
       "                var nbb_cell_id = 25;\n",
       "                var nbb_unformatted_code = \"model, history = fit_model(20)\";\n",
       "                var nbb_formatted_code = \"model, history = fit_model(20)\";\n",
       "                var nbb_cells = Jupyter.notebook.get_cells();\n",
       "                for (var i = 0; i < nbb_cells.length; ++i) {\n",
       "                    if (nbb_cells[i].input_prompt_number == nbb_cell_id) {\n",
       "                        if (nbb_cells[i].get_text() == nbb_unformatted_code) {\n",
       "                             nbb_cells[i].set_text(nbb_formatted_code);\n",
       "                        }\n",
       "                        break;\n",
       "                    }\n",
       "                }\n",
       "            }, 500);\n",
       "            "
      ],
      "text/plain": [
       "<IPython.core.display.Javascript object>"
      ]
     },
     "metadata": {},
     "output_type": "display_data"
    }
   ],
   "source": [
    "model, history = fit_model(20)"
   ]
  },
  {
   "cell_type": "code",
   "execution_count": 20,
   "id": "9ae6d91f",
   "metadata": {},
   "outputs": [
    {
     "name": "stdout",
     "output_type": "stream",
     "text": [
      "78/78 [==============================] - 1s 16ms/step - loss: 0.3044 - sparse_categorical_accuracy: 0.9006\n"
     ]
    },
    {
     "data": {
      "text/plain": [
       "[0.3043769896030426, 0.9006410241127014]"
      ]
     },
     "execution_count": 20,
     "metadata": {},
     "output_type": "execute_result"
    },
    {
     "data": {
      "application/javascript": [
       "\n",
       "            setTimeout(function() {\n",
       "                var nbb_cell_id = 20;\n",
       "                var nbb_unformatted_code = \"val_gen = SaccadeGenerator(x_test, y_test, (10, 10), 5)\\n\\nmodel.evaluate(val_gen)\";\n",
       "                var nbb_formatted_code = \"val_gen = SaccadeGenerator(x_test, y_test, (10, 10), 5)\\n\\nmodel.evaluate(val_gen)\";\n",
       "                var nbb_cells = Jupyter.notebook.get_cells();\n",
       "                for (var i = 0; i < nbb_cells.length; ++i) {\n",
       "                    if (nbb_cells[i].input_prompt_number == nbb_cell_id) {\n",
       "                        if (nbb_cells[i].get_text() == nbb_unformatted_code) {\n",
       "                             nbb_cells[i].set_text(nbb_formatted_code);\n",
       "                        }\n",
       "                        break;\n",
       "                    }\n",
       "                }\n",
       "            }, 500);\n",
       "            "
      ],
      "text/plain": [
       "<IPython.core.display.Javascript object>"
      ]
     },
     "metadata": {},
     "output_type": "display_data"
    }
   ],
   "source": [
    "val_gen = SaccadeGenerator(x_test, y_test, (10, 10), 5)\n",
    "\n",
    "model.evaluate(val_gen)"
   ]
  },
  {
   "cell_type": "code",
   "execution_count": null,
   "id": "e23170ed",
   "metadata": {},
   "outputs": [],
   "source": []
  },
  {
   "cell_type": "code",
   "execution_count": null,
   "id": "3c03340b",
   "metadata": {},
   "outputs": [],
   "source": []
  }
 ],
 "metadata": {
  "kernelspec": {
   "display_name": "Python 3 (ipykernel)",
   "language": "python",
   "name": "python3"
  },
  "language_info": {
   "codemirror_mode": {
    "name": "ipython",
    "version": 3
   },
   "file_extension": ".py",
   "mimetype": "text/x-python",
   "name": "python",
   "nbconvert_exporter": "python",
   "pygments_lexer": "ipython3",
   "version": "3.10.6"
  }
 },
 "nbformat": 4,
 "nbformat_minor": 5
}
