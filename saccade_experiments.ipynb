{
 "cells": [
  {
   "cell_type": "code",
   "execution_count": 1,
   "id": "a3b5505f",
   "metadata": {},
   "outputs": [
    {
     "data": {
      "application/javascript": [
       "\n",
       "            setTimeout(function() {\n",
       "                var nbb_cell_id = 1;\n",
       "                var nbb_unformatted_code = \"%load_ext nb_black\\n%load_ext autoreload\\n%autoreload 2\";\n",
       "                var nbb_formatted_code = \"%load_ext nb_black\\n%load_ext autoreload\\n%autoreload 2\";\n",
       "                var nbb_cells = Jupyter.notebook.get_cells();\n",
       "                for (var i = 0; i < nbb_cells.length; ++i) {\n",
       "                    if (nbb_cells[i].input_prompt_number == nbb_cell_id) {\n",
       "                        if (nbb_cells[i].get_text() == nbb_unformatted_code) {\n",
       "                             nbb_cells[i].set_text(nbb_formatted_code);\n",
       "                        }\n",
       "                        break;\n",
       "                    }\n",
       "                }\n",
       "            }, 500);\n",
       "            "
      ],
      "text/plain": [
       "<IPython.core.display.Javascript object>"
      ]
     },
     "metadata": {},
     "output_type": "display_data"
    }
   ],
   "source": [
    "%load_ext nb_black\n",
    "%load_ext autoreload\n",
    "%autoreload 2"
   ]
  },
  {
   "cell_type": "code",
   "execution_count": 2,
   "id": "9e46456b",
   "metadata": {},
   "outputs": [
    {
     "data": {
      "application/javascript": [
       "\n",
       "            setTimeout(function() {\n",
       "                var nbb_cell_id = 2;\n",
       "                var nbb_unformatted_code = \"from util.data import load_mnist, encode_data\\nimport numpy as np\\nimport matplotlib.pyplot as plt\\nfrom algorithms.SaccadeGenerator import SaccadeGenerator\\nimport tensorflow as tf\\nfrom tqdm.notebook import tqdm\";\n",
       "                var nbb_formatted_code = \"from util.data import load_mnist, encode_data\\nimport numpy as np\\nimport matplotlib.pyplot as plt\\nfrom algorithms.SaccadeGenerator import SaccadeGenerator\\nimport tensorflow as tf\\nfrom tqdm.notebook import tqdm\";\n",
       "                var nbb_cells = Jupyter.notebook.get_cells();\n",
       "                for (var i = 0; i < nbb_cells.length; ++i) {\n",
       "                    if (nbb_cells[i].input_prompt_number == nbb_cell_id) {\n",
       "                        if (nbb_cells[i].get_text() == nbb_unformatted_code) {\n",
       "                             nbb_cells[i].set_text(nbb_formatted_code);\n",
       "                        }\n",
       "                        break;\n",
       "                    }\n",
       "                }\n",
       "            }, 500);\n",
       "            "
      ],
      "text/plain": [
       "<IPython.core.display.Javascript object>"
      ]
     },
     "metadata": {},
     "output_type": "display_data"
    }
   ],
   "source": [
    "from util.data import load_mnist, encode_data\n",
    "import numpy as np\n",
    "import matplotlib.pyplot as plt\n",
    "from algorithms.SaccadeGenerator import SaccadeGenerator\n",
    "import tensorflow as tf\n",
    "from tqdm.notebook import tqdm"
   ]
  },
  {
   "cell_type": "code",
   "execution_count": 3,
   "id": "dd17163a",
   "metadata": {},
   "outputs": [
    {
     "data": {
      "application/javascript": [
       "\n",
       "            setTimeout(function() {\n",
       "                var nbb_cell_id = 3;\n",
       "                var nbb_unformatted_code = \"(x_train, y_train), (x_test, y_test) = load_mnist()\\nx_train, x_test = encode_data(x_train, x_test)\";\n",
       "                var nbb_formatted_code = \"(x_train, y_train), (x_test, y_test) = load_mnist()\\nx_train, x_test = encode_data(x_train, x_test)\";\n",
       "                var nbb_cells = Jupyter.notebook.get_cells();\n",
       "                for (var i = 0; i < nbb_cells.length; ++i) {\n",
       "                    if (nbb_cells[i].input_prompt_number == nbb_cell_id) {\n",
       "                        if (nbb_cells[i].get_text() == nbb_unformatted_code) {\n",
       "                             nbb_cells[i].set_text(nbb_formatted_code);\n",
       "                        }\n",
       "                        break;\n",
       "                    }\n",
       "                }\n",
       "            }, 500);\n",
       "            "
      ],
      "text/plain": [
       "<IPython.core.display.Javascript object>"
      ]
     },
     "metadata": {},
     "output_type": "display_data"
    }
   ],
   "source": [
    "(x_train, y_train), (x_test, y_test) = load_mnist()\n",
    "x_train, x_test = encode_data(x_train, x_test)"
   ]
  },
  {
   "cell_type": "code",
   "execution_count": 4,
   "id": "6560a53f",
   "metadata": {},
   "outputs": [
    {
     "data": {
      "text/plain": [
       "(60000, 28, 28)"
      ]
     },
     "execution_count": 4,
     "metadata": {},
     "output_type": "execute_result"
    },
    {
     "data": {
      "application/javascript": [
       "\n",
       "            setTimeout(function() {\n",
       "                var nbb_cell_id = 4;\n",
       "                var nbb_unformatted_code = \"x_train.shape\";\n",
       "                var nbb_formatted_code = \"x_train.shape\";\n",
       "                var nbb_cells = Jupyter.notebook.get_cells();\n",
       "                for (var i = 0; i < nbb_cells.length; ++i) {\n",
       "                    if (nbb_cells[i].input_prompt_number == nbb_cell_id) {\n",
       "                        if (nbb_cells[i].get_text() == nbb_unformatted_code) {\n",
       "                             nbb_cells[i].set_text(nbb_formatted_code);\n",
       "                        }\n",
       "                        break;\n",
       "                    }\n",
       "                }\n",
       "            }, 500);\n",
       "            "
      ],
      "text/plain": [
       "<IPython.core.display.Javascript object>"
      ]
     },
     "metadata": {},
     "output_type": "display_data"
    }
   ],
   "source": [
    "x_train.shape"
   ]
  },
  {
   "cell_type": "code",
   "execution_count": 5,
   "id": "2a96cefb",
   "metadata": {},
   "outputs": [
    {
     "data": {
      "text/plain": [
       "<matplotlib.image.AxesImage at 0x17b47b7f0>"
      ]
     },
     "execution_count": 5,
     "metadata": {},
     "output_type": "execute_result"
    },
    {
     "data": {
      "image/png": "[encoded data removed]",
      "text/plain": [
       "<Figure size 640x480 with 1 Axes>"
      ]
     },
     "metadata": {},
     "output_type": "display_data"
    },
    {
     "data": {
      "application/javascript": [
       "\n",
       "            setTimeout(function() {\n",
       "                var nbb_cell_id = 5;\n",
       "                var nbb_unformatted_code = \"plt.imshow(x_train[0])\";\n",
       "                var nbb_formatted_code = \"plt.imshow(x_train[0])\";\n",
       "                var nbb_cells = Jupyter.notebook.get_cells();\n",
       "                for (var i = 0; i < nbb_cells.length; ++i) {\n",
       "                    if (nbb_cells[i].input_prompt_number == nbb_cell_id) {\n",
       "                        if (nbb_cells[i].get_text() == nbb_unformatted_code) {\n",
       "                             nbb_cells[i].set_text(nbb_formatted_code);\n",
       "                        }\n",
       "                        break;\n",
       "                    }\n",
       "                }\n",
       "            }, 500);\n",
       "            "
      ],
      "text/plain": [
       "<IPython.core.display.Javascript object>"
      ]
     },
     "metadata": {},
     "output_type": "display_data"
    }
   ],
   "source": [
    "plt.imshow(x_train[0])"
   ]
  },
  {
   "cell_type": "code",
   "execution_count": 6,
   "id": "424b7bc4",
   "metadata": {},
   "outputs": [
    {
     "data": {
      "application/javascript": [
       "\n",
       "            setTimeout(function() {\n",
       "                var nbb_cell_id = 6;\n",
       "                var nbb_unformatted_code = \"from util.math import get_random_pool_indices\\nfrom util.plots import plot_image_with_saccade\";\n",
       "                var nbb_formatted_code = \"from util.math import get_random_pool_indices\\nfrom util.plots import plot_image_with_saccade\";\n",
       "                var nbb_cells = Jupyter.notebook.get_cells();\n",
       "                for (var i = 0; i < nbb_cells.length; ++i) {\n",
       "                    if (nbb_cells[i].input_prompt_number == nbb_cell_id) {\n",
       "                        if (nbb_cells[i].get_text() == nbb_unformatted_code) {\n",
       "                             nbb_cells[i].set_text(nbb_formatted_code);\n",
       "                        }\n",
       "                        break;\n",
       "                    }\n",
       "                }\n",
       "            }, 500);\n",
       "            "
      ],
      "text/plain": [
       "<IPython.core.display.Javascript object>"
      ]
     },
     "metadata": {},
     "output_type": "display_data"
    }
   ],
   "source": [
    "from util.math import get_random_pool_indices\n",
    "from util.plots import plot_image_with_saccade"
   ]
  },
  {
   "cell_type": "code",
   "execution_count": 7,
   "id": "da9b7240",
   "metadata": {},
   "outputs": [
    {
     "data": {
      "application/javascript": [
       "\n",
       "            setTimeout(function() {\n",
       "                var nbb_cell_id = 7;\n",
       "                var nbb_unformatted_code = \"# plot_image_with_saccade(x_train[saccades[3][\\\"data_index\\\"]], saccades[3][\\\"indices\\\"])\";\n",
       "                var nbb_formatted_code = \"# plot_image_with_saccade(x_train[saccades[3][\\\"data_index\\\"]], saccades[3][\\\"indices\\\"])\";\n",
       "                var nbb_cells = Jupyter.notebook.get_cells();\n",
       "                for (var i = 0; i < nbb_cells.length; ++i) {\n",
       "                    if (nbb_cells[i].input_prompt_number == nbb_cell_id) {\n",
       "                        if (nbb_cells[i].get_text() == nbb_unformatted_code) {\n",
       "                             nbb_cells[i].set_text(nbb_formatted_code);\n",
       "                        }\n",
       "                        break;\n",
       "                    }\n",
       "                }\n",
       "            }, 500);\n",
       "            "
      ],
      "text/plain": [
       "<IPython.core.display.Javascript object>"
      ]
     },
     "metadata": {},
     "output_type": "display_data"
    }
   ],
   "source": [
    "# plot_image_with_saccade(x_train[saccades[3][\"data_index\"]], saccades[3][\"indices\"])"
   ]
  },
  {
   "cell_type": "code",
   "execution_count": 8,
   "id": "bb70aef2",
   "metadata": {},
   "outputs": [
    {
     "data": {
      "application/javascript": [
       "\n",
       "            setTimeout(function() {\n",
       "                var nbb_cell_id = 8;\n",
       "                var nbb_unformatted_code = \"def get_model() -> tf.keras.Model:\\n    model = tf.keras.models.Sequential(\\n        [\\n            tf.keras.layers.Input(\\n                shape=[\\n                    5,\\n                    128,\\n                ],\\n                batch_size=128,\\n            ),\\n            tf.keras.layers.LSTM(128, return_sequences=True),\\n            tf.keras.layers.LSTM(64),\\n            tf.keras.layers.Dense(10),\\n        ]\\n    )\\n\\n    model.compile(\\n        optimizer=tf.keras.optimizers.Adam(0.001),\\n        loss=tf.keras.losses.SparseCategoricalCrossentropy(from_logits=True),\\n        metrics=[tf.keras.metrics.SparseCategoricalAccuracy()],\\n    )\\n\\n    return model\\n\\n\\ndef fit_model(epochs=5):\\n    train_gen = SaccadeGenerator(x_train, y_train, (5, 5), 10)\\n    val_gen = SaccadeGenerator(x_test, y_test, (5, 5), 10)\\n\\n    model = get_model()\\n\\n    history = model.fit(\\n        train_gen, batch_size=128, validation_data=val_gen, epochs=epochs\\n    )\\n\\n    return model, history\";\n",
       "                var nbb_formatted_code = \"def get_model() -> tf.keras.Model:\\n    model = tf.keras.models.Sequential(\\n        [\\n            tf.keras.layers.Input(\\n                shape=[\\n                    5,\\n                    128,\\n                ],\\n                batch_size=128,\\n            ),\\n            tf.keras.layers.LSTM(128, return_sequences=True),\\n            tf.keras.layers.LSTM(64),\\n            tf.keras.layers.Dense(10),\\n        ]\\n    )\\n\\n    model.compile(\\n        optimizer=tf.keras.optimizers.Adam(0.001),\\n        loss=tf.keras.losses.SparseCategoricalCrossentropy(from_logits=True),\\n        metrics=[tf.keras.metrics.SparseCategoricalAccuracy()],\\n    )\\n\\n    return model\\n\\n\\ndef fit_model(epochs=5):\\n    train_gen = SaccadeGenerator(x_train, y_train, (5, 5), 10)\\n    val_gen = SaccadeGenerator(x_test, y_test, (5, 5), 10)\\n\\n    model = get_model()\\n\\n    history = model.fit(\\n        train_gen, batch_size=128, validation_data=val_gen, epochs=epochs\\n    )\\n\\n    return model, history\";\n",
       "                var nbb_cells = Jupyter.notebook.get_cells();\n",
       "                for (var i = 0; i < nbb_cells.length; ++i) {\n",
       "                    if (nbb_cells[i].input_prompt_number == nbb_cell_id) {\n",
       "                        if (nbb_cells[i].get_text() == nbb_unformatted_code) {\n",
       "                             nbb_cells[i].set_text(nbb_formatted_code);\n",
       "                        }\n",
       "                        break;\n",
       "                    }\n",
       "                }\n",
       "            }, 500);\n",
       "            "
      ],
      "text/plain": [
       "<IPython.core.display.Javascript object>"
      ]
     },
     "metadata": {},
     "output_type": "display_data"
    }
   ],
   "source": [
    "def get_model() -> tf.keras.Model:\n",
    "    model = tf.keras.models.Sequential(\n",
    "        [\n",
    "            tf.keras.layers.Input(\n",
    "                shape=[\n",
    "                    5,\n",
    "                    128,\n",
    "                ],\n",
    "                batch_size=128,\n",
    "            ),\n",
    "            tf.keras.layers.LSTM(128, return_sequences=True),\n",
    "            tf.keras.layers.LSTM(64),\n",
    "            tf.keras.layers.Dense(10),\n",
    "        ]\n",
    "    )\n",
    "\n",
    "    model.compile(\n",
    "        optimizer=tf.keras.optimizers.Adam(0.001),\n",
    "        loss=tf.keras.losses.SparseCategoricalCrossentropy(from_logits=True),\n",
    "        metrics=[tf.keras.metrics.SparseCategoricalAccuracy()],\n",
    "    )\n",
    "\n",
    "    return model\n",
    "\n",
    "\n",
    "def fit_model(epochs=5):\n",
    "    train_gen = SaccadeGenerator(x_train, y_train, (5, 5), 10)\n",
    "    val_gen = SaccadeGenerator(x_test, y_test, (5, 5), 10)\n",
    "\n",
    "    model = get_model()\n",
    "\n",
    "    history = model.fit(\n",
    "        train_gen, batch_size=128, validation_data=val_gen, epochs=epochs\n",
    "    )\n",
    "\n",
    "    return model, history"
   ]
  },
  {
   "cell_type": "code",
   "execution_count": null,
   "id": "c82b007c",
   "metadata": {},
   "outputs": [],
   "source": [
    "model, history = fit_model(20)"
   ]
  },
  {
   "cell_type": "code",
   "execution_count": null,
   "id": "e95838ea",
   "metadata": {},
   "outputs": [],
   "source": [
    "val_gen = SaccadeGenerator(x_test, y_test, (5, 5), 10)\n",
    "\n",
    "model.evaluate(val_gen)"
   ]
  },
  {
   "cell_type": "code",
   "execution_count": null,
   "id": "2d9c6a82",
   "metadata": {},
   "outputs": [],
   "source": []
  },
  {
   "cell_type": "code",
   "execution_count": 9,
   "id": "45c26687",
   "metadata": {},
   "outputs": [
    {
     "data": {
      "application/javascript": [
       "\n",
       "            setTimeout(function() {\n",
       "                var nbb_cell_id = 9;\n",
       "                var nbb_unformatted_code = \"from algorithms import SpatialPooler\";\n",
       "                var nbb_formatted_code = \"from algorithms import SpatialPooler\";\n",
       "                var nbb_cells = Jupyter.notebook.get_cells();\n",
       "                for (var i = 0; i < nbb_cells.length; ++i) {\n",
       "                    if (nbb_cells[i].input_prompt_number == nbb_cell_id) {\n",
       "                        if (nbb_cells[i].get_text() == nbb_unformatted_code) {\n",
       "                             nbb_cells[i].set_text(nbb_formatted_code);\n",
       "                        }\n",
       "                        break;\n",
       "                    }\n",
       "                }\n",
       "            }, 500);\n",
       "            "
      ],
      "text/plain": [
       "<IPython.core.display.Javascript object>"
      ]
     },
     "metadata": {},
     "output_type": "display_data"
    }
   ],
   "source": [
    "from algorithms import SpatialPooler"
   ]
  },
  {
   "cell_type": "code",
   "execution_count": 23,
   "id": "bee0937b",
   "metadata": {},
   "outputs": [
    {
     "data": {
      "application/javascript": [
       "\n",
       "            setTimeout(function() {\n",
       "                var nbb_cell_id = 23;\n",
       "                var nbb_unformatted_code = \"COLUMN_SPARSITY = 0.2\\nCOLUMN_DIM = (128,)\\nINP_SHAPE = (25, 1)\\n\\nsp = SpatialPooler(\\n    input_dimension=INP_SHAPE,\\n    column_dimension=COLUMN_DIM,\\n    connection_sparsity=1,\\n    permanence_threshold=0.5,\\n    stimulus_threshold=1.0,\\n    permanence_increment=0.1,\\n    permanence_decrement=0.02,\\n    column_sparsity=COLUMN_SPARSITY,\\n    potential_pool_radius=5,\\n    boost_strength=50,\\n)\";\n",
       "                var nbb_formatted_code = \"COLUMN_SPARSITY = 0.2\\nCOLUMN_DIM = (128,)\\nINP_SHAPE = (25, 1)\\n\\nsp = SpatialPooler(\\n    input_dimension=INP_SHAPE,\\n    column_dimension=COLUMN_DIM,\\n    connection_sparsity=1,\\n    permanence_threshold=0.5,\\n    stimulus_threshold=1.0,\\n    permanence_increment=0.1,\\n    permanence_decrement=0.02,\\n    column_sparsity=COLUMN_SPARSITY,\\n    potential_pool_radius=5,\\n    boost_strength=50,\\n)\";\n",
       "                var nbb_cells = Jupyter.notebook.get_cells();\n",
       "                for (var i = 0; i < nbb_cells.length; ++i) {\n",
       "                    if (nbb_cells[i].input_prompt_number == nbb_cell_id) {\n",
       "                        if (nbb_cells[i].get_text() == nbb_unformatted_code) {\n",
       "                             nbb_cells[i].set_text(nbb_formatted_code);\n",
       "                        }\n",
       "                        break;\n",
       "                    }\n",
       "                }\n",
       "            }, 500);\n",
       "            "
      ],
      "text/plain": [
       "<IPython.core.display.Javascript object>"
      ]
     },
     "metadata": {},
     "output_type": "display_data"
    }
   ],
   "source": [
    "COLUMN_SPARSITY = 0.2\n",
    "COLUMN_DIM = (128,)\n",
    "INP_SHAPE = (25, 1)\n",
    "\n",
    "sp = SpatialPooler(\n",
    "    input_dimension=INP_SHAPE,\n",
    "    column_dimension=COLUMN_DIM,\n",
    "    connection_sparsity=1,\n",
    "    permanence_threshold=0.5,\n",
    "    stimulus_threshold=1.0,\n",
    "    permanence_increment=0.1,\n",
    "    permanence_decrement=0.02,\n",
    "    column_sparsity=COLUMN_SPARSITY,\n",
    "    potential_pool_radius=5,\n",
    "    boost_strength=50,\n",
    ")"
   ]
  },
  {
   "cell_type": "code",
   "execution_count": 24,
   "id": "ca2d6461",
   "metadata": {},
   "outputs": [
    {
     "data": {
      "application/javascript": [
       "\n",
       "            setTimeout(function() {\n",
       "                var nbb_cell_id = 24;\n",
       "                var nbb_unformatted_code = \"def get_sp_union_data(x, y, learn):\\n    train_gen = SaccadeGenerator(x, y, (5, 5), 5)\\n    activations = np.zeros(shape=(x.shape[0], 5, 128))\\n    \\n    for idx, obj in enumerate(tqdm(train_gen, total=len(train_gen))):\\n\\n        for mov_idx, movement in enumerate(obj):\\n            feature = movement['feature']\\n\\n            wc = sp.compute(feature, learn=learn)\\n            sdr = sp.top_columns_to_sdr(wc)\\n        \\n\\n            activations[idx,mov_idx] = sdr\\n    \\n    return activations, y\\n    \";\n",
       "                var nbb_formatted_code = \"def get_sp_union_data(x, y, learn):\\n    train_gen = SaccadeGenerator(x, y, (5, 5), 5)\\n    activations = np.zeros(shape=(x.shape[0], 5, 128))\\n\\n    for idx, obj in enumerate(tqdm(train_gen, total=len(train_gen))):\\n\\n        for mov_idx, movement in enumerate(obj):\\n            feature = movement[\\\"feature\\\"]\\n\\n            wc = sp.compute(feature, learn=learn)\\n            sdr = sp.top_columns_to_sdr(wc)\\n\\n            activations[idx, mov_idx] = sdr\\n\\n    return activations, y\";\n",
       "                var nbb_cells = Jupyter.notebook.get_cells();\n",
       "                for (var i = 0; i < nbb_cells.length; ++i) {\n",
       "                    if (nbb_cells[i].input_prompt_number == nbb_cell_id) {\n",
       "                        if (nbb_cells[i].get_text() == nbb_unformatted_code) {\n",
       "                             nbb_cells[i].set_text(nbb_formatted_code);\n",
       "                        }\n",
       "                        break;\n",
       "                    }\n",
       "                }\n",
       "            }, 500);\n",
       "            "
      ],
      "text/plain": [
       "<IPython.core.display.Javascript object>"
      ]
     },
     "metadata": {},
     "output_type": "display_data"
    }
   ],
   "source": [
    "def get_sp_union_data(x, y, learn):\n",
    "    train_gen = SaccadeGenerator(x, y, (5, 5), 5)\n",
    "    activations = np.zeros(shape=(x.shape[0], 5, 128))\n",
    "    \n",
    "    for idx, obj in enumerate(tqdm(train_gen, total=len(train_gen))):\n",
    "\n",
    "        for mov_idx, movement in enumerate(obj):\n",
    "            feature = movement['feature']\n",
    "\n",
    "            wc = sp.compute(feature, learn=learn)\n",
    "            sdr = sp.top_columns_to_sdr(wc)\n",
    "        \n",
    "\n",
    "            activations[idx,mov_idx] = sdr\n",
    "    \n",
    "    return activations, y\n",
    "    \n"
   ]
  },
  {
   "cell_type": "code",
   "execution_count": 25,
   "id": "c14b6069",
   "metadata": {},
   "outputs": [
    {
     "data": {
      "application/vnd.jupyter.widget-view+json": {
       "model_id": "57cae1ec53bd4acf99b516fe0a84d2d2",
       "version_major": 2,
       "version_minor": 0
      },
      "text/plain": [
       "  0%|          | 0/468 [00:00<?, ?it/s]"
      ]
     },
     "metadata": {},
     "output_type": "display_data"
    },
    {
     "data": {
      "application/vnd.jupyter.widget-view+json": {
       "model_id": "c757bda856fd45fc97137df6b6d48cb1",
       "version_major": 2,
       "version_minor": 0
      },
      "text/plain": [
       "  0%|          | 0/78 [00:00<?, ?it/s]"
      ]
     },
     "metadata": {},
     "output_type": "display_data"
    },
    {
     "data": {
      "application/javascript": [
       "\n",
       "            setTimeout(function() {\n",
       "                var nbb_cell_id = 25;\n",
       "                var nbb_unformatted_code = \"act, y = get_sp_union_data(x_train, y_train, True)\\nact_test, y_test = get_sp_union_data(x_test, y_test, False)\";\n",
       "                var nbb_formatted_code = \"act, y = get_sp_union_data(x_train, y_train, True)\\nact_test, y_test = get_sp_union_data(x_test, y_test, False)\";\n",
       "                var nbb_cells = Jupyter.notebook.get_cells();\n",
       "                for (var i = 0; i < nbb_cells.length; ++i) {\n",
       "                    if (nbb_cells[i].input_prompt_number == nbb_cell_id) {\n",
       "                        if (nbb_cells[i].get_text() == nbb_unformatted_code) {\n",
       "                             nbb_cells[i].set_text(nbb_formatted_code);\n",
       "                        }\n",
       "                        break;\n",
       "                    }\n",
       "                }\n",
       "            }, 500);\n",
       "            "
      ],
      "text/plain": [
       "<IPython.core.display.Javascript object>"
      ]
     },
     "metadata": {},
     "output_type": "display_data"
    }
   ],
   "source": [
    "act, y = get_sp_union_data(x_train, y_train, True)\n",
    "act_test, y_test = get_sp_union_data(x_test, y_test, False)"
   ]
  },
  {
   "cell_type": "code",
   "execution_count": 26,
   "id": "76800b1f",
   "metadata": {},
   "outputs": [
    {
     "data": {
      "application/javascript": [
       "\n",
       "            setTimeout(function() {\n",
       "                var nbb_cell_id = 26;\n",
       "                var nbb_unformatted_code = \"ds_train = tf.data.Dataset.from_tensor_slices((act, y))\\nds_test = tf.data.Dataset.from_tensor_slices((act_test, y_test))\\n\\nds_train = ds_train.batch(128, drop_remainder=True)\\nds_test = ds_test.batch(128, drop_remainder=True)\";\n",
       "                var nbb_formatted_code = \"ds_train = tf.data.Dataset.from_tensor_slices((act, y))\\nds_test = tf.data.Dataset.from_tensor_slices((act_test, y_test))\\n\\nds_train = ds_train.batch(128, drop_remainder=True)\\nds_test = ds_test.batch(128, drop_remainder=True)\";\n",
       "                var nbb_cells = Jupyter.notebook.get_cells();\n",
       "                for (var i = 0; i < nbb_cells.length; ++i) {\n",
       "                    if (nbb_cells[i].input_prompt_number == nbb_cell_id) {\n",
       "                        if (nbb_cells[i].get_text() == nbb_unformatted_code) {\n",
       "                             nbb_cells[i].set_text(nbb_formatted_code);\n",
       "                        }\n",
       "                        break;\n",
       "                    }\n",
       "                }\n",
       "            }, 500);\n",
       "            "
      ],
      "text/plain": [
       "<IPython.core.display.Javascript object>"
      ]
     },
     "metadata": {},
     "output_type": "display_data"
    }
   ],
   "source": [
    "ds_train = tf.data.Dataset.from_tensor_slices((act, y))\n",
    "ds_test = tf.data.Dataset.from_tensor_slices((act_test, y_test))\n",
    "\n",
    "ds_train = ds_train.batch(128, drop_remainder=True)\n",
    "ds_test = ds_test.batch(128, drop_remainder=True)"
   ]
  },
  {
   "cell_type": "code",
   "execution_count": 27,
   "id": "d58c9b5f",
   "metadata": {},
   "outputs": [
    {
     "name": "stdout",
     "output_type": "stream",
     "text": [
      "Epoch 1/20\n"
     ]
    },
    {
     "name": "stderr",
     "output_type": "stream",
     "text": [
      "2023-01-28 22:42:41.481342: I tensorflow/core/grappler/optimizers/custom_graph_optimizer_registry.cc:114] Plugin optimizer for device_type GPU is enabled.\n",
      "2023-01-28 22:42:41.595592: I tensorflow/core/grappler/optimizers/custom_graph_optimizer_registry.cc:114] Plugin optimizer for device_type GPU is enabled.\n",
      "2023-01-28 22:42:41.647965: I tensorflow/core/grappler/optimizers/custom_graph_optimizer_registry.cc:114] Plugin optimizer for device_type GPU is enabled.\n"
     ]
    },
    {
     "name": "stdout",
     "output_type": "stream",
     "text": [
      "\r",
      "  1/468 [..............................] - ETA: 12:17 - loss: 2.3041 - sparse_categorical_accuracy: 0.0781"
     ]
    },
    {
     "name": "stderr",
     "output_type": "stream",
     "text": [
      "2023-01-28 22:42:41.709360: I tensorflow/core/grappler/optimizers/custom_graph_optimizer_registry.cc:114] Plugin optimizer for device_type GPU is enabled.\n",
      "2023-01-28 22:42:41.789202: I tensorflow/core/grappler/optimizers/custom_graph_optimizer_registry.cc:114] Plugin optimizer for device_type GPU is enabled.\n"
     ]
    },
    {
     "name": "stdout",
     "output_type": "stream",
     "text": [
      "464/468 [============================>.] - ETA: 0s - loss: 2.3020 - sparse_categorical_accuracy: 0.1094"
     ]
    },
    {
     "name": "stderr",
     "output_type": "stream",
     "text": [
      "2023-01-28 22:42:47.921445: I tensorflow/core/grappler/optimizers/custom_graph_optimizer_registry.cc:114] Plugin optimizer for device_type GPU is enabled.\n",
      "2023-01-28 22:42:47.970695: I tensorflow/core/grappler/optimizers/custom_graph_optimizer_registry.cc:114] Plugin optimizer for device_type GPU is enabled.\n",
      "2023-01-28 22:42:48.010445: I tensorflow/core/grappler/optimizers/custom_graph_optimizer_registry.cc:114] Plugin optimizer for device_type GPU is enabled.\n"
     ]
    },
    {
     "name": "stdout",
     "output_type": "stream",
     "text": [
      "468/468 [==============================] - 8s 14ms/step - loss: 2.3020 - sparse_categorical_accuracy: 0.1093 - val_loss: 2.3016 - val_sparse_categorical_accuracy: 0.1076\n",
      "Epoch 2/20\n",
      "468/468 [==============================] - 6s 13ms/step - loss: 2.2997 - sparse_categorical_accuracy: 0.1145 - val_loss: 2.3024 - val_sparse_categorical_accuracy: 0.1067\n",
      "Epoch 3/20\n",
      "468/468 [==============================] - 6s 13ms/step - loss: 2.2982 - sparse_categorical_accuracy: 0.1162 - val_loss: 2.3045 - val_sparse_categorical_accuracy: 0.1038\n",
      "Epoch 4/20\n",
      "468/468 [==============================] - 6s 13ms/step - loss: 2.2958 - sparse_categorical_accuracy: 0.1200 - val_loss: 2.3088 - val_sparse_categorical_accuracy: 0.0997\n",
      "Epoch 5/20\n",
      "468/468 [==============================] - 6s 13ms/step - loss: 2.2914 - sparse_categorical_accuracy: 0.1251 - val_loss: 2.3149 - val_sparse_categorical_accuracy: 0.1016\n",
      "Epoch 6/20\n",
      "468/468 [==============================] - 6s 13ms/step - loss: 2.2833 - sparse_categorical_accuracy: 0.1331 - val_loss: 2.3248 - val_sparse_categorical_accuracy: 0.0992\n",
      "Epoch 7/20\n",
      "468/468 [==============================] - 6s 13ms/step - loss: 2.2687 - sparse_categorical_accuracy: 0.1462 - val_loss: 2.3401 - val_sparse_categorical_accuracy: 0.0981\n",
      "Epoch 8/20\n",
      "468/468 [==============================] - 6s 13ms/step - loss: 2.2460 - sparse_categorical_accuracy: 0.1609 - val_loss: 2.3618 - val_sparse_categorical_accuracy: 0.0968\n",
      "Epoch 9/20\n",
      "468/468 [==============================] - 6s 13ms/step - loss: 2.2145 - sparse_categorical_accuracy: 0.1792 - val_loss: 2.3909 - val_sparse_categorical_accuracy: 0.0953\n",
      "Epoch 10/20\n",
      "468/468 [==============================] - 6s 13ms/step - loss: 2.1747 - sparse_categorical_accuracy: 0.2024 - val_loss: 2.4278 - val_sparse_categorical_accuracy: 0.0981\n",
      "Epoch 11/20\n",
      "468/468 [==============================] - 6s 13ms/step - loss: 2.1285 - sparse_categorical_accuracy: 0.2243 - val_loss: 2.4709 - val_sparse_categorical_accuracy: 0.1002\n",
      "Epoch 12/20\n",
      "468/468 [==============================] - 6s 13ms/step - loss: 2.0778 - sparse_categorical_accuracy: 0.2487 - val_loss: 2.5192 - val_sparse_categorical_accuracy: 0.0976\n",
      "Epoch 13/20\n",
      "468/468 [==============================] - 6s 13ms/step - loss: 2.0239 - sparse_categorical_accuracy: 0.2735 - val_loss: 2.5724 - val_sparse_categorical_accuracy: 0.0976\n",
      "Epoch 14/20\n",
      "468/468 [==============================] - 6s 13ms/step - loss: 1.9679 - sparse_categorical_accuracy: 0.2981 - val_loss: 2.6300 - val_sparse_categorical_accuracy: 0.0980\n",
      "Epoch 15/20\n",
      "468/468 [==============================] - 6s 13ms/step - loss: 1.9109 - sparse_categorical_accuracy: 0.3218 - val_loss: 2.6903 - val_sparse_categorical_accuracy: 0.0993\n",
      "Epoch 16/20\n",
      "468/468 [==============================] - 6s 13ms/step - loss: 1.8540 - sparse_categorical_accuracy: 0.3475 - val_loss: 2.7526 - val_sparse_categorical_accuracy: 0.1008\n",
      "Epoch 17/20\n",
      "468/468 [==============================] - 6s 13ms/step - loss: 1.7973 - sparse_categorical_accuracy: 0.3689 - val_loss: 2.8188 - val_sparse_categorical_accuracy: 0.1011\n",
      "Epoch 18/20\n",
      "468/468 [==============================] - 6s 13ms/step - loss: 1.7411 - sparse_categorical_accuracy: 0.3915 - val_loss: 2.8885 - val_sparse_categorical_accuracy: 0.1003\n",
      "Epoch 19/20\n",
      "468/468 [==============================] - 6s 13ms/step - loss: 1.6859 - sparse_categorical_accuracy: 0.4145 - val_loss: 2.9593 - val_sparse_categorical_accuracy: 0.1003\n",
      "Epoch 20/20\n",
      "468/468 [==============================] - 6s 13ms/step - loss: 1.6321 - sparse_categorical_accuracy: 0.4364 - val_loss: 3.0290 - val_sparse_categorical_accuracy: 0.1009\n"
     ]
    },
    {
     "data": {
      "application/javascript": [
       "\n",
       "            setTimeout(function() {\n",
       "                var nbb_cell_id = 27;\n",
       "                var nbb_unformatted_code = \"model = get_model()\\nhistory = model.fit(ds_train, batch_size=128, validation_data=ds_test, epochs=20)\";\n",
       "                var nbb_formatted_code = \"model = get_model()\\nhistory = model.fit(ds_train, batch_size=128, validation_data=ds_test, epochs=20)\";\n",
       "                var nbb_cells = Jupyter.notebook.get_cells();\n",
       "                for (var i = 0; i < nbb_cells.length; ++i) {\n",
       "                    if (nbb_cells[i].input_prompt_number == nbb_cell_id) {\n",
       "                        if (nbb_cells[i].get_text() == nbb_unformatted_code) {\n",
       "                             nbb_cells[i].set_text(nbb_formatted_code);\n",
       "                        }\n",
       "                        break;\n",
       "                    }\n",
       "                }\n",
       "            }, 500);\n",
       "            "
      ],
      "text/plain": [
       "<IPython.core.display.Javascript object>"
      ]
     },
     "metadata": {},
     "output_type": "display_data"
    }
   ],
   "source": [
    "model = get_model()\n",
    "history = model.fit(ds_train, batch_size=128, validation_data=ds_test, epochs=20)"
   ]
  },
  {
   "cell_type": "code",
   "execution_count": null,
   "id": "0e523bd1",
   "metadata": {},
   "outputs": [],
   "source": []
  }
 ],
 "metadata": {
  "kernelspec": {
   "display_name": "Python 3 (ipykernel)",
   "language": "python",
   "name": "python3"
  },
  "language_info": {
   "codemirror_mode": {
    "name": "ipython",
    "version": 3
   },
   "file_extension": ".py",
   "mimetype": "text/x-python",
   "name": "python",
   "nbconvert_exporter": "python",
   "pygments_lexer": "ipython3",
   "version": "3.10.6"
  }
 },
 "nbformat": 4,
 "nbformat_minor": 5
}
