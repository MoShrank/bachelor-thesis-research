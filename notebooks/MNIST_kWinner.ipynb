{
 "cells": [
  {
   "cell_type": "code",
   "execution_count": 1,
   "id": "7222220a",
   "metadata": {
    "scrolled": true
   },
   "outputs": [
    {
     "data": {
      "application/javascript": [
       "\n",
       "            setTimeout(function() {\n",
       "                var nbb_cell_id = 1;\n",
       "                var nbb_unformatted_code = \"%load_ext nb_black\";\n",
       "                var nbb_formatted_code = \"%load_ext nb_black\";\n",
       "                var nbb_cells = Jupyter.notebook.get_cells();\n",
       "                for (var i = 0; i < nbb_cells.length; ++i) {\n",
       "                    if (nbb_cells[i].input_prompt_number == nbb_cell_id) {\n",
       "                        if (nbb_cells[i].get_text() == nbb_unformatted_code) {\n",
       "                             nbb_cells[i].set_text(nbb_formatted_code);\n",
       "                        }\n",
       "                        break;\n",
       "                    }\n",
       "                }\n",
       "            }, 500);\n",
       "            "
      ],
      "text/plain": [
       "<IPython.core.display.Javascript object>"
      ]
     },
     "metadata": {},
     "output_type": "display_data"
    }
   ],
   "source": [
    "%load_ext nb_black"
   ]
  },
  {
   "cell_type": "code",
   "execution_count": 2,
   "id": "98eff422",
   "metadata": {},
   "outputs": [
    {
     "data": {
      "application/javascript": [
       "\n",
       "            setTimeout(function() {\n",
       "                var nbb_cell_id = 2;\n",
       "                var nbb_unformatted_code = \"%load_ext autoreload\\n%autoreload 2\";\n",
       "                var nbb_formatted_code = \"%load_ext autoreload\\n%autoreload 2\";\n",
       "                var nbb_cells = Jupyter.notebook.get_cells();\n",
       "                for (var i = 0; i < nbb_cells.length; ++i) {\n",
       "                    if (nbb_cells[i].input_prompt_number == nbb_cell_id) {\n",
       "                        if (nbb_cells[i].get_text() == nbb_unformatted_code) {\n",
       "                             nbb_cells[i].set_text(nbb_formatted_code);\n",
       "                        }\n",
       "                        break;\n",
       "                    }\n",
       "                }\n",
       "            }, 500);\n",
       "            "
      ],
      "text/plain": [
       "<IPython.core.display.Javascript object>"
      ]
     },
     "metadata": {},
     "output_type": "display_data"
    }
   ],
   "source": [
    "%load_ext autoreload\n",
    "%autoreload 2"
   ]
  },
  {
   "cell_type": "code",
   "execution_count": 69,
   "id": "47c4ccab",
   "metadata": {},
   "outputs": [
    {
     "name": "stderr",
     "output_type": "stream",
     "text": [
      "[autoreload of traitlets.traitlets failed: Traceback (most recent call last):\n",
      "  File \"/Users/moritzeich/.pyenv/versions/3.10.6/envs/tensorflow/lib/python3.10/site-packages/IPython/extensions/autoreload.py\", line 257, in check\n",
      "    superreload(m, reload, self.old_objects)\n",
      "  File \"/Users/moritzeich/.pyenv/versions/3.10.6/envs/tensorflow/lib/python3.10/site-packages/IPython/extensions/autoreload.py\", line 480, in superreload\n",
      "    update_generic(old_obj, new_obj)\n",
      "  File \"/Users/moritzeich/.pyenv/versions/3.10.6/envs/tensorflow/lib/python3.10/site-packages/IPython/extensions/autoreload.py\", line 377, in update_generic\n",
      "    update(a, b)\n",
      "  File \"/Users/moritzeich/.pyenv/versions/3.10.6/envs/tensorflow/lib/python3.10/site-packages/IPython/extensions/autoreload.py\", line 345, in update_class\n",
      "    update_instances(old, new)\n",
      "  File \"/Users/moritzeich/.pyenv/versions/3.10.6/envs/tensorflow/lib/python3.10/site-packages/IPython/extensions/autoreload.py\", line 303, in update_instances\n",
      "    object.__setattr__(ref, \"__class__\", new)\n",
      "TypeError: can't apply this __setattr__ to MetaHasDescriptors object\n",
      "]\n",
      "[autoreload of pkg_resources failed: Traceback (most recent call last):\n",
      "  File \"/Users/moritzeich/.pyenv/versions/3.10.6/envs/tensorflow/lib/python3.10/site-packages/IPython/extensions/autoreload.py\", line 257, in check\n",
      "    superreload(m, reload, self.old_objects)\n",
      "  File \"/Users/moritzeich/.pyenv/versions/3.10.6/envs/tensorflow/lib/python3.10/site-packages/IPython/extensions/autoreload.py\", line 455, in superreload\n",
      "    module = reload(module)\n",
      "  File \"/Users/moritzeich/.pyenv/versions/3.10.6/lib/python3.10/importlib/__init__.py\", line 169, in reload\n",
      "    _bootstrap._exec(spec, module)\n",
      "  File \"<frozen importlib._bootstrap>\", line 619, in _exec\n",
      "  File \"<frozen importlib._bootstrap_external>\", line 883, in exec_module\n",
      "  File \"<frozen importlib._bootstrap>\", line 241, in _call_with_frames_removed\n",
      "  File \"/Users/moritzeich/.pyenv/versions/3.10.6/envs/tensorflow/lib/python3.10/site-packages/pkg_resources/__init__.py\", line 3095, in <module>\n",
      "    class RequirementParseError(packaging.requirements.InvalidRequirement):\n",
      "AttributeError: module 'pkg_resources._vendor.packaging' has no attribute 'requirements'\n",
      "]\n",
      "[autoreload of setuptools._distutils failed: Traceback (most recent call last):\n",
      "  File \"/Users/moritzeich/.pyenv/versions/3.10.6/envs/tensorflow/lib/python3.10/site-packages/IPython/extensions/autoreload.py\", line 257, in check\n",
      "    superreload(m, reload, self.old_objects)\n",
      "  File \"/Users/moritzeich/.pyenv/versions/3.10.6/envs/tensorflow/lib/python3.10/site-packages/IPython/extensions/autoreload.py\", line 455, in superreload\n",
      "    module = reload(module)\n",
      "  File \"/Users/moritzeich/.pyenv/versions/3.10.6/lib/python3.10/importlib/__init__.py\", line 166, in reload\n",
      "    spec = module.__spec__ = _bootstrap._find_spec(name, pkgpath, target)\n",
      "  File \"<frozen importlib._bootstrap>\", line 945, in _find_spec\n",
      "  File \"/Users/moritzeich/.pyenv/versions/3.10.6/envs/tensorflow/lib/python3.10/site-packages/_distutils_hack/__init__.py\", line 97, in find_spec\n",
      "    return method()\n",
      "  File \"/Users/moritzeich/.pyenv/versions/3.10.6/envs/tensorflow/lib/python3.10/site-packages/_distutils_hack/__init__.py\", line 129, in spec_for_distutils\n",
      "    'distutils', DistutilsLoader(), origin=mod.__file__\n",
      "AttributeError: module 'distutils' has no attribute '__file__'\n",
      "]\n",
      "/Users/moritzeich/.pyenv/versions/3.10.6/envs/tensorflow/lib/python3.10/site-packages/_distutils_hack/__init__.py:18: UserWarning: Distutils was imported before Setuptools, but importing Setuptools also replaces the `distutils` module in `sys.modules`. This may lead to undesirable behaviors or errors. To avoid these issues, avoid using distutils directly, ensure that setuptools is installed in the traditional way (e.g. not an editable install), and/or make sure that setuptools is always imported before distutils.\n",
      "  warnings.warn(\n",
      "/Users/moritzeich/.pyenv/versions/3.10.6/envs/tensorflow/lib/python3.10/site-packages/_distutils_hack/__init__.py:33: UserWarning: Setuptools is replacing distutils.\n",
      "  warnings.warn(\"Setuptools is replacing distutils.\")\n",
      "[autoreload of setuptools._reqs failed: Traceback (most recent call last):\n",
      "  File \"/Users/moritzeich/.pyenv/versions/3.10.6/envs/tensorflow/lib/python3.10/site-packages/IPython/extensions/autoreload.py\", line 257, in check\n",
      "    superreload(m, reload, self.old_objects)\n",
      "  File \"/Users/moritzeich/.pyenv/versions/3.10.6/envs/tensorflow/lib/python3.10/site-packages/IPython/extensions/autoreload.py\", line 455, in superreload\n",
      "    module = reload(module)\n",
      "  File \"/Users/moritzeich/.pyenv/versions/3.10.6/lib/python3.10/importlib/__init__.py\", line 169, in reload\n",
      "    _bootstrap._exec(spec, module)\n",
      "  File \"<frozen importlib._bootstrap>\", line 619, in _exec\n",
      "  File \"<frozen importlib._bootstrap_external>\", line 883, in exec_module\n",
      "  File \"<frozen importlib._bootstrap>\", line 241, in _call_with_frames_removed\n",
      "  File \"/Users/moritzeich/.pyenv/versions/3.10.6/envs/tensorflow/lib/python3.10/site-packages/setuptools/_reqs.py\", line 1, in <module>\n",
      "    import setuptools.extern.jaraco.text as text\n",
      "ImportError: cannot import name 'text' from 'setuptools._vendor.jaraco' (/Users/moritzeich/.pyenv/versions/3.10.6/envs/tensorflow/lib/python3.10/site-packages/setuptools/_vendor/jaraco/__init__.py)\n",
      "]\n",
      "[autoreload of setuptools failed: Traceback (most recent call last):\n",
      "  File \"/Users/moritzeich/.pyenv/versions/3.10.6/envs/tensorflow/lib/python3.10/site-packages/IPython/extensions/autoreload.py\", line 257, in check\n",
      "    superreload(m, reload, self.old_objects)\n",
      "  File \"/Users/moritzeich/.pyenv/versions/3.10.6/envs/tensorflow/lib/python3.10/site-packages/IPython/extensions/autoreload.py\", line 455, in superreload\n",
      "    module = reload(module)\n",
      "  File \"/Users/moritzeich/.pyenv/versions/3.10.6/lib/python3.10/importlib/__init__.py\", line 169, in reload\n",
      "    _bootstrap._exec(spec, module)\n",
      "  File \"<frozen importlib._bootstrap>\", line 619, in _exec\n",
      "  File \"<frozen importlib._bootstrap_external>\", line 883, in exec_module\n",
      "  File \"<frozen importlib._bootstrap>\", line 241, in _call_with_frames_removed\n",
      "  File \"/Users/moritzeich/.pyenv/versions/3.10.6/envs/tensorflow/lib/python3.10/site-packages/setuptools/__init__.py\", line 36, in <module>\n",
      "    __version__ = setuptools.version.__version__\n",
      "AttributeError: module 'setuptools' has no attribute 'version'\n",
      "]\n",
      "[autoreload of numpy.matrixlib failed: Traceback (most recent call last):\n",
      "  File \"/Users/moritzeich/.pyenv/versions/3.10.6/envs/tensorflow/lib/python3.10/site-packages/IPython/extensions/autoreload.py\", line 257, in check\n",
      "    superreload(m, reload, self.old_objects)\n",
      "  File \"/Users/moritzeich/.pyenv/versions/3.10.6/envs/tensorflow/lib/python3.10/site-packages/IPython/extensions/autoreload.py\", line 455, in superreload\n",
      "    module = reload(module)\n",
      "  File \"/Users/moritzeich/.pyenv/versions/3.10.6/lib/python3.10/importlib/__init__.py\", line 169, in reload\n",
      "    _bootstrap._exec(spec, module)\n",
      "  File \"<frozen importlib._bootstrap>\", line 619, in _exec\n",
      "  File \"<frozen importlib._bootstrap_external>\", line 883, in exec_module\n",
      "  File \"<frozen importlib._bootstrap>\", line 241, in _call_with_frames_removed\n",
      "  File \"/Users/moritzeich/.pyenv/versions/3.10.6/envs/tensorflow/lib/python3.10/site-packages/numpy/matrixlib/__init__.py\", line 6, in <module>\n",
      "    __all__ = defmatrix.__all__\n",
      "NameError: name 'defmatrix' is not defined\n",
      "]\n",
      "[autoreload of numpy.lib failed: Traceback (most recent call last):\n",
      "  File \"/Users/moritzeich/.pyenv/versions/3.10.6/envs/tensorflow/lib/python3.10/site-packages/IPython/extensions/autoreload.py\", line 257, in check\n",
      "    superreload(m, reload, self.old_objects)\n",
      "  File \"/Users/moritzeich/.pyenv/versions/3.10.6/envs/tensorflow/lib/python3.10/site-packages/IPython/extensions/autoreload.py\", line 455, in superreload\n",
      "    module = reload(module)\n",
      "  File \"/Users/moritzeich/.pyenv/versions/3.10.6/lib/python3.10/importlib/__init__.py\", line 169, in reload\n",
      "    _bootstrap._exec(spec, module)\n",
      "  File \"<frozen importlib._bootstrap>\", line 619, in _exec\n",
      "  File \"<frozen importlib._bootstrap_external>\", line 883, in exec_module\n",
      "  File \"<frozen importlib._bootstrap>\", line 241, in _call_with_frames_removed\n",
      "  File \"/Users/moritzeich/.pyenv/versions/3.10.6/envs/tensorflow/lib/python3.10/site-packages/numpy/lib/__init__.py\", line 44, in <module>\n",
      "    __all__ += type_check.__all__\n",
      "NameError: name 'type_check' is not defined\n",
      "]\n"
     ]
    },
    {
     "name": "stderr",
     "output_type": "stream",
     "text": [
      "[autoreload of numpy failed: Traceback (most recent call last):\n",
      "  File \"/Users/moritzeich/.pyenv/versions/3.10.6/envs/tensorflow/lib/python3.10/site-packages/IPython/extensions/autoreload.py\", line 257, in check\n",
      "    superreload(m, reload, self.old_objects)\n",
      "  File \"/Users/moritzeich/.pyenv/versions/3.10.6/envs/tensorflow/lib/python3.10/site-packages/IPython/extensions/autoreload.py\", line 455, in superreload\n",
      "    module = reload(module)\n",
      "  File \"/Users/moritzeich/.pyenv/versions/3.10.6/lib/python3.10/importlib/__init__.py\", line 169, in reload\n",
      "    _bootstrap._exec(spec, module)\n",
      "  File \"<frozen importlib._bootstrap>\", line 619, in _exec\n",
      "  File \"<frozen importlib._bootstrap_external>\", line 883, in exec_module\n",
      "  File \"<frozen importlib._bootstrap>\", line 241, in _call_with_frames_removed\n",
      "  File \"/Users/moritzeich/.pyenv/versions/3.10.6/envs/tensorflow/lib/python3.10/site-packages/numpy/__init__.py\", line 191, in <module>\n",
      "    core.numerictypes.typeDict,\n",
      "  File \"/Users/moritzeich/.pyenv/versions/3.10.6/envs/tensorflow/lib/python3.10/site-packages/numpy/core/__init__.py\", line 161, in __getattr__\n",
      "    raise AttributeError(f\"Module {__name__!r} has no attribute {name!r}\")\n",
      "AttributeError: Module 'numpy.core' has no attribute 'numerictypes'\n",
      "]\n",
      "[autoreload of google.protobuf.descriptor failed: Traceback (most recent call last):\n",
      "  File \"/Users/moritzeich/.pyenv/versions/3.10.6/envs/tensorflow/lib/python3.10/site-packages/IPython/extensions/autoreload.py\", line 257, in check\n",
      "    superreload(m, reload, self.old_objects)\n",
      "  File \"/Users/moritzeich/.pyenv/versions/3.10.6/envs/tensorflow/lib/python3.10/site-packages/IPython/extensions/autoreload.py\", line 455, in superreload\n",
      "    module = reload(module)\n",
      "  File \"/Users/moritzeich/.pyenv/versions/3.10.6/lib/python3.10/importlib/__init__.py\", line 169, in reload\n",
      "    _bootstrap._exec(spec, module)\n",
      "  File \"<frozen importlib._bootstrap>\", line 619, in _exec\n",
      "  File \"<frozen importlib._bootstrap_external>\", line 883, in exec_module\n",
      "  File \"<frozen importlib._bootstrap>\", line 241, in _call_with_frames_removed\n",
      "  File \"/Users/moritzeich/.pyenv/versions/3.10.6/envs/tensorflow/lib/python3.10/site-packages/google/protobuf/descriptor.py\", line 47, in <module>\n",
      "    from google.protobuf.pyext import _message\n",
      "ImportError: dlopen(/Users/moritzeich/.pyenv/versions/3.10.6/envs/tensorflow/lib/python3.10/site-packages/google/protobuf/pyext/_message.cpython-310-darwin.so, 0x0002): symbol not found in flat namespace '__ZNK6google8protobuf10TextFormat21FastFieldValuePrinter19PrintMessageContentERKNS0_7MessageEiibPNS1_17BaseTextGeneratorE'\n",
      "]\n",
      "[autoreload of google.protobuf.internal.containers failed: Traceback (most recent call last):\n",
      "  File \"/Users/moritzeich/.pyenv/versions/3.10.6/envs/tensorflow/lib/python3.10/site-packages/IPython/extensions/autoreload.py\", line 257, in check\n",
      "    superreload(m, reload, self.old_objects)\n",
      "  File \"/Users/moritzeich/.pyenv/versions/3.10.6/envs/tensorflow/lib/python3.10/site-packages/IPython/extensions/autoreload.py\", line 480, in superreload\n",
      "    update_generic(old_obj, new_obj)\n",
      "  File \"/Users/moritzeich/.pyenv/versions/3.10.6/envs/tensorflow/lib/python3.10/site-packages/IPython/extensions/autoreload.py\", line 377, in update_generic\n",
      "    update(a, b)\n",
      "  File \"/Users/moritzeich/.pyenv/versions/3.10.6/envs/tensorflow/lib/python3.10/site-packages/IPython/extensions/autoreload.py\", line 345, in update_class\n",
      "    update_instances(old, new)\n",
      "  File \"/Users/moritzeich/.pyenv/versions/3.10.6/envs/tensorflow/lib/python3.10/site-packages/IPython/extensions/autoreload.py\", line 303, in update_instances\n",
      "    object.__setattr__(ref, \"__class__\", new)\n",
      "TypeError: __class__ assignment: 'RepeatedScalarFieldContainer' object layout differs from 'RepeatedScalarFieldContainer'\n",
      "]\n",
      "[autoreload of google.protobuf.internal.python_message failed: Traceback (most recent call last):\n",
      "  File \"/Users/moritzeich/.pyenv/versions/3.10.6/envs/tensorflow/lib/python3.10/site-packages/IPython/extensions/autoreload.py\", line 257, in check\n",
      "    superreload(m, reload, self.old_objects)\n",
      "  File \"/Users/moritzeich/.pyenv/versions/3.10.6/envs/tensorflow/lib/python3.10/site-packages/IPython/extensions/autoreload.py\", line 480, in superreload\n",
      "    update_generic(old_obj, new_obj)\n",
      "  File \"/Users/moritzeich/.pyenv/versions/3.10.6/envs/tensorflow/lib/python3.10/site-packages/IPython/extensions/autoreload.py\", line 377, in update_generic\n",
      "    update(a, b)\n",
      "  File \"/Users/moritzeich/.pyenv/versions/3.10.6/envs/tensorflow/lib/python3.10/site-packages/IPython/extensions/autoreload.py\", line 345, in update_class\n",
      "    update_instances(old, new)\n",
      "  File \"/Users/moritzeich/.pyenv/versions/3.10.6/envs/tensorflow/lib/python3.10/site-packages/IPython/extensions/autoreload.py\", line 303, in update_instances\n",
      "    object.__setattr__(ref, \"__class__\", new)\n",
      "TypeError: can't apply this __setattr__ to GeneratedProtocolMessageType object\n",
      "]\n",
      "[autoreload of google.protobuf.message_factory failed: Traceback (most recent call last):\n",
      "  File \"/Users/moritzeich/.pyenv/versions/3.10.6/envs/tensorflow/lib/python3.10/site-packages/IPython/extensions/autoreload.py\", line 257, in check\n",
      "    superreload(m, reload, self.old_objects)\n",
      "  File \"/Users/moritzeich/.pyenv/versions/3.10.6/envs/tensorflow/lib/python3.10/site-packages/IPython/extensions/autoreload.py\", line 455, in superreload\n",
      "    module = reload(module)\n",
      "  File \"/Users/moritzeich/.pyenv/versions/3.10.6/lib/python3.10/importlib/__init__.py\", line 169, in reload\n",
      "    _bootstrap._exec(spec, module)\n",
      "  File \"<frozen importlib._bootstrap>\", line 619, in _exec\n",
      "  File \"<frozen importlib._bootstrap_external>\", line 883, in exec_module\n",
      "  File \"<frozen importlib._bootstrap>\", line 241, in _call_with_frames_removed\n",
      "  File \"/Users/moritzeich/.pyenv/versions/3.10.6/envs/tensorflow/lib/python3.10/site-packages/google/protobuf/message_factory.py\", line 47, in <module>\n",
      "    from google.protobuf.pyext import cpp_message as message_impl\n",
      "  File \"/Users/moritzeich/.pyenv/versions/3.10.6/envs/tensorflow/lib/python3.10/site-packages/google/protobuf/pyext/cpp_message.py\", line 39, in <module>\n",
      "    from google.protobuf.pyext import _message\n",
      "ImportError: dlopen(/Users/moritzeich/.pyenv/versions/3.10.6/envs/tensorflow/lib/python3.10/site-packages/google/protobuf/pyext/_message.cpython-310-darwin.so, 0x0002): symbol not found in flat namespace '__ZNK6google8protobuf10TextFormat21FastFieldValuePrinter19PrintMessageContentERKNS0_7MessageEiibPNS1_17BaseTextGeneratorE'\n",
      "]\n",
      "[autoreload of google.protobuf.descriptor_pb2 failed: Traceback (most recent call last):\n",
      "  File \"/Users/moritzeich/.pyenv/versions/3.10.6/envs/tensorflow/lib/python3.10/site-packages/IPython/extensions/autoreload.py\", line 257, in check\n",
      "    superreload(m, reload, self.old_objects)\n",
      "  File \"/Users/moritzeich/.pyenv/versions/3.10.6/envs/tensorflow/lib/python3.10/site-packages/IPython/extensions/autoreload.py\", line 455, in superreload\n",
      "    module = reload(module)\n",
      "  File \"/Users/moritzeich/.pyenv/versions/3.10.6/lib/python3.10/importlib/__init__.py\", line 169, in reload\n",
      "    _bootstrap._exec(spec, module)\n",
      "  File \"<frozen importlib._bootstrap>\", line 619, in _exec\n",
      "  File \"<frozen importlib._bootstrap_external>\", line 883, in exec_module\n",
      "  File \"<frozen importlib._bootstrap>\", line 241, in _call_with_frames_removed\n",
      "  File \"/Users/moritzeich/.pyenv/versions/3.10.6/envs/tensorflow/lib/python3.10/site-packages/google/protobuf/descriptor_pb2.py\", line 284, in <module>\n",
      "    _descriptor.FieldDescriptor(\n",
      "  File \"/Users/moritzeich/.pyenv/versions/3.10.6/envs/tensorflow/lib/python3.10/site-packages/google/protobuf/descriptor.py\", line 605, in __init__\n",
      "    self._cdescriptor = _message.default_pool.FindFieldByName(full_name)\n",
      "NameError: name '_message' is not defined\n",
      "]\n",
      "[autoreload of google.protobuf.any_pb2 failed: Traceback (most recent call last):\n",
      "  File \"/Users/moritzeich/.pyenv/versions/3.10.6/envs/tensorflow/lib/python3.10/site-packages/IPython/extensions/autoreload.py\", line 257, in check\n",
      "    superreload(m, reload, self.old_objects)\n",
      "  File \"/Users/moritzeich/.pyenv/versions/3.10.6/envs/tensorflow/lib/python3.10/site-packages/IPython/extensions/autoreload.py\", line 455, in superreload\n",
      "    module = reload(module)\n",
      "  File \"/Users/moritzeich/.pyenv/versions/3.10.6/lib/python3.10/importlib/__init__.py\", line 169, in reload\n",
      "    _bootstrap._exec(spec, module)\n",
      "  File \"<frozen importlib._bootstrap>\", line 619, in _exec\n",
      "  File \"<frozen importlib._bootstrap_external>\", line 883, in exec_module\n",
      "  File \"<frozen importlib._bootstrap>\", line 241, in _call_with_frames_removed\n",
      "  File \"/Users/moritzeich/.pyenv/versions/3.10.6/envs/tensorflow/lib/python3.10/site-packages/google/protobuf/any_pb2.py\", line 17, in <module>\n",
      "    DESCRIPTOR = _descriptor_pool.Default().AddSerializedFile(b'\\n\\x19google/protobuf/any.proto\\x12\\x0fgoogle.protobuf\\\"&\\n\\x03\\x41ny\\x12\\x10\\n\\x08type_url\\x18\\x01 \\x01(\\t\\x12\\r\\n\\x05value\\x18\\x02 \\x01(\\x0c\\x42v\\n\\x13\\x63om.google.protobufB\\x08\\x41nyProtoP\\x01Z,google.golang.org/protobuf/types/known/anypb\\xa2\\x02\\x03GPB\\xaa\\x02\\x1eGoogle.Protobuf.WellKnownTypesb\\x06proto3')\n",
      "  File \"/Users/moritzeich/.pyenv/versions/3.10.6/envs/tensorflow/lib/python3.10/site-packages/google/protobuf/descriptor_pool.py\", line 219, in AddSerializedFile\n",
      "    file_desc = self._ConvertFileProtoToFileDescriptor(file_desc_proto)\n",
      "  File \"/Users/moritzeich/.pyenv/versions/3.10.6/envs/tensorflow/lib/python3.10/site-packages/google/protobuf/descriptor_pool.py\", line 774, in _ConvertFileProtoToFileDescriptor\n",
      "    message_desc = self._ConvertMessageDescriptor(\n",
      "  File \"/Users/moritzeich/.pyenv/versions/3.10.6/envs/tensorflow/lib/python3.10/site-packages/google/protobuf/descriptor_pool.py\", line 864, in _ConvertMessageDescriptor\n",
      "    fields = [self._MakeFieldDescriptor(field, desc_name, index, file_desc)\n",
      "NameError: name '_message' is not defined\n",
      "]\n",
      "[autoreload of google.protobuf.wrappers_pb2 failed: Traceback (most recent call last):\n",
      "  File \"/Users/moritzeich/.pyenv/versions/3.10.6/envs/tensorflow/lib/python3.10/site-packages/IPython/extensions/autoreload.py\", line 257, in check\n",
      "    superreload(m, reload, self.old_objects)\n",
      "  File \"/Users/moritzeich/.pyenv/versions/3.10.6/envs/tensorflow/lib/python3.10/site-packages/IPython/extensions/autoreload.py\", line 455, in superreload\n",
      "    module = reload(module)\n",
      "  File \"/Users/moritzeich/.pyenv/versions/3.10.6/lib/python3.10/importlib/__init__.py\", line 169, in reload\n",
      "    _bootstrap._exec(spec, module)\n",
      "  File \"<frozen importlib._bootstrap>\", line 619, in _exec\n",
      "  File \"<frozen importlib._bootstrap_external>\", line 883, in exec_module\n",
      "  File \"<frozen importlib._bootstrap>\", line 241, in _call_with_frames_removed\n",
      "  File \"/Users/moritzeich/.pyenv/versions/3.10.6/envs/tensorflow/lib/python3.10/site-packages/google/protobuf/wrappers_pb2.py\", line 17, in <module>\n",
      "    DESCRIPTOR = _descriptor_pool.Default().AddSerializedFile(b'\\n\\x1egoogle/protobuf/wrappers.proto\\x12\\x0fgoogle.protobuf\\\"\\x1c\\n\\x0b\\x44oubleValue\\x12\\r\\n\\x05value\\x18\\x01 \\x01(\\x01\\\"\\x1b\\n\\nFloatValue\\x12\\r\\n\\x05value\\x18\\x01 \\x01(\\x02\\\"\\x1b\\n\\nInt64Value\\x12\\r\\n\\x05value\\x18\\x01 \\x01(\\x03\\\"\\x1c\\n\\x0bUInt64Value\\x12\\r\\n\\x05value\\x18\\x01 \\x01(\\x04\\\"\\x1b\\n\\nInt32Value\\x12\\r\\n\\x05value\\x18\\x01 \\x01(\\x05\\\"\\x1c\\n\\x0bUInt32Value\\x12\\r\\n\\x05value\\x18\\x01 \\x01(\\r\\\"\\x1a\\n\\tBoolValue\\x12\\r\\n\\x05value\\x18\\x01 \\x01(\\x08\\\"\\x1c\\n\\x0bStringValue\\x12\\r\\n\\x05value\\x18\\x01 \\x01(\\t\\\"\\x1b\\n\\nBytesValue\\x12\\r\\n\\x05value\\x18\\x01 \\x01(\\x0c\\x42\\x83\\x01\\n\\x13\\x63om.google.protobufB\\rWrappersProtoP\\x01Z1google.golang.org/protobuf/types/known/wrapperspb\\xf8\\x01\\x01\\xa2\\x02\\x03GPB\\xaa\\x02\\x1eGoogle.Protobuf.WellKnownTypesb\\x06proto3')\n",
      "  File \"/Users/moritzeich/.pyenv/versions/3.10.6/envs/tensorflow/lib/python3.10/site-packages/google/protobuf/descriptor_pool.py\", line 219, in AddSerializedFile\n",
      "    file_desc = self._ConvertFileProtoToFileDescriptor(file_desc_proto)\n",
      "  File \"/Users/moritzeich/.pyenv/versions/3.10.6/envs/tensorflow/lib/python3.10/site-packages/google/protobuf/descriptor_pool.py\", line 774, in _ConvertFileProtoToFileDescriptor\n",
      "    message_desc = self._ConvertMessageDescriptor(\n",
      "  File \"/Users/moritzeich/.pyenv/versions/3.10.6/envs/tensorflow/lib/python3.10/site-packages/google/protobuf/descriptor_pool.py\", line 864, in _ConvertMessageDescriptor\n",
      "    fields = [self._MakeFieldDescriptor(field, desc_name, index, file_desc)\n",
      "NameError: name '_message' is not defined\n",
      "]\n"
     ]
    },
    {
     "data": {
      "application/javascript": [
       "\n",
       "            setTimeout(function() {\n",
       "                var nbb_cell_id = 69;\n",
       "                var nbb_unformatted_code = \"import tensorflow as tf\\nimport tensorflow_datasets as tfds\\nfrom layers.kWTA import KWTA\\nimport matplotlib.pyplot as plt\\nimport numpy as np\\nimport itertools\\nfrom tqdm.notebook import tqdm\\nimport pandas as pd\\nimport seaborn as sns\";\n",
       "                var nbb_formatted_code = \"import tensorflow as tf\\nimport tensorflow_datasets as tfds\\nfrom layers.kWTA import KWTA\\nimport matplotlib.pyplot as plt\\nimport numpy as np\\nimport itertools\\nfrom tqdm.notebook import tqdm\\nimport pandas as pd\\nimport seaborn as sns\";\n",
       "                var nbb_cells = Jupyter.notebook.get_cells();\n",
       "                for (var i = 0; i < nbb_cells.length; ++i) {\n",
       "                    if (nbb_cells[i].input_prompt_number == nbb_cell_id) {\n",
       "                        if (nbb_cells[i].get_text() == nbb_unformatted_code) {\n",
       "                             nbb_cells[i].set_text(nbb_formatted_code);\n",
       "                        }\n",
       "                        break;\n",
       "                    }\n",
       "                }\n",
       "            }, 500);\n",
       "            "
      ],
      "text/plain": [
       "<IPython.core.display.Javascript object>"
      ]
     },
     "metadata": {},
     "output_type": "display_data"
    }
   ],
   "source": [
    "import tensorflow as tf\n",
    "import tensorflow_datasets as tfds\n",
    "from layers.kWTA import KWTA\n",
    "import matplotlib.pyplot as plt\n",
    "import numpy as np\n",
    "import itertools\n",
    "from tqdm.notebook import tqdm\n",
    "import pandas as pd\n",
    "import seaborn as sns"
   ]
  },
  {
   "cell_type": "code",
   "execution_count": 4,
   "id": "9ff29759",
   "metadata": {},
   "outputs": [
    {
     "data": {
      "application/javascript": [
       "\n",
       "            setTimeout(function() {\n",
       "                var nbb_cell_id = 4;\n",
       "                var nbb_unformatted_code = \"def normalize_img(image, label):\\n    \\\"\\\"\\\"Normalizes images: `uint8` -> `float32`.\\\"\\\"\\\"\\n    return tf.cast(image, tf.float32) / 255.0, label\";\n",
       "                var nbb_formatted_code = \"def normalize_img(image, label):\\n    \\\"\\\"\\\"Normalizes images: `uint8` -> `float32`.\\\"\\\"\\\"\\n    return tf.cast(image, tf.float32) / 255.0, label\";\n",
       "                var nbb_cells = Jupyter.notebook.get_cells();\n",
       "                for (var i = 0; i < nbb_cells.length; ++i) {\n",
       "                    if (nbb_cells[i].input_prompt_number == nbb_cell_id) {\n",
       "                        if (nbb_cells[i].get_text() == nbb_unformatted_code) {\n",
       "                             nbb_cells[i].set_text(nbb_formatted_code);\n",
       "                        }\n",
       "                        break;\n",
       "                    }\n",
       "                }\n",
       "            }, 500);\n",
       "            "
      ],
      "text/plain": [
       "<IPython.core.display.Javascript object>"
      ]
     },
     "metadata": {},
     "output_type": "display_data"
    }
   ],
   "source": [
    "def normalize_img(image, label):\n",
    "    \"\"\"Normalizes images: `uint8` -> `float32`.\"\"\"\n",
    "    return tf.cast(image, tf.float32) / 255.0, label"
   ]
  },
  {
   "cell_type": "code",
   "execution_count": 5,
   "id": "01655073",
   "metadata": {},
   "outputs": [
    {
     "data": {
      "application/javascript": [
       "\n",
       "            setTimeout(function() {\n",
       "                var nbb_cell_id = 5;\n",
       "                var nbb_unformatted_code = \"def load_data(noise_stddev: float):\\n    def add_noise(image, label):\\n        noise = tf.random.normal(\\n            shape=tf.shape(image), mean=0.0, stddev=noise_stddev, dtype=tf.float32\\n        )\\n        noise_img = image + noise\\n        noise_img = tf.clip_by_value(noise_img, 0.0, 1.0)\\n\\n        return noise_img, label\\n\\n    (ds_train, ds_test), ds_info = tfds.load(\\n        \\\"mnist\\\",\\n        split=[\\\"train\\\", \\\"test\\\"],\\n        shuffle_files=True,\\n        as_supervised=True,\\n        with_info=True,\\n    )\\n    ds_train = ds_train.map(normalize_img, num_parallel_calls=tf.data.AUTOTUNE)\\n    ds_train = ds_train.cache()\\n    ds_train = ds_train.shuffle(ds_info.splits[\\\"train\\\"].num_examples)\\n    ds_train = ds_train.batch(128, drop_remainder=True)\\n    ds_train = ds_train.prefetch(tf.data.AUTOTUNE)\\n\\n    ds_test = ds_test.map(normalize_img, num_parallel_calls=tf.data.AUTOTUNE)\\n    ds_test = ds_test.map(add_noise, num_parallel_calls=tf.data.AUTOTUNE)\\n    ds_test = ds_test.batch(128, drop_remainder=True)\\n    ds_test = ds_test.cache()\\n    ds_test = ds_test.prefetch(tf.data.AUTOTUNE)\\n\\n    return ds_train, ds_test\";\n",
       "                var nbb_formatted_code = \"def load_data(noise_stddev: float):\\n    def add_noise(image, label):\\n        noise = tf.random.normal(\\n            shape=tf.shape(image), mean=0.0, stddev=noise_stddev, dtype=tf.float32\\n        )\\n        noise_img = image + noise\\n        noise_img = tf.clip_by_value(noise_img, 0.0, 1.0)\\n\\n        return noise_img, label\\n\\n    (ds_train, ds_test), ds_info = tfds.load(\\n        \\\"mnist\\\",\\n        split=[\\\"train\\\", \\\"test\\\"],\\n        shuffle_files=True,\\n        as_supervised=True,\\n        with_info=True,\\n    )\\n    ds_train = ds_train.map(normalize_img, num_parallel_calls=tf.data.AUTOTUNE)\\n    ds_train = ds_train.cache()\\n    ds_train = ds_train.shuffle(ds_info.splits[\\\"train\\\"].num_examples)\\n    ds_train = ds_train.batch(128, drop_remainder=True)\\n    ds_train = ds_train.prefetch(tf.data.AUTOTUNE)\\n\\n    ds_test = ds_test.map(normalize_img, num_parallel_calls=tf.data.AUTOTUNE)\\n    ds_test = ds_test.map(add_noise, num_parallel_calls=tf.data.AUTOTUNE)\\n    ds_test = ds_test.batch(128, drop_remainder=True)\\n    ds_test = ds_test.cache()\\n    ds_test = ds_test.prefetch(tf.data.AUTOTUNE)\\n\\n    return ds_train, ds_test\";\n",
       "                var nbb_cells = Jupyter.notebook.get_cells();\n",
       "                for (var i = 0; i < nbb_cells.length; ++i) {\n",
       "                    if (nbb_cells[i].input_prompt_number == nbb_cell_id) {\n",
       "                        if (nbb_cells[i].get_text() == nbb_unformatted_code) {\n",
       "                             nbb_cells[i].set_text(nbb_formatted_code);\n",
       "                        }\n",
       "                        break;\n",
       "                    }\n",
       "                }\n",
       "            }, 500);\n",
       "            "
      ],
      "text/plain": [
       "<IPython.core.display.Javascript object>"
      ]
     },
     "metadata": {},
     "output_type": "display_data"
    }
   ],
   "source": [
    "def load_data(noise_stddev: float):\n",
    "    def add_noise(image, label):\n",
    "        noise = tf.random.normal(\n",
    "            shape=tf.shape(image), mean=0.0, stddev=noise_stddev, dtype=tf.float32\n",
    "        )\n",
    "        noise_img = image + noise\n",
    "        noise_img = tf.clip_by_value(noise_img, 0.0, 1.0)\n",
    "\n",
    "        return noise_img, label\n",
    "\n",
    "    (ds_train, ds_test), ds_info = tfds.load(\n",
    "        \"mnist\",\n",
    "        split=[\"train\", \"test\"],\n",
    "        shuffle_files=True,\n",
    "        as_supervised=True,\n",
    "        with_info=True,\n",
    "    )\n",
    "    ds_train = ds_train.map(normalize_img, num_parallel_calls=tf.data.AUTOTUNE)\n",
    "    ds_train = ds_train.cache()\n",
    "    ds_train = ds_train.shuffle(ds_info.splits[\"train\"].num_examples)\n",
    "    ds_train = ds_train.batch(128, drop_remainder=True)\n",
    "    ds_train = ds_train.prefetch(tf.data.AUTOTUNE)\n",
    "\n",
    "    ds_test = ds_test.map(normalize_img, num_parallel_calls=tf.data.AUTOTUNE)\n",
    "    ds_test = ds_test.map(add_noise, num_parallel_calls=tf.data.AUTOTUNE)\n",
    "    ds_test = ds_test.batch(128, drop_remainder=True)\n",
    "    ds_test = ds_test.cache()\n",
    "    ds_test = ds_test.prefetch(tf.data.AUTOTUNE)\n",
    "\n",
    "    return ds_train, ds_test"
   ]
  },
  {
   "cell_type": "code",
   "execution_count": 6,
   "id": "43dbcac5",
   "metadata": {},
   "outputs": [
    {
     "data": {
      "application/javascript": [
       "\n",
       "            setTimeout(function() {\n",
       "                var nbb_cell_id = 6;\n",
       "                var nbb_unformatted_code = \"def get_model(sparsity: float) -> tf.keras.Model:\\n    model = tf.keras.models.Sequential(\\n        [\\n            tf.keras.layers.Input(shape=[28, 28], batch_size=128),\\n            tf.keras.layers.Flatten(input_shape=(28, 28)),\\n            tf.keras.layers.Dense(128),\\n            KWTA(sparsity),\\n            tf.keras.layers.Dense(10),\\n        ]\\n    )\\n\\n    model.compile(\\n        optimizer=tf.keras.optimizers.Adam(0.001),\\n        loss=tf.keras.losses.SparseCategoricalCrossentropy(from_logits=True),\\n        metrics=[tf.keras.metrics.SparseCategoricalAccuracy()],\\n    )\\n\\n    return model\";\n",
       "                var nbb_formatted_code = \"def get_model(sparsity: float) -> tf.keras.Model:\\n    model = tf.keras.models.Sequential(\\n        [\\n            tf.keras.layers.Input(shape=[28, 28], batch_size=128),\\n            tf.keras.layers.Flatten(input_shape=(28, 28)),\\n            tf.keras.layers.Dense(128),\\n            KWTA(sparsity),\\n            tf.keras.layers.Dense(10),\\n        ]\\n    )\\n\\n    model.compile(\\n        optimizer=tf.keras.optimizers.Adam(0.001),\\n        loss=tf.keras.losses.SparseCategoricalCrossentropy(from_logits=True),\\n        metrics=[tf.keras.metrics.SparseCategoricalAccuracy()],\\n    )\\n\\n    return model\";\n",
       "                var nbb_cells = Jupyter.notebook.get_cells();\n",
       "                for (var i = 0; i < nbb_cells.length; ++i) {\n",
       "                    if (nbb_cells[i].input_prompt_number == nbb_cell_id) {\n",
       "                        if (nbb_cells[i].get_text() == nbb_unformatted_code) {\n",
       "                             nbb_cells[i].set_text(nbb_formatted_code);\n",
       "                        }\n",
       "                        break;\n",
       "                    }\n",
       "                }\n",
       "            }, 500);\n",
       "            "
      ],
      "text/plain": [
       "<IPython.core.display.Javascript object>"
      ]
     },
     "metadata": {},
     "output_type": "display_data"
    }
   ],
   "source": [
    "def get_model(sparsity: float) -> tf.keras.Model:\n",
    "    model = tf.keras.models.Sequential(\n",
    "        [\n",
    "            tf.keras.layers.Input(shape=[28, 28], batch_size=128),\n",
    "            tf.keras.layers.Flatten(input_shape=(28, 28)),\n",
    "            tf.keras.layers.Dense(128),\n",
    "            KWTA(sparsity),\n",
    "            tf.keras.layers.Dense(10),\n",
    "        ]\n",
    "    )\n",
    "\n",
    "    model.compile(\n",
    "        optimizer=tf.keras.optimizers.Adam(0.001),\n",
    "        loss=tf.keras.losses.SparseCategoricalCrossentropy(from_logits=True),\n",
    "        metrics=[tf.keras.metrics.SparseCategoricalAccuracy()],\n",
    "    )\n",
    "\n",
    "    return model"
   ]
  },
  {
   "cell_type": "code",
   "execution_count": 7,
   "id": "00f7b22b",
   "metadata": {},
   "outputs": [
    {
     "data": {
      "application/javascript": [
       "\n",
       "            setTimeout(function() {\n",
       "                var nbb_cell_id = 7;\n",
       "                var nbb_unformatted_code = \"def fit_model(sparsity: float, noise_stddev: float, epochs=5):\\n    ds_train, ds_test = load_data(noise_stddev)\\n    model = get_model(sparsity)\\n\\n    history = model.fit(\\n        ds_train,\\n        batch_size=128,\\n        epochs=epochs,\\n        validation_data=ds_test,\\n    )\\n\\n    return history\";\n",
       "                var nbb_formatted_code = \"def fit_model(sparsity: float, noise_stddev: float, epochs=5):\\n    ds_train, ds_test = load_data(noise_stddev)\\n    model = get_model(sparsity)\\n\\n    history = model.fit(\\n        ds_train,\\n        batch_size=128,\\n        epochs=epochs,\\n        validation_data=ds_test,\\n    )\\n\\n    return history\";\n",
       "                var nbb_cells = Jupyter.notebook.get_cells();\n",
       "                for (var i = 0; i < nbb_cells.length; ++i) {\n",
       "                    if (nbb_cells[i].input_prompt_number == nbb_cell_id) {\n",
       "                        if (nbb_cells[i].get_text() == nbb_unformatted_code) {\n",
       "                             nbb_cells[i].set_text(nbb_formatted_code);\n",
       "                        }\n",
       "                        break;\n",
       "                    }\n",
       "                }\n",
       "            }, 500);\n",
       "            "
      ],
      "text/plain": [
       "<IPython.core.display.Javascript object>"
      ]
     },
     "metadata": {},
     "output_type": "display_data"
    }
   ],
   "source": [
    "def fit_model(sparsity: float, noise_stddev: float, epochs=5):\n",
    "    ds_train, ds_test = load_data(noise_stddev)\n",
    "    model = get_model(sparsity)\n",
    "\n",
    "    history = model.fit(\n",
    "        ds_train,\n",
    "        batch_size=128,\n",
    "        epochs=epochs,\n",
    "        validation_data=ds_test,\n",
    "    )\n",
    "\n",
    "    return history"
   ]
  },
  {
   "cell_type": "code",
   "execution_count": 8,
   "id": "7d9bc274",
   "metadata": {},
   "outputs": [
    {
     "data": {
      "application/javascript": [
       "\n",
       "            setTimeout(function() {\n",
       "                var nbb_cell_id = 8;\n",
       "                var nbb_unformatted_code = \"params = {\\n    \\\"sparsity\\\": [i / 100 for i in range(0, 80, 20)],\\n    \\\"noise_stddev\\\": [i / 100 for i in range(0, 80, 20)],\\n}\\nparameters = []\\nfor name, value_range in params.items():\\n    parameters.append([(name, value) for value in value_range])\\n\\n# create cartesian product of all possible parameter configs\\ngrid = list(itertools.product(*parameters))\";\n",
       "                var nbb_formatted_code = \"params = {\\n    \\\"sparsity\\\": [i / 100 for i in range(0, 80, 20)],\\n    \\\"noise_stddev\\\": [i / 100 for i in range(0, 80, 20)],\\n}\\nparameters = []\\nfor name, value_range in params.items():\\n    parameters.append([(name, value) for value in value_range])\\n\\n# create cartesian product of all possible parameter configs\\ngrid = list(itertools.product(*parameters))\";\n",
       "                var nbb_cells = Jupyter.notebook.get_cells();\n",
       "                for (var i = 0; i < nbb_cells.length; ++i) {\n",
       "                    if (nbb_cells[i].input_prompt_number == nbb_cell_id) {\n",
       "                        if (nbb_cells[i].get_text() == nbb_unformatted_code) {\n",
       "                             nbb_cells[i].set_text(nbb_formatted_code);\n",
       "                        }\n",
       "                        break;\n",
       "                    }\n",
       "                }\n",
       "            }, 500);\n",
       "            "
      ],
      "text/plain": [
       "<IPython.core.display.Javascript object>"
      ]
     },
     "metadata": {},
     "output_type": "display_data"
    }
   ],
   "source": [
    "params = {\n",
    "    \"sparsity\": [i / 100 for i in range(0, 80, 20)],\n",
    "    \"noise_stddev\": [i / 100 for i in range(0, 80, 20)],\n",
    "}\n",
    "parameters = []\n",
    "for name, value_range in params.items():\n",
    "    parameters.append([(name, value) for value in value_range])\n",
    "\n",
    "# create cartesian product of all possible parameter configs\n",
    "grid = list(itertools.product(*parameters))"
   ]
  },
  {
   "cell_type": "code",
   "execution_count": 15,
   "id": "11dfa7b7",
   "metadata": {},
   "outputs": [
    {
     "data": {
      "application/vnd.jupyter.widget-view+json": {
       "model_id": "158bfdaa06064f06b6e19a011e89fb94",
       "version_major": 2,
       "version_minor": 0
      },
      "text/plain": [
       "  0%|          | 0/16 [00:00<?, ?it/s]"
      ]
     },
     "metadata": {},
     "output_type": "display_data"
    },
    {
     "name": "stdout",
     "output_type": "stream",
     "text": [
      "Epoch 1/5\n"
     ]
    },
    {
     "name": "stderr",
     "output_type": "stream",
     "text": [
      "2022-09-14 14:05:04.030622: I tensorflow/core/grappler/optimizers/custom_graph_optimizer_registry.cc:113] Plugin optimizer for device_type GPU is enabled.\n"
     ]
    },
    {
     "name": "stdout",
     "output_type": "stream",
     "text": [
      "464/468 [============================>.] - ETA: 0s - loss: 0.3944 - sparse_categorical_accuracy: 0.8888"
     ]
    },
    {
     "name": "stderr",
     "output_type": "stream",
     "text": [
      "2022-09-14 14:05:07.770251: I tensorflow/core/grappler/optimizers/custom_graph_optimizer_registry.cc:113] Plugin optimizer for device_type GPU is enabled.\n"
     ]
    },
    {
     "name": "stdout",
     "output_type": "stream",
     "text": [
      "468/468 [==============================] - 4s 6ms/step - loss: 0.3937 - sparse_categorical_accuracy: 0.8890 - val_loss: 0.2857 - val_sparse_categorical_accuracy: 0.9206\n",
      "Epoch 2/5\n",
      "468/468 [==============================] - 2s 5ms/step - loss: 0.2913 - sparse_categorical_accuracy: 0.9173 - val_loss: 0.2893 - val_sparse_categorical_accuracy: 0.9198\n",
      "Epoch 3/5\n",
      "468/468 [==============================] - 2s 5ms/step - loss: 0.2790 - sparse_categorical_accuracy: 0.9225 - val_loss: 0.2777 - val_sparse_categorical_accuracy: 0.9216\n",
      "Epoch 4/5\n",
      "468/468 [==============================] - 3s 5ms/step - loss: 0.2688 - sparse_categorical_accuracy: 0.9254 - val_loss: 0.2711 - val_sparse_categorical_accuracy: 0.9250\n",
      "Epoch 5/5\n",
      "468/468 [==============================] - 3s 6ms/step - loss: 0.2666 - sparse_categorical_accuracy: 0.9256 - val_loss: 0.2792 - val_sparse_categorical_accuracy: 0.9238\n",
      "Epoch 1/5\n"
     ]
    },
    {
     "name": "stderr",
     "output_type": "stream",
     "text": [
      "2022-09-14 14:05:18.097225: I tensorflow/core/grappler/optimizers/custom_graph_optimizer_registry.cc:113] Plugin optimizer for device_type GPU is enabled.\n"
     ]
    },
    {
     "name": "stdout",
     "output_type": "stream",
     "text": [
      "468/468 [==============================] - ETA: 0s - loss: 0.3936 - sparse_categorical_accuracy: 0.8874"
     ]
    },
    {
     "name": "stderr",
     "output_type": "stream",
     "text": [
      "2022-09-14 14:05:21.067797: I tensorflow/core/grappler/optimizers/custom_graph_optimizer_registry.cc:113] Plugin optimizer for device_type GPU is enabled.\n"
     ]
    },
    {
     "name": "stdout",
     "output_type": "stream",
     "text": [
      "468/468 [==============================] - 3s 5ms/step - loss: 0.3936 - sparse_categorical_accuracy: 0.8874 - val_loss: 0.7970 - val_sparse_categorical_accuracy: 0.7164\n",
      "Epoch 2/5\n",
      "468/468 [==============================] - 2s 5ms/step - loss: 0.2907 - sparse_categorical_accuracy: 0.9182 - val_loss: 1.4415 - val_sparse_categorical_accuracy: 0.5635\n",
      "Epoch 3/5\n",
      "468/468 [==============================] - 2s 5ms/step - loss: 0.2776 - sparse_categorical_accuracy: 0.9231 - val_loss: 1.6127 - val_sparse_categorical_accuracy: 0.5301\n",
      "Epoch 4/5\n",
      "468/468 [==============================] - 2s 4ms/step - loss: 0.2713 - sparse_categorical_accuracy: 0.9247 - val_loss: 1.6916 - val_sparse_categorical_accuracy: 0.5338\n",
      "Epoch 5/5\n",
      "468/468 [==============================] - 2s 4ms/step - loss: 0.2662 - sparse_categorical_accuracy: 0.9256 - val_loss: 2.3098 - val_sparse_categorical_accuracy: 0.4864\n",
      "Epoch 1/5\n"
     ]
    },
    {
     "name": "stderr",
     "output_type": "stream",
     "text": [
      "2022-09-14 14:05:30.539308: I tensorflow/core/grappler/optimizers/custom_graph_optimizer_registry.cc:113] Plugin optimizer for device_type GPU is enabled.\n"
     ]
    },
    {
     "name": "stdout",
     "output_type": "stream",
     "text": [
      "456/468 [============================>.] - ETA: 0s - loss: 0.3988 - sparse_categorical_accuracy: 0.8877"
     ]
    },
    {
     "name": "stderr",
     "output_type": "stream",
     "text": [
      "2022-09-14 14:05:33.400967: I tensorflow/core/grappler/optimizers/custom_graph_optimizer_registry.cc:113] Plugin optimizer for device_type GPU is enabled.\n"
     ]
    },
    {
     "name": "stdout",
     "output_type": "stream",
     "text": [
      "468/468 [==============================] - 3s 5ms/step - loss: 0.3965 - sparse_categorical_accuracy: 0.8882 - val_loss: 3.0895 - val_sparse_categorical_accuracy: 0.3845\n",
      "Epoch 2/5\n",
      "468/468 [==============================] - 2s 4ms/step - loss: 0.2910 - sparse_categorical_accuracy: 0.9184 - val_loss: 4.8965 - val_sparse_categorical_accuracy: 0.2984\n",
      "Epoch 3/5\n",
      "468/468 [==============================] - 2s 4ms/step - loss: 0.2779 - sparse_categorical_accuracy: 0.9222 - val_loss: 6.0345 - val_sparse_categorical_accuracy: 0.2815\n",
      "Epoch 4/5\n",
      "468/468 [==============================] - 2s 4ms/step - loss: 0.2723 - sparse_categorical_accuracy: 0.9240 - val_loss: 6.6992 - val_sparse_categorical_accuracy: 0.2508\n",
      "Epoch 5/5\n",
      "468/468 [==============================] - 2s 5ms/step - loss: 0.2651 - sparse_categorical_accuracy: 0.9264 - val_loss: 7.7748 - val_sparse_categorical_accuracy: 0.2375\n",
      "Epoch 1/5\n"
     ]
    },
    {
     "name": "stderr",
     "output_type": "stream",
     "text": [
      "2022-09-14 14:05:42.326937: I tensorflow/core/grappler/optimizers/custom_graph_optimizer_registry.cc:113] Plugin optimizer for device_type GPU is enabled.\n"
     ]
    },
    {
     "name": "stdout",
     "output_type": "stream",
     "text": [
      "465/468 [============================>.] - ETA: 0s - loss: 0.3914 - sparse_categorical_accuracy: 0.8882"
     ]
    },
    {
     "name": "stderr",
     "output_type": "stream",
     "text": [
      "2022-09-14 14:05:46.070986: I tensorflow/core/grappler/optimizers/custom_graph_optimizer_registry.cc:113] Plugin optimizer for device_type GPU is enabled.\n"
     ]
    },
    {
     "name": "stdout",
     "output_type": "stream",
     "text": [
      "468/468 [==============================] - 4s 6ms/step - loss: 0.3911 - sparse_categorical_accuracy: 0.8883 - val_loss: 6.0035 - val_sparse_categorical_accuracy: 0.2600\n",
      "Epoch 2/5\n",
      "468/468 [==============================] - 2s 5ms/step - loss: 0.2911 - sparse_categorical_accuracy: 0.9184 - val_loss: 8.7274 - val_sparse_categorical_accuracy: 0.2334\n",
      "Epoch 3/5\n",
      "468/468 [==============================] - 2s 5ms/step - loss: 0.2774 - sparse_categorical_accuracy: 0.9232 - val_loss: 9.9050 - val_sparse_categorical_accuracy: 0.2154\n",
      "Epoch 4/5\n",
      "468/468 [==============================] - 2s 5ms/step - loss: 0.2719 - sparse_categorical_accuracy: 0.9249 - val_loss: 12.5538 - val_sparse_categorical_accuracy: 0.1984\n",
      "Epoch 5/5\n",
      "468/468 [==============================] - 2s 5ms/step - loss: 0.2677 - sparse_categorical_accuracy: 0.9257 - val_loss: 12.8855 - val_sparse_categorical_accuracy: 0.1968\n",
      "Epoch 1/5\n"
     ]
    },
    {
     "name": "stderr",
     "output_type": "stream",
     "text": [
      "2022-09-14 14:05:55.683437: I tensorflow/core/grappler/optimizers/custom_graph_optimizer_registry.cc:113] Plugin optimizer for device_type GPU is enabled.\n"
     ]
    },
    {
     "name": "stdout",
     "output_type": "stream",
     "text": [
      "460/468 [============================>.] - ETA: 0s - loss: 0.3701 - sparse_categorical_accuracy: 0.8969"
     ]
    },
    {
     "name": "stderr",
     "output_type": "stream",
     "text": [
      "2022-09-14 14:06:00.221752: I tensorflow/core/grappler/optimizers/custom_graph_optimizer_registry.cc:113] Plugin optimizer for device_type GPU is enabled.\n"
     ]
    },
    {
     "name": "stdout",
     "output_type": "stream",
     "text": [
      "468/468 [==============================] - 5s 9ms/step - loss: 0.3673 - sparse_categorical_accuracy: 0.8975 - val_loss: 0.2071 - val_sparse_categorical_accuracy: 0.9411\n",
      "Epoch 2/5\n",
      "468/468 [==============================] - 3s 7ms/step - loss: 0.1757 - sparse_categorical_accuracy: 0.9497 - val_loss: 0.1514 - val_sparse_categorical_accuracy: 0.9564\n",
      "Epoch 3/5\n",
      "468/468 [==============================] - 3s 6ms/step - loss: 0.1297 - sparse_categorical_accuracy: 0.9624 - val_loss: 0.1274 - val_sparse_categorical_accuracy: 0.9617\n",
      "Epoch 4/5\n",
      "468/468 [==============================] - 3s 5ms/step - loss: 0.1062 - sparse_categorical_accuracy: 0.9682 - val_loss: 0.1124 - val_sparse_categorical_accuracy: 0.9664\n",
      "Epoch 5/5\n",
      "468/468 [==============================] - 3s 6ms/step - loss: 0.0897 - sparse_categorical_accuracy: 0.9729 - val_loss: 0.1075 - val_sparse_categorical_accuracy: 0.9680\n",
      "Epoch 1/5\n"
     ]
    },
    {
     "name": "stderr",
     "output_type": "stream",
     "text": [
      "2022-09-14 14:06:12.485307: I tensorflow/core/grappler/optimizers/custom_graph_optimizer_registry.cc:113] Plugin optimizer for device_type GPU is enabled.\n"
     ]
    },
    {
     "name": "stdout",
     "output_type": "stream",
     "text": [
      "463/468 [============================>.] - ETA: 0s - loss: 0.3652 - sparse_categorical_accuracy: 0.8985"
     ]
    },
    {
     "name": "stderr",
     "output_type": "stream",
     "text": [
      "2022-09-14 14:06:15.832364: I tensorflow/core/grappler/optimizers/custom_graph_optimizer_registry.cc:113] Plugin optimizer for device_type GPU is enabled.\n"
     ]
    },
    {
     "name": "stdout",
     "output_type": "stream",
     "text": [
      "468/468 [==============================] - 4s 6ms/step - loss: 0.3636 - sparse_categorical_accuracy: 0.8988 - val_loss: 0.5963 - val_sparse_categorical_accuracy: 0.7957\n",
      "Epoch 2/5\n",
      "468/468 [==============================] - 3s 6ms/step - loss: 0.1766 - sparse_categorical_accuracy: 0.9499 - val_loss: 0.7080 - val_sparse_categorical_accuracy: 0.7531\n",
      "Epoch 3/5\n",
      "468/468 [==============================] - 2s 5ms/step - loss: 0.1316 - sparse_categorical_accuracy: 0.9618 - val_loss: 0.5910 - val_sparse_categorical_accuracy: 0.7903\n",
      "Epoch 4/5\n",
      "468/468 [==============================] - 2s 5ms/step - loss: 0.1050 - sparse_categorical_accuracy: 0.9693 - val_loss: 0.7568 - val_sparse_categorical_accuracy: 0.7462\n",
      "Epoch 5/5\n",
      "468/468 [==============================] - 2s 5ms/step - loss: 0.0887 - sparse_categorical_accuracy: 0.9735 - val_loss: 0.7468 - val_sparse_categorical_accuracy: 0.7524\n",
      "Epoch 1/5\n"
     ]
    },
    {
     "name": "stderr",
     "output_type": "stream",
     "text": [
      "2022-09-14 14:06:26.562854: I tensorflow/core/grappler/optimizers/custom_graph_optimizer_registry.cc:113] Plugin optimizer for device_type GPU is enabled.\n"
     ]
    },
    {
     "name": "stdout",
     "output_type": "stream",
     "text": [
      "458/468 [============================>.] - ETA: 0s - loss: 0.3652 - sparse_categorical_accuracy: 0.8991"
     ]
    },
    {
     "name": "stderr",
     "output_type": "stream",
     "text": [
      "2022-09-14 14:06:29.667734: I tensorflow/core/grappler/optimizers/custom_graph_optimizer_registry.cc:113] Plugin optimizer for device_type GPU is enabled.\n"
     ]
    },
    {
     "name": "stdout",
     "output_type": "stream",
     "text": [
      "468/468 [==============================] - 4s 5ms/step - loss: 0.3618 - sparse_categorical_accuracy: 0.9000 - val_loss: 2.3981 - val_sparse_categorical_accuracy: 0.4283\n",
      "Epoch 2/5\n",
      "468/468 [==============================] - 2s 5ms/step - loss: 0.1732 - sparse_categorical_accuracy: 0.9505 - val_loss: 2.9771 - val_sparse_categorical_accuracy: 0.3721\n",
      "Epoch 3/5\n",
      "468/468 [==============================] - 2s 5ms/step - loss: 0.1278 - sparse_categorical_accuracy: 0.9625 - val_loss: 3.2246 - val_sparse_categorical_accuracy: 0.3762\n",
      "Epoch 4/5\n",
      "468/468 [==============================] - 2s 5ms/step - loss: 0.1032 - sparse_categorical_accuracy: 0.9698 - val_loss: 3.1441 - val_sparse_categorical_accuracy: 0.3988\n",
      "Epoch 5/5\n",
      "468/468 [==============================] - 2s 5ms/step - loss: 0.0870 - sparse_categorical_accuracy: 0.9733 - val_loss: 4.0451 - val_sparse_categorical_accuracy: 0.3378\n",
      "Epoch 1/5\n"
     ]
    },
    {
     "name": "stderr",
     "output_type": "stream",
     "text": [
      "2022-09-14 14:06:40.699531: I tensorflow/core/grappler/optimizers/custom_graph_optimizer_registry.cc:113] Plugin optimizer for device_type GPU is enabled.\n"
     ]
    },
    {
     "name": "stdout",
     "output_type": "stream",
     "text": [
      "463/468 [============================>.] - ETA: 0s - loss: 0.3643 - sparse_categorical_accuracy: 0.8984"
     ]
    },
    {
     "name": "stderr",
     "output_type": "stream",
     "text": [
      "2022-09-14 14:06:44.030680: I tensorflow/core/grappler/optimizers/custom_graph_optimizer_registry.cc:113] Plugin optimizer for device_type GPU is enabled.\n"
     ]
    },
    {
     "name": "stdout",
     "output_type": "stream",
     "text": [
      "468/468 [==============================] - 5s 7ms/step - loss: 0.3628 - sparse_categorical_accuracy: 0.8989 - val_loss: 4.8518 - val_sparse_categorical_accuracy: 0.2407\n",
      "Epoch 2/5\n",
      "468/468 [==============================] - 3s 6ms/step - loss: 0.1761 - sparse_categorical_accuracy: 0.9498 - val_loss: 5.7656 - val_sparse_categorical_accuracy: 0.2171\n",
      "Epoch 3/5\n",
      "468/468 [==============================] - 3s 5ms/step - loss: 0.1309 - sparse_categorical_accuracy: 0.9618 - val_loss: 5.8062 - val_sparse_categorical_accuracy: 0.2127\n",
      "Epoch 4/5\n",
      "468/468 [==============================] - 2s 5ms/step - loss: 0.1060 - sparse_categorical_accuracy: 0.9683 - val_loss: 6.2734 - val_sparse_categorical_accuracy: 0.2018\n",
      "Epoch 5/5\n",
      "468/468 [==============================] - 3s 5ms/step - loss: 0.0888 - sparse_categorical_accuracy: 0.9732 - val_loss: 7.2676 - val_sparse_categorical_accuracy: 0.2061\n",
      "Epoch 1/5\n"
     ]
    },
    {
     "name": "stderr",
     "output_type": "stream",
     "text": [
      "2022-09-14 14:06:55.207800: I tensorflow/core/grappler/optimizers/custom_graph_optimizer_registry.cc:113] Plugin optimizer for device_type GPU is enabled.\n"
     ]
    },
    {
     "name": "stdout",
     "output_type": "stream",
     "text": [
      "461/468 [============================>.] - ETA: 0s - loss: 0.3640 - sparse_categorical_accuracy: 0.8990"
     ]
    },
    {
     "name": "stderr",
     "output_type": "stream",
     "text": [
      "2022-09-14 14:06:58.808657: I tensorflow/core/grappler/optimizers/custom_graph_optimizer_registry.cc:113] Plugin optimizer for device_type GPU is enabled.\n"
     ]
    },
    {
     "name": "stdout",
     "output_type": "stream",
     "text": [
      "468/468 [==============================] - 4s 6ms/step - loss: 0.3617 - sparse_categorical_accuracy: 0.8997 - val_loss: 0.1923 - val_sparse_categorical_accuracy: 0.9448\n",
      "Epoch 2/5\n",
      "468/468 [==============================] - 3s 6ms/step - loss: 0.1611 - sparse_categorical_accuracy: 0.9544 - val_loss: 0.1317 - val_sparse_categorical_accuracy: 0.9628\n",
      "Epoch 3/5\n",
      "468/468 [==============================] - 3s 7ms/step - loss: 0.1129 - sparse_categorical_accuracy: 0.9678 - val_loss: 0.1054 - val_sparse_categorical_accuracy: 0.9680\n",
      "Epoch 4/5\n",
      "468/468 [==============================] - 3s 6ms/step - loss: 0.0877 - sparse_categorical_accuracy: 0.9744 - val_loss: 0.0920 - val_sparse_categorical_accuracy: 0.9733\n",
      "Epoch 5/5\n",
      "468/468 [==============================] - 3s 6ms/step - loss: 0.0709 - sparse_categorical_accuracy: 0.9789 - val_loss: 0.0866 - val_sparse_categorical_accuracy: 0.9728\n",
      "Epoch 1/5\n"
     ]
    },
    {
     "name": "stderr",
     "output_type": "stream",
     "text": [
      "2022-09-14 14:07:10.928887: I tensorflow/core/grappler/optimizers/custom_graph_optimizer_registry.cc:113] Plugin optimizer for device_type GPU is enabled.\n"
     ]
    },
    {
     "name": "stdout",
     "output_type": "stream",
     "text": [
      "463/468 [============================>.] - ETA: 0s - loss: 0.3602 - sparse_categorical_accuracy: 0.8988"
     ]
    },
    {
     "name": "stderr",
     "output_type": "stream",
     "text": [
      "2022-09-14 14:07:14.488130: I tensorflow/core/grappler/optimizers/custom_graph_optimizer_registry.cc:113] Plugin optimizer for device_type GPU is enabled.\n"
     ]
    },
    {
     "name": "stdout",
     "output_type": "stream",
     "text": [
      "468/468 [==============================] - 4s 6ms/step - loss: 0.3582 - sparse_categorical_accuracy: 0.8995 - val_loss: 0.5630 - val_sparse_categorical_accuracy: 0.8105\n",
      "Epoch 2/5\n",
      "468/468 [==============================] - 3s 6ms/step - loss: 0.1606 - sparse_categorical_accuracy: 0.9548 - val_loss: 0.4949 - val_sparse_categorical_accuracy: 0.8305\n",
      "Epoch 3/5\n",
      "468/468 [==============================] - 3s 6ms/step - loss: 0.1137 - sparse_categorical_accuracy: 0.9676 - val_loss: 0.4821 - val_sparse_categorical_accuracy: 0.8339\n",
      "Epoch 4/5\n",
      "468/468 [==============================] - 3s 6ms/step - loss: 0.0885 - sparse_categorical_accuracy: 0.9742 - val_loss: 0.5792 - val_sparse_categorical_accuracy: 0.8018\n",
      "Epoch 5/5\n",
      "468/468 [==============================] - 3s 6ms/step - loss: 0.0717 - sparse_categorical_accuracy: 0.9793 - val_loss: 0.5206 - val_sparse_categorical_accuracy: 0.8205\n",
      "Epoch 1/5\n"
     ]
    },
    {
     "name": "stderr",
     "output_type": "stream",
     "text": [
      "2022-09-14 14:07:26.074623: I tensorflow/core/grappler/optimizers/custom_graph_optimizer_registry.cc:113] Plugin optimizer for device_type GPU is enabled.\n"
     ]
    },
    {
     "name": "stdout",
     "output_type": "stream",
     "text": [
      "464/468 [============================>.] - ETA: 0s - loss: 0.3592 - sparse_categorical_accuracy: 0.9000"
     ]
    },
    {
     "name": "stderr",
     "output_type": "stream",
     "text": [
      "2022-09-14 14:07:29.459623: I tensorflow/core/grappler/optimizers/custom_graph_optimizer_registry.cc:113] Plugin optimizer for device_type GPU is enabled.\n"
     ]
    },
    {
     "name": "stdout",
     "output_type": "stream",
     "text": [
      "468/468 [==============================] - 4s 6ms/step - loss: 0.3578 - sparse_categorical_accuracy: 0.9004 - val_loss: 1.9392 - val_sparse_categorical_accuracy: 0.4600\n",
      "Epoch 2/5\n",
      "468/468 [==============================] - 3s 5ms/step - loss: 0.1584 - sparse_categorical_accuracy: 0.9561 - val_loss: 2.3066 - val_sparse_categorical_accuracy: 0.4624\n",
      "Epoch 3/5\n",
      "468/468 [==============================] - 3s 6ms/step - loss: 0.1135 - sparse_categorical_accuracy: 0.9674 - val_loss: 2.1364 - val_sparse_categorical_accuracy: 0.4869\n",
      "Epoch 4/5\n",
      "468/468 [==============================] - 3s 6ms/step - loss: 0.0884 - sparse_categorical_accuracy: 0.9742 - val_loss: 2.5729 - val_sparse_categorical_accuracy: 0.4567\n",
      "Epoch 5/5\n",
      "468/468 [==============================] - 3s 6ms/step - loss: 0.0714 - sparse_categorical_accuracy: 0.9790 - val_loss: 2.7226 - val_sparse_categorical_accuracy: 0.4497\n",
      "Epoch 1/5\n"
     ]
    },
    {
     "name": "stderr",
     "output_type": "stream",
     "text": [
      "2022-09-14 14:07:40.800109: I tensorflow/core/grappler/optimizers/custom_graph_optimizer_registry.cc:113] Plugin optimizer for device_type GPU is enabled.\n"
     ]
    },
    {
     "name": "stdout",
     "output_type": "stream",
     "text": [
      "465/468 [============================>.] - ETA: 0s - loss: 0.3598 - sparse_categorical_accuracy: 0.8995"
     ]
    },
    {
     "name": "stderr",
     "output_type": "stream",
     "text": [
      "2022-09-14 14:07:44.627701: I tensorflow/core/grappler/optimizers/custom_graph_optimizer_registry.cc:113] Plugin optimizer for device_type GPU is enabled.\n"
     ]
    },
    {
     "name": "stdout",
     "output_type": "stream",
     "text": [
      "468/468 [==============================] - 4s 7ms/step - loss: 0.3588 - sparse_categorical_accuracy: 0.8998 - val_loss: 3.7049 - val_sparse_categorical_accuracy: 0.2975\n",
      "Epoch 2/5\n",
      "468/468 [==============================] - 3s 6ms/step - loss: 0.1614 - sparse_categorical_accuracy: 0.9545 - val_loss: 4.6730 - val_sparse_categorical_accuracy: 0.2424\n",
      "Epoch 3/5\n",
      "468/468 [==============================] - 3s 7ms/step - loss: 0.1142 - sparse_categorical_accuracy: 0.9675 - val_loss: 4.0937 - val_sparse_categorical_accuracy: 0.2753\n",
      "Epoch 4/5\n",
      "468/468 [==============================] - 3s 6ms/step - loss: 0.0879 - sparse_categorical_accuracy: 0.9746 - val_loss: 4.9601 - val_sparse_categorical_accuracy: 0.2370\n",
      "Epoch 5/5\n",
      "468/468 [==============================] - 3s 6ms/step - loss: 0.0710 - sparse_categorical_accuracy: 0.9795 - val_loss: 4.6218 - val_sparse_categorical_accuracy: 0.2868\n",
      "Epoch 1/5\n"
     ]
    },
    {
     "name": "stderr",
     "output_type": "stream",
     "text": [
      "2022-09-14 14:07:56.683534: I tensorflow/core/grappler/optimizers/custom_graph_optimizer_registry.cc:113] Plugin optimizer for device_type GPU is enabled.\n"
     ]
    },
    {
     "name": "stdout",
     "output_type": "stream",
     "text": [
      "467/468 [============================>.] - ETA: 0s - loss: 0.3523 - sparse_categorical_accuracy: 0.9004"
     ]
    },
    {
     "name": "stderr",
     "output_type": "stream",
     "text": [
      "2022-09-14 14:08:00.255860: I tensorflow/core/grappler/optimizers/custom_graph_optimizer_registry.cc:113] Plugin optimizer for device_type GPU is enabled.\n"
     ]
    },
    {
     "name": "stdout",
     "output_type": "stream",
     "text": [
      "468/468 [==============================] - 4s 7ms/step - loss: 0.3518 - sparse_categorical_accuracy: 0.9005 - val_loss: 0.1809 - val_sparse_categorical_accuracy: 0.9482\n",
      "Epoch 2/5\n",
      "468/468 [==============================] - 3s 6ms/step - loss: 0.1573 - sparse_categorical_accuracy: 0.9543 - val_loss: 0.1322 - val_sparse_categorical_accuracy: 0.9621\n",
      "Epoch 3/5\n",
      "468/468 [==============================] - 3s 6ms/step - loss: 0.1111 - sparse_categorical_accuracy: 0.9688 - val_loss: 0.1080 - val_sparse_categorical_accuracy: 0.9692\n",
      "Epoch 4/5\n",
      "468/468 [==============================] - 3s 6ms/step - loss: 0.0846 - sparse_categorical_accuracy: 0.9759 - val_loss: 0.0887 - val_sparse_categorical_accuracy: 0.9735\n",
      "Epoch 5/5\n",
      "468/468 [==============================] - 3s 6ms/step - loss: 0.0675 - sparse_categorical_accuracy: 0.9806 - val_loss: 0.0796 - val_sparse_categorical_accuracy: 0.9755\n",
      "Epoch 1/5\n"
     ]
    },
    {
     "name": "stderr",
     "output_type": "stream",
     "text": [
      "2022-09-14 14:08:12.267009: I tensorflow/core/grappler/optimizers/custom_graph_optimizer_registry.cc:113] Plugin optimizer for device_type GPU is enabled.\n"
     ]
    },
    {
     "name": "stdout",
     "output_type": "stream",
     "text": [
      "463/468 [============================>.] - ETA: 0s - loss: 0.3566 - sparse_categorical_accuracy: 0.9002"
     ]
    },
    {
     "name": "stderr",
     "output_type": "stream",
     "text": [
      "2022-09-14 14:08:15.695262: I tensorflow/core/grappler/optimizers/custom_graph_optimizer_registry.cc:113] Plugin optimizer for device_type GPU is enabled.\n"
     ]
    },
    {
     "name": "stdout",
     "output_type": "stream",
     "text": [
      "468/468 [==============================] - 4s 6ms/step - loss: 0.3555 - sparse_categorical_accuracy: 0.9005 - val_loss: 0.4711 - val_sparse_categorical_accuracy: 0.8424\n",
      "Epoch 2/5\n",
      "468/468 [==============================] - 3s 6ms/step - loss: 0.1563 - sparse_categorical_accuracy: 0.9562 - val_loss: 0.3682 - val_sparse_categorical_accuracy: 0.8838\n",
      "Epoch 3/5\n",
      "468/468 [==============================] - 3s 6ms/step - loss: 0.1097 - sparse_categorical_accuracy: 0.9688 - val_loss: 0.4270 - val_sparse_categorical_accuracy: 0.8545\n",
      "Epoch 4/5\n",
      "468/468 [==============================] - 3s 6ms/step - loss: 0.0837 - sparse_categorical_accuracy: 0.9765 - val_loss: 0.4198 - val_sparse_categorical_accuracy: 0.8594\n",
      "Epoch 5/5\n",
      "468/468 [==============================] - 3s 7ms/step - loss: 0.0670 - sparse_categorical_accuracy: 0.9810 - val_loss: 0.4159 - val_sparse_categorical_accuracy: 0.8521\n",
      "Epoch 1/5\n"
     ]
    },
    {
     "name": "stderr",
     "output_type": "stream",
     "text": [
      "2022-09-14 14:08:28.919714: I tensorflow/core/grappler/optimizers/custom_graph_optimizer_registry.cc:113] Plugin optimizer for device_type GPU is enabled.\n"
     ]
    },
    {
     "name": "stdout",
     "output_type": "stream",
     "text": [
      "468/468 [==============================] - ETA: 0s - loss: 0.3519 - sparse_categorical_accuracy: 0.9002"
     ]
    },
    {
     "name": "stderr",
     "output_type": "stream",
     "text": [
      "2022-09-14 14:08:32.761114: I tensorflow/core/grappler/optimizers/custom_graph_optimizer_registry.cc:113] Plugin optimizer for device_type GPU is enabled.\n"
     ]
    },
    {
     "name": "stdout",
     "output_type": "stream",
     "text": [
      "468/468 [==============================] - 5s 7ms/step - loss: 0.3519 - sparse_categorical_accuracy: 0.9002 - val_loss: 1.5602 - val_sparse_categorical_accuracy: 0.5429\n",
      "Epoch 2/5\n",
      "468/468 [==============================] - 4s 8ms/step - loss: 0.1537 - sparse_categorical_accuracy: 0.9564 - val_loss: 1.6621 - val_sparse_categorical_accuracy: 0.5246\n",
      "Epoch 3/5\n",
      "468/468 [==============================] - 3s 6ms/step - loss: 0.1074 - sparse_categorical_accuracy: 0.9697 - val_loss: 1.8536 - val_sparse_categorical_accuracy: 0.5172\n",
      "Epoch 4/5\n",
      "468/468 [==============================] - 3s 6ms/step - loss: 0.0823 - sparse_categorical_accuracy: 0.9767 - val_loss: 1.7615 - val_sparse_categorical_accuracy: 0.5339\n",
      "Epoch 5/5\n",
      "468/468 [==============================] - 3s 6ms/step - loss: 0.0664 - sparse_categorical_accuracy: 0.9806 - val_loss: 1.8283 - val_sparse_categorical_accuracy: 0.5292\n",
      "Epoch 1/5\n"
     ]
    },
    {
     "name": "stderr",
     "output_type": "stream",
     "text": [
      "2022-09-14 14:08:46.330251: I tensorflow/core/grappler/optimizers/custom_graph_optimizer_registry.cc:113] Plugin optimizer for device_type GPU is enabled.\n"
     ]
    },
    {
     "name": "stdout",
     "output_type": "stream",
     "text": [
      "464/468 [============================>.] - ETA: 0s - loss: 0.3579 - sparse_categorical_accuracy: 0.8987"
     ]
    },
    {
     "name": "stderr",
     "output_type": "stream",
     "text": [
      "2022-09-14 14:08:50.099715: I tensorflow/core/grappler/optimizers/custom_graph_optimizer_registry.cc:113] Plugin optimizer for device_type GPU is enabled.\n"
     ]
    },
    {
     "name": "stdout",
     "output_type": "stream",
     "text": [
      "468/468 [==============================] - 4s 7ms/step - loss: 0.3564 - sparse_categorical_accuracy: 0.8992 - val_loss: 3.5662 - val_sparse_categorical_accuracy: 0.2949\n",
      "Epoch 2/5\n",
      "468/468 [==============================] - 3s 6ms/step - loss: 0.1562 - sparse_categorical_accuracy: 0.9557 - val_loss: 3.7513 - val_sparse_categorical_accuracy: 0.2992\n",
      "Epoch 3/5\n",
      "468/468 [==============================] - 3s 6ms/step - loss: 0.1099 - sparse_categorical_accuracy: 0.9688 - val_loss: 3.6216 - val_sparse_categorical_accuracy: 0.3341\n",
      "Epoch 4/5\n",
      "468/468 [==============================] - 3s 6ms/step - loss: 0.0839 - sparse_categorical_accuracy: 0.9765 - val_loss: 4.0474 - val_sparse_categorical_accuracy: 0.2870\n",
      "Epoch 5/5\n",
      "468/468 [==============================] - 3s 6ms/step - loss: 0.0673 - sparse_categorical_accuracy: 0.9812 - val_loss: 3.7383 - val_sparse_categorical_accuracy: 0.3498\n"
     ]
    },
    {
     "data": {
      "text/plain": [
       "[{'acc': 0.9237780570983887,\n",
       "  'params': (('sparsity', 0.0), ('noise_stddev', 0.0))},\n",
       " {'acc': 0.4863782227039337,\n",
       "  'params': (('sparsity', 0.0), ('noise_stddev', 0.2))},\n",
       " {'acc': 0.23747996985912323,\n",
       "  'params': (('sparsity', 0.0), ('noise_stddev', 0.4))},\n",
       " {'acc': 0.1968149095773697,\n",
       "  'params': (('sparsity', 0.0), ('noise_stddev', 0.6))},\n",
       " {'acc': 0.9680488705635071,\n",
       "  'params': (('sparsity', 0.2), ('noise_stddev', 0.0))},\n",
       " {'acc': 0.7524038553237915,\n",
       "  'params': (('sparsity', 0.2), ('noise_stddev', 0.2))},\n",
       " {'acc': 0.33784055709838867,\n",
       "  'params': (('sparsity', 0.2), ('noise_stddev', 0.4))},\n",
       " {'acc': 0.20612980425357819,\n",
       "  'params': (('sparsity', 0.2), ('noise_stddev', 0.6))},\n",
       " {'acc': 0.9727564454078674,\n",
       "  'params': (('sparsity', 0.4), ('noise_stddev', 0.0))},\n",
       " {'acc': 0.8205128312110901,\n",
       "  'params': (('sparsity', 0.4), ('noise_stddev', 0.2))},\n",
       " {'acc': 0.44971954822540283,\n",
       "  'params': (('sparsity', 0.4), ('noise_stddev', 0.4))},\n",
       " {'acc': 0.28675881028175354,\n",
       "  'params': (('sparsity', 0.4), ('noise_stddev', 0.6))},\n",
       " {'acc': 0.9754607677459717,\n",
       "  'params': (('sparsity', 0.6), ('noise_stddev', 0.0))},\n",
       " {'acc': 0.8520632982254028,\n",
       "  'params': (('sparsity', 0.6), ('noise_stddev', 0.2))},\n",
       " {'acc': 0.5292468070983887,\n",
       "  'params': (('sparsity', 0.6), ('noise_stddev', 0.4))},\n",
       " {'acc': 0.34975960850715637,\n",
       "  'params': (('sparsity', 0.6), ('noise_stddev', 0.6))}]"
      ]
     },
     "execution_count": 15,
     "metadata": {},
     "output_type": "execute_result"
    },
    {
     "data": {
      "application/javascript": [
       "\n",
       "            setTimeout(function() {\n",
       "                var nbb_cell_id = 15;\n",
       "                var nbb_unformatted_code = \"results = []\\nfor conf in tqdm(grid):\\n    history = fit_model(**dict(conf))\\n    val_acc = history.history[\\\"val_sparse_categorical_accuracy\\\"]\\n    results.append({\\\"acc\\\": val_acc[-1], \\\"params\\\": conf})\\n\\nresults\";\n",
       "                var nbb_formatted_code = \"results = []\\nfor conf in tqdm(grid):\\n    history = fit_model(**dict(conf))\\n    val_acc = history.history[\\\"val_sparse_categorical_accuracy\\\"]\\n    results.append({\\\"acc\\\": val_acc[-1], \\\"params\\\": conf})\\n\\nresults\";\n",
       "                var nbb_cells = Jupyter.notebook.get_cells();\n",
       "                for (var i = 0; i < nbb_cells.length; ++i) {\n",
       "                    if (nbb_cells[i].input_prompt_number == nbb_cell_id) {\n",
       "                        if (nbb_cells[i].get_text() == nbb_unformatted_code) {\n",
       "                             nbb_cells[i].set_text(nbb_formatted_code);\n",
       "                        }\n",
       "                        break;\n",
       "                    }\n",
       "                }\n",
       "            }, 500);\n",
       "            "
      ],
      "text/plain": [
       "<IPython.core.display.Javascript object>"
      ]
     },
     "metadata": {},
     "output_type": "display_data"
    }
   ],
   "source": [
    "results = []\n",
    "for conf in tqdm(grid):\n",
    "    history = fit_model(**dict(conf))\n",
    "    val_acc = history.history[\"val_sparse_categorical_accuracy\"]\n",
    "    results.append({\"acc\": val_acc[-1], \"params\": conf})\n",
    "\n",
    "results"
   ]
  },
  {
   "cell_type": "code",
   "execution_count": 28,
   "id": "66f1f65c",
   "metadata": {},
   "outputs": [
    {
     "data": {
      "text/html": [
       "<div>\n",
       "<style scoped>\n",
       "    .dataframe tbody tr th:only-of-type {\n",
       "        vertical-align: middle;\n",
       "    }\n",
       "\n",
       "    .dataframe tbody tr th {\n",
       "        vertical-align: top;\n",
       "    }\n",
       "\n",
       "    .dataframe thead th {\n",
       "        text-align: right;\n",
       "    }\n",
       "</style>\n",
       "<table border=\"1\" class=\"dataframe\">\n",
       "  <thead>\n",
       "    <tr style=\"text-align: right;\">\n",
       "      <th></th>\n",
       "      <th>acc</th>\n",
       "      <th>sparsity</th>\n",
       "      <th>noise_stddev</th>\n",
       "    </tr>\n",
       "  </thead>\n",
       "  <tbody>\n",
       "    <tr>\n",
       "      <th>0</th>\n",
       "      <td>0.923778</td>\n",
       "      <td>0.0</td>\n",
       "      <td>0.0</td>\n",
       "    </tr>\n",
       "    <tr>\n",
       "      <th>1</th>\n",
       "      <td>0.486378</td>\n",
       "      <td>0.0</td>\n",
       "      <td>0.2</td>\n",
       "    </tr>\n",
       "    <tr>\n",
       "      <th>2</th>\n",
       "      <td>0.237480</td>\n",
       "      <td>0.0</td>\n",
       "      <td>0.4</td>\n",
       "    </tr>\n",
       "    <tr>\n",
       "      <th>3</th>\n",
       "      <td>0.196815</td>\n",
       "      <td>0.0</td>\n",
       "      <td>0.6</td>\n",
       "    </tr>\n",
       "    <tr>\n",
       "      <th>4</th>\n",
       "      <td>0.968049</td>\n",
       "      <td>0.2</td>\n",
       "      <td>0.0</td>\n",
       "    </tr>\n",
       "    <tr>\n",
       "      <th>5</th>\n",
       "      <td>0.752404</td>\n",
       "      <td>0.2</td>\n",
       "      <td>0.2</td>\n",
       "    </tr>\n",
       "    <tr>\n",
       "      <th>6</th>\n",
       "      <td>0.337841</td>\n",
       "      <td>0.2</td>\n",
       "      <td>0.4</td>\n",
       "    </tr>\n",
       "    <tr>\n",
       "      <th>7</th>\n",
       "      <td>0.206130</td>\n",
       "      <td>0.2</td>\n",
       "      <td>0.6</td>\n",
       "    </tr>\n",
       "    <tr>\n",
       "      <th>8</th>\n",
       "      <td>0.972756</td>\n",
       "      <td>0.4</td>\n",
       "      <td>0.0</td>\n",
       "    </tr>\n",
       "    <tr>\n",
       "      <th>9</th>\n",
       "      <td>0.820513</td>\n",
       "      <td>0.4</td>\n",
       "      <td>0.2</td>\n",
       "    </tr>\n",
       "    <tr>\n",
       "      <th>10</th>\n",
       "      <td>0.449720</td>\n",
       "      <td>0.4</td>\n",
       "      <td>0.4</td>\n",
       "    </tr>\n",
       "    <tr>\n",
       "      <th>11</th>\n",
       "      <td>0.286759</td>\n",
       "      <td>0.4</td>\n",
       "      <td>0.6</td>\n",
       "    </tr>\n",
       "    <tr>\n",
       "      <th>12</th>\n",
       "      <td>0.975461</td>\n",
       "      <td>0.6</td>\n",
       "      <td>0.0</td>\n",
       "    </tr>\n",
       "    <tr>\n",
       "      <th>13</th>\n",
       "      <td>0.852063</td>\n",
       "      <td>0.6</td>\n",
       "      <td>0.2</td>\n",
       "    </tr>\n",
       "    <tr>\n",
       "      <th>14</th>\n",
       "      <td>0.529247</td>\n",
       "      <td>0.6</td>\n",
       "      <td>0.4</td>\n",
       "    </tr>\n",
       "    <tr>\n",
       "      <th>15</th>\n",
       "      <td>0.349760</td>\n",
       "      <td>0.6</td>\n",
       "      <td>0.6</td>\n",
       "    </tr>\n",
       "  </tbody>\n",
       "</table>\n",
       "</div>"
      ],
      "text/plain": [
       "         acc  sparsity  noise_stddev\n",
       "0   0.923778       0.0           0.0\n",
       "1   0.486378       0.0           0.2\n",
       "2   0.237480       0.0           0.4\n",
       "3   0.196815       0.0           0.6\n",
       "4   0.968049       0.2           0.0\n",
       "5   0.752404       0.2           0.2\n",
       "6   0.337841       0.2           0.4\n",
       "7   0.206130       0.2           0.6\n",
       "8   0.972756       0.4           0.0\n",
       "9   0.820513       0.4           0.2\n",
       "10  0.449720       0.4           0.4\n",
       "11  0.286759       0.4           0.6\n",
       "12  0.975461       0.6           0.0\n",
       "13  0.852063       0.6           0.2\n",
       "14  0.529247       0.6           0.4\n",
       "15  0.349760       0.6           0.6"
      ]
     },
     "execution_count": 28,
     "metadata": {},
     "output_type": "execute_result"
    },
    {
     "data": {
      "application/javascript": [
       "\n",
       "            setTimeout(function() {\n",
       "                var nbb_cell_id = 28;\n",
       "                var nbb_unformatted_code = \"r = []\\nfor res in results:\\n    params = dict(res[\\\"params\\\"])\\n\\n    temp_r = {\\n        \\\"acc\\\": res[\\\"acc\\\"],\\n        **params,\\n    }\\n\\n    r.append(temp_r)\\n\\ndf = pd.DataFrame(r)\\ndf\";\n",
       "                var nbb_formatted_code = \"r = []\\nfor res in results:\\n    params = dict(res[\\\"params\\\"])\\n\\n    temp_r = {\\n        \\\"acc\\\": res[\\\"acc\\\"],\\n        **params,\\n    }\\n\\n    r.append(temp_r)\\n\\ndf = pd.DataFrame(r)\\ndf\";\n",
       "                var nbb_cells = Jupyter.notebook.get_cells();\n",
       "                for (var i = 0; i < nbb_cells.length; ++i) {\n",
       "                    if (nbb_cells[i].input_prompt_number == nbb_cell_id) {\n",
       "                        if (nbb_cells[i].get_text() == nbb_unformatted_code) {\n",
       "                             nbb_cells[i].set_text(nbb_formatted_code);\n",
       "                        }\n",
       "                        break;\n",
       "                    }\n",
       "                }\n",
       "            }, 500);\n",
       "            "
      ],
      "text/plain": [
       "<IPython.core.display.Javascript object>"
      ]
     },
     "metadata": {},
     "output_type": "display_data"
    }
   ],
   "source": [
    "r = []\n",
    "for res in results:\n",
    "    params = dict(res[\"params\"])\n",
    "\n",
    "    temp_r = {\n",
    "        \"acc\": res[\"acc\"],\n",
    "        **params,\n",
    "    }\n",
    "\n",
    "    r.append(temp_r)\n",
    "\n",
    "df = pd.DataFrame(r)\n",
    "df"
   ]
  },
  {
   "cell_type": "code",
   "execution_count": 29,
   "id": "f36dc103",
   "metadata": {},
   "outputs": [
    {
     "data": {
      "application/javascript": [
       "\n",
       "            setTimeout(function() {\n",
       "                var nbb_cell_id = 29;\n",
       "                var nbb_unformatted_code = \"df.to_csv(\\\"exp_results.csv\\\")\";\n",
       "                var nbb_formatted_code = \"df.to_csv(\\\"exp_results.csv\\\")\";\n",
       "                var nbb_cells = Jupyter.notebook.get_cells();\n",
       "                for (var i = 0; i < nbb_cells.length; ++i) {\n",
       "                    if (nbb_cells[i].input_prompt_number == nbb_cell_id) {\n",
       "                        if (nbb_cells[i].get_text() == nbb_unformatted_code) {\n",
       "                             nbb_cells[i].set_text(nbb_formatted_code);\n",
       "                        }\n",
       "                        break;\n",
       "                    }\n",
       "                }\n",
       "            }, 500);\n",
       "            "
      ],
      "text/plain": [
       "<IPython.core.display.Javascript object>"
      ]
     },
     "metadata": {},
     "output_type": "display_data"
    }
   ],
   "source": [
    "df.to_csv(\"data/exp_results.csv\")"
   ]
  },
  {
   "cell_type": "code",
   "execution_count": 50,
   "id": "c549d48d",
   "metadata": {},
   "outputs": [
    {
     "data": {
      "text/html": [
       "<div>\n",
       "<style scoped>\n",
       "    .dataframe tbody tr th:only-of-type {\n",
       "        vertical-align: middle;\n",
       "    }\n",
       "\n",
       "    .dataframe tbody tr th {\n",
       "        vertical-align: top;\n",
       "    }\n",
       "\n",
       "    .dataframe thead th {\n",
       "        text-align: right;\n",
       "    }\n",
       "</style>\n",
       "<table border=\"1\" class=\"dataframe\">\n",
       "  <thead>\n",
       "    <tr style=\"text-align: right;\">\n",
       "      <th></th>\n",
       "      <th>acc</th>\n",
       "      <th>sparsity</th>\n",
       "      <th>noise_stddev</th>\n",
       "    </tr>\n",
       "  </thead>\n",
       "  <tbody>\n",
       "    <tr>\n",
       "      <th>0</th>\n",
       "      <td>0.923778</td>\n",
       "      <td>0.0</td>\n",
       "      <td>0.0</td>\n",
       "    </tr>\n",
       "    <tr>\n",
       "      <th>1</th>\n",
       "      <td>0.486378</td>\n",
       "      <td>0.0</td>\n",
       "      <td>0.2</td>\n",
       "    </tr>\n",
       "    <tr>\n",
       "      <th>2</th>\n",
       "      <td>0.237480</td>\n",
       "      <td>0.0</td>\n",
       "      <td>0.4</td>\n",
       "    </tr>\n",
       "    <tr>\n",
       "      <th>3</th>\n",
       "      <td>0.196815</td>\n",
       "      <td>0.0</td>\n",
       "      <td>0.6</td>\n",
       "    </tr>\n",
       "    <tr>\n",
       "      <th>4</th>\n",
       "      <td>0.968049</td>\n",
       "      <td>0.2</td>\n",
       "      <td>0.0</td>\n",
       "    </tr>\n",
       "    <tr>\n",
       "      <th>5</th>\n",
       "      <td>0.752404</td>\n",
       "      <td>0.2</td>\n",
       "      <td>0.2</td>\n",
       "    </tr>\n",
       "    <tr>\n",
       "      <th>6</th>\n",
       "      <td>0.337841</td>\n",
       "      <td>0.2</td>\n",
       "      <td>0.4</td>\n",
       "    </tr>\n",
       "    <tr>\n",
       "      <th>7</th>\n",
       "      <td>0.206130</td>\n",
       "      <td>0.2</td>\n",
       "      <td>0.6</td>\n",
       "    </tr>\n",
       "    <tr>\n",
       "      <th>8</th>\n",
       "      <td>0.972756</td>\n",
       "      <td>0.4</td>\n",
       "      <td>0.0</td>\n",
       "    </tr>\n",
       "    <tr>\n",
       "      <th>9</th>\n",
       "      <td>0.820513</td>\n",
       "      <td>0.4</td>\n",
       "      <td>0.2</td>\n",
       "    </tr>\n",
       "    <tr>\n",
       "      <th>10</th>\n",
       "      <td>0.449720</td>\n",
       "      <td>0.4</td>\n",
       "      <td>0.4</td>\n",
       "    </tr>\n",
       "    <tr>\n",
       "      <th>11</th>\n",
       "      <td>0.286759</td>\n",
       "      <td>0.4</td>\n",
       "      <td>0.6</td>\n",
       "    </tr>\n",
       "    <tr>\n",
       "      <th>12</th>\n",
       "      <td>0.975461</td>\n",
       "      <td>0.6</td>\n",
       "      <td>0.0</td>\n",
       "    </tr>\n",
       "    <tr>\n",
       "      <th>13</th>\n",
       "      <td>0.852063</td>\n",
       "      <td>0.6</td>\n",
       "      <td>0.2</td>\n",
       "    </tr>\n",
       "    <tr>\n",
       "      <th>14</th>\n",
       "      <td>0.529247</td>\n",
       "      <td>0.6</td>\n",
       "      <td>0.4</td>\n",
       "    </tr>\n",
       "    <tr>\n",
       "      <th>15</th>\n",
       "      <td>0.349760</td>\n",
       "      <td>0.6</td>\n",
       "      <td>0.6</td>\n",
       "    </tr>\n",
       "  </tbody>\n",
       "</table>\n",
       "</div>"
      ],
      "text/plain": [
       "         acc  sparsity  noise_stddev\n",
       "0   0.923778       0.0           0.0\n",
       "1   0.486378       0.0           0.2\n",
       "2   0.237480       0.0           0.4\n",
       "3   0.196815       0.0           0.6\n",
       "4   0.968049       0.2           0.0\n",
       "5   0.752404       0.2           0.2\n",
       "6   0.337841       0.2           0.4\n",
       "7   0.206130       0.2           0.6\n",
       "8   0.972756       0.4           0.0\n",
       "9   0.820513       0.4           0.2\n",
       "10  0.449720       0.4           0.4\n",
       "11  0.286759       0.4           0.6\n",
       "12  0.975461       0.6           0.0\n",
       "13  0.852063       0.6           0.2\n",
       "14  0.529247       0.6           0.4\n",
       "15  0.349760       0.6           0.6"
      ]
     },
     "execution_count": 50,
     "metadata": {},
     "output_type": "execute_result"
    },
    {
     "data": {
      "application/javascript": [
       "\n",
       "            setTimeout(function() {\n",
       "                var nbb_cell_id = 50;\n",
       "                var nbb_unformatted_code = \"df = pd.read_csv(\\\"exp_results.csv\\\", index_col=0)#.set_index([\\\"sparsity\\\", \\\"noise_stddev\\\"])\\ndf\";\n",
       "                var nbb_formatted_code = \"df = pd.read_csv(\\n    \\\"exp_results.csv\\\", index_col=0\\n)  # .set_index([\\\"sparsity\\\", \\\"noise_stddev\\\"])\\ndf\";\n",
       "                var nbb_cells = Jupyter.notebook.get_cells();\n",
       "                for (var i = 0; i < nbb_cells.length; ++i) {\n",
       "                    if (nbb_cells[i].input_prompt_number == nbb_cell_id) {\n",
       "                        if (nbb_cells[i].get_text() == nbb_unformatted_code) {\n",
       "                             nbb_cells[i].set_text(nbb_formatted_code);\n",
       "                        }\n",
       "                        break;\n",
       "                    }\n",
       "                }\n",
       "            }, 500);\n",
       "            "
      ],
      "text/plain": [
       "<IPython.core.display.Javascript object>"
      ]
     },
     "metadata": {},
     "output_type": "display_data"
    }
   ],
   "source": [
    "df = pd.read_csv(\n",
    "    \"data/exp_results.csv\", index_col=0\n",
    ")\n",
    "df"
   ]
  },
  {
   "cell_type": "code",
   "execution_count": 68,
   "id": "e207993d",
   "metadata": {},
   "outputs": [
    {
     "data": {
      "text/plain": [
       "<AxesSubplot:xlabel='noise_stddev', ylabel='sparsity'>"
      ]
     },
     "execution_count": 68,
     "metadata": {},
     "output_type": "execute_result"
    },
    {
     "data": {
      "image/png": "[encoded data removed]",
      "text/plain": [
       "<Figure size 640x480 with 2 Axes>"
      ]
     },
     "metadata": {},
     "output_type": "display_data"
    },
    {
     "data": {
      "application/javascript": [
       "\n",
       "            setTimeout(function() {\n",
       "                var nbb_cell_id = 68;\n",
       "                var nbb_unformatted_code = \"cm = sns.light_palette(\\\"red\\\", as_cmap=True)\\nheat_map = df.pivot(index=\\\"sparsity\\\", columns=\\\"noise_stddev\\\", values=\\\"acc\\\").sort_index(\\n    ascending=False\\n)\\nsns.heatmap(data=heat_map, cmap=cm, annot=True)\";\n",
       "                var nbb_formatted_code = \"cm = sns.light_palette(\\\"red\\\", as_cmap=True)\\nheat_map = df.pivot(index=\\\"sparsity\\\", columns=\\\"noise_stddev\\\", values=\\\"acc\\\").sort_index(\\n    ascending=False\\n)\\nsns.heatmap(data=heat_map, cmap=cm, annot=True)\";\n",
       "                var nbb_cells = Jupyter.notebook.get_cells();\n",
       "                for (var i = 0; i < nbb_cells.length; ++i) {\n",
       "                    if (nbb_cells[i].input_prompt_number == nbb_cell_id) {\n",
       "                        if (nbb_cells[i].get_text() == nbb_unformatted_code) {\n",
       "                             nbb_cells[i].set_text(nbb_formatted_code);\n",
       "                        }\n",
       "                        break;\n",
       "                    }\n",
       "                }\n",
       "            }, 500);\n",
       "            "
      ],
      "text/plain": [
       "<IPython.core.display.Javascript object>"
      ]
     },
     "metadata": {},
     "output_type": "display_data"
    }
   ],
   "source": [
    "cm = sns.light_palette(\"red\", as_cmap=True)\n",
    "heat_map = df.pivot(index=\"sparsity\", columns=\"noise_stddev\", values=\"acc\").sort_index(\n",
    "    ascending=False\n",
    ")\n",
    "sns.heatmap(data=heat_map, cmap=cm, annot=True)"
   ]
  },
  {
   "cell_type": "markdown",
   "id": "73693fec",
   "metadata": {},
   "source": [
    "# Impact of kWTA (activation sparsity) on performance with noise added to images\n",
    "\n",
    "sparsity = fraction of activated neurons <br>\n",
    "noise = noise contained in validation set but NOT train set\n",
    "\n",
    "- activation sparsity can help for regularisation (check if that is correct?)\n",
    "- less active neurons increase performance\n",
    "- performance increase is more significant in validation set with higher noise"
   ]
  },
  {
   "cell_type": "code",
   "execution_count": null,
   "id": "3cb5c88b",
   "metadata": {},
   "outputs": [],
   "source": []
  }
 ],
 "metadata": {
  "kernelspec": {
   "display_name": "Python 3 (ipykernel)",
   "language": "python",
   "name": "python3"
  },
  "language_info": {
   "codemirror_mode": {
    "name": "ipython",
    "version": 3
   },
   "file_extension": ".py",
   "mimetype": "text/x-python",
   "name": "python",
   "nbconvert_exporter": "python",
   "pygments_lexer": "ipython3",
   "version": "3.10.6"
  }
 },
 "nbformat": 4,
 "nbformat_minor": 5
}
