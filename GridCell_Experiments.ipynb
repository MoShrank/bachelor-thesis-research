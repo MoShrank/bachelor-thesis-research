{
 "cells": [
  {
   "cell_type": "code",
   "execution_count": null,
   "id": "c80bc6bc",
   "metadata": {},
   "outputs": [],
   "source": [
    "%load_ext nb_black\n",
    "%load_ext autoreload\n",
    "%autoreload 2"
   ]
  },
  {
   "cell_type": "code",
   "execution_count": null,
   "id": "8f0dbfc7",
   "metadata": {},
   "outputs": [],
   "source": [
    "import math\n",
    "\n",
    "import numpy as np\n",
    "import matplotlib.pyplot as plt\n",
    "from itertools import product\n",
    "from util.plots import scatter_plot\n",
    "from util.data import load_mnist, encode_data\n",
    "from typing import List, Dict\n",
    "from tqdm.notebook import tqdm\n",
    "from algorithms import GridCells\n",
    "from algorithms.SaccadeGenerator import SaccadeGenerator"
   ]
  },
  {
   "cell_type": "markdown",
   "id": "382e2870",
   "metadata": {},
   "source": [
    "### Algorithm\n",
    "\n",
    "1. movement to update location layer\n",
    "    - calculate new phase - input: displacement vector and old phase; applies translation by rotation and scaling + mod 1 --> outputs binary vector A_t,move^loc\n",
    "    - if no movement is given, activate random location ???\n",
    "2. predict sensory information from location layer output\n",
    "    - predictions represented by pi_t^in = activity of distal dendritic segments - Eq2 in paper\n",
    "        --> modularoty effect\n",
    "3. calculate activity in sensory layer\n",
    "    - all cells share same feedforward receptive fields --> pretrained CNN ouputs (128,) feature vector and each column is mapped to on feature\n",
    "    - sensory features represented by sparse subset of mini-columns = W_t^in\n",
    "    - if cell is predicted and in active mini-columns: activate cell and inhibit other cells in mini-column; else: all cells become active\n",
    "    - - multiple cells can be active if predicted by location layer\n",
    "    - formula uq: 6 for activation logic\n",
    "4. update location layer based on sensory cues\n",
    "    - location layer receives input from sensory layer (in form of W_t^in???)\n",
    "    - calculate overlap EQ 3 & 4\n",
    "    - repeat because new movement is received\n",
    "\n",
    "Learning:\n",
    "- strenghtening between connections of both layer\n",
    "- when new object is learned: location representation is randomly initialised (each object has its own location space = multiple objects can be represented at the same time because their representation has low probability of overlap\n",
    "- sensory layer: random cell in each column will be active\n",
    "- form reciprocal connections on one of their dendritic segments (d') (EQ 5 & 6)\n",
    "--> if synapse exist it is unaffected otherwise it is formed"
   ]
  },
  {
   "cell_type": "markdown",
   "id": "2cd4cb89",
   "metadata": {},
   "source": [
    "### Setup Data and Saccade Generator"
   ]
  },
  {
   "cell_type": "code",
   "execution_count": 3,
   "id": "5032cbec",
   "metadata": {},
   "outputs": [
    {
     "data": {
      "application/javascript": [
       "\n",
       "            setTimeout(function() {\n",
       "                var nbb_cell_id = 3;\n",
       "                var nbb_unformatted_code = \"(x_train, y_train), (x_test, y_test) = load_mnist()\\nx_train, x_test = encode_data(x_train, x_test)\";\n",
       "                var nbb_formatted_code = \"(x_train, y_train), (x_test, y_test) = load_mnist()\\nx_train, x_test = encode_data(x_train, x_test)\";\n",
       "                var nbb_cells = Jupyter.notebook.get_cells();\n",
       "                for (var i = 0; i < nbb_cells.length; ++i) {\n",
       "                    if (nbb_cells[i].input_prompt_number == nbb_cell_id) {\n",
       "                        if (nbb_cells[i].get_text() == nbb_unformatted_code) {\n",
       "                             nbb_cells[i].set_text(nbb_formatted_code);\n",
       "                        }\n",
       "                        break;\n",
       "                    }\n",
       "                }\n",
       "            }, 500);\n",
       "            "
      ],
      "text/plain": [
       "<IPython.core.display.Javascript object>"
      ]
     },
     "metadata": {},
     "output_type": "display_data"
    }
   ],
   "source": [
    "(x_train, y_train), (x_test, y_test) = load_mnist()\n",
    "x_train, x_test = encode_data(x_train, x_test)"
   ]
  },
  {
   "cell_type": "code",
   "execution_count": 4,
   "id": "3930459c",
   "metadata": {},
   "outputs": [
    {
     "data": {
      "application/javascript": [
       "\n",
       "            setTimeout(function() {\n",
       "                var nbb_cell_id = 4;\n",
       "                var nbb_unformatted_code = \"saccade_size = (10, 10)\";\n",
       "                var nbb_formatted_code = \"saccade_size = (10, 10)\";\n",
       "                var nbb_cells = Jupyter.notebook.get_cells();\n",
       "                for (var i = 0; i < nbb_cells.length; ++i) {\n",
       "                    if (nbb_cells[i].input_prompt_number == nbb_cell_id) {\n",
       "                        if (nbb_cells[i].get_text() == nbb_unformatted_code) {\n",
       "                             nbb_cells[i].set_text(nbb_formatted_code);\n",
       "                        }\n",
       "                        break;\n",
       "                    }\n",
       "                }\n",
       "            }, 500);\n",
       "            "
      ],
      "text/plain": [
       "<IPython.core.display.Javascript object>"
      ]
     },
     "metadata": {},
     "output_type": "display_data"
    }
   ],
   "source": [
    "saccade_size = (10, 10)"
   ]
  },
  {
   "cell_type": "code",
   "execution_count": 5,
   "id": "197ee561",
   "metadata": {},
   "outputs": [
    {
     "data": {
      "application/javascript": [
       "\n",
       "            setTimeout(function() {\n",
       "                var nbb_cell_id = 5;\n",
       "                var nbb_unformatted_code = \"saccade_generator = SaccadeGenerator(\\n    x=x_train,\\n    y=y_train,\\n    saccade_size=saccade_size,\\n    no_saccades=5,\\n)\";\n",
       "                var nbb_formatted_code = \"saccade_generator = SaccadeGenerator(\\n    x=x_train,\\n    y=y_train,\\n    saccade_size=saccade_size,\\n    no_saccades=5,\\n)\";\n",
       "                var nbb_cells = Jupyter.notebook.get_cells();\n",
       "                for (var i = 0; i < nbb_cells.length; ++i) {\n",
       "                    if (nbb_cells[i].input_prompt_number == nbb_cell_id) {\n",
       "                        if (nbb_cells[i].get_text() == nbb_unformatted_code) {\n",
       "                             nbb_cells[i].set_text(nbb_formatted_code);\n",
       "                        }\n",
       "                        break;\n",
       "                    }\n",
       "                }\n",
       "            }, 500);\n",
       "            "
      ],
      "text/plain": [
       "<IPython.core.display.Javascript object>"
      ]
     },
     "metadata": {},
     "output_type": "display_data"
    }
   ],
   "source": [
    "saccade_generator = SaccadeGenerator(\n",
    "    x=x_train,\n",
    "    y=y_train,\n",
    "    saccade_size=saccade_size,\n",
    "    no_saccades=5,\n",
    ")"
   ]
  },
  {
   "cell_type": "markdown",
   "id": "ce4188a3",
   "metadata": {},
   "source": [
    "### Setup GridCells - Sensory Location Layers"
   ]
  },
  {
   "cell_type": "code",
   "execution_count": 6,
   "id": "d37c9abe",
   "metadata": {},
   "outputs": [
    {
     "data": {
      "application/javascript": [
       "\n",
       "            setTimeout(function() {\n",
       "                var nbb_cell_id = 6;\n",
       "                var nbb_unformatted_code = \"no_features = math.prod(saccade_size)\";\n",
       "                var nbb_formatted_code = \"no_features = math.prod(saccade_size)\";\n",
       "                var nbb_cells = Jupyter.notebook.get_cells();\n",
       "                for (var i = 0; i < nbb_cells.length; ++i) {\n",
       "                    if (nbb_cells[i].input_prompt_number == nbb_cell_id) {\n",
       "                        if (nbb_cells[i].get_text() == nbb_unformatted_code) {\n",
       "                             nbb_cells[i].set_text(nbb_formatted_code);\n",
       "                        }\n",
       "                        break;\n",
       "                    }\n",
       "                }\n",
       "            }, 500);\n",
       "            "
      ],
      "text/plain": [
       "<IPython.core.display.Javascript object>"
      ]
     },
     "metadata": {},
     "output_type": "display_data"
    }
   ],
   "source": [
    "no_features = math.prod(saccade_size)"
   ]
  },
  {
   "cell_type": "code",
   "execution_count": null,
   "id": "7b7df0a0",
   "metadata": {},
   "outputs": [],
   "source": [
    "gc = GridCells(\n",
    "    no_modules=4,\n",
    "    grid_cell_module_dimension=(4, 4),\n",
    "    orientation=60,\n",
    "    scale=20,\n",
    "    no_columns=no_features,\n",
    "    no_cells_per_column=4<<<<,\n",
    "    location_layer_threshold=6,\n",
    "    seed=42,\n",
    ")"
   ]
  },
  {
   "cell_type": "markdown",
   "id": "a38e502a",
   "metadata": {},
   "source": [
    "### Learn Objects"
   ]
  },
  {
   "cell_type": "code",
   "execution_count": null,
   "id": "7fa9d392",
   "metadata": {},
   "outputs": [],
   "source": [
    "for obj in saccade_generator:\n",
    "    gc.learn_object(obj)\n",
    "\n",
    "    break"
   ]
  },
  {
   "cell_type": "code",
   "execution_count": null,
   "id": "872c616d",
   "metadata": {},
   "outputs": [],
   "source": []
  }
 ],
 "metadata": {
  "kernelspec": {
   "display_name": "Python 3 (ipykernel)",
   "language": "python",
   "name": "python3"
  },
  "language_info": {
   "codemirror_mode": {
    "name": "ipython",
    "version": 3
   },
   "file_extension": ".py",
   "mimetype": "text/x-python",
   "name": "python",
   "nbconvert_exporter": "python",
   "pygments_lexer": "ipython3",
   "version": "3.10.0"
  },
  "vscode": {
   "interpreter": {
    "hash": "e10ed3da79502c4eeed3cb37eba085b9e7edf4b9ab3e510ef9d762849f8f34f8"
   }
  }
 },
 "nbformat": 4,
 "nbformat_minor": 5
}
