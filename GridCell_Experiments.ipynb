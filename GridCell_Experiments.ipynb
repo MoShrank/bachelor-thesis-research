{
 "cells": [
  {
   "cell_type": "code",
   "execution_count": 1,
   "id": "c80bc6bc",
   "metadata": {},
   "outputs": [
    {
     "data": {
      "application/javascript": [
       "\n",
       "            setTimeout(function() {\n",
       "                var nbb_cell_id = 1;\n",
       "                var nbb_unformatted_code = \"%load_ext nb_black\\n%load_ext autoreload\\n%autoreload 2\";\n",
       "                var nbb_formatted_code = \"%load_ext nb_black\\n%load_ext autoreload\\n%autoreload 2\";\n",
       "                var nbb_cells = Jupyter.notebook.get_cells();\n",
       "                for (var i = 0; i < nbb_cells.length; ++i) {\n",
       "                    if (nbb_cells[i].input_prompt_number == nbb_cell_id) {\n",
       "                        if (nbb_cells[i].get_text() == nbb_unformatted_code) {\n",
       "                             nbb_cells[i].set_text(nbb_formatted_code);\n",
       "                        }\n",
       "                        break;\n",
       "                    }\n",
       "                }\n",
       "            }, 500);\n",
       "            "
      ],
      "text/plain": [
       "<IPython.core.display.Javascript object>"
      ]
     },
     "metadata": {},
     "output_type": "display_data"
    }
   ],
   "source": [
    "%load_ext nb_black\n",
    "%load_ext autoreload\n",
    "%autoreload 2"
   ]
  },
  {
   "cell_type": "code",
   "execution_count": 2,
   "id": "8f0dbfc7",
   "metadata": {},
   "outputs": [
    {
     "data": {
      "application/javascript": [
       "\n",
       "            setTimeout(function() {\n",
       "                var nbb_cell_id = 2;\n",
       "                var nbb_unformatted_code = \"import numpy as np\\nimport matplotlib.pyplot as plt\\nimport math\\nfrom util.plots import scatter_plot\";\n",
       "                var nbb_formatted_code = \"import numpy as np\\nimport matplotlib.pyplot as plt\\nimport math\\nfrom util.plots import scatter_plot\";\n",
       "                var nbb_cells = Jupyter.notebook.get_cells();\n",
       "                for (var i = 0; i < nbb_cells.length; ++i) {\n",
       "                    if (nbb_cells[i].input_prompt_number == nbb_cell_id) {\n",
       "                        if (nbb_cells[i].get_text() == nbb_unformatted_code) {\n",
       "                             nbb_cells[i].set_text(nbb_formatted_code);\n",
       "                        }\n",
       "                        break;\n",
       "                    }\n",
       "                }\n",
       "            }, 500);\n",
       "            "
      ],
      "text/plain": [
       "<IPython.core.display.Javascript object>"
      ]
     },
     "metadata": {},
     "output_type": "display_data"
    }
   ],
   "source": [
    "import numpy as np\n",
    "import matplotlib.pyplot as plt\n",
    "import math\n",
    "from util.plots import scatter_plot"
   ]
  },
  {
   "cell_type": "code",
   "execution_count": 360,
   "id": "4dd885f6",
   "metadata": {},
   "outputs": [
    {
     "data": {
      "application/javascript": [
       "\n",
       "            setTimeout(function() {\n",
       "                var nbb_cell_id = 360;\n",
       "                var nbb_unformatted_code = \"np.random.seed(seed=42)\\n\\nCELL_DIMENSION = np.array([16, 16])\\norientation = 60\\nscale = 10\\nrotation_matrix = np.array(\\n    [\\n        [math.cos(orientation), -math.sin(orientation)],\\n        [math.sin(orientation), math.cos(orientation)],\\n    ]\\n)\\n\\nPHASES_PER_UNIT_DISTANCE = 1.0 / np.array([scale, scale])\";\n",
       "                var nbb_formatted_code = \"np.random.seed(seed=42)\\n\\nCELL_DIMENSION = np.array([16, 16])\\norientation = 60\\nscale = 10\\nrotation_matrix = np.array(\\n    [\\n        [math.cos(orientation), -math.sin(orientation)],\\n        [math.sin(orientation), math.cos(orientation)],\\n    ]\\n)\\n\\nPHASES_PER_UNIT_DISTANCE = 1.0 / np.array([scale, scale])\";\n",
       "                var nbb_cells = Jupyter.notebook.get_cells();\n",
       "                for (var i = 0; i < nbb_cells.length; ++i) {\n",
       "                    if (nbb_cells[i].input_prompt_number == nbb_cell_id) {\n",
       "                        if (nbb_cells[i].get_text() == nbb_unformatted_code) {\n",
       "                             nbb_cells[i].set_text(nbb_formatted_code);\n",
       "                        }\n",
       "                        break;\n",
       "                    }\n",
       "                }\n",
       "            }, 500);\n",
       "            "
      ],
      "text/plain": [
       "<IPython.core.display.Javascript object>"
      ]
     },
     "metadata": {},
     "output_type": "display_data"
    }
   ],
   "source": [
    "np.random.seed(seed=42)\n",
    "\n",
    "CELL_DIMENSION = np.array([16, 16])\n",
    "orientation = 60\n",
    "scale = 10\n",
    "rotation_matrix = np.array(\n",
    "    [\n",
    "        [math.cos(orientation), -math.sin(orientation)],\n",
    "        [math.sin(orientation), math.cos(orientation)],\n",
    "    ]\n",
    ")\n",
    "\n",
    "PHASES_PER_UNIT_DISTANCE = 1.0 / np.array([scale, scale])"
   ]
  },
  {
   "cell_type": "code",
   "execution_count": 361,
   "id": "6d068fd8",
   "metadata": {},
   "outputs": [
    {
     "data": {
      "text/plain": [
       "array([0.1, 0.1])"
      ]
     },
     "execution_count": 361,
     "metadata": {},
     "output_type": "execute_result"
    },
    {
     "data": {
      "application/javascript": [
       "\n",
       "            setTimeout(function() {\n",
       "                var nbb_cell_id = 361;\n",
       "                var nbb_unformatted_code = \"PHASES_PER_UNIT_DISTANCE\";\n",
       "                var nbb_formatted_code = \"PHASES_PER_UNIT_DISTANCE\";\n",
       "                var nbb_cells = Jupyter.notebook.get_cells();\n",
       "                for (var i = 0; i < nbb_cells.length; ++i) {\n",
       "                    if (nbb_cells[i].input_prompt_number == nbb_cell_id) {\n",
       "                        if (nbb_cells[i].get_text() == nbb_unformatted_code) {\n",
       "                             nbb_cells[i].set_text(nbb_formatted_code);\n",
       "                        }\n",
       "                        break;\n",
       "                    }\n",
       "                }\n",
       "            }, 500);\n",
       "            "
      ],
      "text/plain": [
       "<IPython.core.display.Javascript object>"
      ]
     },
     "metadata": {},
     "output_type": "display_data"
    }
   ],
   "source": [
    "PHASES_PER_UNIT_DISTANCE"
   ]
  },
  {
   "cell_type": "code",
   "execution_count": 362,
   "id": "2e4d89a1",
   "metadata": {},
   "outputs": [
    {
     "data": {
      "application/javascript": [
       "\n",
       "            setTimeout(function() {\n",
       "                var nbb_cell_id = 362;\n",
       "                var nbb_unformatted_code = \"def get_random_phase():\\n    active_phases = np.random.random(2)\\n\\n    return active_phases\";\n",
       "                var nbb_formatted_code = \"def get_random_phase():\\n    active_phases = np.random.random(2)\\n\\n    return active_phases\";\n",
       "                var nbb_cells = Jupyter.notebook.get_cells();\n",
       "                for (var i = 0; i < nbb_cells.length; ++i) {\n",
       "                    if (nbb_cells[i].input_prompt_number == nbb_cell_id) {\n",
       "                        if (nbb_cells[i].get_text() == nbb_unformatted_code) {\n",
       "                             nbb_cells[i].set_text(nbb_formatted_code);\n",
       "                        }\n",
       "                        break;\n",
       "                    }\n",
       "                }\n",
       "            }, 500);\n",
       "            "
      ],
      "text/plain": [
       "<IPython.core.display.Javascript object>"
      ]
     },
     "metadata": {},
     "output_type": "display_data"
    }
   ],
   "source": [
    "def get_random_phase():\n",
    "    active_phases = np.random.random(2)\n",
    "\n",
    "    return active_phases"
   ]
  },
  {
   "cell_type": "code",
   "execution_count": 363,
   "id": "ea6c7b90",
   "metadata": {},
   "outputs": [
    {
     "data": {
      "application/javascript": [
       "\n",
       "            setTimeout(function() {\n",
       "                var nbb_cell_id = 363;\n",
       "                var nbb_unformatted_code = \"def compute_active_cells(active_phases):\\n    active_cell_coordinates = np.floor(active_phases * CELL_DIMENSION).astype(int)\\n\\n    cells_for_active_phases = np.ravel_multi_index(\\n        active_cell_coordinates.T, CELL_DIMENSION\\n    )\\n\\n    return cells_for_active_phases\";\n",
       "                var nbb_formatted_code = \"def compute_active_cells(active_phases):\\n    active_cell_coordinates = np.floor(active_phases * CELL_DIMENSION).astype(int)\\n\\n    cells_for_active_phases = np.ravel_multi_index(\\n        active_cell_coordinates.T, CELL_DIMENSION\\n    )\\n\\n    return cells_for_active_phases\";\n",
       "                var nbb_cells = Jupyter.notebook.get_cells();\n",
       "                for (var i = 0; i < nbb_cells.length; ++i) {\n",
       "                    if (nbb_cells[i].input_prompt_number == nbb_cell_id) {\n",
       "                        if (nbb_cells[i].get_text() == nbb_unformatted_code) {\n",
       "                             nbb_cells[i].set_text(nbb_formatted_code);\n",
       "                        }\n",
       "                        break;\n",
       "                    }\n",
       "                }\n",
       "            }, 500);\n",
       "            "
      ],
      "text/plain": [
       "<IPython.core.display.Javascript object>"
      ]
     },
     "metadata": {},
     "output_type": "display_data"
    }
   ],
   "source": [
    "def compute_active_cells(active_phases):\n",
    "    active_cell_coordinates = np.floor(active_phases * CELL_DIMENSION).astype(int)\n",
    "\n",
    "    cells_for_active_phases = np.ravel_multi_index(\n",
    "        active_cell_coordinates.T, CELL_DIMENSION\n",
    "    )\n",
    "\n",
    "    return cells_for_active_phases"
   ]
  },
  {
   "cell_type": "code",
   "execution_count": 364,
   "id": "d9bc5ffa",
   "metadata": {},
   "outputs": [
    {
     "data": {
      "application/javascript": [
       "\n",
       "            setTimeout(function() {\n",
       "                var nbb_cell_id = 364;\n",
       "                var nbb_unformatted_code = \"def compute_movement(displacement: np.ndarray, active_phases):\\n    phase_displacement = (\\n        np.matmul(rotation_matrix, displacement) * PHASES_PER_UNIT_DISTANCE\\n    )\\n\\n    active_phases = active_phases + phase_displacement\\n\\n    active_phases = np.round(active_phases, decimals=9)\\n    active_phases = np.mod(active_phases, 1.0)\\n\\n    return active_phases\";\n",
       "                var nbb_formatted_code = \"def compute_movement(displacement: np.ndarray, active_phases):\\n    phase_displacement = (\\n        np.matmul(rotation_matrix, displacement) * PHASES_PER_UNIT_DISTANCE\\n    )\\n\\n    active_phases = active_phases + phase_displacement\\n\\n    active_phases = np.round(active_phases, decimals=9)\\n    active_phases = np.mod(active_phases, 1.0)\\n\\n    return active_phases\";\n",
       "                var nbb_cells = Jupyter.notebook.get_cells();\n",
       "                for (var i = 0; i < nbb_cells.length; ++i) {\n",
       "                    if (nbb_cells[i].input_prompt_number == nbb_cell_id) {\n",
       "                        if (nbb_cells[i].get_text() == nbb_unformatted_code) {\n",
       "                             nbb_cells[i].set_text(nbb_formatted_code);\n",
       "                        }\n",
       "                        break;\n",
       "                    }\n",
       "                }\n",
       "            }, 500);\n",
       "            "
      ],
      "text/plain": [
       "<IPython.core.display.Javascript object>"
      ]
     },
     "metadata": {},
     "output_type": "display_data"
    }
   ],
   "source": [
    "def compute_movement(displacement: np.ndarray, active_phases):\n",
    "    phase_displacement = (\n",
    "        np.matmul(rotation_matrix, displacement) * PHASES_PER_UNIT_DISTANCE\n",
    "    )\n",
    "\n",
    "    active_phases = active_phases + phase_displacement\n",
    "\n",
    "    active_phases = np.round(active_phases, decimals=9)\n",
    "    active_phases = np.mod(active_phases, 1.0)\n",
    "\n",
    "    return active_phases"
   ]
  },
  {
   "cell_type": "code",
   "execution_count": 365,
   "id": "fab22f29",
   "metadata": {},
   "outputs": [
    {
     "data": {
      "application/javascript": [
       "\n",
       "            setTimeout(function() {\n",
       "                var nbb_cell_id = 365;\n",
       "                var nbb_unformatted_code = \"displacements = np.random.randint(-3, 4, (100000, 2))\";\n",
       "                var nbb_formatted_code = \"displacements = np.random.randint(-3, 4, (100000, 2))\";\n",
       "                var nbb_cells = Jupyter.notebook.get_cells();\n",
       "                for (var i = 0; i < nbb_cells.length; ++i) {\n",
       "                    if (nbb_cells[i].input_prompt_number == nbb_cell_id) {\n",
       "                        if (nbb_cells[i].get_text() == nbb_unformatted_code) {\n",
       "                             nbb_cells[i].set_text(nbb_formatted_code);\n",
       "                        }\n",
       "                        break;\n",
       "                    }\n",
       "                }\n",
       "            }, 500);\n",
       "            "
      ],
      "text/plain": [
       "<IPython.core.display.Javascript object>"
      ]
     },
     "metadata": {},
     "output_type": "display_data"
    }
   ],
   "source": [
    "displacements = np.random.randint(-3, 4, (100000, 2))"
   ]
  },
  {
   "cell_type": "code",
   "execution_count": 366,
   "id": "21825a57",
   "metadata": {},
   "outputs": [
    {
     "data": {
      "application/javascript": [
       "\n",
       "            setTimeout(function() {\n",
       "                var nbb_cell_id = 366;\n",
       "                var nbb_unformatted_code = \"rnd_phase = get_random_phase()\\nactive_cells = [compute_active_cells(rnd_phase)]\\n\\nactive_phase = rnd_phase\\nfor dis in displacements:\\n    active_phase = compute_movement(dis, active_phase)\\n    active_cell = compute_active_cells(active_phase)\\n\\n    active_cells.append(active_cell)\";\n",
       "                var nbb_formatted_code = \"rnd_phase = get_random_phase()\\nactive_cells = [compute_active_cells(rnd_phase)]\\n\\nactive_phase = rnd_phase\\nfor dis in displacements:\\n    active_phase = compute_movement(dis, active_phase)\\n    active_cell = compute_active_cells(active_phase)\\n\\n    active_cells.append(active_cell)\";\n",
       "                var nbb_cells = Jupyter.notebook.get_cells();\n",
       "                for (var i = 0; i < nbb_cells.length; ++i) {\n",
       "                    if (nbb_cells[i].input_prompt_number == nbb_cell_id) {\n",
       "                        if (nbb_cells[i].get_text() == nbb_unformatted_code) {\n",
       "                             nbb_cells[i].set_text(nbb_formatted_code);\n",
       "                        }\n",
       "                        break;\n",
       "                    }\n",
       "                }\n",
       "            }, 500);\n",
       "            "
      ],
      "text/plain": [
       "<IPython.core.display.Javascript object>"
      ]
     },
     "metadata": {},
     "output_type": "display_data"
    }
   ],
   "source": [
    "rnd_phase = get_random_phase()\n",
    "active_cells = [compute_active_cells(rnd_phase)]\n",
    "\n",
    "active_phase = rnd_phase\n",
    "for dis in displacements:\n",
    "    active_phase = compute_movement(dis, active_phase)\n",
    "    active_cell = compute_active_cells(active_phase)\n",
    "\n",
    "    active_cells.append(active_cell)"
   ]
  },
  {
   "cell_type": "code",
   "execution_count": 367,
   "id": "6b80bd10",
   "metadata": {},
   "outputs": [
    {
     "data": {
      "application/javascript": [
       "\n",
       "            setTimeout(function() {\n",
       "                var nbb_cell_id = 367;\n",
       "                var nbb_unformatted_code = \"def calculate_points_from_displacements(displacements):\\n    xs = [0]\\n    ys = [0]\\n\\n    for i in range(len(displacements)):\\n        xs.append(xs[i] + displacements[i][0])\\n        ys.append(ys[i] + displacements[i][1])\\n\\n    return xs, ys\";\n",
       "                var nbb_formatted_code = \"def calculate_points_from_displacements(displacements):\\n    xs = [0]\\n    ys = [0]\\n\\n    for i in range(len(displacements)):\\n        xs.append(xs[i] + displacements[i][0])\\n        ys.append(ys[i] + displacements[i][1])\\n\\n    return xs, ys\";\n",
       "                var nbb_cells = Jupyter.notebook.get_cells();\n",
       "                for (var i = 0; i < nbb_cells.length; ++i) {\n",
       "                    if (nbb_cells[i].input_prompt_number == nbb_cell_id) {\n",
       "                        if (nbb_cells[i].get_text() == nbb_unformatted_code) {\n",
       "                             nbb_cells[i].set_text(nbb_formatted_code);\n",
       "                        }\n",
       "                        break;\n",
       "                    }\n",
       "                }\n",
       "            }, 500);\n",
       "            "
      ],
      "text/plain": [
       "<IPython.core.display.Javascript object>"
      ]
     },
     "metadata": {},
     "output_type": "display_data"
    }
   ],
   "source": [
    "def calculate_points_from_displacements(displacements):\n",
    "    xs = [0]\n",
    "    ys = [0]\n",
    "\n",
    "    for i in range(len(displacements)):\n",
    "        xs.append(xs[i] + displacements[i][0])\n",
    "        ys.append(ys[i] + displacements[i][1])\n",
    "\n",
    "    return xs, ys"
   ]
  },
  {
   "cell_type": "code",
   "execution_count": 368,
   "id": "c3de2f44",
   "metadata": {},
   "outputs": [
    {
     "data": {
      "application/javascript": [
       "\n",
       "            setTimeout(function() {\n",
       "                var nbb_cell_id = 368;\n",
       "                var nbb_unformatted_code = \"xs, ys = calculate_points_from_displacements(displacements)\";\n",
       "                var nbb_formatted_code = \"xs, ys = calculate_points_from_displacements(displacements)\";\n",
       "                var nbb_cells = Jupyter.notebook.get_cells();\n",
       "                for (var i = 0; i < nbb_cells.length; ++i) {\n",
       "                    if (nbb_cells[i].input_prompt_number == nbb_cell_id) {\n",
       "                        if (nbb_cells[i].get_text() == nbb_unformatted_code) {\n",
       "                             nbb_cells[i].set_text(nbb_formatted_code);\n",
       "                        }\n",
       "                        break;\n",
       "                    }\n",
       "                }\n",
       "            }, 500);\n",
       "            "
      ],
      "text/plain": [
       "<IPython.core.display.Javascript object>"
      ]
     },
     "metadata": {},
     "output_type": "display_data"
    }
   ],
   "source": [
    "xs, ys = calculate_points_from_displacements(displacements)"
   ]
  },
  {
   "cell_type": "code",
   "execution_count": 369,
   "id": "152bf7c5",
   "metadata": {},
   "outputs": [
    {
     "data": {
      "application/javascript": [
       "\n",
       "            setTimeout(function() {\n",
       "                var nbb_cell_id = 369;\n",
       "                var nbb_unformatted_code = \"indices = [i for i, x in enumerate(active_cells) if x == 91]\";\n",
       "                var nbb_formatted_code = \"indices = [i for i, x in enumerate(active_cells) if x == 91]\";\n",
       "                var nbb_cells = Jupyter.notebook.get_cells();\n",
       "                for (var i = 0; i < nbb_cells.length; ++i) {\n",
       "                    if (nbb_cells[i].input_prompt_number == nbb_cell_id) {\n",
       "                        if (nbb_cells[i].get_text() == nbb_unformatted_code) {\n",
       "                             nbb_cells[i].set_text(nbb_formatted_code);\n",
       "                        }\n",
       "                        break;\n",
       "                    }\n",
       "                }\n",
       "            }, 500);\n",
       "            "
      ],
      "text/plain": [
       "<IPython.core.display.Javascript object>"
      ]
     },
     "metadata": {},
     "output_type": "display_data"
    }
   ],
   "source": [
    "indices = [i for i, x in enumerate(active_cells) if x == 91]"
   ]
  },
  {
   "cell_type": "code",
   "execution_count": 370,
   "id": "ac12313c",
   "metadata": {},
   "outputs": [
    {
     "data": {
      "application/javascript": [
       "\n",
       "            setTimeout(function() {\n",
       "                var nbb_cell_id = 370;\n",
       "                var nbb_unformatted_code = \"xs_filt, ys_filt = zip(*[(xs[i], ys[i]) for i in indices])\";\n",
       "                var nbb_formatted_code = \"xs_filt, ys_filt = zip(*[(xs[i], ys[i]) for i in indices])\";\n",
       "                var nbb_cells = Jupyter.notebook.get_cells();\n",
       "                for (var i = 0; i < nbb_cells.length; ++i) {\n",
       "                    if (nbb_cells[i].input_prompt_number == nbb_cell_id) {\n",
       "                        if (nbb_cells[i].get_text() == nbb_unformatted_code) {\n",
       "                             nbb_cells[i].set_text(nbb_formatted_code);\n",
       "                        }\n",
       "                        break;\n",
       "                    }\n",
       "                }\n",
       "            }, 500);\n",
       "            "
      ],
      "text/plain": [
       "<IPython.core.display.Javascript object>"
      ]
     },
     "metadata": {},
     "output_type": "display_data"
    }
   ],
   "source": [
    "xs_filt, ys_filt = zip(*[(xs[i], ys[i]) for i in indices])"
   ]
  },
  {
   "cell_type": "code",
   "execution_count": 371,
   "id": "5c247c6b",
   "metadata": {},
   "outputs": [
    {
     "data": {
      "text/plain": [
       "(5,\n",
       " 5,\n",
       " 8,\n",
       " 2,\n",
       " 2,\n",
       " 12,\n",
       " -1,\n",
       " -1,\n",
       " -20,\n",
       " -20,\n",
       " -4,\n",
       " -71,\n",
       " -29,\n",
       " -20,\n",
       " 12,\n",
       " -4,\n",
       " 15,\n",
       " 15,\n",
       " 15,\n",
       " 9,\n",
       " -28,\n",
       " 60,\n",
       " 44,\n",
       " 44,\n",
       " 39,\n",
       " 33,\n",
       " 36,\n",
       " 20,\n",
       " -18,\n",
       " -54,\n",
       " -79,\n",
       " -158,\n",
       " -107,\n",
       " -87,\n",
       " -84,\n",
       " -112,\n",
       " -172,\n",
       " -210,\n",
       " -191,\n",
       " -157,\n",
       " -151,\n",
       " -157,\n",
       " -154,\n",
       " -151,\n",
       " -138,\n",
       " -161,\n",
       " -161,\n",
       " -186,\n",
       " -154,\n",
       " -155,\n",
       " -164,\n",
       " -123,\n",
       " -123,\n",
       " -123,\n",
       " -123,\n",
       " -119,\n",
       " -113,\n",
       " -34,\n",
       " -22,\n",
       " 45,\n",
       " 32,\n",
       " 79,\n",
       " 29,\n",
       " 10,\n",
       " -41,\n",
       " -41,\n",
       " -31,\n",
       " -31,\n",
       " -22,\n",
       " 19,\n",
       " 98,\n",
       " 80,\n",
       " 80,\n",
       " 68,\n",
       " 68,\n",
       " 58,\n",
       " 58,\n",
       " 20,\n",
       " 30,\n",
       " 20,\n",
       " -11,\n",
       " -11,\n",
       " -17,\n",
       " -17,\n",
       " -17,\n",
       " -17,\n",
       " -11,\n",
       " 74,\n",
       " 105,\n",
       " 133,\n",
       " 199,\n",
       " 138,\n",
       " 154,\n",
       " 154,\n",
       " 113,\n",
       " 141,\n",
       " 144,\n",
       " 157,\n",
       " 157,\n",
       " 161,\n",
       " 151,\n",
       " 198,\n",
       " 198,\n",
       " 192,\n",
       " 180,\n",
       " 173,\n",
       " 192,\n",
       " 229,\n",
       " 305,\n",
       " 340,\n",
       " 397,\n",
       " 397,\n",
       " 416,\n",
       " 422,\n",
       " 422,\n",
       " 394,\n",
       " 340,\n",
       " 336,\n",
       " 324,\n",
       " 327,\n",
       " 349,\n",
       " 355,\n",
       " 406,\n",
       " 402,\n",
       " 481,\n",
       " 519,\n",
       " 519,\n",
       " 449,\n",
       " 430,\n",
       " 424,\n",
       " 437,\n",
       " 452,\n",
       " 417,\n",
       " 442,\n",
       " 429,\n",
       " 398,\n",
       " 398,\n",
       " 420,\n",
       " 401,\n",
       " 401,\n",
       " 366,\n",
       " 366,\n",
       " 316,\n",
       " 291,\n",
       " 341,\n",
       " 344,\n",
       " 328,\n",
       " 347,\n",
       " 334,\n",
       " 382,\n",
       " 385,\n",
       " 369,\n",
       " 360,\n",
       " 360,\n",
       " 376,\n",
       " 398,\n",
       " 394,\n",
       " 388,\n",
       " 410,\n",
       " 461,\n",
       " 483,\n",
       " 423,\n",
       " 429,\n",
       " 357,\n",
       " 388,\n",
       " 398,\n",
       " 398,\n",
       " 429,\n",
       " 413,\n",
       " 442,\n",
       " 429,\n",
       " 407,\n",
       " 411,\n",
       " 430,\n",
       " 430,\n",
       " 436,\n",
       " 426,\n",
       " 436,\n",
       " 431,\n",
       " 431,\n",
       " 460,\n",
       " 489,\n",
       " 441,\n",
       " 435,\n",
       " 422,\n",
       " 412,\n",
       " 396,\n",
       " 383,\n",
       " 320,\n",
       " 367,\n",
       " 386,\n",
       " 408,\n",
       " 386,\n",
       " 380,\n",
       " 380,\n",
       " 351,\n",
       " 351,\n",
       " 370,\n",
       " 351,\n",
       " 351,\n",
       " 342,\n",
       " 342,\n",
       " 316,\n",
       " 288,\n",
       " 288,\n",
       " 313,\n",
       " 310,\n",
       " 288,\n",
       " 289,\n",
       " 242,\n",
       " 242,\n",
       " 261,\n",
       " 305,\n",
       " 280,\n",
       " 280,\n",
       " 277,\n",
       " 274,\n",
       " 274,\n",
       " 366,\n",
       " 324,\n",
       " 324,\n",
       " 274,\n",
       " 243,\n",
       " 221,\n",
       " 199,\n",
       " 202,\n",
       " 196,\n",
       " 196,\n",
       " 202,\n",
       " 183,\n",
       " 196,\n",
       " 268,\n",
       " 268,\n",
       " 237,\n",
       " 244,\n",
       " 247,\n",
       " 304,\n",
       " 279,\n",
       " 279,\n",
       " 225,\n",
       " 219,\n",
       " 219,\n",
       " 209,\n",
       " 215,\n",
       " 199,\n",
       " 215,\n",
       " 171,\n",
       " 161,\n",
       " 158,\n",
       " 142,\n",
       " 160,\n",
       " 169,\n",
       " 191,\n",
       " 169,\n",
       " 169,\n",
       " 159,\n",
       " 159,\n",
       " 175,\n",
       " 185,\n",
       " 185,\n",
       " 121,\n",
       " 124,\n",
       " 127,\n",
       " 36,\n",
       " 52,\n",
       " 30,\n",
       " 55,\n",
       " 49,\n",
       " 14,\n",
       " -33,\n",
       " -42,\n",
       " -39,\n",
       " 3,\n",
       " 3,\n",
       " -57,\n",
       " -51,\n",
       " -64,\n",
       " -71,\n",
       " -52,\n",
       " -59,\n",
       " -6,\n",
       " -56,\n",
       " -56,\n",
       " -28,\n",
       " -28,\n",
       " -28,\n",
       " -18,\n",
       " -24,\n",
       " 1,\n",
       " -24,\n",
       " -6,\n",
       " 29,\n",
       " 42,\n",
       " 17,\n",
       " -12,\n",
       " -37,\n",
       " -59,\n",
       " -49,\n",
       " -90,\n",
       " -106,\n",
       " -87,\n",
       " -54,\n",
       " -101,\n",
       " -89,\n",
       " -112,\n",
       " -131,\n",
       " -125,\n",
       " -150,\n",
       " -150,\n",
       " -119,\n",
       " -144,\n",
       " -65,\n",
       " -97,\n",
       " -97,\n",
       " -84,\n",
       " -151,\n",
       " -116,\n",
       " -97,\n",
       " -72,\n",
       " -66,\n",
       " -47,\n",
       " -41,\n",
       " -35,\n",
       " -57,\n",
       " -105,\n",
       " -115,\n",
       " -115,\n",
       " -20,\n",
       " 15,\n",
       " 15,\n",
       " 101,\n",
       " 82,\n",
       " 66,\n",
       " 66,\n",
       " 44,\n",
       " 15,\n",
       " 15,\n",
       " 5,\n",
       " 21,\n",
       " 24,\n",
       " -20,\n",
       " -30,\n",
       " 46,\n",
       " 27,\n",
       " 27,\n",
       " 40,\n",
       " -2,\n",
       " 20,\n",
       " 17,\n",
       " 17,\n",
       " 14,\n",
       " 39,\n",
       " 74,\n",
       " 83,\n",
       " 83,\n",
       " 130,\n",
       " 121,\n",
       " 71,\n",
       " 68,\n",
       " 49,\n",
       " 46,\n",
       " -27,\n",
       " 20,\n",
       " -9,\n",
       " -9,\n",
       " -12,\n",
       " -9,\n",
       " -9,\n",
       " 12,\n",
       " 12,\n",
       " -7,\n",
       " 6,\n",
       " 25,\n",
       " 19,\n",
       " 9,\n",
       " 38,\n",
       " -4,\n",
       " -10,\n",
       " -54,\n",
       " -60,\n",
       " -54,\n",
       " -51,\n",
       " -47,\n",
       " -47,\n",
       " -63,\n",
       " -191,\n",
       " -191,\n",
       " -169,\n",
       " -169,\n",
       " -180,\n",
       " -170,\n",
       " -170,\n",
       " -148,\n",
       " -179,\n",
       " -194,\n",
       " -175,\n",
       " -216,\n",
       " -212,\n",
       " -215,\n",
       " -199,\n",
       " -212,\n",
       " -190,\n",
       " -187,\n",
       " -187,\n",
       " -161,\n",
       " -126,\n",
       " -111,\n",
       " -111,\n",
       " -66,\n",
       " -53,\n",
       " -53,\n",
       " -47,\n",
       " -57,\n",
       " -22,\n",
       " -6,\n",
       " -53,\n",
       " -82,\n",
       " -92,\n",
       " -92,\n",
       " -95,\n",
       " -121,\n",
       " -206,\n",
       " -190,\n",
       " -171,\n",
       " -123,\n",
       " -164,\n",
       " -167,\n",
       " -148,\n",
       " -145,\n",
       " -98,\n",
       " -101,\n",
       " -148,\n",
       " -170,\n",
       " -110)"
      ]
     },
     "execution_count": 371,
     "metadata": {},
     "output_type": "execute_result"
    },
    {
     "data": {
      "application/javascript": [
       "\n",
       "            setTimeout(function() {\n",
       "                var nbb_cell_id = 371;\n",
       "                var nbb_unformatted_code = \"xs_filt\";\n",
       "                var nbb_formatted_code = \"xs_filt\";\n",
       "                var nbb_cells = Jupyter.notebook.get_cells();\n",
       "                for (var i = 0; i < nbb_cells.length; ++i) {\n",
       "                    if (nbb_cells[i].input_prompt_number == nbb_cell_id) {\n",
       "                        if (nbb_cells[i].get_text() == nbb_unformatted_code) {\n",
       "                             nbb_cells[i].set_text(nbb_formatted_code);\n",
       "                        }\n",
       "                        break;\n",
       "                    }\n",
       "                }\n",
       "            }, 500);\n",
       "            "
      ],
      "text/plain": [
       "<IPython.core.display.Javascript object>"
      ]
     },
     "metadata": {},
     "output_type": "display_data"
    }
   ],
   "source": [
    "xs_filt"
   ]
  },
  {
   "cell_type": "code",
   "execution_count": 372,
   "id": "5761aeac",
   "metadata": {},
   "outputs": [
    {
     "data": {
      "image/png": "[encoded data removed]",
      "text/plain": [
       "<Figure size 700x700 with 1 Axes>"
      ]
     },
     "metadata": {},
     "output_type": "display_data"
    },
    {
     "data": {
      "application/javascript": [
       "\n",
       "            setTimeout(function() {\n",
       "                var nbb_cell_id = 372;\n",
       "                var nbb_unformatted_code = \"scatter_plot(xs_filt, ys_filt, lim=(-300, 300))\";\n",
       "                var nbb_formatted_code = \"scatter_plot(xs_filt, ys_filt, lim=(-300, 300))\";\n",
       "                var nbb_cells = Jupyter.notebook.get_cells();\n",
       "                for (var i = 0; i < nbb_cells.length; ++i) {\n",
       "                    if (nbb_cells[i].input_prompt_number == nbb_cell_id) {\n",
       "                        if (nbb_cells[i].get_text() == nbb_unformatted_code) {\n",
       "                             nbb_cells[i].set_text(nbb_formatted_code);\n",
       "                        }\n",
       "                        break;\n",
       "                    }\n",
       "                }\n",
       "            }, 500);\n",
       "            "
      ],
      "text/plain": [
       "<IPython.core.display.Javascript object>"
      ]
     },
     "metadata": {},
     "output_type": "display_data"
    }
   ],
   "source": [
    "scatter_plot(xs_filt, ys_filt, lim=(-300, 300))"
   ]
  },
  {
   "cell_type": "code",
   "execution_count": 355,
   "id": "ceed4e26",
   "metadata": {},
   "outputs": [
    {
     "data": {
      "application/javascript": [
       "\n",
       "            setTimeout(function() {\n",
       "                var nbb_cell_id = 355;\n",
       "                var nbb_unformatted_code = \"x, y = np.unravel_index(active_cells, CELL_DIMENSION)\";\n",
       "                var nbb_formatted_code = \"x, y = np.unravel_index(active_cells, CELL_DIMENSION)\";\n",
       "                var nbb_cells = Jupyter.notebook.get_cells();\n",
       "                for (var i = 0; i < nbb_cells.length; ++i) {\n",
       "                    if (nbb_cells[i].input_prompt_number == nbb_cell_id) {\n",
       "                        if (nbb_cells[i].get_text() == nbb_unformatted_code) {\n",
       "                             nbb_cells[i].set_text(nbb_formatted_code);\n",
       "                        }\n",
       "                        break;\n",
       "                    }\n",
       "                }\n",
       "            }, 500);\n",
       "            "
      ],
      "text/plain": [
       "<IPython.core.display.Javascript object>"
      ]
     },
     "metadata": {},
     "output_type": "display_data"
    }
   ],
   "source": [
    "x, y = np.unravel_index(active_cells, CELL_DIMENSION)"
   ]
  },
  {
   "cell_type": "code",
   "execution_count": 356,
   "id": "85c9d603",
   "metadata": {
    "scrolled": false
   },
   "outputs": [
    {
     "data": {
      "image/png": "[encoded data removed]",
      "text/plain": [
       "<Figure size 700x700 with 1 Axes>"
      ]
     },
     "metadata": {},
     "output_type": "display_data"
    },
    {
     "data": {
      "application/javascript": [
       "\n",
       "            setTimeout(function() {\n",
       "                var nbb_cell_id = 356;\n",
       "                var nbb_unformatted_code = \"scatter_plot(x, y, lim=(0, 15))\";\n",
       "                var nbb_formatted_code = \"scatter_plot(x, y, lim=(0, 15))\";\n",
       "                var nbb_cells = Jupyter.notebook.get_cells();\n",
       "                for (var i = 0; i < nbb_cells.length; ++i) {\n",
       "                    if (nbb_cells[i].input_prompt_number == nbb_cell_id) {\n",
       "                        if (nbb_cells[i].get_text() == nbb_unformatted_code) {\n",
       "                             nbb_cells[i].set_text(nbb_formatted_code);\n",
       "                        }\n",
       "                        break;\n",
       "                    }\n",
       "                }\n",
       "            }, 500);\n",
       "            "
      ],
      "text/plain": [
       "<IPython.core.display.Javascript object>"
      ]
     },
     "metadata": {},
     "output_type": "display_data"
    }
   ],
   "source": [
    "scatter_plot(x, y, lim=(0, 15))"
   ]
  },
  {
   "cell_type": "code",
   "execution_count": null,
   "id": "fa12498c",
   "metadata": {},
   "outputs": [],
   "source": []
  }
 ],
 "metadata": {
  "kernelspec": {
   "display_name": "Python 3 (ipykernel)",
   "language": "python",
   "name": "python3"
  },
  "language_info": {
   "codemirror_mode": {
    "name": "ipython",
    "version": 3
   },
   "file_extension": ".py",
   "mimetype": "text/x-python",
   "name": "python",
   "nbconvert_exporter": "python",
   "pygments_lexer": "ipython3",
   "version": "3.10.0"
  }
 },
 "nbformat": 4,
 "nbformat_minor": 5
}
