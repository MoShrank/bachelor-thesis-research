{
 "cells": [
  {
   "cell_type": "code",
   "execution_count": 1,
   "id": "c80bc6bc",
   "metadata": {},
   "outputs": [
    {
     "data": {
      "application/javascript": [
       "\n",
       "            setTimeout(function() {\n",
       "                var nbb_cell_id = 1;\n",
       "                var nbb_unformatted_code = \"%load_ext nb_black\\n%load_ext autoreload\\n%autoreload 2\";\n",
       "                var nbb_formatted_code = \"%load_ext nb_black\\n%load_ext autoreload\\n%autoreload 2\";\n",
       "                var nbb_cells = Jupyter.notebook.get_cells();\n",
       "                for (var i = 0; i < nbb_cells.length; ++i) {\n",
       "                    if (nbb_cells[i].input_prompt_number == nbb_cell_id) {\n",
       "                        if (nbb_cells[i].get_text() == nbb_unformatted_code) {\n",
       "                             nbb_cells[i].set_text(nbb_formatted_code);\n",
       "                        }\n",
       "                        break;\n",
       "                    }\n",
       "                }\n",
       "            }, 500);\n",
       "            "
      ],
      "text/plain": [
       "<IPython.core.display.Javascript object>"
      ]
     },
     "metadata": {},
     "output_type": "display_data"
    }
   ],
   "source": [
    "%load_ext nb_black\n",
    "%load_ext autoreload\n",
    "%autoreload 2"
   ]
  },
  {
   "cell_type": "code",
   "execution_count": 34,
   "id": "8f0dbfc7",
   "metadata": {},
   "outputs": [
    {
     "data": {
      "application/javascript": [
       "\n",
       "            setTimeout(function() {\n",
       "                var nbb_cell_id = 34;\n",
       "                var nbb_unformatted_code = \"import numpy as np\\nimport matplotlib.pyplot as plt\\nimport math\\nfrom util.plots import scatter_plot\\nfrom typing import List, Dict\\nfrom tqdm.notebook import tqdm\";\n",
       "                var nbb_formatted_code = \"import numpy as np\\nimport matplotlib.pyplot as plt\\nimport math\\nfrom util.plots import scatter_plot\\nfrom typing import List, Dict\\nfrom tqdm.notebook import tqdm\";\n",
       "                var nbb_cells = Jupyter.notebook.get_cells();\n",
       "                for (var i = 0; i < nbb_cells.length; ++i) {\n",
       "                    if (nbb_cells[i].input_prompt_number == nbb_cell_id) {\n",
       "                        if (nbb_cells[i].get_text() == nbb_unformatted_code) {\n",
       "                             nbb_cells[i].set_text(nbb_formatted_code);\n",
       "                        }\n",
       "                        break;\n",
       "                    }\n",
       "                }\n",
       "            }, 500);\n",
       "            "
      ],
      "text/plain": [
       "<IPython.core.display.Javascript object>"
      ]
     },
     "metadata": {},
     "output_type": "display_data"
    }
   ],
   "source": [
    "import numpy as np\n",
    "import matplotlib.pyplot as plt\n",
    "import math\n",
    "from util.plots import scatter_plot\n",
    "from typing import List, Dict\n",
    "from tqdm.notebook import tqdm"
   ]
  },
  {
   "cell_type": "code",
   "execution_count": 3,
   "id": "4dd885f6",
   "metadata": {},
   "outputs": [
    {
     "data": {
      "application/javascript": [
       "\n",
       "            setTimeout(function() {\n",
       "                var nbb_cell_id = 3;\n",
       "                var nbb_unformatted_code = \"np.random.seed(seed=42)\\n\\nCELL_DIMENSION = np.array([16, 16])\\norientation = 60\\nscale = 10\\nrotation_matrix = np.array(\\n    [\\n        [math.cos(orientation), -math.sin(orientation)],\\n        [math.sin(orientation), math.cos(orientation)],\\n    ]\\n)\\n\\nPHASES_PER_UNIT_DISTANCE = 1.0 / np.array([scale, scale])\";\n",
       "                var nbb_formatted_code = \"np.random.seed(seed=42)\\n\\nCELL_DIMENSION = np.array([16, 16])\\norientation = 60\\nscale = 10\\nrotation_matrix = np.array(\\n    [\\n        [math.cos(orientation), -math.sin(orientation)],\\n        [math.sin(orientation), math.cos(orientation)],\\n    ]\\n)\\n\\nPHASES_PER_UNIT_DISTANCE = 1.0 / np.array([scale, scale])\";\n",
       "                var nbb_cells = Jupyter.notebook.get_cells();\n",
       "                for (var i = 0; i < nbb_cells.length; ++i) {\n",
       "                    if (nbb_cells[i].input_prompt_number == nbb_cell_id) {\n",
       "                        if (nbb_cells[i].get_text() == nbb_unformatted_code) {\n",
       "                             nbb_cells[i].set_text(nbb_formatted_code);\n",
       "                        }\n",
       "                        break;\n",
       "                    }\n",
       "                }\n",
       "            }, 500);\n",
       "            "
      ],
      "text/plain": [
       "<IPython.core.display.Javascript object>"
      ]
     },
     "metadata": {},
     "output_type": "display_data"
    }
   ],
   "source": [
    "np.random.seed(seed=42)\n",
    "\n",
    "CELL_DIMENSION = np.array([16, 16])\n",
    "orientation = 60\n",
    "scale = 10\n",
    "rotation_matrix = np.array(\n",
    "    [\n",
    "        [math.cos(orientation), -math.sin(orientation)],\n",
    "        [math.sin(orientation), math.cos(orientation)],\n",
    "    ]\n",
    ")\n",
    "\n",
    "PHASES_PER_UNIT_DISTANCE = 1.0 / np.array([scale, scale])"
   ]
  },
  {
   "cell_type": "code",
   "execution_count": 5,
   "id": "2e4d89a1",
   "metadata": {},
   "outputs": [
    {
     "data": {
      "application/javascript": [
       "\n",
       "            setTimeout(function() {\n",
       "                var nbb_cell_id = 5;\n",
       "                var nbb_unformatted_code = \"def get_random_phase():\\n    active_phases = np.random.random(2)\\n\\n    return active_phases\";\n",
       "                var nbb_formatted_code = \"def get_random_phase():\\n    active_phases = np.random.random(2)\\n\\n    return active_phases\";\n",
       "                var nbb_cells = Jupyter.notebook.get_cells();\n",
       "                for (var i = 0; i < nbb_cells.length; ++i) {\n",
       "                    if (nbb_cells[i].input_prompt_number == nbb_cell_id) {\n",
       "                        if (nbb_cells[i].get_text() == nbb_unformatted_code) {\n",
       "                             nbb_cells[i].set_text(nbb_formatted_code);\n",
       "                        }\n",
       "                        break;\n",
       "                    }\n",
       "                }\n",
       "            }, 500);\n",
       "            "
      ],
      "text/plain": [
       "<IPython.core.display.Javascript object>"
      ]
     },
     "metadata": {},
     "output_type": "display_data"
    }
   ],
   "source": [
    "def get_random_phase():\n",
    "    active_phases = np.random.random(2)\n",
    "\n",
    "    return active_phases"
   ]
  },
  {
   "cell_type": "code",
   "execution_count": 7,
   "id": "d9bc5ffa",
   "metadata": {},
   "outputs": [
    {
     "data": {
      "application/javascript": [
       "\n",
       "            setTimeout(function() {\n",
       "                var nbb_cell_id = 7;\n",
       "                var nbb_unformatted_code = \"def compute_movement(displacement: np.ndarray, active_phases):\\n    phase_displacement = (\\n        np.matmul(rotation_matrix, displacement) * PHASES_PER_UNIT_DISTANCE\\n    )\\n\\n    active_phases = active_phases + phase_displacement\\n\\n    active_phases = np.round(active_phases, decimals=9)\\n    active_phases = np.mod(active_phases, 1.0)\\n\\n    return active_phases\";\n",
       "                var nbb_formatted_code = \"def compute_movement(displacement: np.ndarray, active_phases):\\n    phase_displacement = (\\n        np.matmul(rotation_matrix, displacement) * PHASES_PER_UNIT_DISTANCE\\n    )\\n\\n    active_phases = active_phases + phase_displacement\\n\\n    active_phases = np.round(active_phases, decimals=9)\\n    active_phases = np.mod(active_phases, 1.0)\\n\\n    return active_phases\";\n",
       "                var nbb_cells = Jupyter.notebook.get_cells();\n",
       "                for (var i = 0; i < nbb_cells.length; ++i) {\n",
       "                    if (nbb_cells[i].input_prompt_number == nbb_cell_id) {\n",
       "                        if (nbb_cells[i].get_text() == nbb_unformatted_code) {\n",
       "                             nbb_cells[i].set_text(nbb_formatted_code);\n",
       "                        }\n",
       "                        break;\n",
       "                    }\n",
       "                }\n",
       "            }, 500);\n",
       "            "
      ],
      "text/plain": [
       "<IPython.core.display.Javascript object>"
      ]
     },
     "metadata": {},
     "output_type": "display_data"
    }
   ],
   "source": [
    "def compute_movement(displacement: np.ndarray, active_phases):\n",
    "    phase_displacement = (\n",
    "        np.matmul(rotation_matrix, displacement) * PHASES_PER_UNIT_DISTANCE\n",
    "    )\n",
    "\n",
    "    active_phases = active_phases + phase_displacement\n",
    "\n",
    "    active_phases = np.round(active_phases, decimals=9)\n",
    "    active_phases = np.mod(active_phases, 1.0)\n",
    "\n",
    "    return active_phases"
   ]
  },
  {
   "cell_type": "code",
   "execution_count": 20,
   "id": "3c73c964",
   "metadata": {},
   "outputs": [
    {
     "data": {
      "application/javascript": [
       "\n",
       "            setTimeout(function() {\n",
       "                var nbb_cell_id = 20;\n",
       "                var nbb_unformatted_code = \"np.random.seed(seed=42)\\n\\norientation = 60\\nscale = 10\\nrotation_matrix = np.array(\\n    [\\n        [math.cos(orientation), -math.sin(orientation)],\\n        [math.sin(orientation), math.cos(orientation)],\\n    ]\\n)\\n\\nPHASES_PER_UNIT_DISTANCE = 1.0 / np.array([scale, scale])\";\n",
       "                var nbb_formatted_code = \"np.random.seed(seed=42)\\n\\norientation = 60\\nscale = 10\\nrotation_matrix = np.array(\\n    [\\n        [math.cos(orientation), -math.sin(orientation)],\\n        [math.sin(orientation), math.cos(orientation)],\\n    ]\\n)\\n\\nPHASES_PER_UNIT_DISTANCE = 1.0 / np.array([scale, scale])\";\n",
       "                var nbb_cells = Jupyter.notebook.get_cells();\n",
       "                for (var i = 0; i < nbb_cells.length; ++i) {\n",
       "                    if (nbb_cells[i].input_prompt_number == nbb_cell_id) {\n",
       "                        if (nbb_cells[i].get_text() == nbb_unformatted_code) {\n",
       "                             nbb_cells[i].set_text(nbb_formatted_code);\n",
       "                        }\n",
       "                        break;\n",
       "                    }\n",
       "                }\n",
       "            }, 500);\n",
       "            "
      ],
      "text/plain": [
       "<IPython.core.display.Javascript object>"
      ]
     },
     "metadata": {},
     "output_type": "display_data"
    }
   ],
   "source": [
    "np.random.seed(seed=42)\n",
    "\n",
    "orientation = 60\n",
    "scale = 10\n",
    "rotation_matrix = np.array(\n",
    "    [\n",
    "        [math.cos(orientation), -math.sin(orientation)],\n",
    "        [math.sin(orientation), math.cos(orientation)],\n",
    "    ]\n",
    ")\n",
    "\n",
    "PHASES_PER_UNIT_DISTANCE = 1.0 / np.array([scale, scale])"
   ]
  },
  {
   "cell_type": "code",
   "execution_count": null,
   "id": "16e42f71",
   "metadata": {},
   "outputs": [],
   "source": [
    "NO_COLUMNS = 32\n",
    "CELLS_PER_COLUMN = 16\n",
    "sensory_layer_activity = np.zeros((NO_COLUMNS, CELLS_PER_COLUMN)) # A_t^in"
   ]
  },
  {
   "cell_type": "code",
   "execution_count": 25,
   "id": "a449f801",
   "metadata": {},
   "outputs": [
    {
     "data": {
      "application/javascript": [
       "\n",
       "            setTimeout(function() {\n",
       "                var nbb_cell_id = 25;\n",
       "                var nbb_unformatted_code = \"NO_GRID_CELL_MODULES = 32\\nNO_GRID_CELLS_PER_AXIS = 16\\nGRID_MODULE_DIM = np.array([16, 16])\\nTOTAL_GRID_CELLS_PER_MOD = np.prod(GRID_MODULE_DIM)\\nlocation_layer_activity = np.zeros(\\n    (NO_GRID_CELL_MODULES, TOTAL_GRID_CELLS_PER_MOD, NO_COLUMNS, CELLS_PER_COLUMN)\\n)  # A_t^loc\\n# activation states:\\n# sense\\n# loc\";\n",
       "                var nbb_formatted_code = \"NO_GRID_CELL_MODULES = 32\\nNO_GRID_CELLS_PER_AXIS = 16\\nGRID_MODULE_DIM = np.array([16, 16])\\nTOTAL_GRID_CELLS_PER_MOD = np.prod(GRID_MODULE_DIM)\\nlocation_layer_activity = np.zeros(\\n    (NO_GRID_CELL_MODULES, TOTAL_GRID_CELLS_PER_MOD, NO_COLUMNS, CELLS_PER_COLUMN)\\n)  # A_t^loc\\n# activation states:\\n# sense\\n# loc\";\n",
       "                var nbb_cells = Jupyter.notebook.get_cells();\n",
       "                for (var i = 0; i < nbb_cells.length; ++i) {\n",
       "                    if (nbb_cells[i].input_prompt_number == nbb_cell_id) {\n",
       "                        if (nbb_cells[i].get_text() == nbb_unformatted_code) {\n",
       "                             nbb_cells[i].set_text(nbb_formatted_code);\n",
       "                        }\n",
       "                        break;\n",
       "                    }\n",
       "                }\n",
       "            }, 500);\n",
       "            "
      ],
      "text/plain": [
       "<IPython.core.display.Javascript object>"
      ]
     },
     "metadata": {},
     "output_type": "display_data"
    }
   ],
   "source": [
    "NO_GRID_CELL_MODULES = 32\n",
    "NO_GRID_CELLS_PER_AXIS = 16\n",
    "GRID_MODULE_DIM = np.array([16, 16])\n",
    "TOTAL_GRID_CELLS_PER_MOD = np.prod(GRID_MODULE_DIM)\n",
    "location_layer_activity = np.zeros(\n",
    "    (NO_GRID_CELL_MODULES, TOTAL_GRID_CELLS_PER_MOD, NO_COLUMNS, CELLS_PER_COLUMN)\n",
    ")  # A_t^loc\n",
    "# activation states:\n",
    "# sense\n",
    "# loc"
   ]
  },
  {
   "cell_type": "code",
   "execution_count": 44,
   "id": "7eba1459",
   "metadata": {},
   "outputs": [
    {
     "data": {
      "application/javascript": [
       "\n",
       "            setTimeout(function() {\n",
       "                var nbb_cell_id = 44;\n",
       "                var nbb_unformatted_code = \"dendrites_to_sense_layer = np.zeros(\\n    (NO_GRID_CELL_MODULES, TOTAL_GRID_CELLS_PER_MOD, NO_COLUMNS, CELLS_PER_COLUMN)\\n)  # D_c,d^in\\ndendrites_to_loc_layer = np.zeros((NO_COLUMNS, CELLS_PER_COLUMN))  # D_c,d^loc\\n\\n# vector for active dendritic segments\\n# pi_t^in\\n# pi_t^loc\\n# dendritic threshold:\\n# sig^in\\n# sig^loc\";\n",
       "                var nbb_formatted_code = \"dendrites_to_sense_layer = np.zeros(\\n    (NO_GRID_CELL_MODULES, TOTAL_GRID_CELLS_PER_MOD, NO_COLUMNS, CELLS_PER_COLUMN)\\n)  # D_c,d^in\\ndendrites_to_loc_layer = np.zeros((NO_COLUMNS, CELLS_PER_COLUMN))  # D_c,d^loc\\n\\n# vector for active dendritic segments\\n# pi_t^in\\n# pi_t^loc\\n# dendritic threshold:\\n# sig^in\\n# sig^loc\";\n",
       "                var nbb_cells = Jupyter.notebook.get_cells();\n",
       "                for (var i = 0; i < nbb_cells.length; ++i) {\n",
       "                    if (nbb_cells[i].input_prompt_number == nbb_cell_id) {\n",
       "                        if (nbb_cells[i].get_text() == nbb_unformatted_code) {\n",
       "                             nbb_cells[i].set_text(nbb_formatted_code);\n",
       "                        }\n",
       "                        break;\n",
       "                    }\n",
       "                }\n",
       "            }, 500);\n",
       "            "
      ],
      "text/plain": [
       "<IPython.core.display.Javascript object>"
      ]
     },
     "metadata": {},
     "output_type": "display_data"
    }
   ],
   "source": [
    "dendrites_to_sense_layer = np.zeros(\n",
    "    (NO_GRID_CELL_MODULES, TOTAL_GRID_CELLS_PER_MOD, NO_COLUMNS, CELLS_PER_COLUMN)\n",
    ")  # D_c,d^in\n",
    "dendrites_to_loc_layer = np.zeros((NO_COLUMNS, CELLS_PER_COLUMN))  # D_c,d^loc\n",
    "\n",
    "# vector for active dendritic segments\n",
    "# pi_t^in\n",
    "# pi_t^loc\n",
    "# dendritic threshold:\n",
    "# sig^in\n",
    "# sig^loc"
   ]
  },
  {
   "cell_type": "markdown",
   "id": "382e2870",
   "metadata": {},
   "source": [
    "### Algorithm\n",
    "\n",
    "1. movement to update location layer\n",
    "    - calculate new phase - input: displacement vector and old phase; applies translation by rotation and scaling + mod 1 --> outputs binary vector A_t,move^loc\n",
    "    - if no movement is given, activate random location ???\n",
    "2. predict sensory information from location layer output\n",
    "    - predictions represented by pi_t^in = activity of distal dendritic segments - Eq2 in paper\n",
    "        --> modularoty effect\n",
    "3. calculate activity in sensory layer\n",
    "    - all cells share same feedforward receptive fields (how are these fields initialised???\n",
    "    - sensory features represented by sparse subset of mini-columns = W_t^in\n",
    "    - if cell is predicted and in active mini-columns: activate cell and inhibit other cells in mini-column; else: all cells become active\n",
    "    - - multiple cells can be active if predicted by location layer\n",
    "    - formula uq: 6 for activation logic\n",
    "4. update location layer based on sensory cues\n",
    "    - location layer receiver input from sensory layer (in form of W_t^in???)\n",
    "    - calculate overlap EQ 3 & 4\n",
    "repeat because new movement is received\n",
    "\n",
    "Learning:\n",
    "- strenghtening between connections of both layer\n",
    "- when new object is learned: location representation is randomly initialised (each object has its own location space = multiple objects can be represented at the same time because their representation has low probability of overlap\n",
    "- sensory layer: random cell in each column will be active\n",
    "- form reciprocal connections on one of their dendritic segments (d') (EQ 5 & 6)\n",
    "--> if synapse exist it is unaffected otherwise it is formed"
   ]
  },
  {
   "cell_type": "code",
   "execution_count": 41,
   "id": "df723f25",
   "metadata": {},
   "outputs": [
    {
     "data": {
      "application/javascript": [
       "\n",
       "            setTimeout(function() {\n",
       "                var nbb_cell_id = 41;\n",
       "                var nbb_unformatted_code = \"THRESHOLD = 10\";\n",
       "                var nbb_formatted_code = \"THRESHOLD = 10\";\n",
       "                var nbb_cells = Jupyter.notebook.get_cells();\n",
       "                for (var i = 0; i < nbb_cells.length; ++i) {\n",
       "                    if (nbb_cells[i].input_prompt_number == nbb_cell_id) {\n",
       "                        if (nbb_cells[i].get_text() == nbb_unformatted_code) {\n",
       "                             nbb_cells[i].set_text(nbb_formatted_code);\n",
       "                        }\n",
       "                        break;\n",
       "                    }\n",
       "                }\n",
       "            }, 500);\n",
       "            "
      ],
      "text/plain": [
       "<IPython.core.display.Javascript object>"
      ]
     },
     "metadata": {},
     "output_type": "display_data"
    }
   ],
   "source": [
    "THRESHOLD = 10"
   ]
  },
  {
   "cell_type": "code",
   "execution_count": 65,
   "id": "60ce4a97",
   "metadata": {},
   "outputs": [
    {
     "data": {
      "text/plain": [
       "array([[[[1, 1, 1, ..., 0, 0, 0],\n",
       "         [0, 1, 0, ..., 0, 0, 0],\n",
       "         [1, 0, 1, ..., 0, 0, 1],\n",
       "         ...,\n",
       "         [0, 0, 0, ..., 1, 1, 0],\n",
       "         [0, 0, 1, ..., 0, 1, 0],\n",
       "         [1, 0, 0, ..., 0, 0, 1]],\n",
       "\n",
       "        [[0, 1, 1, ..., 1, 0, 0],\n",
       "         [0, 1, 1, ..., 0, 0, 1],\n",
       "         [0, 1, 1, ..., 1, 0, 1],\n",
       "         ...,\n",
       "         [0, 1, 1, ..., 1, 1, 1],\n",
       "         [0, 1, 0, ..., 1, 0, 0],\n",
       "         [0, 1, 0, ..., 1, 1, 0]],\n",
       "\n",
       "        [[0, 0, 1, ..., 1, 0, 1],\n",
       "         [0, 1, 1, ..., 0, 0, 1],\n",
       "         [0, 1, 0, ..., 1, 0, 0],\n",
       "         ...,\n",
       "         [1, 1, 0, ..., 1, 0, 0],\n",
       "         [1, 0, 1, ..., 0, 0, 1],\n",
       "         [1, 0, 1, ..., 0, 1, 1]],\n",
       "\n",
       "        ...,\n",
       "\n",
       "        [[0, 1, 0, ..., 1, 1, 0],\n",
       "         [0, 0, 1, ..., 0, 0, 1],\n",
       "         [1, 1, 1, ..., 0, 0, 1],\n",
       "         ...,\n",
       "         [0, 1, 0, ..., 1, 0, 0],\n",
       "         [1, 1, 0, ..., 0, 0, 0],\n",
       "         [1, 0, 1, ..., 0, 0, 1]],\n",
       "\n",
       "        [[1, 0, 1, ..., 1, 1, 0],\n",
       "         [1, 0, 1, ..., 0, 1, 1],\n",
       "         [1, 1, 0, ..., 0, 0, 1],\n",
       "         ...,\n",
       "         [0, 0, 1, ..., 1, 1, 0],\n",
       "         [0, 0, 0, ..., 1, 1, 1],\n",
       "         [0, 1, 1, ..., 1, 1, 1]],\n",
       "\n",
       "        [[0, 0, 1, ..., 0, 1, 0],\n",
       "         [0, 0, 0, ..., 0, 0, 0],\n",
       "         [0, 1, 0, ..., 0, 0, 1],\n",
       "         ...,\n",
       "         [1, 0, 1, ..., 1, 0, 0],\n",
       "         [0, 1, 1, ..., 1, 1, 1],\n",
       "         [1, 1, 1, ..., 1, 1, 1]]],\n",
       "\n",
       "\n",
       "       [[[0, 1, 1, ..., 1, 0, 0],\n",
       "         [1, 1, 1, ..., 0, 0, 1],\n",
       "         [0, 0, 0, ..., 1, 1, 0],\n",
       "         ...,\n",
       "         [0, 0, 0, ..., 1, 0, 0],\n",
       "         [1, 0, 0, ..., 0, 1, 0],\n",
       "         [0, 1, 0, ..., 1, 1, 1]],\n",
       "\n",
       "        [[1, 1, 0, ..., 0, 1, 1],\n",
       "         [1, 1, 1, ..., 0, 0, 1],\n",
       "         [1, 0, 1, ..., 1, 1, 0],\n",
       "         ...,\n",
       "         [0, 0, 0, ..., 0, 1, 1],\n",
       "         [0, 0, 1, ..., 1, 1, 1],\n",
       "         [1, 1, 1, ..., 1, 0, 0]],\n",
       "\n",
       "        [[0, 0, 0, ..., 1, 1, 1],\n",
       "         [1, 1, 1, ..., 1, 1, 0],\n",
       "         [0, 0, 1, ..., 1, 0, 0],\n",
       "         ...,\n",
       "         [0, 1, 1, ..., 0, 0, 0],\n",
       "         [0, 1, 0, ..., 1, 0, 0],\n",
       "         [0, 0, 0, ..., 1, 0, 1]],\n",
       "\n",
       "        ...,\n",
       "\n",
       "        [[1, 1, 0, ..., 0, 1, 0],\n",
       "         [1, 1, 0, ..., 1, 1, 0],\n",
       "         [1, 0, 0, ..., 0, 0, 0],\n",
       "         ...,\n",
       "         [0, 0, 1, ..., 0, 1, 0],\n",
       "         [1, 1, 1, ..., 1, 0, 1],\n",
       "         [1, 0, 1, ..., 0, 1, 1]],\n",
       "\n",
       "        [[1, 1, 1, ..., 1, 1, 0],\n",
       "         [1, 0, 0, ..., 0, 0, 1],\n",
       "         [0, 1, 0, ..., 0, 0, 1],\n",
       "         ...,\n",
       "         [1, 0, 0, ..., 1, 0, 0],\n",
       "         [1, 1, 1, ..., 0, 1, 1],\n",
       "         [1, 0, 0, ..., 0, 1, 1]],\n",
       "\n",
       "        [[1, 1, 0, ..., 1, 1, 0],\n",
       "         [0, 1, 1, ..., 0, 1, 0],\n",
       "         [0, 0, 0, ..., 1, 0, 0],\n",
       "         ...,\n",
       "         [1, 0, 0, ..., 0, 0, 1],\n",
       "         [1, 0, 0, ..., 0, 0, 1],\n",
       "         [0, 0, 1, ..., 1, 1, 1]]],\n",
       "\n",
       "\n",
       "       [[[1, 0, 0, ..., 1, 0, 0],\n",
       "         [0, 1, 1, ..., 0, 0, 0],\n",
       "         [1, 0, 1, ..., 1, 0, 0],\n",
       "         ...,\n",
       "         [0, 1, 1, ..., 0, 1, 0],\n",
       "         [1, 0, 0, ..., 1, 0, 1],\n",
       "         [0, 0, 0, ..., 1, 1, 0]],\n",
       "\n",
       "        [[1, 0, 0, ..., 1, 0, 1],\n",
       "         [0, 1, 0, ..., 1, 1, 1],\n",
       "         [1, 1, 0, ..., 0, 0, 0],\n",
       "         ...,\n",
       "         [1, 1, 1, ..., 0, 1, 1],\n",
       "         [0, 1, 0, ..., 1, 1, 1],\n",
       "         [0, 0, 1, ..., 0, 1, 1]],\n",
       "\n",
       "        [[1, 0, 1, ..., 1, 0, 1],\n",
       "         [0, 0, 0, ..., 1, 0, 0],\n",
       "         [1, 1, 0, ..., 0, 0, 1],\n",
       "         ...,\n",
       "         [0, 0, 0, ..., 1, 0, 1],\n",
       "         [1, 1, 0, ..., 1, 1, 0],\n",
       "         [0, 0, 1, ..., 0, 1, 0]],\n",
       "\n",
       "        ...,\n",
       "\n",
       "        [[0, 1, 1, ..., 0, 1, 0],\n",
       "         [1, 0, 1, ..., 1, 0, 0],\n",
       "         [0, 0, 1, ..., 0, 0, 0],\n",
       "         ...,\n",
       "         [0, 0, 1, ..., 1, 1, 1],\n",
       "         [0, 0, 1, ..., 0, 1, 0],\n",
       "         [0, 0, 0, ..., 0, 0, 1]],\n",
       "\n",
       "        [[0, 1, 1, ..., 0, 1, 1],\n",
       "         [1, 0, 1, ..., 1, 1, 0],\n",
       "         [1, 1, 1, ..., 1, 1, 1],\n",
       "         ...,\n",
       "         [1, 1, 0, ..., 0, 1, 1],\n",
       "         [0, 0, 0, ..., 0, 0, 1],\n",
       "         [1, 1, 1, ..., 1, 0, 0]],\n",
       "\n",
       "        [[1, 0, 0, ..., 1, 0, 0],\n",
       "         [0, 1, 0, ..., 0, 1, 1],\n",
       "         [0, 1, 1, ..., 0, 0, 1],\n",
       "         ...,\n",
       "         [1, 0, 0, ..., 0, 0, 0],\n",
       "         [1, 0, 1, ..., 1, 0, 0],\n",
       "         [1, 1, 1, ..., 1, 0, 0]]],\n",
       "\n",
       "\n",
       "       ...,\n",
       "\n",
       "\n",
       "       [[[1, 1, 1, ..., 1, 0, 0],\n",
       "         [1, 0, 1, ..., 1, 0, 1],\n",
       "         [1, 0, 1, ..., 0, 1, 1],\n",
       "         ...,\n",
       "         [0, 1, 0, ..., 1, 1, 0],\n",
       "         [0, 1, 1, ..., 1, 0, 1],\n",
       "         [1, 1, 0, ..., 0, 1, 0]],\n",
       "\n",
       "        [[1, 0, 0, ..., 1, 1, 0],\n",
       "         [1, 1, 0, ..., 1, 1, 0],\n",
       "         [1, 0, 1, ..., 1, 1, 0],\n",
       "         ...,\n",
       "         [1, 1, 1, ..., 1, 1, 0],\n",
       "         [1, 0, 0, ..., 0, 1, 1],\n",
       "         [0, 1, 0, ..., 1, 0, 1]],\n",
       "\n",
       "        [[1, 1, 1, ..., 1, 1, 0],\n",
       "         [1, 0, 0, ..., 0, 1, 0],\n",
       "         [0, 0, 1, ..., 0, 0, 1],\n",
       "         ...,\n",
       "         [1, 1, 1, ..., 1, 1, 0],\n",
       "         [0, 0, 1, ..., 0, 1, 1],\n",
       "         [1, 1, 1, ..., 1, 1, 1]],\n",
       "\n",
       "        ...,\n",
       "\n",
       "        [[1, 1, 1, ..., 0, 0, 0],\n",
       "         [1, 1, 1, ..., 0, 0, 0],\n",
       "         [1, 0, 0, ..., 0, 0, 1],\n",
       "         ...,\n",
       "         [0, 0, 0, ..., 1, 1, 1],\n",
       "         [0, 0, 0, ..., 0, 0, 0],\n",
       "         [1, 0, 1, ..., 1, 0, 0]],\n",
       "\n",
       "        [[0, 1, 1, ..., 1, 0, 0],\n",
       "         [1, 1, 1, ..., 0, 0, 0],\n",
       "         [0, 0, 0, ..., 1, 0, 1],\n",
       "         ...,\n",
       "         [1, 0, 1, ..., 0, 1, 0],\n",
       "         [1, 1, 0, ..., 0, 1, 1],\n",
       "         [1, 1, 1, ..., 1, 1, 0]],\n",
       "\n",
       "        [[0, 1, 1, ..., 1, 1, 0],\n",
       "         [0, 0, 1, ..., 1, 1, 0],\n",
       "         [0, 0, 1, ..., 1, 1, 1],\n",
       "         ...,\n",
       "         [1, 0, 0, ..., 1, 0, 0],\n",
       "         [0, 1, 0, ..., 1, 0, 1],\n",
       "         [1, 1, 1, ..., 0, 1, 0]]],\n",
       "\n",
       "\n",
       "       [[[1, 0, 0, ..., 1, 0, 0],\n",
       "         [0, 1, 0, ..., 1, 0, 0],\n",
       "         [1, 1, 1, ..., 1, 0, 1],\n",
       "         ...,\n",
       "         [1, 0, 1, ..., 1, 1, 0],\n",
       "         [1, 0, 0, ..., 0, 0, 1],\n",
       "         [0, 0, 1, ..., 1, 0, 1]],\n",
       "\n",
       "        [[1, 1, 1, ..., 1, 0, 1],\n",
       "         [0, 0, 1, ..., 0, 0, 1],\n",
       "         [1, 1, 1, ..., 1, 1, 0],\n",
       "         ...,\n",
       "         [0, 1, 1, ..., 0, 0, 0],\n",
       "         [1, 0, 1, ..., 1, 1, 1],\n",
       "         [0, 0, 0, ..., 0, 1, 1]],\n",
       "\n",
       "        [[1, 1, 1, ..., 0, 1, 1],\n",
       "         [0, 1, 1, ..., 0, 0, 0],\n",
       "         [0, 0, 0, ..., 1, 0, 1],\n",
       "         ...,\n",
       "         [0, 1, 0, ..., 1, 0, 1],\n",
       "         [1, 1, 0, ..., 1, 0, 1],\n",
       "         [0, 0, 0, ..., 0, 1, 0]],\n",
       "\n",
       "        ...,\n",
       "\n",
       "        [[1, 0, 0, ..., 1, 0, 0],\n",
       "         [1, 0, 0, ..., 0, 1, 0],\n",
       "         [1, 1, 0, ..., 0, 0, 0],\n",
       "         ...,\n",
       "         [0, 1, 1, ..., 1, 0, 1],\n",
       "         [0, 0, 1, ..., 0, 1, 0],\n",
       "         [1, 0, 0, ..., 1, 0, 1]],\n",
       "\n",
       "        [[1, 0, 0, ..., 0, 0, 1],\n",
       "         [1, 0, 0, ..., 0, 0, 0],\n",
       "         [1, 0, 0, ..., 0, 1, 1],\n",
       "         ...,\n",
       "         [0, 0, 0, ..., 1, 1, 1],\n",
       "         [1, 1, 1, ..., 0, 0, 1],\n",
       "         [1, 0, 1, ..., 1, 0, 1]],\n",
       "\n",
       "        [[0, 0, 0, ..., 1, 1, 1],\n",
       "         [0, 0, 1, ..., 0, 1, 0],\n",
       "         [1, 0, 1, ..., 0, 1, 0],\n",
       "         ...,\n",
       "         [0, 0, 1, ..., 0, 0, 0],\n",
       "         [0, 0, 0, ..., 0, 1, 1],\n",
       "         [0, 1, 1, ..., 1, 1, 0]]],\n",
       "\n",
       "\n",
       "       [[[0, 0, 0, ..., 1, 1, 0],\n",
       "         [0, 1, 0, ..., 0, 0, 0],\n",
       "         [1, 0, 1, ..., 1, 1, 1],\n",
       "         ...,\n",
       "         [0, 1, 1, ..., 1, 0, 1],\n",
       "         [0, 0, 0, ..., 0, 1, 0],\n",
       "         [1, 0, 1, ..., 0, 0, 1]],\n",
       "\n",
       "        [[0, 1, 1, ..., 0, 1, 0],\n",
       "         [0, 1, 1, ..., 0, 1, 0],\n",
       "         [0, 1, 1, ..., 1, 0, 0],\n",
       "         ...,\n",
       "         [1, 1, 0, ..., 0, 1, 1],\n",
       "         [0, 0, 0, ..., 1, 1, 1],\n",
       "         [1, 1, 1, ..., 0, 1, 0]],\n",
       "\n",
       "        [[1, 0, 0, ..., 0, 1, 1],\n",
       "         [0, 1, 0, ..., 0, 1, 0],\n",
       "         [0, 0, 1, ..., 1, 1, 0],\n",
       "         ...,\n",
       "         [1, 1, 0, ..., 1, 0, 0],\n",
       "         [1, 0, 0, ..., 1, 1, 0],\n",
       "         [0, 0, 0, ..., 0, 1, 0]],\n",
       "\n",
       "        ...,\n",
       "\n",
       "        [[0, 0, 0, ..., 0, 1, 1],\n",
       "         [1, 1, 0, ..., 0, 0, 0],\n",
       "         [1, 1, 0, ..., 0, 0, 1],\n",
       "         ...,\n",
       "         [1, 1, 1, ..., 1, 1, 1],\n",
       "         [0, 0, 0, ..., 1, 0, 0],\n",
       "         [1, 0, 0, ..., 0, 0, 0]],\n",
       "\n",
       "        [[0, 0, 0, ..., 0, 1, 1],\n",
       "         [0, 0, 1, ..., 1, 0, 1],\n",
       "         [0, 0, 0, ..., 0, 0, 0],\n",
       "         ...,\n",
       "         [1, 0, 0, ..., 1, 0, 0],\n",
       "         [1, 1, 1, ..., 1, 0, 1],\n",
       "         [1, 1, 1, ..., 1, 1, 1]],\n",
       "\n",
       "        [[1, 0, 0, ..., 1, 0, 1],\n",
       "         [0, 1, 0, ..., 0, 1, 0],\n",
       "         [0, 1, 0, ..., 0, 0, 0],\n",
       "         ...,\n",
       "         [1, 1, 1, ..., 1, 0, 1],\n",
       "         [1, 1, 1, ..., 0, 1, 0],\n",
       "         [1, 1, 0, ..., 0, 0, 1]]]])"
      ]
     },
     "execution_count": 65,
     "metadata": {},
     "output_type": "execute_result"
    },
    {
     "data": {
      "application/javascript": [
       "\n",
       "            setTimeout(function() {\n",
       "                var nbb_cell_id = 65;\n",
       "                var nbb_unformatted_code = \"dendrites = np.random.randint(2, size=dendrites_to_sense_layer.shape)\\ndendrites\";\n",
       "                var nbb_formatted_code = \"dendrites = np.random.randint(2, size=dendrites_to_sense_layer.shape)\\ndendrites\";\n",
       "                var nbb_cells = Jupyter.notebook.get_cells();\n",
       "                for (var i = 0; i < nbb_cells.length; ++i) {\n",
       "                    if (nbb_cells[i].input_prompt_number == nbb_cell_id) {\n",
       "                        if (nbb_cells[i].get_text() == nbb_unformatted_code) {\n",
       "                             nbb_cells[i].set_text(nbb_formatted_code);\n",
       "                        }\n",
       "                        break;\n",
       "                    }\n",
       "                }\n",
       "            }, 500);\n",
       "            "
      ],
      "text/plain": [
       "<IPython.core.display.Javascript object>"
      ]
     },
     "metadata": {},
     "output_type": "display_data"
    }
   ],
   "source": [
    "dendrites = np.random.randint(2, size=dendrites_to_sense_layer.shape)\n",
    "dendrites"
   ]
  },
  {
   "cell_type": "code",
   "execution_count": 45,
   "id": "83194f01",
   "metadata": {},
   "outputs": [
    {
     "data": {
      "text/plain": [
       "(32, 256, 32, 16)"
      ]
     },
     "execution_count": 45,
     "metadata": {},
     "output_type": "execute_result"
    },
    {
     "data": {
      "application/javascript": [
       "\n",
       "            setTimeout(function() {\n",
       "                var nbb_cell_id = 45;\n",
       "                var nbb_unformatted_code = \"dendrites_to_sense_layer.shape\";\n",
       "                var nbb_formatted_code = \"dendrites_to_sense_layer.shape\";\n",
       "                var nbb_cells = Jupyter.notebook.get_cells();\n",
       "                for (var i = 0; i < nbb_cells.length; ++i) {\n",
       "                    if (nbb_cells[i].input_prompt_number == nbb_cell_id) {\n",
       "                        if (nbb_cells[i].get_text() == nbb_unformatted_code) {\n",
       "                             nbb_cells[i].set_text(nbb_formatted_code);\n",
       "                        }\n",
       "                        break;\n",
       "                    }\n",
       "                }\n",
       "            }, 500);\n",
       "            "
      ],
      "text/plain": [
       "<IPython.core.display.Javascript object>"
      ]
     },
     "metadata": {},
     "output_type": "display_data"
    }
   ],
   "source": []
  },
  {
   "cell_type": "code",
   "execution_count": 51,
   "id": "f38437f4",
   "metadata": {},
   "outputs": [
    {
     "data": {
      "text/plain": [
       "(32,)"
      ]
     },
     "execution_count": 51,
     "metadata": {},
     "output_type": "execute_result"
    },
    {
     "data": {
      "application/javascript": [
       "\n",
       "            setTimeout(function() {\n",
       "                var nbb_cell_id = 51;\n",
       "                var nbb_unformatted_code = \"active_cells = compute_active_cells(get_random_phases())\\nactive_cells.shape\";\n",
       "                var nbb_formatted_code = \"active_cells = compute_active_cells(get_random_phases())\\nactive_cells.shape\";\n",
       "                var nbb_cells = Jupyter.notebook.get_cells();\n",
       "                for (var i = 0; i < nbb_cells.length; ++i) {\n",
       "                    if (nbb_cells[i].input_prompt_number == nbb_cell_id) {\n",
       "                        if (nbb_cells[i].get_text() == nbb_unformatted_code) {\n",
       "                             nbb_cells[i].set_text(nbb_formatted_code);\n",
       "                        }\n",
       "                        break;\n",
       "                    }\n",
       "                }\n",
       "            }, 500);\n",
       "            "
      ],
      "text/plain": [
       "<IPython.core.display.Javascript object>"
      ]
     },
     "metadata": {},
     "output_type": "display_data"
    }
   ],
   "source": [
    "active_cells = compute_active_cells(get_random_phases())\n",
    "active_cells.shape"
   ]
  },
  {
   "cell_type": "code",
   "execution_count": null,
   "id": "28296ab5",
   "metadata": {},
   "outputs": [],
   "source": [
    "aa"
   ]
  },
  {
   "cell_type": "code",
   "execution_count": 78,
   "id": "1b843727",
   "metadata": {},
   "outputs": [
    {
     "data": {
      "text/plain": [
       "(2097074, 4)"
      ]
     },
     "execution_count": 78,
     "metadata": {},
     "output_type": "execute_result"
    },
    {
     "data": {
      "application/javascript": [
       "\n",
       "            setTimeout(function() {\n",
       "                var nbb_cell_id = 78;\n",
       "                var nbb_unformatted_code = \"indices = np.argwhere(dendrites == 1)\\nindices.shape\";\n",
       "                var nbb_formatted_code = \"indices = np.argwhere(dendrites == 1)\\nindices.shape\";\n",
       "                var nbb_cells = Jupyter.notebook.get_cells();\n",
       "                for (var i = 0; i < nbb_cells.length; ++i) {\n",
       "                    if (nbb_cells[i].input_prompt_number == nbb_cell_id) {\n",
       "                        if (nbb_cells[i].get_text() == nbb_unformatted_code) {\n",
       "                             nbb_cells[i].set_text(nbb_formatted_code);\n",
       "                        }\n",
       "                        break;\n",
       "                    }\n",
       "                }\n",
       "            }, 500);\n",
       "            "
      ],
      "text/plain": [
       "<IPython.core.display.Javascript object>"
      ]
     },
     "metadata": {},
     "output_type": "display_data"
    }
   ],
   "source": [
    "indices = np.argwhere(dendrites == 1)\n",
    "indices.shape"
   ]
  },
  {
   "cell_type": "code",
   "execution_count": 50,
   "id": "73afbeec",
   "metadata": {},
   "outputs": [
    {
     "data": {
      "application/javascript": [
       "\n",
       "            setTimeout(function() {\n",
       "                var nbb_cell_id = 50;\n",
       "                var nbb_unformatted_code = \"def get_random_phases():\\n    active_phases = np.random.random((NO_GRID_CELL_MODULES, 2))\\n\\n    return active_phases\\n\\n\\ndef compute_active_cells(active_phases):\\n    active_cell_coordinates = np.floor(active_phases * CELL_DIMENSION).astype(int)\\n\\n    cells_for_active_phases = np.ravel_multi_index(\\n        active_cell_coordinates.T, CELL_DIMENSION\\n    )\\n\\n    return cells_for_active_phases\\n\\n\\ndef learn_object(obj: List[Dict]):\\n    \\\"\\\"\\\"\\n    obj: [{location: <displacement vector>, feature: <feature_vector>}, ...]\\n\\n    \\\"\\\"\\\"\\n\\n    # generate random phases since location is not given before first iteration\\n    phases = get_random_phases()\\n\\n    for sample in obj:\\n\\n        location = sample[\\\"location\\\"]\\n        feature = sample[\\\"feature\\\"]\\n        \\n        active_grid_cell_indices = compute_active_cells(get_random_phases())\\n        \\n        # get overlap of phases and dendritic distal segments to predict cells\\n        overlap = np.logical_and(phases, dendrites_to_sense_layer)\";\n",
       "                var nbb_formatted_code = \"def get_random_phases():\\n    active_phases = np.random.random((NO_GRID_CELL_MODULES, 2))\\n\\n    return active_phases\\n\\n\\ndef compute_active_cells(active_phases):\\n    active_cell_coordinates = np.floor(active_phases * CELL_DIMENSION).astype(int)\\n\\n    cells_for_active_phases = np.ravel_multi_index(\\n        active_cell_coordinates.T, CELL_DIMENSION\\n    )\\n\\n    return cells_for_active_phases\\n\\n\\ndef learn_object(obj: List[Dict]):\\n    \\\"\\\"\\\"\\n    obj: [{location: <displacement vector>, feature: <feature_vector>}, ...]\\n\\n    \\\"\\\"\\\"\\n\\n    # generate random phases since location is not given before first iteration\\n    phases = get_random_phases()\\n\\n    for sample in obj:\\n\\n        location = sample[\\\"location\\\"]\\n        feature = sample[\\\"feature\\\"]\\n\\n        active_grid_cell_indices = compute_active_cells(get_random_phases())\\n\\n        # get overlap of phases and dendritic distal segments to predict cells\\n        overlap = np.logical_and(phases, dendrites_to_sense_layer)\";\n",
       "                var nbb_cells = Jupyter.notebook.get_cells();\n",
       "                for (var i = 0; i < nbb_cells.length; ++i) {\n",
       "                    if (nbb_cells[i].input_prompt_number == nbb_cell_id) {\n",
       "                        if (nbb_cells[i].get_text() == nbb_unformatted_code) {\n",
       "                             nbb_cells[i].set_text(nbb_formatted_code);\n",
       "                        }\n",
       "                        break;\n",
       "                    }\n",
       "                }\n",
       "            }, 500);\n",
       "            "
      ],
      "text/plain": [
       "<IPython.core.display.Javascript object>"
      ]
     },
     "metadata": {},
     "output_type": "display_data"
    }
   ],
   "source": [
    "def get_random_phases():\n",
    "    active_phases = np.random.random((NO_GRID_CELL_MODULES, 2))\n",
    "\n",
    "    return active_phases\n",
    "\n",
    "\n",
    "def compute_active_cells(active_phases):\n",
    "    active_cell_coordinates = np.floor(active_phases * CELL_DIMENSION).astype(int)\n",
    "\n",
    "    cells_for_active_phases = np.ravel_multi_index(\n",
    "        active_cell_coordinates.T, CELL_DIMENSION\n",
    "    )\n",
    "\n",
    "    return cells_for_active_phases\n",
    "\n",
    "\n",
    "def learn_object(obj: List[Dict]):\n",
    "    \"\"\"\n",
    "    obj: [{location: <displacement vector>, feature: <feature_vector>}, ...]\n",
    "\n",
    "    \"\"\"\n",
    "\n",
    "    # generate random phases since location is not given before first iteration\n",
    "    phases = get_random_phases()\n",
    "\n",
    "    for sample in obj:\n",
    "\n",
    "        location = sample[\"location\"]\n",
    "        feature = sample[\"feature\"]\n",
    "\n",
    "        active_grid_cell_indices = compute_active_cells(get_random_phases())\n",
    "\n",
    "        # get overlap of phases and dendritic distal segments to predict cells\n",
    "        overlap = np.logical_and(phases, dendrites_to_sense_layer)"
   ]
  },
  {
   "cell_type": "code",
   "execution_count": 30,
   "id": "b4a544fd",
   "metadata": {},
   "outputs": [
    {
     "data": {
      "text/plain": [
       "(32, 2)"
      ]
     },
     "execution_count": 30,
     "metadata": {},
     "output_type": "execute_result"
    },
    {
     "data": {
      "application/javascript": [
       "\n",
       "            setTimeout(function() {\n",
       "                var nbb_cell_id = 30;\n",
       "                var nbb_unformatted_code = \"get_random_phases().shape\";\n",
       "                var nbb_formatted_code = \"get_random_phases().shape\";\n",
       "                var nbb_cells = Jupyter.notebook.get_cells();\n",
       "                for (var i = 0; i < nbb_cells.length; ++i) {\n",
       "                    if (nbb_cells[i].input_prompt_number == nbb_cell_id) {\n",
       "                        if (nbb_cells[i].get_text() == nbb_unformatted_code) {\n",
       "                             nbb_cells[i].set_text(nbb_formatted_code);\n",
       "                        }\n",
       "                        break;\n",
       "                    }\n",
       "                }\n",
       "            }, 500);\n",
       "            "
      ],
      "text/plain": [
       "<IPython.core.display.Javascript object>"
      ]
     },
     "metadata": {},
     "output_type": "display_data"
    }
   ],
   "source": [
    "get_random_phases().shape"
   ]
  },
  {
   "cell_type": "code",
   "execution_count": null,
   "id": "5639d87e",
   "metadata": {},
   "outputs": [],
   "source": []
  },
  {
   "cell_type": "code",
   "execution_count": null,
   "id": "d4a66983",
   "metadata": {},
   "outputs": [],
   "source": []
  },
  {
   "cell_type": "code",
   "execution_count": null,
   "id": "288f140b",
   "metadata": {},
   "outputs": [],
   "source": []
  },
  {
   "cell_type": "code",
   "execution_count": null,
   "id": "f5758a69",
   "metadata": {},
   "outputs": [],
   "source": [
    "x, y = np.unravel_index(active_cells, CELL_DIMENSION)\n",
    "scatter_plot(x, y, lim=(0, 15))"
   ]
  },
  {
   "cell_type": "code",
   "execution_count": 367,
   "id": "6b80bd10",
   "metadata": {},
   "outputs": [
    {
     "data": {
      "application/javascript": [
       "\n",
       "            setTimeout(function() {\n",
       "                var nbb_cell_id = 367;\n",
       "                var nbb_unformatted_code = \"def calculate_points_from_displacements(displacements):\\n    xs = [0]\\n    ys = [0]\\n\\n    for i in range(len(displacements)):\\n        xs.append(xs[i] + displacements[i][0])\\n        ys.append(ys[i] + displacements[i][1])\\n\\n    return xs, ys\";\n",
       "                var nbb_formatted_code = \"def calculate_points_from_displacements(displacements):\\n    xs = [0]\\n    ys = [0]\\n\\n    for i in range(len(displacements)):\\n        xs.append(xs[i] + displacements[i][0])\\n        ys.append(ys[i] + displacements[i][1])\\n\\n    return xs, ys\";\n",
       "                var nbb_cells = Jupyter.notebook.get_cells();\n",
       "                for (var i = 0; i < nbb_cells.length; ++i) {\n",
       "                    if (nbb_cells[i].input_prompt_number == nbb_cell_id) {\n",
       "                        if (nbb_cells[i].get_text() == nbb_unformatted_code) {\n",
       "                             nbb_cells[i].set_text(nbb_formatted_code);\n",
       "                        }\n",
       "                        break;\n",
       "                    }\n",
       "                }\n",
       "            }, 500);\n",
       "            "
      ],
      "text/plain": [
       "<IPython.core.display.Javascript object>"
      ]
     },
     "metadata": {},
     "output_type": "display_data"
    }
   ],
   "source": [
    "def calculate_points_from_displacements(displacements):\n",
    "    xs = [0]\n",
    "    ys = [0]\n",
    "\n",
    "    for i in range(len(displacements)):\n",
    "        xs.append(xs[i] + displacements[i][0])\n",
    "        ys.append(ys[i] + displacements[i][1])\n",
    "\n",
    "    return xs, ys"
   ]
  },
  {
   "cell_type": "code",
   "execution_count": null,
   "id": "92d57344",
   "metadata": {},
   "outputs": [],
   "source": [
    "rnd_phase = get_random_phase()\n",
    "active_cells = [compute_active_cells(rnd_phase)]\n",
    "\n",
    "active_phase = rnd_phase\n",
    "for dis in displacements:\n",
    "    active_phase = compute_movement(dis, active_phase)\n",
    "    active_cell = compute_active_cells(active_phase)\n",
    "\n",
    "    active_cells.append(active_cell)"
   ]
  },
  {
   "cell_type": "code",
   "execution_count": 368,
   "id": "c3de2f44",
   "metadata": {},
   "outputs": [
    {
     "data": {
      "application/javascript": [
       "\n",
       "            setTimeout(function() {\n",
       "                var nbb_cell_id = 368;\n",
       "                var nbb_unformatted_code = \"xs, ys = calculate_points_from_displacements(displacements)\";\n",
       "                var nbb_formatted_code = \"xs, ys = calculate_points_from_displacements(displacements)\";\n",
       "                var nbb_cells = Jupyter.notebook.get_cells();\n",
       "                for (var i = 0; i < nbb_cells.length; ++i) {\n",
       "                    if (nbb_cells[i].input_prompt_number == nbb_cell_id) {\n",
       "                        if (nbb_cells[i].get_text() == nbb_unformatted_code) {\n",
       "                             nbb_cells[i].set_text(nbb_formatted_code);\n",
       "                        }\n",
       "                        break;\n",
       "                    }\n",
       "                }\n",
       "            }, 500);\n",
       "            "
      ],
      "text/plain": [
       "<IPython.core.display.Javascript object>"
      ]
     },
     "metadata": {},
     "output_type": "display_data"
    }
   ],
   "source": [
    "xs, ys = calculate_points_from_displacements(displacements)"
   ]
  },
  {
   "cell_type": "code",
   "execution_count": 369,
   "id": "152bf7c5",
   "metadata": {},
   "outputs": [
    {
     "data": {
      "application/javascript": [
       "\n",
       "            setTimeout(function() {\n",
       "                var nbb_cell_id = 369;\n",
       "                var nbb_unformatted_code = \"indices = [i for i, x in enumerate(active_cells) if x == 91]\";\n",
       "                var nbb_formatted_code = \"indices = [i for i, x in enumerate(active_cells) if x == 91]\";\n",
       "                var nbb_cells = Jupyter.notebook.get_cells();\n",
       "                for (var i = 0; i < nbb_cells.length; ++i) {\n",
       "                    if (nbb_cells[i].input_prompt_number == nbb_cell_id) {\n",
       "                        if (nbb_cells[i].get_text() == nbb_unformatted_code) {\n",
       "                             nbb_cells[i].set_text(nbb_formatted_code);\n",
       "                        }\n",
       "                        break;\n",
       "                    }\n",
       "                }\n",
       "            }, 500);\n",
       "            "
      ],
      "text/plain": [
       "<IPython.core.display.Javascript object>"
      ]
     },
     "metadata": {},
     "output_type": "display_data"
    }
   ],
   "source": [
    "indices = [i for i, x in enumerate(active_cells) if x == 91]"
   ]
  },
  {
   "cell_type": "code",
   "execution_count": 370,
   "id": "ac12313c",
   "metadata": {},
   "outputs": [
    {
     "data": {
      "application/javascript": [
       "\n",
       "            setTimeout(function() {\n",
       "                var nbb_cell_id = 370;\n",
       "                var nbb_unformatted_code = \"xs_filt, ys_filt = zip(*[(xs[i], ys[i]) for i in indices])\";\n",
       "                var nbb_formatted_code = \"xs_filt, ys_filt = zip(*[(xs[i], ys[i]) for i in indices])\";\n",
       "                var nbb_cells = Jupyter.notebook.get_cells();\n",
       "                for (var i = 0; i < nbb_cells.length; ++i) {\n",
       "                    if (nbb_cells[i].input_prompt_number == nbb_cell_id) {\n",
       "                        if (nbb_cells[i].get_text() == nbb_unformatted_code) {\n",
       "                             nbb_cells[i].set_text(nbb_formatted_code);\n",
       "                        }\n",
       "                        break;\n",
       "                    }\n",
       "                }\n",
       "            }, 500);\n",
       "            "
      ],
      "text/plain": [
       "<IPython.core.display.Javascript object>"
      ]
     },
     "metadata": {},
     "output_type": "display_data"
    }
   ],
   "source": [
    "xs_filt, ys_filt = zip(*[(xs[i], ys[i]) for i in indices])"
   ]
  },
  {
   "cell_type": "code",
   "execution_count": 372,
   "id": "5761aeac",
   "metadata": {},
   "outputs": [
    {
     "data": {
      "image/png": "[encoded data removed]",
      "text/plain": [
       "<Figure size 700x700 with 1 Axes>"
      ]
     },
     "metadata": {},
     "output_type": "display_data"
    },
    {
     "data": {
      "application/javascript": [
       "\n",
       "            setTimeout(function() {\n",
       "                var nbb_cell_id = 372;\n",
       "                var nbb_unformatted_code = \"scatter_plot(xs_filt, ys_filt, lim=(-300, 300))\";\n",
       "                var nbb_formatted_code = \"scatter_plot(xs_filt, ys_filt, lim=(-300, 300))\";\n",
       "                var nbb_cells = Jupyter.notebook.get_cells();\n",
       "                for (var i = 0; i < nbb_cells.length; ++i) {\n",
       "                    if (nbb_cells[i].input_prompt_number == nbb_cell_id) {\n",
       "                        if (nbb_cells[i].get_text() == nbb_unformatted_code) {\n",
       "                             nbb_cells[i].set_text(nbb_formatted_code);\n",
       "                        }\n",
       "                        break;\n",
       "                    }\n",
       "                }\n",
       "            }, 500);\n",
       "            "
      ],
      "text/plain": [
       "<IPython.core.display.Javascript object>"
      ]
     },
     "metadata": {},
     "output_type": "display_data"
    }
   ],
   "source": [
    "scatter_plot(xs_filt, ys_filt, lim=(-300, 300))"
   ]
  },
  {
   "cell_type": "code",
   "execution_count": null,
   "id": "fa12498c",
   "metadata": {},
   "outputs": [],
   "source": []
  }
 ],
 "metadata": {
  "kernelspec": {
   "display_name": "Python 3 (ipykernel)",
   "language": "python",
   "name": "python3"
  },
  "language_info": {
   "codemirror_mode": {
    "name": "ipython",
    "version": 3
   },
   "file_extension": ".py",
   "mimetype": "text/x-python",
   "name": "python",
   "nbconvert_exporter": "python",
   "pygments_lexer": "ipython3",
   "version": "3.10.0"
  }
 },
 "nbformat": 4,
 "nbformat_minor": 5
}
