{
 "cells": [
  {
   "cell_type": "code",
   "execution_count": 1,
   "id": "c80bc6bc",
   "metadata": {},
   "outputs": [
    {
     "data": {
      "application/javascript": [
       "\n",
       "            setTimeout(function() {\n",
       "                var nbb_cell_id = 1;\n",
       "                var nbb_unformatted_code = \"%load_ext nb_black\\n%load_ext autoreload\\n%autoreload 2\";\n",
       "                var nbb_formatted_code = \"%load_ext nb_black\\n%load_ext autoreload\\n%autoreload 2\";\n",
       "                var nbb_cells = Jupyter.notebook.get_cells();\n",
       "                for (var i = 0; i < nbb_cells.length; ++i) {\n",
       "                    if (nbb_cells[i].input_prompt_number == nbb_cell_id) {\n",
       "                        if (nbb_cells[i].get_text() == nbb_unformatted_code) {\n",
       "                             nbb_cells[i].set_text(nbb_formatted_code);\n",
       "                        }\n",
       "                        break;\n",
       "                    }\n",
       "                }\n",
       "            }, 500);\n",
       "            "
      ],
      "text/plain": [
       "<IPython.core.display.Javascript object>"
      ]
     },
     "metadata": {},
     "output_type": "display_data"
    }
   ],
   "source": [
    "%load_ext nb_black\n",
    "%load_ext autoreload\n",
    "%autoreload 2"
   ]
  },
  {
   "cell_type": "code",
   "execution_count": 2,
   "id": "8f0dbfc7",
   "metadata": {},
   "outputs": [
    {
     "data": {
      "application/javascript": [
       "\n",
       "            setTimeout(function() {\n",
       "                var nbb_cell_id = 2;\n",
       "                var nbb_unformatted_code = \"import numpy as np\\nimport matplotlib.pyplot as plt\\nimport math\\nfrom util.plots import scatter_plot\\nfrom typing import List, Dict\\nfrom tqdm.notebook import tqdm\";\n",
       "                var nbb_formatted_code = \"import numpy as np\\nimport matplotlib.pyplot as plt\\nimport math\\nfrom util.plots import scatter_plot\\nfrom typing import List, Dict\\nfrom tqdm.notebook import tqdm\";\n",
       "                var nbb_cells = Jupyter.notebook.get_cells();\n",
       "                for (var i = 0; i < nbb_cells.length; ++i) {\n",
       "                    if (nbb_cells[i].input_prompt_number == nbb_cell_id) {\n",
       "                        if (nbb_cells[i].get_text() == nbb_unformatted_code) {\n",
       "                             nbb_cells[i].set_text(nbb_formatted_code);\n",
       "                        }\n",
       "                        break;\n",
       "                    }\n",
       "                }\n",
       "            }, 500);\n",
       "            "
      ],
      "text/plain": [
       "<IPython.core.display.Javascript object>"
      ]
     },
     "metadata": {},
     "output_type": "display_data"
    }
   ],
   "source": [
    "import numpy as np\n",
    "import matplotlib.pyplot as plt\n",
    "import math\n",
    "from util.plots import scatter_plot\n",
    "from typing import List, Dict\n",
    "from tqdm.notebook import tqdm"
   ]
  },
  {
   "cell_type": "code",
   "execution_count": 3,
   "id": "4dd885f6",
   "metadata": {},
   "outputs": [
    {
     "data": {
      "application/javascript": [
       "\n",
       "            setTimeout(function() {\n",
       "                var nbb_cell_id = 3;\n",
       "                var nbb_unformatted_code = \"np.random.seed(seed=42)\\n\\nCELL_DIMENSION = np.array([16, 16])\\norientation = 60\\nscale = 10\\nrotation_matrix = np.array(\\n    [\\n        [math.cos(orientation), -math.sin(orientation)],\\n        [math.sin(orientation), math.cos(orientation)],\\n    ]\\n)\\n\\nPHASES_PER_UNIT_DISTANCE = 1.0 / np.array([scale, scale])\";\n",
       "                var nbb_formatted_code = \"np.random.seed(seed=42)\\n\\nCELL_DIMENSION = np.array([16, 16])\\norientation = 60\\nscale = 10\\nrotation_matrix = np.array(\\n    [\\n        [math.cos(orientation), -math.sin(orientation)],\\n        [math.sin(orientation), math.cos(orientation)],\\n    ]\\n)\\n\\nPHASES_PER_UNIT_DISTANCE = 1.0 / np.array([scale, scale])\";\n",
       "                var nbb_cells = Jupyter.notebook.get_cells();\n",
       "                for (var i = 0; i < nbb_cells.length; ++i) {\n",
       "                    if (nbb_cells[i].input_prompt_number == nbb_cell_id) {\n",
       "                        if (nbb_cells[i].get_text() == nbb_unformatted_code) {\n",
       "                             nbb_cells[i].set_text(nbb_formatted_code);\n",
       "                        }\n",
       "                        break;\n",
       "                    }\n",
       "                }\n",
       "            }, 500);\n",
       "            "
      ],
      "text/plain": [
       "<IPython.core.display.Javascript object>"
      ]
     },
     "metadata": {},
     "output_type": "display_data"
    }
   ],
   "source": [
    "np.random.seed(seed=42)\n",
    "\n",
    "CELL_DIMENSION = np.array([16, 16])\n",
    "orientation = 60\n",
    "scale = 10\n",
    "rotation_matrix = np.array(\n",
    "    [\n",
    "        [math.cos(orientation), -math.sin(orientation)],\n",
    "        [math.sin(orientation), math.cos(orientation)],\n",
    "    ]\n",
    ")\n",
    "\n",
    "PHASES_PER_UNIT_DISTANCE = 1.0 / np.array([scale, scale])"
   ]
  },
  {
   "cell_type": "code",
   "execution_count": 6,
   "id": "3c73c964",
   "metadata": {},
   "outputs": [
    {
     "data": {
      "application/javascript": [
       "\n",
       "            setTimeout(function() {\n",
       "                var nbb_cell_id = 6;\n",
       "                var nbb_unformatted_code = \"np.random.seed(seed=42)\\n\\norientation = 60\\nscale = 10\\nrotation_matrix = np.array(\\n    [\\n        [math.cos(orientation), -math.sin(orientation)],\\n        [math.sin(orientation), math.cos(orientation)],\\n    ]\\n)\\n\\nPHASES_PER_UNIT_DISTANCE = 1.0 / np.array([scale, scale])\";\n",
       "                var nbb_formatted_code = \"np.random.seed(seed=42)\\n\\norientation = 60\\nscale = 10\\nrotation_matrix = np.array(\\n    [\\n        [math.cos(orientation), -math.sin(orientation)],\\n        [math.sin(orientation), math.cos(orientation)],\\n    ]\\n)\\n\\nPHASES_PER_UNIT_DISTANCE = 1.0 / np.array([scale, scale])\";\n",
       "                var nbb_cells = Jupyter.notebook.get_cells();\n",
       "                for (var i = 0; i < nbb_cells.length; ++i) {\n",
       "                    if (nbb_cells[i].input_prompt_number == nbb_cell_id) {\n",
       "                        if (nbb_cells[i].get_text() == nbb_unformatted_code) {\n",
       "                             nbb_cells[i].set_text(nbb_formatted_code);\n",
       "                        }\n",
       "                        break;\n",
       "                    }\n",
       "                }\n",
       "            }, 500);\n",
       "            "
      ],
      "text/plain": [
       "<IPython.core.display.Javascript object>"
      ]
     },
     "metadata": {},
     "output_type": "display_data"
    }
   ],
   "source": [
    "np.random.seed(seed=42)\n",
    "\n",
    "orientation = 60\n",
    "scale = 10\n",
    "rotation_matrix = np.array(\n",
    "    [\n",
    "        [math.cos(orientation), -math.sin(orientation)],\n",
    "        [math.sin(orientation), math.cos(orientation)],\n",
    "    ]\n",
    ")\n",
    "\n",
    "PHASES_PER_UNIT_DISTANCE = 1.0 / np.array([scale, scale])"
   ]
  },
  {
   "cell_type": "code",
   "execution_count": 7,
   "id": "16e42f71",
   "metadata": {},
   "outputs": [
    {
     "data": {
      "application/javascript": [
       "\n",
       "            setTimeout(function() {\n",
       "                var nbb_cell_id = 7;\n",
       "                var nbb_unformatted_code = \"NO_COLUMNS = 32\\nCELLS_PER_COLUMN = 16\\nsensory_layer_activity = np.zeros((NO_COLUMNS, CELLS_PER_COLUMN)) # A_t^in\";\n",
       "                var nbb_formatted_code = \"NO_COLUMNS = 32\\nCELLS_PER_COLUMN = 16\\nsensory_layer_activity = np.zeros((NO_COLUMNS, CELLS_PER_COLUMN))  # A_t^in\";\n",
       "                var nbb_cells = Jupyter.notebook.get_cells();\n",
       "                for (var i = 0; i < nbb_cells.length; ++i) {\n",
       "                    if (nbb_cells[i].input_prompt_number == nbb_cell_id) {\n",
       "                        if (nbb_cells[i].get_text() == nbb_unformatted_code) {\n",
       "                             nbb_cells[i].set_text(nbb_formatted_code);\n",
       "                        }\n",
       "                        break;\n",
       "                    }\n",
       "                }\n",
       "            }, 500);\n",
       "            "
      ],
      "text/plain": [
       "<IPython.core.display.Javascript object>"
      ]
     },
     "metadata": {},
     "output_type": "display_data"
    }
   ],
   "source": [
    "NO_COLUMNS = 32\n",
    "CELLS_PER_COLUMN = 16\n",
    "sensory_layer_activity = np.zeros((NO_COLUMNS, CELLS_PER_COLUMN))  # A_t^in"
   ]
  },
  {
   "cell_type": "code",
   "execution_count": 8,
   "id": "a449f801",
   "metadata": {},
   "outputs": [
    {
     "data": {
      "application/javascript": [
       "\n",
       "            setTimeout(function() {\n",
       "                var nbb_cell_id = 8;\n",
       "                var nbb_unformatted_code = \"NO_GRID_CELL_MODULES = 32\\nNO_GRID_CELLS_PER_AXIS = 16\\nGRID_MODULE_DIM = np.array([16, 16])\\nTOTAL_GRID_CELLS_PER_MOD = np.prod(GRID_MODULE_DIM)\\nlocation_layer_activity = np.zeros(\\n    (NO_GRID_CELL_MODULES, TOTAL_GRID_CELLS_PER_MOD, NO_COLUMNS, CELLS_PER_COLUMN)\\n)  # A_t^loc\\n# activation states:\\n# sense\\n# loc\";\n",
       "                var nbb_formatted_code = \"NO_GRID_CELL_MODULES = 32\\nNO_GRID_CELLS_PER_AXIS = 16\\nGRID_MODULE_DIM = np.array([16, 16])\\nTOTAL_GRID_CELLS_PER_MOD = np.prod(GRID_MODULE_DIM)\\nlocation_layer_activity = np.zeros(\\n    (NO_GRID_CELL_MODULES, TOTAL_GRID_CELLS_PER_MOD, NO_COLUMNS, CELLS_PER_COLUMN)\\n)  # A_t^loc\\n# activation states:\\n# sense\\n# loc\";\n",
       "                var nbb_cells = Jupyter.notebook.get_cells();\n",
       "                for (var i = 0; i < nbb_cells.length; ++i) {\n",
       "                    if (nbb_cells[i].input_prompt_number == nbb_cell_id) {\n",
       "                        if (nbb_cells[i].get_text() == nbb_unformatted_code) {\n",
       "                             nbb_cells[i].set_text(nbb_formatted_code);\n",
       "                        }\n",
       "                        break;\n",
       "                    }\n",
       "                }\n",
       "            }, 500);\n",
       "            "
      ],
      "text/plain": [
       "<IPython.core.display.Javascript object>"
      ]
     },
     "metadata": {},
     "output_type": "display_data"
    }
   ],
   "source": [
    "NO_GRID_CELL_MODULES = 32\n",
    "NO_GRID_CELLS_PER_AXIS = 16\n",
    "GRID_MODULE_DIM = np.array([16, 16])\n",
    "TOTAL_GRID_CELLS_PER_MOD = np.prod(GRID_MODULE_DIM)\n",
    "location_layer_activity = np.zeros(\n",
    "    (NO_GRID_CELL_MODULES, TOTAL_GRID_CELLS_PER_MOD, NO_COLUMNS, CELLS_PER_COLUMN)\n",
    ")  # A_t^loc\n",
    "# activation states:\n",
    "# sense\n",
    "# loc"
   ]
  },
  {
   "cell_type": "code",
   "execution_count": 9,
   "id": "7eba1459",
   "metadata": {},
   "outputs": [
    {
     "data": {
      "application/javascript": [
       "\n",
       "            setTimeout(function() {\n",
       "                var nbb_cell_id = 9;\n",
       "                var nbb_unformatted_code = \"dendrites_to_sense_layer = np.zeros(\\n    (NO_GRID_CELL_MODULES, TOTAL_GRID_CELLS_PER_MOD, NO_COLUMNS, CELLS_PER_COLUMN)\\n)  # D_c,d^in\\ndendrites_to_loc_layer = np.zeros((NO_COLUMNS, CELLS_PER_COLUMN))  # D_c,d^loc\\n\\n# vector for active dendritic segments\\n# pi_t^in\\n# pi_t^loc\\n# dendritic threshold:\\n# sig^in\\n# sig^loc\";\n",
       "                var nbb_formatted_code = \"dendrites_to_sense_layer = np.zeros(\\n    (NO_GRID_CELL_MODULES, TOTAL_GRID_CELLS_PER_MOD, NO_COLUMNS, CELLS_PER_COLUMN)\\n)  # D_c,d^in\\ndendrites_to_loc_layer = np.zeros((NO_COLUMNS, CELLS_PER_COLUMN))  # D_c,d^loc\\n\\n# vector for active dendritic segments\\n# pi_t^in\\n# pi_t^loc\\n# dendritic threshold:\\n# sig^in\\n# sig^loc\";\n",
       "                var nbb_cells = Jupyter.notebook.get_cells();\n",
       "                for (var i = 0; i < nbb_cells.length; ++i) {\n",
       "                    if (nbb_cells[i].input_prompt_number == nbb_cell_id) {\n",
       "                        if (nbb_cells[i].get_text() == nbb_unformatted_code) {\n",
       "                             nbb_cells[i].set_text(nbb_formatted_code);\n",
       "                        }\n",
       "                        break;\n",
       "                    }\n",
       "                }\n",
       "            }, 500);\n",
       "            "
      ],
      "text/plain": [
       "<IPython.core.display.Javascript object>"
      ]
     },
     "metadata": {},
     "output_type": "display_data"
    }
   ],
   "source": [
    "dendrites_to_sense_layer = np.zeros(\n",
    "    (NO_GRID_CELL_MODULES, TOTAL_GRID_CELLS_PER_MOD, NO_COLUMNS, CELLS_PER_COLUMN)\n",
    ")  # D_c,d^in\n",
    "dendrites_to_loc_layer = np.zeros((NO_COLUMNS, CELLS_PER_COLUMN))  # D_c,d^loc\n",
    "\n",
    "# vector for active dendritic segments\n",
    "# pi_t^in\n",
    "# pi_t^loc\n",
    "# dendritic threshold:\n",
    "# sig^in\n",
    "# sig^loc"
   ]
  },
  {
   "cell_type": "markdown",
   "id": "382e2870",
   "metadata": {},
   "source": [
    "### Algorithm\n",
    "\n",
    "1. movement to update location layer\n",
    "    - calculate new phase - input: displacement vector and old phase; applies translation by rotation and scaling + mod 1 --> outputs binary vector A_t,move^loc\n",
    "    - if no movement is given, activate random location ???\n",
    "2. predict sensory information from location layer output\n",
    "    - predictions represented by pi_t^in = activity of distal dendritic segments - Eq2 in paper\n",
    "        --> modularoty effect\n",
    "3. calculate activity in sensory layer\n",
    "    - all cells share same feedforward receptive fields --> pretrained CNN ouputs (128,) feature vector and each column is mapped to on feature\n",
    "    - sensory features represented by sparse subset of mini-columns = W_t^in\n",
    "    - if cell is predicted and in active mini-columns: activate cell and inhibit other cells in mini-column; else: all cells become active\n",
    "    - - multiple cells can be active if predicted by location layer\n",
    "    - formula uq: 6 for activation logic\n",
    "4. update location layer based on sensory cues\n",
    "    - location layer receives input from sensory layer (in form of W_t^in???)\n",
    "    - calculate overlap EQ 3 & 4\n",
    "    - repeat because new movement is received\n",
    "\n",
    "Learning:\n",
    "- strenghtening between connections of both layer\n",
    "- when new object is learned: location representation is randomly initialised (each object has its own location space = multiple objects can be represented at the same time because their representation has low probability of overlap\n",
    "- sensory layer: random cell in each column will be active\n",
    "- form reciprocal connections on one of their dendritic segments (d') (EQ 5 & 6)\n",
    "--> if synapse exist it is unaffected otherwise it is formed"
   ]
  },
  {
   "cell_type": "code",
   "execution_count": 10,
   "id": "df723f25",
   "metadata": {},
   "outputs": [
    {
     "data": {
      "application/javascript": [
       "\n",
       "            setTimeout(function() {\n",
       "                var nbb_cell_id = 10;\n",
       "                var nbb_unformatted_code = \"THRESHOLD = 10\";\n",
       "                var nbb_formatted_code = \"THRESHOLD = 10\";\n",
       "                var nbb_cells = Jupyter.notebook.get_cells();\n",
       "                for (var i = 0; i < nbb_cells.length; ++i) {\n",
       "                    if (nbb_cells[i].input_prompt_number == nbb_cell_id) {\n",
       "                        if (nbb_cells[i].get_text() == nbb_unformatted_code) {\n",
       "                             nbb_cells[i].set_text(nbb_formatted_code);\n",
       "                        }\n",
       "                        break;\n",
       "                    }\n",
       "                }\n",
       "            }, 500);\n",
       "            "
      ],
      "text/plain": [
       "<IPython.core.display.Javascript object>"
      ]
     },
     "metadata": {},
     "output_type": "display_data"
    }
   ],
   "source": [
    "THRESHOLD = 10"
   ]
  },
  {
   "cell_type": "code",
   "execution_count": 17,
   "id": "f38437f4",
   "metadata": {},
   "outputs": [
    {
     "data": {
      "text/plain": [
       "array([223, 103,  94, 229, 192,  18, 241,  30,  45, 101, 194,  15, 148,\n",
       "       162,  19, 228, 128, 123, 205,  75, 162, 161,  18, 139, 229, 196,\n",
       "       169,  15,  53,  56, 164, 110])"
      ]
     },
     "execution_count": 17,
     "metadata": {},
     "output_type": "execute_result"
    },
    {
     "data": {
      "application/javascript": [
       "\n",
       "            setTimeout(function() {\n",
       "                var nbb_cell_id = 17;\n",
       "                var nbb_unformatted_code = \"active_cells = compute_active_cells(get_random_phases())\\nactive_cells\";\n",
       "                var nbb_formatted_code = \"active_cells = compute_active_cells(get_random_phases())\\nactive_cells\";\n",
       "                var nbb_cells = Jupyter.notebook.get_cells();\n",
       "                for (var i = 0; i < nbb_cells.length; ++i) {\n",
       "                    if (nbb_cells[i].input_prompt_number == nbb_cell_id) {\n",
       "                        if (nbb_cells[i].get_text() == nbb_unformatted_code) {\n",
       "                             nbb_cells[i].set_text(nbb_formatted_code);\n",
       "                        }\n",
       "                        break;\n",
       "                    }\n",
       "                }\n",
       "            }, 500);\n",
       "            "
      ],
      "text/plain": [
       "<IPython.core.display.Javascript object>"
      ]
     },
     "metadata": {},
     "output_type": "display_data"
    }
   ],
   "source": [
    "active_cells = compute_active_cells(get_random_phases())\n",
    "active_cells"
   ]
  },
  {
   "cell_type": "code",
   "execution_count": 68,
   "id": "73afbeec",
   "metadata": {},
   "outputs": [
    {
     "data": {
      "application/javascript": [
       "\n",
       "            setTimeout(function() {\n",
       "                var nbb_cell_id = 68;\n",
       "                var nbb_unformatted_code = \"def get_random_phases():\\n    active_phases = np.random.random((NO_GRID_CELL_MODULES, 2))\\n\\n    return active_phases\\n\\n\\ndef compute_active_cells(active_phases):\\n    active_cell_coordinates = np.floor(active_phases * CELL_DIMENSION).astype(int)\\n\\n    cells_for_active_phases = np.ravel_multi_index(\\n        active_cell_coordinates.T, CELL_DIMENSION\\n    )\\n\\n    return cells_for_active_phases\\n\\ndef compute_movement(displacement: np.ndarray, active_phases):\\n    phase_displacement = (\\n        np.matmul(rotation_matrix, displacement) * PHASES_PER_UNIT_DISTANCE\\n    )\\n\\n    active_phases = active_phases + phase_displacement\\n\\n    active_phases = np.round(active_phases, decimals=9)\\n    active_phases = np.mod(active_phases, 1.0)\\n\\n    return active_phases\\n\\ndef learn_object(obj: List[Dict], learn=False):\\n    \\\"\\\"\\\"\\n    obj: [{location: <displacement vector>, feature: <feature_vector>}, ...]\\n\\n    \\\"\\\"\\\"\\n\\n    # generate random phases since location is not given before first iteration\\n    phases = [get_random_phases()]\\n\\n    for sample in obj:\\n\\n        location = sample[\\\"location\\\"]  # shape: (<2>) -> displacement vector\\n        feature = sample[\\\"feature\\\"]  # shape: (<no_columns>)\\n        \\n        # get current active_phase: either random phase \\n        # or calculate as movement from displacement and previois phase\\n        active_phase = phases[-1]\\n        if location:\\n            active_phase = compute_movement(location, phases[-1])\\n            phases.append(active_phase)\\n            \\n        \\n        active_grid_cell_indices = compute_active_cells(active_phase)\\n\\n        # get overlap of phases and dendritic distal segments to predict cells and\\n        # check if number of dendritic segments are above threshold for cell to be predicted\\n        predicted_cells = np.sum(\\n            dendrites_to_sense_layer[:, active_cells], axis=(0, 1)\\n        )  # shape: (<no_columns>, <no_cells>)\\n        predicted_cells[predicted_cells < THRESHOLD] = 0\\n\\n        # get active columns from input feature\\n        active_columns = np.argwhere(feature)\\n\\n        # set predicted cells in inactive columns to zero\\n        predicted_cells[~active_columms] = 0\\n\\n        # choose active cells:\\n        # if active column has predicted cells, set cells to active -> copied from predicted_cells\\n        # if not either set all cells to be active or during learning choose one random cell\\n        active_cells = np.copy(predicted_cells)\\n        active_cells[active_cells > 0] = 1\\n\\n        if learning:\\n            no_pred_cells_per_column = np.sum(\\n                predicted_cells, axis=1\\n            )  # shape: (<no_columns>,)\\n            predicted_cells[active_columns & (no_pred_cells_per_column == 0)] = 1\\n        else:\\n            no_columns_to_choose_cell = predicted_cells[\\n                active_columns & (no_pred_cells_per_column == 0)\\n            ].shape[\\n                0\\n            ]  # number of columns to chose random cell for\\n            \\n            active_random_cells = np.random.randint(0, CELLS_PER_COLUMN + 1, size=(no_columns_to_choose_cell))\\n            \\n            active_cells[no_columns_to_choose_cell, active_random_cells] = 1\\n            \\n            \\n\\n        # update location representation by calculating overlap whereas on active dendritic segment is enough\\n\\n        # form reciprocal connection  of dendritic segments on overlapping cells\";\n",
       "                var nbb_formatted_code = \"def get_random_phases():\\n    active_phases = np.random.random((NO_GRID_CELL_MODULES, 2))\\n\\n    return active_phases\\n\\n\\ndef compute_active_cells(active_phases):\\n    active_cell_coordinates = np.floor(active_phases * CELL_DIMENSION).astype(int)\\n\\n    cells_for_active_phases = np.ravel_multi_index(\\n        active_cell_coordinates.T, CELL_DIMENSION\\n    )\\n\\n    return cells_for_active_phases\\n\\n\\ndef compute_movement(displacement: np.ndarray, active_phases):\\n    phase_displacement = (\\n        np.matmul(rotation_matrix, displacement) * PHASES_PER_UNIT_DISTANCE\\n    )\\n\\n    active_phases = active_phases + phase_displacement\\n\\n    active_phases = np.round(active_phases, decimals=9)\\n    active_phases = np.mod(active_phases, 1.0)\\n\\n    return active_phases\\n\\n\\ndef learn_object(obj: List[Dict], learn=False):\\n    \\\"\\\"\\\"\\n    obj: [{location: <displacement vector>, feature: <feature_vector>}, ...]\\n\\n    \\\"\\\"\\\"\\n\\n    # generate random phases since location is not given before first iteration\\n    phases = [get_random_phases()]\\n\\n    for sample in obj:\\n\\n        location = sample[\\\"location\\\"]  # shape: (<2>) -> displacement vector\\n        feature = sample[\\\"feature\\\"]  # shape: (<no_columns>)\\n\\n        # get current active_phase: either random phase\\n        # or calculate as movement from displacement and previois phase\\n        active_phase = phases[-1]\\n        if location:\\n            active_phase = compute_movement(location, phases[-1])\\n            phases.append(active_phase)\\n\\n        active_grid_cell_indices = compute_active_cells(active_phase)\\n\\n        # get overlap of phases and dendritic distal segments to predict cells and\\n        # check if number of dendritic segments are above threshold for cell to be predicted\\n        predicted_cells = np.sum(\\n            dendrites_to_sense_layer[:, active_cells], axis=(0, 1)\\n        )  # shape: (<no_columns>, <no_cells>)\\n        predicted_cells[predicted_cells < THRESHOLD] = 0\\n\\n        # get active columns from input feature\\n        active_columns = np.argwhere(feature)\\n\\n        # set predicted cells in inactive columns to zero\\n        predicted_cells[~active_columms] = 0\\n\\n        # choose active cells:\\n        # if active column has predicted cells, set cells to active -> copied from predicted_cells\\n        # if not either set all cells to be active or during learning choose one random cell\\n        active_cells = np.copy(predicted_cells)\\n        active_cells[active_cells > 0] = 1\\n\\n        if learning:\\n            no_pred_cells_per_column = np.sum(\\n                predicted_cells, axis=1\\n            )  # shape: (<no_columns>,)\\n            predicted_cells[active_columns & (no_pred_cells_per_column == 0)] = 1\\n        else:\\n            no_columns_to_choose_cell = predicted_cells[\\n                active_columns & (no_pred_cells_per_column == 0)\\n            ].shape[\\n                0\\n            ]  # number of columns to chose random cell for\\n\\n            active_random_cells = np.random.randint(\\n                0, CELLS_PER_COLUMN + 1, size=(no_columns_to_choose_cell)\\n            )\\n\\n            active_cells[no_columns_to_choose_cell, active_random_cells] = 1\\n\\n        # update location representation by calculating overlap whereas on active dendritic segment is enough\\n\\n        # form reciprocal connection  of dendritic segments on overlapping cells\";\n",
       "                var nbb_cells = Jupyter.notebook.get_cells();\n",
       "                for (var i = 0; i < nbb_cells.length; ++i) {\n",
       "                    if (nbb_cells[i].input_prompt_number == nbb_cell_id) {\n",
       "                        if (nbb_cells[i].get_text() == nbb_unformatted_code) {\n",
       "                             nbb_cells[i].set_text(nbb_formatted_code);\n",
       "                        }\n",
       "                        break;\n",
       "                    }\n",
       "                }\n",
       "            }, 500);\n",
       "            "
      ],
      "text/plain": [
       "<IPython.core.display.Javascript object>"
      ]
     },
     "metadata": {},
     "output_type": "display_data"
    }
   ],
   "source": [
    "def get_random_phases():\n",
    "    active_phases = np.random.random((NO_GRID_CELL_MODULES, 2))\n",
    "\n",
    "    return active_phases\n",
    "\n",
    "\n",
    "def compute_active_cells(active_phases):\n",
    "    active_cell_coordinates = np.floor(active_phases * CELL_DIMENSION).astype(int)\n",
    "\n",
    "    cells_for_active_phases = np.ravel_multi_index(\n",
    "        active_cell_coordinates.T, CELL_DIMENSION\n",
    "    )\n",
    "\n",
    "    return cells_for_active_phases\n",
    "\n",
    "def compute_movement(displacement: np.ndarray, active_phases):\n",
    "    phase_displacement = (\n",
    "        np.matmul(rotation_matrix, displacement) * PHASES_PER_UNIT_DISTANCE\n",
    "    )\n",
    "\n",
    "    active_phases = active_phases + phase_displacement\n",
    "\n",
    "    active_phases = np.round(active_phases, decimals=9)\n",
    "    active_phases = np.mod(active_phases, 1.0)\n",
    "\n",
    "    return active_phases\n",
    "\n",
    "def learn_object(obj: List[Dict], learn=False):\n",
    "    \"\"\"\n",
    "    obj: [{location: <displacement vector>, feature: <feature_vector>}, ...]\n",
    "\n",
    "    \"\"\"\n",
    "\n",
    "    # generate random phases since location is not given before first iteration\n",
    "    phases = [get_random_phases()]\n",
    "\n",
    "    for sample in obj:\n",
    "\n",
    "        location = sample[\"location\"]  # shape: (<2>) -> displacement vector\n",
    "        feature = sample[\"feature\"]  # shape: (<no_columns>)\n",
    "        \n",
    "        # get current active_phase: either random phase \n",
    "        # or calculate as movement from displacement and previois phase\n",
    "        active_phase = phases[-1]\n",
    "        if location:\n",
    "            active_phase = compute_movement(location, phases[-1])\n",
    "            phases.append(active_phase)\n",
    "            \n",
    "        \n",
    "        active_grid_cell_indices = compute_active_cells(active_phase)\n",
    "\n",
    "        # get overlap of phases and dendritic distal segments to predict cells and\n",
    "        # check if number of dendritic segments are above threshold for cell to be predicted\n",
    "        predicted_cells = np.sum(\n",
    "            dendrites_to_sense_layer[:, active_cells], axis=(0, 1)\n",
    "        )  # shape: (<no_columns>, <no_cells>)\n",
    "        predicted_cells[predicted_cells < THRESHOLD] = 0\n",
    "\n",
    "        # get active columns from input feature\n",
    "        active_columns = np.argwhere(feature)\n",
    "\n",
    "        # set predicted cells in inactive columns to zero\n",
    "        predicted_cells[~active_columms] = 0\n",
    "\n",
    "        # choose active cells:\n",
    "        # if active column has predicted cells, set cells to active -> copied from predicted_cells\n",
    "        # if not either set all cells to be active or during learning choose one random cell\n",
    "        active_cells = np.copy(predicted_cells)\n",
    "        active_cells[active_cells > 0] = 1\n",
    "\n",
    "        if learning:\n",
    "            no_pred_cells_per_column = np.sum(\n",
    "                predicted_cells, axis=1\n",
    "            )  # shape: (<no_columns>,)\n",
    "            predicted_cells[active_columns & (no_pred_cells_per_column == 0)] = 1\n",
    "        else:\n",
    "            no_columns_to_choose_cell = predicted_cells[\n",
    "                active_columns & (no_pred_cells_per_column == 0)\n",
    "            ].shape[\n",
    "                0\n",
    "            ]  # number of columns to chose random cell for\n",
    "            \n",
    "            active_random_cells = np.random.randint(0, CELLS_PER_COLUMN + 1, size=(no_columns_to_choose_cell))\n",
    "            \n",
    "            active_cells[no_columns_to_choose_cell, active_random_cells] = 1\n",
    "            \n",
    "            \n",
    "\n",
    "        # update location representation by calculating overlap whereas on active dendritic segment is enough\n",
    "\n",
    "        # form reciprocal connection  of dendritic segments on overlapping cells\n"
   ]
  },
  {
   "cell_type": "code",
   "execution_count": null,
   "id": "fa12498c",
   "metadata": {},
   "outputs": [],
   "source": []
  }
 ],
 "metadata": {
  "kernelspec": {
   "display_name": "Python 3 (ipykernel)",
   "language": "python",
   "name": "python3"
  },
  "language_info": {
   "codemirror_mode": {
    "name": "ipython",
    "version": 3
   },
   "file_extension": ".py",
   "mimetype": "text/x-python",
   "name": "python",
   "nbconvert_exporter": "python",
   "pygments_lexer": "ipython3",
   "version": "3.10.6"
  }
 },
 "nbformat": 4,
 "nbformat_minor": 5
}
