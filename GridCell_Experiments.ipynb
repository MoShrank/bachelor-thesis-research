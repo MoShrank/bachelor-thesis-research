{
 "cells": [
  {
   "cell_type": "code",
   "execution_count": 1,
   "id": "c80bc6bc",
   "metadata": {},
   "outputs": [
    {
     "data": {
      "application/javascript": [
       "\n",
       "            setTimeout(function() {\n",
       "                var nbb_cell_id = 1;\n",
       "                var nbb_unformatted_code = \"%load_ext nb_black\\n%load_ext autoreload\\n%autoreload 2\";\n",
       "                var nbb_formatted_code = \"%load_ext nb_black\\n%load_ext autoreload\\n%autoreload 2\";\n",
       "                var nbb_cells = Jupyter.notebook.get_cells();\n",
       "                for (var i = 0; i < nbb_cells.length; ++i) {\n",
       "                    if (nbb_cells[i].input_prompt_number == nbb_cell_id) {\n",
       "                        if (nbb_cells[i].get_text() == nbb_unformatted_code) {\n",
       "                             nbb_cells[i].set_text(nbb_formatted_code);\n",
       "                        }\n",
       "                        break;\n",
       "                    }\n",
       "                }\n",
       "            }, 500);\n",
       "            "
      ],
      "text/plain": [
       "<IPython.core.display.Javascript object>"
      ]
     },
     "metadata": {},
     "output_type": "display_data"
    }
   ],
   "source": [
    "%load_ext nb_black\n",
    "%load_ext autoreload\n",
    "%autoreload 2"
   ]
  },
  {
   "cell_type": "code",
   "execution_count": 2,
   "id": "8f0dbfc7",
   "metadata": {},
   "outputs": [
    {
     "data": {
      "application/javascript": [
       "\n",
       "            setTimeout(function() {\n",
       "                var nbb_cell_id = 2;\n",
       "                var nbb_unformatted_code = \"import math\\n\\nimport numpy as np\\nimport matplotlib.pyplot as plt\\nfrom itertools import product\\nfrom util.plots import scatter_plot\\nfrom util.data import load_mnist, encode_data\\nfrom typing import List, Dict\\nfrom tqdm.notebook import tqdm\\nfrom algorithms import GridCells\\nfrom algorithms.SaccadeGenerator import SaccadeGenerator\";\n",
       "                var nbb_formatted_code = \"import math\\n\\nimport numpy as np\\nimport matplotlib.pyplot as plt\\nfrom itertools import product\\nfrom util.plots import scatter_plot\\nfrom util.data import load_mnist, encode_data\\nfrom typing import List, Dict\\nfrom tqdm.notebook import tqdm\\nfrom algorithms import GridCells\\nfrom algorithms.SaccadeGenerator import SaccadeGenerator\";\n",
       "                var nbb_cells = Jupyter.notebook.get_cells();\n",
       "                for (var i = 0; i < nbb_cells.length; ++i) {\n",
       "                    if (nbb_cells[i].input_prompt_number == nbb_cell_id) {\n",
       "                        if (nbb_cells[i].get_text() == nbb_unformatted_code) {\n",
       "                             nbb_cells[i].set_text(nbb_formatted_code);\n",
       "                        }\n",
       "                        break;\n",
       "                    }\n",
       "                }\n",
       "            }, 500);\n",
       "            "
      ],
      "text/plain": [
       "<IPython.core.display.Javascript object>"
      ]
     },
     "metadata": {},
     "output_type": "display_data"
    }
   ],
   "source": [
    "import math\n",
    "\n",
    "import numpy as np\n",
    "import matplotlib.pyplot as plt\n",
    "from itertools import product\n",
    "from util.plots import scatter_plot\n",
    "from util.data import load_mnist, encode_data\n",
    "from typing import List, Dict\n",
    "from tqdm.notebook import tqdm\n",
    "from algorithms import GridCells\n",
    "from algorithms.SaccadeGenerator import SaccadeGenerator"
   ]
  },
  {
   "cell_type": "markdown",
   "id": "382e2870",
   "metadata": {},
   "source": [
    "### Algorithm\n",
    "\n",
    "1. movement to update location layer\n",
    "    - calculate new phase - input: displacement vector and old phase; applies translation by rotation and scaling + mod 1 --> outputs binary vector A_t,move^loc\n",
    "    - if no movement is given, activate random location ???\n",
    "2. predict sensory information from location layer output\n",
    "    - predictions represented by pi_t^in = activity of distal dendritic segments - Eq2 in paper\n",
    "        --> modularoty effect\n",
    "3. calculate activity in sensory layer\n",
    "    - all cells share same feedforward receptive fields --> pretrained CNN ouputs (128,) feature vector and each column is mapped to on feature\n",
    "    - sensory features represented by sparse subset of mini-columns = W_t^in\n",
    "    - if cell is predicted and in active mini-columns: activate cell and inhibit other cells in mini-column; else: all cells become active\n",
    "    - - multiple cells can be active if predicted by location layer\n",
    "    - formula uq: 6 for activation logic\n",
    "4. update location layer based on sensory cues\n",
    "    - location layer receives input from sensory layer (in form of W_t^in???)\n",
    "    - calculate overlap EQ 3 & 4\n",
    "    - repeat because new movement is received\n",
    "\n",
    "Learning:\n",
    "- strenghtening between connections of both layer\n",
    "- when new object is learned: location representation is randomly initialised (each object has its own location space = multiple objects can be represented at the same time because their representation has low probability of overlap\n",
    "- sensory layer: random cell in each column will be active\n",
    "- form reciprocal connections on one of their dendritic segments (d') (EQ 5 & 6)\n",
    "--> if synapse exist it is unaffected otherwise it is formed"
   ]
  },
  {
   "cell_type": "markdown",
   "id": "2cd4cb89",
   "metadata": {},
   "source": [
    "### Setup Data and Saccade Generator"
   ]
  },
  {
   "cell_type": "code",
   "execution_count": 3,
   "id": "5032cbec",
   "metadata": {},
   "outputs": [
    {
     "data": {
      "application/javascript": [
       "\n",
       "            setTimeout(function() {\n",
       "                var nbb_cell_id = 3;\n",
       "                var nbb_unformatted_code = \"(x_train, y_train), (x_test, y_test) = load_mnist()\\nx_train, x_test = encode_data(x_train, x_test)\";\n",
       "                var nbb_formatted_code = \"(x_train, y_train), (x_test, y_test) = load_mnist()\\nx_train, x_test = encode_data(x_train, x_test)\";\n",
       "                var nbb_cells = Jupyter.notebook.get_cells();\n",
       "                for (var i = 0; i < nbb_cells.length; ++i) {\n",
       "                    if (nbb_cells[i].input_prompt_number == nbb_cell_id) {\n",
       "                        if (nbb_cells[i].get_text() == nbb_unformatted_code) {\n",
       "                             nbb_cells[i].set_text(nbb_formatted_code);\n",
       "                        }\n",
       "                        break;\n",
       "                    }\n",
       "                }\n",
       "            }, 500);\n",
       "            "
      ],
      "text/plain": [
       "<IPython.core.display.Javascript object>"
      ]
     },
     "metadata": {},
     "output_type": "display_data"
    }
   ],
   "source": [
    "(x_train, y_train), (x_test, y_test) = load_mnist()\n",
    "x_train, x_test = encode_data(x_train, x_test)"
   ]
  },
  {
   "cell_type": "code",
   "execution_count": 4,
   "id": "3930459c",
   "metadata": {},
   "outputs": [
    {
     "data": {
      "application/javascript": [
       "\n",
       "            setTimeout(function() {\n",
       "                var nbb_cell_id = 4;\n",
       "                var nbb_unformatted_code = \"saccade_size = (10, 10)\";\n",
       "                var nbb_formatted_code = \"saccade_size = (10, 10)\";\n",
       "                var nbb_cells = Jupyter.notebook.get_cells();\n",
       "                for (var i = 0; i < nbb_cells.length; ++i) {\n",
       "                    if (nbb_cells[i].input_prompt_number == nbb_cell_id) {\n",
       "                        if (nbb_cells[i].get_text() == nbb_unformatted_code) {\n",
       "                             nbb_cells[i].set_text(nbb_formatted_code);\n",
       "                        }\n",
       "                        break;\n",
       "                    }\n",
       "                }\n",
       "            }, 500);\n",
       "            "
      ],
      "text/plain": [
       "<IPython.core.display.Javascript object>"
      ]
     },
     "metadata": {},
     "output_type": "display_data"
    }
   ],
   "source": [
    "saccade_size = (10, 10)"
   ]
  },
  {
   "cell_type": "code",
   "execution_count": 5,
   "id": "197ee561",
   "metadata": {},
   "outputs": [
    {
     "data": {
      "application/javascript": [
       "\n",
       "            setTimeout(function() {\n",
       "                var nbb_cell_id = 5;\n",
       "                var nbb_unformatted_code = \"saccade_generator = SaccadeGenerator(\\n    x=x_train,\\n    y=y_train,\\n    saccade_size=saccade_size,\\n    no_saccades=5,\\n)\";\n",
       "                var nbb_formatted_code = \"saccade_generator = SaccadeGenerator(\\n    x=x_train,\\n    y=y_train,\\n    saccade_size=saccade_size,\\n    no_saccades=5,\\n)\";\n",
       "                var nbb_cells = Jupyter.notebook.get_cells();\n",
       "                for (var i = 0; i < nbb_cells.length; ++i) {\n",
       "                    if (nbb_cells[i].input_prompt_number == nbb_cell_id) {\n",
       "                        if (nbb_cells[i].get_text() == nbb_unformatted_code) {\n",
       "                             nbb_cells[i].set_text(nbb_formatted_code);\n",
       "                        }\n",
       "                        break;\n",
       "                    }\n",
       "                }\n",
       "            }, 500);\n",
       "            "
      ],
      "text/plain": [
       "<IPython.core.display.Javascript object>"
      ]
     },
     "metadata": {},
     "output_type": "display_data"
    }
   ],
   "source": [
    "saccade_generator = SaccadeGenerator(\n",
    "    x=x_train,\n",
    "    y=y_train,\n",
    "    saccade_size=saccade_size,\n",
    "    no_saccades=5,\n",
    ")"
   ]
  },
  {
   "cell_type": "markdown",
   "id": "ce4188a3",
   "metadata": {},
   "source": [
    "### Setup GridCells - Sensory Location Layers"
   ]
  },
  {
   "cell_type": "code",
   "execution_count": 6,
   "id": "d37c9abe",
   "metadata": {},
   "outputs": [
    {
     "data": {
      "application/javascript": [
       "\n",
       "            setTimeout(function() {\n",
       "                var nbb_cell_id = 6;\n",
       "                var nbb_unformatted_code = \"no_features = math.prod(saccade_size)\";\n",
       "                var nbb_formatted_code = \"no_features = math.prod(saccade_size)\";\n",
       "                var nbb_cells = Jupyter.notebook.get_cells();\n",
       "                for (var i = 0; i < nbb_cells.length; ++i) {\n",
       "                    if (nbb_cells[i].input_prompt_number == nbb_cell_id) {\n",
       "                        if (nbb_cells[i].get_text() == nbb_unformatted_code) {\n",
       "                             nbb_cells[i].set_text(nbb_formatted_code);\n",
       "                        }\n",
       "                        break;\n",
       "                    }\n",
       "                }\n",
       "            }, 500);\n",
       "            "
      ],
      "text/plain": [
       "<IPython.core.display.Javascript object>"
      ]
     },
     "metadata": {},
     "output_type": "display_data"
    }
   ],
   "source": [
    "no_features = math.prod(saccade_size)"
   ]
  },
  {
   "cell_type": "code",
   "execution_count": 7,
   "id": "7b7df0a0",
   "metadata": {},
   "outputs": [
    {
     "data": {
      "application/javascript": [
       "\n",
       "            setTimeout(function() {\n",
       "                var nbb_cell_id = 7;\n",
       "                var nbb_unformatted_code = \"gc = GridCells(\\n    no_modules=32,\\n    grid_cell_module_dimension=(16, 16),\\n    orientation=60,\\n    scale=20,\\n    no_columns=no_features,\\n    no_cells_per_column=8,\\n    location_layer_threshold=6,\\n    seed=42,\\n)\";\n",
       "                var nbb_formatted_code = \"gc = GridCells(\\n    no_modules=32,\\n    grid_cell_module_dimension=(16, 16),\\n    orientation=60,\\n    scale=20,\\n    no_columns=no_features,\\n    no_cells_per_column=8,\\n    location_layer_threshold=6,\\n    seed=42,\\n)\";\n",
       "                var nbb_cells = Jupyter.notebook.get_cells();\n",
       "                for (var i = 0; i < nbb_cells.length; ++i) {\n",
       "                    if (nbb_cells[i].input_prompt_number == nbb_cell_id) {\n",
       "                        if (nbb_cells[i].get_text() == nbb_unformatted_code) {\n",
       "                             nbb_cells[i].set_text(nbb_formatted_code);\n",
       "                        }\n",
       "                        break;\n",
       "                    }\n",
       "                }\n",
       "            }, 500);\n",
       "            "
      ],
      "text/plain": [
       "<IPython.core.display.Javascript object>"
      ]
     },
     "metadata": {},
     "output_type": "display_data"
    }
   ],
   "source": [
    "gc = GridCells(\n",
    "    no_modules=32,\n",
    "    grid_cell_module_dimension=(16, 16),\n",
    "    orientation=60,\n",
    "    scale=20,\n",
    "    no_columns=no_features,\n",
    "    no_cells_per_column=8,\n",
    "    location_layer_threshold=6,\n",
    "    seed=42,\n",
    ")"
   ]
  },
  {
   "cell_type": "markdown",
   "id": "a38e502a",
   "metadata": {},
   "source": [
    "### Learn Objects"
   ]
  },
  {
   "cell_type": "code",
   "execution_count": 81,
   "id": "7fa9d392",
   "metadata": {},
   "outputs": [
    {
     "name": "stdout",
     "output_type": "stream",
     "text": [
      "shape (0, 3)\n"
     ]
    },
    {
     "ename": "AxisError",
     "evalue": "axis 1 is out of bounds for array of dimension 1",
     "output_type": "error",
     "traceback": [
      "\u001b[0;31m---------------------------------------------------------------------------\u001b[0m",
      "\u001b[0;31mAxisError\u001b[0m                                 Traceback (most recent call last)",
      "Cell \u001b[0;32mIn [81], line 2\u001b[0m\n\u001b[1;32m      1\u001b[0m \u001b[38;5;28;01mfor\u001b[39;00m obj \u001b[38;5;129;01min\u001b[39;00m saccade_generator:\n\u001b[0;32m----> 2\u001b[0m     \u001b[43mgc\u001b[49m\u001b[38;5;241;43m.\u001b[39;49m\u001b[43mlearn_object\u001b[49m\u001b[43m(\u001b[49m\u001b[43mobj\u001b[49m\u001b[43m)\u001b[49m\n\u001b[1;32m      4\u001b[0m     \u001b[38;5;28;01mbreak\u001b[39;00m\n",
      "File \u001b[0;32m~/dev/bachelor-thesis-research/algorithms/GridCells.py:223\u001b[0m, in \u001b[0;36mGridCells.learn_object\u001b[0;34m(self, obj)\u001b[0m\n\u001b[1;32m    220\u001b[0m active_grid_cell_indices_full[:, \u001b[38;5;241m1\u001b[39m] \u001b[38;5;241m=\u001b[39m active_grid_cell_indices\n\u001b[1;32m    222\u001b[0m \u001b[38;5;66;03m# merge active_grid_cell_indices with active_cells_indices_sen_layer into a tuple\u001b[39;00m\n\u001b[0;32m--> 223\u001b[0m active_grid_cell_indices \u001b[38;5;241m=\u001b[39m \u001b[43mnp\u001b[49m\u001b[38;5;241;43m.\u001b[39;49m\u001b[43mconcatenate\u001b[49m\u001b[43m(\u001b[49m\n\u001b[1;32m    224\u001b[0m \u001b[43m    \u001b[49m\u001b[43m(\u001b[49m\u001b[43mactive_grid_cell_indices\u001b[49m\u001b[43m,\u001b[49m\u001b[43m \u001b[49m\u001b[43mactive_grid_cell_indices_sense_layer\u001b[49m\u001b[43m)\u001b[49m\u001b[43m,\u001b[49m\u001b[43m \u001b[49m\u001b[43maxis\u001b[49m\u001b[38;5;241;43m=\u001b[39;49m\u001b[38;5;241;43m1\u001b[39;49m\n\u001b[1;32m    225\u001b[0m \u001b[43m\u001b[49m\u001b[43m)\u001b[49m\n\u001b[1;32m    227\u001b[0m \u001b[38;5;66;03m# split into modules and cells\u001b[39;00m\n\u001b[1;32m    228\u001b[0m active_grid_cell_indices_separated \u001b[38;5;241m=\u001b[39m np\u001b[38;5;241m.\u001b[39msplit(\n\u001b[1;32m    229\u001b[0m     active_grid_cell_indices, \u001b[38;5;241m2\u001b[39m, axis\u001b[38;5;241m=\u001b[39m\u001b[38;5;241m1\u001b[39m\n\u001b[1;32m    230\u001b[0m )\n",
      "File \u001b[0;32m<__array_function__ internals>:180\u001b[0m, in \u001b[0;36mconcatenate\u001b[0;34m(*args, **kwargs)\u001b[0m\n",
      "\u001b[0;31mAxisError\u001b[0m: axis 1 is out of bounds for array of dimension 1"
     ]
    },
    {
     "data": {
      "application/javascript": [
       "\n",
       "            setTimeout(function() {\n",
       "                var nbb_cell_id = 81;\n",
       "                var nbb_unformatted_code = \"for obj in saccade_generator:\\n    gc.learn_object(obj)\\n\\n    break\";\n",
       "                var nbb_formatted_code = \"for obj in saccade_generator:\\n    gc.learn_object(obj)\\n\\n    break\";\n",
       "                var nbb_cells = Jupyter.notebook.get_cells();\n",
       "                for (var i = 0; i < nbb_cells.length; ++i) {\n",
       "                    if (nbb_cells[i].input_prompt_number == nbb_cell_id) {\n",
       "                        if (nbb_cells[i].get_text() == nbb_unformatted_code) {\n",
       "                             nbb_cells[i].set_text(nbb_formatted_code);\n",
       "                        }\n",
       "                        break;\n",
       "                    }\n",
       "                }\n",
       "            }, 500);\n",
       "            "
      ],
      "text/plain": [
       "<IPython.core.display.Javascript object>"
      ]
     },
     "metadata": {},
     "output_type": "display_data"
    }
   ],
   "source": [
    "for obj in saccade_generator:\n",
    "    gc.learn_object(obj)\n",
    "\n",
    "    break"
   ]
  },
  {
   "cell_type": "code",
   "execution_count": 55,
   "id": "79dc2219",
   "metadata": {},
   "outputs": [
    {
     "data": {
      "application/javascript": [
       "\n",
       "            setTimeout(function() {\n",
       "                var nbb_cell_id = 55;\n",
       "                var nbb_unformatted_code = \"t = np.array([[1, 0], [2, 0], [0, 1], [0, 4]])\";\n",
       "                var nbb_formatted_code = \"t = np.array([[1, 0], [2, 0], [0, 1], [0, 4]])\";\n",
       "                var nbb_cells = Jupyter.notebook.get_cells();\n",
       "                for (var i = 0; i < nbb_cells.length; ++i) {\n",
       "                    if (nbb_cells[i].input_prompt_number == nbb_cell_id) {\n",
       "                        if (nbb_cells[i].get_text() == nbb_unformatted_code) {\n",
       "                             nbb_cells[i].set_text(nbb_formatted_code);\n",
       "                        }\n",
       "                        break;\n",
       "                    }\n",
       "                }\n",
       "            }, 500);\n",
       "            "
      ],
      "text/plain": [
       "<IPython.core.display.Javascript object>"
      ]
     },
     "metadata": {},
     "output_type": "display_data"
    }
   ],
   "source": [
    "t = np.array([[1, 0], [2, 0], [0, 1], [0, 4]])"
   ]
  },
  {
   "cell_type": "code",
   "execution_count": 57,
   "id": "6aa0dc26",
   "metadata": {},
   "outputs": [
    {
     "data": {
      "text/plain": [
       "array([[0, 0],\n",
       "       [1, 0]])"
      ]
     },
     "execution_count": 57,
     "metadata": {},
     "output_type": "execute_result"
    },
    {
     "data": {
      "application/javascript": [
       "\n",
       "            setTimeout(function() {\n",
       "                var nbb_cell_id = 57;\n",
       "                var nbb_unformatted_code = \"np.argwhere(t[:, [0]])\";\n",
       "                var nbb_formatted_code = \"np.argwhere(t[:, [0]])\";\n",
       "                var nbb_cells = Jupyter.notebook.get_cells();\n",
       "                for (var i = 0; i < nbb_cells.length; ++i) {\n",
       "                    if (nbb_cells[i].input_prompt_number == nbb_cell_id) {\n",
       "                        if (nbb_cells[i].get_text() == nbb_unformatted_code) {\n",
       "                             nbb_cells[i].set_text(nbb_formatted_code);\n",
       "                        }\n",
       "                        break;\n",
       "                    }\n",
       "                }\n",
       "            }, 500);\n",
       "            "
      ],
      "text/plain": [
       "<IPython.core.display.Javascript object>"
      ]
     },
     "metadata": {},
     "output_type": "display_data"
    }
   ],
   "source": [
    "np.argwhere(t[:, [0]])"
   ]
  },
  {
   "cell_type": "code",
   "execution_count": 82,
   "id": "e7efc6f3",
   "metadata": {},
   "outputs": [
    {
     "name": "stdout",
     "output_type": "stream",
     "text": [
      "9\n",
      "8\n",
      "7\n",
      "6\n",
      "5\n",
      "4\n",
      "3\n",
      "2\n",
      "1\n",
      "0\n"
     ]
    },
    {
     "data": {
      "application/javascript": [
       "\n",
       "            setTimeout(function() {\n",
       "                var nbb_cell_id = 82;\n",
       "                var nbb_unformatted_code = \"n = 10\\nfor i in range(n -1, -1, -1):\\n    print(i)\";\n",
       "                var nbb_formatted_code = \"n = 10\\nfor i in range(n - 1, -1, -1):\\n    print(i)\";\n",
       "                var nbb_cells = Jupyter.notebook.get_cells();\n",
       "                for (var i = 0; i < nbb_cells.length; ++i) {\n",
       "                    if (nbb_cells[i].input_prompt_number == nbb_cell_id) {\n",
       "                        if (nbb_cells[i].get_text() == nbb_unformatted_code) {\n",
       "                             nbb_cells[i].set_text(nbb_formatted_code);\n",
       "                        }\n",
       "                        break;\n",
       "                    }\n",
       "                }\n",
       "            }, 500);\n",
       "            "
      ],
      "text/plain": [
       "<IPython.core.display.Javascript object>"
      ]
     },
     "metadata": {},
     "output_type": "display_data"
    }
   ],
   "source": [
    "n = 10\n",
    "for i in range(n - 1, -1, -1):\n",
    "    print(i)"
   ]
  },
  {
   "cell_type": "code",
   "execution_count": null,
   "id": "5ed4c29f",
   "metadata": {},
   "outputs": [],
   "source": []
  }
 ],
 "metadata": {
  "kernelspec": {
   "display_name": "Python 3 (ipykernel)",
   "language": "python",
   "name": "python3"
  },
  "language_info": {
   "codemirror_mode": {
    "name": "ipython",
    "version": 3
   },
   "file_extension": ".py",
   "mimetype": "text/x-python",
   "name": "python",
   "nbconvert_exporter": "python",
   "pygments_lexer": "ipython3",
   "version": "3.10.0"
  },
  "vscode": {
   "interpreter": {
    "hash": "e10ed3da79502c4eeed3cb37eba085b9e7edf4b9ab3e510ef9d762849f8f34f8"
   }
  }
 },
 "nbformat": 4,
 "nbformat_minor": 5
}
